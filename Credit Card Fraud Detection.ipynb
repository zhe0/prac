{
  "cells": [
    {
      "cell_type": "markdown",
      "metadata": {
        "id": "view-in-github",
        "colab_type": "text"
      },
      "source": [
        "<a href=\"https://colab.research.google.com/github/zhe0/prac/blob/main/Credit%20Card%20Fraud%20Detection.ipynb\" target=\"_parent\"><img src=\"https://colab.research.google.com/assets/colab-badge.svg\" alt=\"Open In Colab\"/></a>"
      ]
    },
    {
      "cell_type": "code",
      "source": [
        "import os\n",
        "import torch\n",
        "import torch.nn as nn\n",
        "import torch.optim as optim\n",
        "import numpy as np\n",
        "import pandas as pd\n",
        "import matplotlib.pyplot as plt\n",
        "from sklearn.model_selection import train_test_split\n",
        "from sklearn.metrics import classification_report, confusion_matrix\n",
        "\n",
        "!pip install wandb\n",
        "import wandb\n",
        "\n",
        "!pip install -q kaggle\n",
        "!chmod 600 /content/kaggle.json # 設定權限，確保只有使用者可以讀取\n",
        "!cp kaggle.json /root/.config/kaggle/ # move the key to the folder\n",
        "import kaggle\n",
        "print(\"Kaggle API 憑證設定完成！\")\n",
        "\n",
        "\n",
        "# 3. 下載 Kaggle Dataset\n",
        "# ------------------------------------\n",
        "# **重要:** 你需要知道你要下載的 Kaggle Dataset 的名稱 (通常是 'owner/dataset-name')\n",
        "# 例如，如果要下載 'creditcardfraud' 這個資料集 (示範用，你可以替換成你的資料集)\n",
        "dataset_name = 'mlg-ulb/creditcardfraud' #  <--  請在這裡替換成你要下載的 Kaggle Dataset 名稱\n",
        "\n",
        "output_path = './kaggle_data' # 設定資料集下載的路徑 (Colab notebook 的當前目錄下的 kaggle_data 資料夾)\n",
        "!mkdir -p {output_path} # 建立資料夾 (如果不存在)\n",
        "\n",
        "print(f\"正在下載 Kaggle Dataset: {dataset_name} 到 {output_path}...\")\n",
        "!kaggle datasets download -d {dataset_name} -p {output_path}\n",
        "print(\"Kaggle Dataset 下載完成！\")\n",
        "\n",
        "\n",
        "# 4. 解壓縮下載的資料集 (如果需要)\n",
        "# ------------------------------------\n",
        "# Kaggle Dataset 通常會下載成 zip 檔案，需要解壓縮才能讀取裡面的資料檔案\n",
        "import zipfile\n",
        "\n",
        "zip_file_path = os.path.join(output_path, f'{dataset_name.split(\"/\")[1]}.zip') # 假設下載的 zip 檔名與 dataset name 相關\n",
        "extract_path = output_path # 解壓縮到同一個 output_path 資料夾\n",
        "\n",
        "print(f\"正在解壓縮檔案: {zip_file_path} 到 {extract_path}...\")\n",
        "try:\n",
        "    with zipfile.ZipFile(zip_file_path, 'r') as zip_ref:\n",
        "        zip_ref.extractall(extract_path)\n",
        "    print(\"資料集解壓縮完成。\")\n",
        "except FileNotFoundError:\n",
        "    print(f\"找不到 zip 檔案: {zip_file_path}。 如果下載的不是 zip 檔案，請跳過此步驟。\")\n",
        "\n",
        "\n",
        "# 5. 讀取資料到 Pandas DataFrame (假設資料是 CSV 格式)\n",
        "# ------------------------------------\n",
        "csv_file_name = 'creditcard.csv' # <-- 請根據你的資料集修改 CSV 檔案名稱 (如果適用)\n",
        "csv_file_path = os.path.join(extract_path, csv_file_name) # 假設 CSV 檔案在解壓縮後的資料夾中\n",
        "\n",
        "print(f\"正在讀取 CSV 檔案: {csv_file_path}...\")\n",
        "try:\n",
        "    df = pd.read_csv(csv_file_path)\n",
        "    print(\"CSV 檔案讀取成功，Pandas DataFrame 資訊:\")\n",
        "    print(df.head()) # 印出 DataFrame 的前幾行\n",
        "    print(df.info()) # 印出 DataFrame 的資訊 (欄位名稱, 資料型別, 非空值數量等)\n",
        "\n",
        "    # 6. 將 Pandas DataFrame 轉換成 PyTorch Tensor (範例)\n",
        "    # ------------------------------------\n",
        "    # # 假設你要使用 'V1', 'V2', 'Amount' 這些欄位作為特徵\n",
        "    # feature_cols = ['V1', 'V2', 'Amount'] # <-- 請根據你的需求修改特徵欄位\n",
        "    features = df[[i for i in df.columns if not i == 'Class']].values # 取得特徵值 (NumPy array)\n",
        "    features_tensor = torch.tensor(features, dtype=torch.float32) # 轉換成 PyTorch FloatTensor\n",
        "\n",
        "    # 如果有 'Class' 欄位作為標籤\n",
        "    if 'Class' in df.columns:\n",
        "        labels = df['Class'].values # 取得標籤值 (NumPy array)\n",
        "        labels_tensor = torch.tensor(labels, dtype=torch.long) # 轉換成 PyTorch LongTensor (整數標籤)\n",
        "        print(\"\\n特徵 Tensor (features_tensor) shape:\", features_tensor.shape)\n",
        "        print(\"標籤 Tensor (labels_tensor) shape:\", labels_tensor.shape)\n",
        "    else:\n",
        "        print(\"\\n特徵 Tensor (features_tensor) shape:\", features_tensor.shape)\n",
        "        print(\"沒有 'Class' 欄位，僅轉換特徵 Tensor。\")\n",
        "\n",
        "\n",
        "    print(\"\\n--- 從 Kaggle Dataset 讀取資料流程完成 ---\")\n",
        "\n",
        "except FileNotFoundError:\n",
        "    print(f\"找不到 CSV 檔案: {csv_file_path}。 請檢查檔案路徑和檔案名稱是否正確。\")\n",
        "except Exception as e:\n",
        "    print(f\"讀取 CSV 檔案時發生錯誤: {e}\")\n"
      ],
      "metadata": {
        "id": "QGye1ERE-e5m",
        "outputId": "bba991bf-37ea-4856-a7b0-9a29e9fa24ac",
        "colab": {
          "base_uri": "https://localhost:8080/"
        },
        "collapsed": true
      },
      "execution_count": 3,
      "outputs": [
        {
          "output_type": "stream",
          "name": "stdout",
          "text": [
            "Requirement already satisfied: wandb in /usr/local/lib/python3.11/dist-packages (0.19.7)\n",
            "Requirement already satisfied: click!=8.0.0,>=7.1 in /usr/local/lib/python3.11/dist-packages (from wandb) (8.1.8)\n",
            "Requirement already satisfied: docker-pycreds>=0.4.0 in /usr/local/lib/python3.11/dist-packages (from wandb) (0.4.0)\n",
            "Requirement already satisfied: gitpython!=3.1.29,>=1.0.0 in /usr/local/lib/python3.11/dist-packages (from wandb) (3.1.44)\n",
            "Requirement already satisfied: platformdirs in /usr/local/lib/python3.11/dist-packages (from wandb) (4.3.6)\n",
            "Requirement already satisfied: protobuf!=4.21.0,!=5.28.0,<6,>=3.19.0 in /usr/local/lib/python3.11/dist-packages (from wandb) (4.25.6)\n",
            "Requirement already satisfied: psutil>=5.0.0 in /usr/local/lib/python3.11/dist-packages (from wandb) (5.9.5)\n",
            "Requirement already satisfied: pydantic<3,>=2.6 in /usr/local/lib/python3.11/dist-packages (from wandb) (2.10.6)\n",
            "Requirement already satisfied: pyyaml in /usr/local/lib/python3.11/dist-packages (from wandb) (6.0.2)\n",
            "Requirement already satisfied: requests<3,>=2.0.0 in /usr/local/lib/python3.11/dist-packages (from wandb) (2.32.3)\n",
            "Requirement already satisfied: sentry-sdk>=2.0.0 in /usr/local/lib/python3.11/dist-packages (from wandb) (2.22.0)\n",
            "Requirement already satisfied: setproctitle in /usr/local/lib/python3.11/dist-packages (from wandb) (1.3.5)\n",
            "Requirement already satisfied: setuptools in /usr/local/lib/python3.11/dist-packages (from wandb) (75.1.0)\n",
            "Requirement already satisfied: typing-extensions<5,>=4.4 in /usr/local/lib/python3.11/dist-packages (from wandb) (4.12.2)\n",
            "Requirement already satisfied: six>=1.4.0 in /usr/local/lib/python3.11/dist-packages (from docker-pycreds>=0.4.0->wandb) (1.17.0)\n",
            "Requirement already satisfied: gitdb<5,>=4.0.1 in /usr/local/lib/python3.11/dist-packages (from gitpython!=3.1.29,>=1.0.0->wandb) (4.0.12)\n",
            "Requirement already satisfied: annotated-types>=0.6.0 in /usr/local/lib/python3.11/dist-packages (from pydantic<3,>=2.6->wandb) (0.7.0)\n",
            "Requirement already satisfied: pydantic-core==2.27.2 in /usr/local/lib/python3.11/dist-packages (from pydantic<3,>=2.6->wandb) (2.27.2)\n",
            "Requirement already satisfied: charset-normalizer<4,>=2 in /usr/local/lib/python3.11/dist-packages (from requests<3,>=2.0.0->wandb) (3.4.1)\n",
            "Requirement already satisfied: idna<4,>=2.5 in /usr/local/lib/python3.11/dist-packages (from requests<3,>=2.0.0->wandb) (3.10)\n",
            "Requirement already satisfied: urllib3<3,>=1.21.1 in /usr/local/lib/python3.11/dist-packages (from requests<3,>=2.0.0->wandb) (2.3.0)\n",
            "Requirement already satisfied: certifi>=2017.4.17 in /usr/local/lib/python3.11/dist-packages (from requests<3,>=2.0.0->wandb) (2025.1.31)\n",
            "Requirement already satisfied: smmap<6,>=3.0.1 in /usr/local/lib/python3.11/dist-packages (from gitdb<5,>=4.0.1->gitpython!=3.1.29,>=1.0.0->wandb) (5.0.2)\n",
            "Kaggle API 憑證設定完成！\n",
            "正在下載 Kaggle Dataset: mlg-ulb/creditcardfraud 到 ./kaggle_data...\n",
            "Dataset URL: https://www.kaggle.com/datasets/mlg-ulb/creditcardfraud\n",
            "License(s): DbCL-1.0\n",
            "creditcardfraud.zip: Skipping, found more recently modified local copy (use --force to force download)\n",
            "Kaggle Dataset 下載完成！\n",
            "正在解壓縮檔案: ./kaggle_data/creditcardfraud.zip 到 ./kaggle_data...\n",
            "資料集解壓縮完成。\n",
            "正在讀取 CSV 檔案: ./kaggle_data/creditcard.csv...\n",
            "CSV 檔案讀取成功，Pandas DataFrame 資訊:\n",
            "   Time        V1        V2        V3        V4        V5        V6        V7  \\\n",
            "0   0.0 -1.359807 -0.072781  2.536347  1.378155 -0.338321  0.462388  0.239599   \n",
            "1   0.0  1.191857  0.266151  0.166480  0.448154  0.060018 -0.082361 -0.078803   \n",
            "2   1.0 -1.358354 -1.340163  1.773209  0.379780 -0.503198  1.800499  0.791461   \n",
            "3   1.0 -0.966272 -0.185226  1.792993 -0.863291 -0.010309  1.247203  0.237609   \n",
            "4   2.0 -1.158233  0.877737  1.548718  0.403034 -0.407193  0.095921  0.592941   \n",
            "\n",
            "         V8        V9  ...       V21       V22       V23       V24       V25  \\\n",
            "0  0.098698  0.363787  ... -0.018307  0.277838 -0.110474  0.066928  0.128539   \n",
            "1  0.085102 -0.255425  ... -0.225775 -0.638672  0.101288 -0.339846  0.167170   \n",
            "2  0.247676 -1.514654  ...  0.247998  0.771679  0.909412 -0.689281 -0.327642   \n",
            "3  0.377436 -1.387024  ... -0.108300  0.005274 -0.190321 -1.175575  0.647376   \n",
            "4 -0.270533  0.817739  ... -0.009431  0.798278 -0.137458  0.141267 -0.206010   \n",
            "\n",
            "        V26       V27       V28  Amount  Class  \n",
            "0 -0.189115  0.133558 -0.021053  149.62      0  \n",
            "1  0.125895 -0.008983  0.014724    2.69      0  \n",
            "2 -0.139097 -0.055353 -0.059752  378.66      0  \n",
            "3 -0.221929  0.062723  0.061458  123.50      0  \n",
            "4  0.502292  0.219422  0.215153   69.99      0  \n",
            "\n",
            "[5 rows x 31 columns]\n",
            "<class 'pandas.core.frame.DataFrame'>\n",
            "RangeIndex: 284807 entries, 0 to 284806\n",
            "Data columns (total 31 columns):\n",
            " #   Column  Non-Null Count   Dtype  \n",
            "---  ------  --------------   -----  \n",
            " 0   Time    284807 non-null  float64\n",
            " 1   V1      284807 non-null  float64\n",
            " 2   V2      284807 non-null  float64\n",
            " 3   V3      284807 non-null  float64\n",
            " 4   V4      284807 non-null  float64\n",
            " 5   V5      284807 non-null  float64\n",
            " 6   V6      284807 non-null  float64\n",
            " 7   V7      284807 non-null  float64\n",
            " 8   V8      284807 non-null  float64\n",
            " 9   V9      284807 non-null  float64\n",
            " 10  V10     284807 non-null  float64\n",
            " 11  V11     284807 non-null  float64\n",
            " 12  V12     284807 non-null  float64\n",
            " 13  V13     284807 non-null  float64\n",
            " 14  V14     284807 non-null  float64\n",
            " 15  V15     284807 non-null  float64\n",
            " 16  V16     284807 non-null  float64\n",
            " 17  V17     284807 non-null  float64\n",
            " 18  V18     284807 non-null  float64\n",
            " 19  V19     284807 non-null  float64\n",
            " 20  V20     284807 non-null  float64\n",
            " 21  V21     284807 non-null  float64\n",
            " 22  V22     284807 non-null  float64\n",
            " 23  V23     284807 non-null  float64\n",
            " 24  V24     284807 non-null  float64\n",
            " 25  V25     284807 non-null  float64\n",
            " 26  V26     284807 non-null  float64\n",
            " 27  V27     284807 non-null  float64\n",
            " 28  V28     284807 non-null  float64\n",
            " 29  Amount  284807 non-null  float64\n",
            " 30  Class   284807 non-null  int64  \n",
            "dtypes: float64(30), int64(1)\n",
            "memory usage: 67.4 MB\n",
            "None\n",
            "\n",
            "特徵 Tensor (features_tensor) shape: torch.Size([284807, 30])\n",
            "標籤 Tensor (labels_tensor) shape: torch.Size([284807])\n",
            "\n",
            "--- 從 Kaggle Dataset 讀取資料流程完成 ---\n"
          ]
        }
      ]
    },
    {
      "cell_type": "code",
      "source": [
        "class TransformerEncoderLayer(nn.Module):\n",
        "    def __init__(self, d_model, nhead, dim_feedforward, dropout):\n",
        "        super().__init__()\n",
        "        self.self_attn = nn.MultiheadAttention(d_model, nhead, dropout=dropout, batch_first=True)\n",
        "        self.linear1 = nn.Linear(d_model, dim_feedforward)\n",
        "        self.dropout = nn.Dropout(dropout)\n",
        "        self.linear2 = nn.Linear(dim_feedforward, d_model)\n",
        "        self.norm1 = nn.LayerNorm(d_model)\n",
        "        self.norm2 = nn.LayerNorm(d_model)\n",
        "        self.dropout1 = nn.Dropout(dropout)\n",
        "        self.dropout2 = nn.Dropout(dropout)\n",
        "        self.activation = nn.ReLU()\n",
        "\n",
        "    def forward(self, src, src_mask=None, src_key_padding_mask=None):\n",
        "        src2 = self.self_attn(src, src, src, attn_mask=src_mask,\n",
        "                              key_padding_mask=src_key_padding_mask)[0]\n",
        "        src = src + self.dropout1(src2)\n",
        "        src = self.norm1(src)\n",
        "        src2 = self.linear2(self.dropout(self.activation(self.linear1(src))))\n",
        "        src = src + self.dropout2(src2)\n",
        "        src = self.norm2(src)\n",
        "        return src\n",
        "\n",
        "class TransformerDecoderLayer(nn.Module):\n",
        "    def __init__(self, d_model, nhead, dim_feedforward, dropout):\n",
        "        super().__init__()\n",
        "        self.self_attn = nn.MultiheadAttention(d_model, nhead, dropout=dropout, batch_first=True)\n",
        "        self.multihead_attn = nn.MultiheadAttention(d_model, nhead, dropout=dropout, batch_first=True)\n",
        "        self.linear1 = nn.Linear(d_model, dim_feedforward)\n",
        "        self.dropout = nn.Dropout(dropout)\n",
        "        self.linear2 = nn.Linear(dim_feedforward, d_model)\n",
        "        self.norm1 = nn.LayerNorm(d_model)\n",
        "        self.norm2 = nn.LayerNorm(d_model)\n",
        "        self.norm3 = nn.LayerNorm(d_model)\n",
        "        self.dropout1 = nn.Dropout(dropout)\n",
        "        self.dropout2 = nn.Dropout(dropout)\n",
        "        self.dropout3 = nn.Dropout(dropout)\n",
        "        self.activation = nn.ReLU()\n",
        "\n",
        "    def forward(self, tgt, memory, tgt_mask=None, memory_mask=None,\n",
        "                tgt_key_padding_mask=None, memory_key_padding_mask=None):\n",
        "        tgt2 = self.self_attn(tgt, tgt, tgt, attn_mask=tgt_mask,\n",
        "                              key_padding_mask=tgt_key_padding_mask)[0]\n",
        "        tgt = tgt + self.dropout1(tgt2)\n",
        "        tgt = self.norm1(tgt)\n",
        "        tgt2 = self.multihead_attn(tgt, memory, memory, attn_mask=memory_mask,\n",
        "                                   key_padding_mask=memory_key_padding_mask)[0]\n",
        "        tgt = tgt + self.dropout2(tgt2)\n",
        "        tgt = self.norm2(tgt)\n",
        "        tgt2 = self.linear2(self.dropout(self.activation(self.linear1(tgt))))\n",
        "        tgt = tgt + self.dropout3(tgt2)\n",
        "        tgt = self.norm3(tgt)\n",
        "        return tgt\n",
        "\n",
        "\n",
        "class TransformerAutoencoder(nn.Module):\n",
        "    def __init__(self, feature_size, d_model, nhead, num_encoder_layers, num_decoder_layers, dim_feedforward, dropout):\n",
        "        super().__init__()\n",
        "        self.embedding_encoder = nn.Linear(feature_size, d_model) # 輸入特徵 Embedding 層\n",
        "        self.embedding_decoder = nn.Linear(d_model, feature_size) # 輸出特徵 De-embedding 層 (用於重建)\n",
        "\n",
        "        # Encoder 層堆疊\n",
        "        encoder_layers = [TransformerEncoderLayer(d_model, nhead, dim_feedforward, dropout) for _ in range(num_encoder_layers)]\n",
        "        self.encoder = nn.Sequential(*encoder_layers)\n",
        "\n",
        "        # Decoder 層堆疊\n",
        "        decoder_layers = [TransformerDecoderLayer(d_model, nhead, dim_feedforward, dropout) for _ in range(num_decoder_layers)]\n",
        "        self.decoder = nn.Sequential(*decoder_layers)\n",
        "\n",
        "\n",
        "    def forward(self, src):\n",
        "        # Encoder 部分\n",
        "        enc_src = self.embedding_encoder(src) # 將輸入特徵轉換到 d_model 維度 [batch_size, seq_len, d_model]\n",
        "        memory = self.encoder(enc_src)       # 通過 Encoder 層 [batch_size, seq_len, d_model]\n",
        "\n",
        "        # Decoder 部分 - 正確的 Sequential 迭代方式\n",
        "        tgt = memory # 初始化 decoder 的 input 為 encoder 的 memory (對於 Autoencoder 來說，通常將 encoder 的輸出作為 decoder 的初始輸入)\n",
        "        for decoder_layer in self.decoder: # 迭代 self.decoder (nn.Sequential 容器) 中的每一層\n",
        "            tgt = decoder_layer(tgt, memory) # 顯式調用每個 decoder_layer 的 forward 方法，並傳遞 tgt 和 memory\n",
        "\n",
        "        output = self.embedding_decoder(tgt) # [batch_size, seq_len, feature_size]\n",
        "        return output"
      ],
      "metadata": {
        "id": "zkh34SESSg2y"
      },
      "execution_count": 4,
      "outputs": []
    },
    {
      "cell_type": "code",
      "execution_count": 5,
      "metadata": {
        "id": "F53QV6f6-I-l"
      },
      "outputs": [],
      "source": [
        "# 2. 從 CSV 檔案載入資料並準備訓練/測試集\n",
        "# ------------------------------------\n",
        "def load_and_prepare_data(csv_file='transaction_data.csv', feature_cols=None, test_size=0.1):\n",
        "    \"\"\"\n",
        "    從 CSV 檔案載入資料，選擇特徵欄位，並分割成訓練集和測試集。\n",
        "\n",
        "    Args:\n",
        "        csv_file (str): CSV 檔案路徑 (假設已上傳到 Colab).\n",
        "        feature_cols (list): 要使用的特徵欄位名稱列表.\n",
        "        test_size (int): 測試集大小 (取最後幾 rows 作為測試集).\n",
        "\n",
        "    Returns:\n",
        "        tuple: 訓練集 (torch.Tensor), 測試集 (torch.Tensor), 真實標籤 (測試集, torch.Tensor, 如果 CSV 包含 'Class' 欄位).\n",
        "    \"\"\"\n",
        "    df = pd.read_csv(csv_file)\n",
        "\n",
        "    # 選擇特徵欄位\n",
        "    if feature_cols is None:\n",
        "        feature_cols = [i for i in df.columns if not i == 'Class'] # 假設 V1, V2, Amount 都是特徵欄位，或者使用全部\n",
        "    X = df[feature_cols].values\n",
        "    y = None # 預設沒有標籤\n",
        "    if 'Class' in df.columns:\n",
        "        y = df['Class'].values # 如果 CSV 包含 'Class' 欄位，則讀取標籤\n",
        "\n",
        "    # 將資料轉換成 PyTorch tensors\n",
        "    X_tensor = torch.tensor(X, dtype=torch.float32)\n",
        "    if y is not None:\n",
        "        y_tensor = torch.tensor(y, dtype=torch.long)\n",
        "    else:\n",
        "        y_tensor = None\n",
        "\n",
        "    # 分割訓練集和測試集 (取最後 test_size rows 作為測試集)\n",
        "    if test_size < 1.0:\n",
        "        test_size = int(len(df) * test_size)\n",
        "    train_data = X_tensor[:-test_size]\n",
        "    test_data = X_tensor[-test_size:]\n",
        "    test_labels = None\n",
        "    if y_tensor is not None:\n",
        "        test_labels = y_tensor[-test_size:]\n",
        "\n",
        "    return train_data, test_data, test_labels\n"
      ]
    },
    {
      "cell_type": "code",
      "source": [
        "# 3. 設定超參數和模型、優化器、損失函數\n",
        "# ------------------------------------\n",
        "feature_size = len(df.columns)-1 # 輸入特徵維度2 (V1, V2)\n",
        "sequence_length = 1 # 每個樣本視為長度為 1 的序列 (因為我們目前是獨立處理每個 row)\n",
        "d_model = 64       # Transformer 模型中的 embedding dimension\n",
        "nhead = 2          # Multi-head attention head 數量\n",
        "num_encoder_layers = 2 # Encoder 層數\n",
        "num_decoder_layers = 2 # Decoder 層數\n",
        "dim_feedforward = 128 # Feedforward network hidden layer dimension\n",
        "dropout = 0.01\n",
        "learning_rate = 0.0001 #0.001\n",
        "epochs = 60        # 增加 epochs 讓模型有更多訓練機會\n",
        "batch_size = 128+64 #32 ≒ 20%\n",
        "\n",
        "device = torch.device(\"cuda\" if torch.cuda.is_available() else \"cpu\") # 檢查是否有 GPU 可用，有的話使用 GPU 加速\n",
        "\n",
        "model = TransformerAutoencoder(feature_size, d_model, nhead, num_encoder_layers, num_decoder_layers, dim_feedforward, dropout).to(device)\n",
        "if os.path.exists('/content/my_model.pth'):\n",
        "  model.load_state_dict(torch.load('/content/my_model.pth'))  # 從 'my_model.pth' 檔案載入 state_dict\n",
        "  print('my_model.pth loaded')\n",
        "model = model.float().to(device)\n",
        "optimizer = optim.AdamW(model.parameters(), lr=learning_rate) # 使用 Adam 優化器\n",
        "criterion = nn.HuberLoss(reduction='mean') # 使用均方誤差 (MSE) 作為重建誤差損失函數\n",
        "# criterion = nn.MSELoss(reduction='mean') # 使用均方誤差 (MSE) 作為重建誤差損失函數"
      ],
      "metadata": {
        "id": "FOsTdVhHgxK7",
        "colab": {
          "base_uri": "https://localhost:8080/"
        },
        "outputId": "e45e3695-33df-447f-af77-4db69e5387c5"
      },
      "execution_count": 8,
      "outputs": [
        {
          "output_type": "stream",
          "name": "stdout",
          "text": [
            "my_model.pth loaded\n"
          ]
        },
        {
          "output_type": "stream",
          "name": "stderr",
          "text": [
            "<ipython-input-8-ef1d9e180a24>:19: FutureWarning: You are using `torch.load` with `weights_only=False` (the current default value), which uses the default pickle module implicitly. It is possible to construct malicious pickle data which will execute arbitrary code during unpickling (See https://github.com/pytorch/pytorch/blob/main/SECURITY.md#untrusted-models for more details). In a future release, the default value for `weights_only` will be flipped to `True`. This limits the functions that could be executed during unpickling. Arbitrary objects will no longer be allowed to be loaded via this mode unless they are explicitly allowlisted by the user via `torch.serialization.add_safe_globals`. We recommend you start setting `weights_only=True` for any use case where you don't have full control of the loaded file. Please open an issue on GitHub for any issues related to this experimental feature.\n",
            "  model.load_state_dict(torch.load('/content/my_model.pth'))  # 從 'my_model.pth' 檔案載入 state_dict\n"
          ]
        }
      ]
    },
    {
      "cell_type": "code",
      "source": [
        "# 4. 載入資料並建立 DataLoader\n",
        "# ------------------------------------\n",
        "_train_data, _test_data, test_labels = load_and_prepare_data(\n",
        "    csv_file='/content/kaggle_data/creditcard.csv', # 假設你的 CSV 檔案名為 transaction_data.csv\n",
        "    test_size=0.1)\n",
        "\n",
        "from sklearn.preprocessing import StandardScaler\n",
        "# 1. 初始化 StandardScaler\n",
        "scaler = StandardScaler()\n",
        "\n",
        "# 2. 在訓練資料上 fit scaler (學習均值和標準差)\n",
        "scaler.fit(train_data)\n",
        "\n",
        "# 3. 使用 *相同的 scaler* transform 訓練資料和驗證資料\n",
        "train_data = torch.tensor(scaler.transform(train_data))\n",
        "test_data = torch.tensor(scaler.transform(test_data))\n",
        "\n",
        "# 建立訓練集 DataLoader\n",
        "train_dataset = torch.utils.data.TensorDataset(train_data, train_data) # Autoencoder 的輸入和輸出都是相同的資料 (重建)\n",
        "train_dataloader = torch.utils.data.DataLoader(train_dataset, batch_size=batch_size, shuffle=True,pin_memory=True,num_workers=2)\n",
        "\n",
        "# 建立測試集 DataLoader (注意: 測試集不需要 shuffle)\n",
        "test_dataset = torch.utils.data.TensorDataset(test_data, test_data)\n",
        "test_dataloader = torch.utils.data.DataLoader(test_dataset, batch_size=batch_size, shuffle=False)"
      ],
      "metadata": {
        "id": "8EvQO0H-Flj6"
      },
      "execution_count": 26,
      "outputs": []
    },
    {
      "cell_type": "code",
      "source": [
        "run = wandb.init(\n",
        "    # Set the wandb entity where your project will be logged (generally your team name).\n",
        "    entity=\"my-team-name\",\n",
        "    # Set the wandb project where this run will be logged.\n",
        "    project=\"my-project\",\n",
        "    # Track hyperparameters and run metadata.\n",
        "    config={\n",
        "        \"learning_rate\": learning_rate,\n",
        "        \"architecture\": \"TransformerAutoencoder\",\n",
        "        \"dataset\": \"mlg-ulb/creditcardfraud\",\n",
        "        \"epochs\": epochs,\n",
        "    },\n",
        ")\n",
        "\n",
        "wandb.init()\n",
        "!wandb login --relogin #822c95d929b2b454ea30fa73027dda0d9eee6258"
      ],
      "metadata": {
        "colab": {
          "base_uri": "https://localhost:8080/",
          "height": 138
        },
        "id": "Ipa-wn3SkQ90",
        "outputId": "ce954393-8d0f-4697-c57c-6a38e70cedb8"
      },
      "execution_count": null,
      "outputs": [
        {
          "output_type": "stream",
          "name": "stdout",
          "text": [
            "\u001b[34m\u001b[1mwandb\u001b[0m: Logging into wandb.ai. (Learn how to deploy a W&B server locally: https://wandb.me/wandb-server)\n",
            "\u001b[34m\u001b[1mwandb\u001b[0m: You can find your API key in your browser here: https://wandb.ai/authorize\n",
            "\u001b[34m\u001b[1mwandb\u001b[0m: Paste an API key from your profile and hit enter, or press ctrl+c to quit: \n",
            "\u001b[34m\u001b[1mwandb\u001b[0m: \u001b[33mWARNING\u001b[0m If you're specifying your api key in code, ensure this code is not shared publicly.\n",
            "\u001b[34m\u001b[1mwandb\u001b[0m: \u001b[33mWARNING\u001b[0m Consider setting the WANDB_API_KEY environment variable, or running `wandb login` from the command line.\n",
            "\u001b[34m\u001b[1mwandb\u001b[0m: Appending key for api.wandb.ai to your netrc file: /root/.netrc\n",
            "\u001b[34m\u001b[1mwandb\u001b[0m: W&B API key is configured. Use \u001b[1m`wandb login --relogin`\u001b[0m to force relogin\n"
          ]
        }
      ]
    },
    {
      "cell_type": "code",
      "source": [
        "# 5. 訓練模型 (Fine-tuning)\n",
        "# ------------------------------------\n",
        "history = {'train_loss': []} # 紀錄訓練過程中的 loss\n",
        "\n",
        "for epoch in range(epochs):\n",
        "    model.train() # 設定模型為訓練模式\n",
        "    train_loss = 0.0\n",
        "    for batch_idx, (inputs, targets) in enumerate(train_dataloader):\n",
        "        inputs = inputs.unsqueeze(1).to(device).float() # 將輸入資料增加一個 sequence length 維度 (batch_size, seq_len=1, feature_size), 並移動到 GPU (如果有的話)\n",
        "        targets = targets.unsqueeze(1).to(device).float() # 同樣處理 targets\n",
        "\n",
        "        optimizer.zero_grad() # 清空梯度\n",
        "        outputs = model(inputs)\n",
        "        loss = criterion(outputs, targets)\n",
        "        loss.backward()\n",
        "        optimizer.step()\n",
        "\n",
        "        train_loss += loss.item() # 累加 batch loss\n",
        "\n",
        "    avg_train_loss = train_loss / len(train_dataloader) # 計算平均 train loss\n",
        "    history['train_loss'].append(avg_train_loss)      # 紀錄平均 train loss\n",
        "    print(f\"Epoch [{epoch+1}/{epochs}], Train Loss: {avg_train_loss:.4f}\")\n"
      ],
      "metadata": {
        "colab": {
          "base_uri": "https://localhost:8080/"
        },
        "id": "Rb0j4TqWuF9F",
        "outputId": "c82bdb00-c518-4ae2-cede-629267cad6b7"
      },
      "execution_count": null,
      "outputs": [
        {
          "output_type": "stream",
          "name": "stdout",
          "text": [
            "Epoch [1/60], Train Loss: 0.0653\n",
            "Epoch [2/60], Train Loss: 0.0225\n",
            "Epoch [3/60], Train Loss: 0.0153\n",
            "Epoch [4/60], Train Loss: 0.0113\n",
            "Epoch [5/60], Train Loss: 0.0087\n",
            "Epoch [6/60], Train Loss: 0.0068\n",
            "Epoch [7/60], Train Loss: 0.0055\n",
            "Epoch [8/60], Train Loss: 0.0046\n",
            "Epoch [9/60], Train Loss: 0.0039\n",
            "Epoch [10/60], Train Loss: 0.0033\n",
            "Epoch [11/60], Train Loss: 0.0029\n",
            "Epoch [12/60], Train Loss: 0.0026\n",
            "Epoch [13/60], Train Loss: 0.0023\n",
            "Epoch [14/60], Train Loss: 0.0021\n",
            "Epoch [15/60], Train Loss: 0.0019\n",
            "Epoch [16/60], Train Loss: 0.0018\n",
            "Epoch [17/60], Train Loss: 0.0016\n",
            "Epoch [18/60], Train Loss: 0.0015\n",
            "Epoch [19/60], Train Loss: 0.0015\n",
            "Epoch [20/60], Train Loss: 0.0013\n",
            "Epoch [21/60], Train Loss: 0.0013\n",
            "Epoch [22/60], Train Loss: 0.0012\n",
            "Epoch [23/60], Train Loss: 0.0012\n",
            "Epoch [24/60], Train Loss: 0.0011\n",
            "Epoch [25/60], Train Loss: 0.0011\n",
            "Epoch [26/60], Train Loss: 0.0010\n",
            "Epoch [27/60], Train Loss: 0.0010\n",
            "Epoch [28/60], Train Loss: 0.0009\n",
            "Epoch [29/60], Train Loss: 0.0009\n",
            "Epoch [30/60], Train Loss: 0.0009\n",
            "Epoch [31/60], Train Loss: 0.0008\n",
            "Epoch [32/60], Train Loss: 0.0008\n",
            "Epoch [33/60], Train Loss: 0.0008\n",
            "Epoch [34/60], Train Loss: 0.0007\n",
            "Epoch [35/60], Train Loss: 0.0007\n",
            "Epoch [36/60], Train Loss: 0.0007\n",
            "Epoch [37/60], Train Loss: 0.0007\n",
            "Epoch [38/60], Train Loss: 0.0007\n",
            "Epoch [39/60], Train Loss: 0.0006\n",
            "Epoch [40/60], Train Loss: 0.0006\n",
            "Epoch [41/60], Train Loss: 0.0006\n",
            "Epoch [42/60], Train Loss: 0.0006\n",
            "Epoch [43/60], Train Loss: 0.0006\n",
            "Epoch [44/60], Train Loss: 0.0005\n",
            "Epoch [45/60], Train Loss: 0.0005\n",
            "Epoch [46/60], Train Loss: 0.0005\n",
            "Epoch [47/60], Train Loss: 0.0005\n",
            "Epoch [48/60], Train Loss: 0.0005\n",
            "Epoch [49/60], Train Loss: 0.0005\n",
            "Epoch [50/60], Train Loss: 0.0005\n",
            "Epoch [51/60], Train Loss: 0.0005\n",
            "Epoch [52/60], Train Loss: 0.0005\n",
            "Epoch [53/60], Train Loss: 0.0004\n",
            "Epoch [54/60], Train Loss: 0.0004\n",
            "Epoch [55/60], Train Loss: 0.0004\n",
            "Epoch [56/60], Train Loss: 0.0004\n",
            "Epoch [57/60], Train Loss: 0.0004\n",
            "Epoch [58/60], Train Loss: 0.0004\n",
            "Epoch [59/60], Train Loss: 0.0005\n",
            "Epoch [60/60], Train Loss: 0.0004\n"
          ]
        }
      ]
    },
    {
      "cell_type": "code",
      "source": [
        "# # 5. 訓練模型 (Fine-tuning)\n",
        "# # ------------------------------------\n",
        "# history = {'train_loss': []} # 紀錄訓練過程中的 loss\n",
        "\n",
        "# for epoch in range(epochs):\n",
        "#     model.train() # 設定模型為訓練模式\n",
        "#     train_loss = 0.0\n",
        "#     for batch_idx, (inputs, targets) in enumerate(train_dataloader):\n",
        "#         inputs = inputs.unsqueeze(1).to(device).float() # 將輸入資料增加一個 sequence length 維度 (batch_size, seq_len=1, feature_size), 並移動到 GPU (如果有的話)\n",
        "#         targets = targets.unsqueeze(1).to(device).float() # 同樣處理 targets\n",
        "\n",
        "#         optimizer.zero_grad() # 清空梯度\n",
        "#         outputs = model(inputs) # 前向傳播\n",
        "#         loss = criterion(outputs, targets) # 計算 loss (重建誤差)\n",
        "#         loss.backward()         # 反向傳播\n",
        "#         optimizer.step()        # 更新模型參數\n",
        "\n",
        "#         train_loss += loss.item() # 累加 batch loss\n",
        "\n",
        "#     avg_train_loss = train_loss / len(train_dataloader) # 計算平均 train loss\n",
        "#     history['train_loss'].append(avg_train_loss)      # 紀錄平均 train loss\n",
        "#     print(f\"Epoch [{epoch+1}/{epochs}], Train Loss: {avg_train_loss:.4f}\")\n"
      ],
      "metadata": {
        "id": "l8-OeZkn-o0X",
        "colab": {
          "base_uri": "https://localhost:8080/",
          "height": 478
        },
        "outputId": "c1616721-9aa3-4bf8-f336-53491be26456"
      },
      "execution_count": null,
      "outputs": [
        {
          "output_type": "stream",
          "name": "stdout",
          "text": [
            "Epoch [1/30], Train Loss: 106669444.1140\n",
            "Epoch [2/30], Train Loss: 76068941.0196\n",
            "Epoch [3/30], Train Loss: 75389443.8638\n",
            "Epoch [4/30], Train Loss: 75309199.8966\n",
            "Epoch [5/30], Train Loss: 75306596.4918\n",
            "Epoch [6/30], Train Loss: 75315582.3358\n",
            "Epoch [7/30], Train Loss: 75308588.4900\n"
          ]
        },
        {
          "output_type": "error",
          "ename": "KeyboardInterrupt",
          "evalue": "",
          "traceback": [
            "\u001b[0;31m---------------------------------------------------------------------------\u001b[0m",
            "\u001b[0;31mKeyboardInterrupt\u001b[0m                         Traceback (most recent call last)",
            "\u001b[0;32m<ipython-input-87-63c3da625d27>\u001b[0m in \u001b[0;36m<cell line: 0>\u001b[0;34m()\u001b[0m\n\u001b[1;32m     11\u001b[0m \u001b[0;34m\u001b[0m\u001b[0m\n\u001b[1;32m     12\u001b[0m         \u001b[0moptimizer\u001b[0m\u001b[0;34m.\u001b[0m\u001b[0mzero_grad\u001b[0m\u001b[0;34m(\u001b[0m\u001b[0;34m)\u001b[0m \u001b[0;31m# 清空梯度\u001b[0m\u001b[0;34m\u001b[0m\u001b[0;34m\u001b[0m\u001b[0m\n\u001b[0;32m---> 13\u001b[0;31m         \u001b[0moutputs\u001b[0m \u001b[0;34m=\u001b[0m \u001b[0mmodel\u001b[0m\u001b[0;34m(\u001b[0m\u001b[0minputs\u001b[0m\u001b[0;34m)\u001b[0m \u001b[0;31m# 前向傳播\u001b[0m\u001b[0;34m\u001b[0m\u001b[0;34m\u001b[0m\u001b[0m\n\u001b[0m\u001b[1;32m     14\u001b[0m         \u001b[0mloss\u001b[0m \u001b[0;34m=\u001b[0m \u001b[0mcriterion\u001b[0m\u001b[0;34m(\u001b[0m\u001b[0moutputs\u001b[0m\u001b[0;34m,\u001b[0m \u001b[0mtargets\u001b[0m\u001b[0;34m)\u001b[0m \u001b[0;31m# 計算 loss (重建誤差)\u001b[0m\u001b[0;34m\u001b[0m\u001b[0;34m\u001b[0m\u001b[0m\n\u001b[1;32m     15\u001b[0m         \u001b[0mloss\u001b[0m\u001b[0;34m.\u001b[0m\u001b[0mbackward\u001b[0m\u001b[0;34m(\u001b[0m\u001b[0;34m)\u001b[0m         \u001b[0;31m# 反向傳播\u001b[0m\u001b[0;34m\u001b[0m\u001b[0;34m\u001b[0m\u001b[0m\n",
            "\u001b[0;32m/usr/local/lib/python3.11/dist-packages/torch/nn/modules/module.py\u001b[0m in \u001b[0;36m_wrapped_call_impl\u001b[0;34m(self, *args, **kwargs)\u001b[0m\n\u001b[1;32m   1734\u001b[0m             \u001b[0;32mreturn\u001b[0m \u001b[0mself\u001b[0m\u001b[0;34m.\u001b[0m\u001b[0m_compiled_call_impl\u001b[0m\u001b[0;34m(\u001b[0m\u001b[0;34m*\u001b[0m\u001b[0margs\u001b[0m\u001b[0;34m,\u001b[0m \u001b[0;34m**\u001b[0m\u001b[0mkwargs\u001b[0m\u001b[0;34m)\u001b[0m  \u001b[0;31m# type: ignore[misc]\u001b[0m\u001b[0;34m\u001b[0m\u001b[0;34m\u001b[0m\u001b[0m\n\u001b[1;32m   1735\u001b[0m         \u001b[0;32melse\u001b[0m\u001b[0;34m:\u001b[0m\u001b[0;34m\u001b[0m\u001b[0;34m\u001b[0m\u001b[0m\n\u001b[0;32m-> 1736\u001b[0;31m             \u001b[0;32mreturn\u001b[0m \u001b[0mself\u001b[0m\u001b[0;34m.\u001b[0m\u001b[0m_call_impl\u001b[0m\u001b[0;34m(\u001b[0m\u001b[0;34m*\u001b[0m\u001b[0margs\u001b[0m\u001b[0;34m,\u001b[0m \u001b[0;34m**\u001b[0m\u001b[0mkwargs\u001b[0m\u001b[0;34m)\u001b[0m\u001b[0;34m\u001b[0m\u001b[0;34m\u001b[0m\u001b[0m\n\u001b[0m\u001b[1;32m   1737\u001b[0m \u001b[0;34m\u001b[0m\u001b[0m\n\u001b[1;32m   1738\u001b[0m     \u001b[0;31m# torchrec tests the code consistency with the following code\u001b[0m\u001b[0;34m\u001b[0m\u001b[0;34m\u001b[0m\u001b[0m\n",
            "\u001b[0;32m/usr/local/lib/python3.11/dist-packages/torch/nn/modules/module.py\u001b[0m in \u001b[0;36m_call_impl\u001b[0;34m(self, *args, **kwargs)\u001b[0m\n\u001b[1;32m   1745\u001b[0m                 \u001b[0;32mor\u001b[0m \u001b[0m_global_backward_pre_hooks\u001b[0m \u001b[0;32mor\u001b[0m \u001b[0m_global_backward_hooks\u001b[0m\u001b[0;34m\u001b[0m\u001b[0;34m\u001b[0m\u001b[0m\n\u001b[1;32m   1746\u001b[0m                 or _global_forward_hooks or _global_forward_pre_hooks):\n\u001b[0;32m-> 1747\u001b[0;31m             \u001b[0;32mreturn\u001b[0m \u001b[0mforward_call\u001b[0m\u001b[0;34m(\u001b[0m\u001b[0;34m*\u001b[0m\u001b[0margs\u001b[0m\u001b[0;34m,\u001b[0m \u001b[0;34m**\u001b[0m\u001b[0mkwargs\u001b[0m\u001b[0;34m)\u001b[0m\u001b[0;34m\u001b[0m\u001b[0;34m\u001b[0m\u001b[0m\n\u001b[0m\u001b[1;32m   1748\u001b[0m \u001b[0;34m\u001b[0m\u001b[0m\n\u001b[1;32m   1749\u001b[0m         \u001b[0mresult\u001b[0m \u001b[0;34m=\u001b[0m \u001b[0;32mNone\u001b[0m\u001b[0;34m\u001b[0m\u001b[0;34m\u001b[0m\u001b[0m\n",
            "\u001b[0;32m<ipython-input-71-1b0f945de40c>\u001b[0m in \u001b[0;36mforward\u001b[0;34m(self, src)\u001b[0m\n\u001b[1;32m     71\u001b[0m     \u001b[0;32mdef\u001b[0m \u001b[0mforward\u001b[0m\u001b[0;34m(\u001b[0m\u001b[0mself\u001b[0m\u001b[0;34m,\u001b[0m \u001b[0msrc\u001b[0m\u001b[0;34m)\u001b[0m\u001b[0;34m:\u001b[0m\u001b[0;34m\u001b[0m\u001b[0;34m\u001b[0m\u001b[0m\n\u001b[1;32m     72\u001b[0m         \u001b[0;31m# Encoder 部分\u001b[0m\u001b[0;34m\u001b[0m\u001b[0;34m\u001b[0m\u001b[0m\n\u001b[0;32m---> 73\u001b[0;31m         \u001b[0menc_src\u001b[0m \u001b[0;34m=\u001b[0m \u001b[0mself\u001b[0m\u001b[0;34m.\u001b[0m\u001b[0membedding_encoder\u001b[0m\u001b[0;34m(\u001b[0m\u001b[0msrc\u001b[0m\u001b[0;34m)\u001b[0m \u001b[0;31m# 將輸入特徵轉換到 d_model 維度 [batch_size, seq_len, d_model]\u001b[0m\u001b[0;34m\u001b[0m\u001b[0;34m\u001b[0m\u001b[0m\n\u001b[0m\u001b[1;32m     74\u001b[0m         \u001b[0mmemory\u001b[0m \u001b[0;34m=\u001b[0m \u001b[0mself\u001b[0m\u001b[0;34m.\u001b[0m\u001b[0mencoder\u001b[0m\u001b[0;34m(\u001b[0m\u001b[0menc_src\u001b[0m\u001b[0;34m)\u001b[0m       \u001b[0;31m# 通過 Encoder 層 [batch_size, seq_len, d_model]\u001b[0m\u001b[0;34m\u001b[0m\u001b[0;34m\u001b[0m\u001b[0m\n\u001b[1;32m     75\u001b[0m \u001b[0;34m\u001b[0m\u001b[0m\n",
            "\u001b[0;31mKeyboardInterrupt\u001b[0m: "
          ]
        }
      ]
    },
    {
      "cell_type": "code",
      "source": [
        "# 6. 異常偵測和評估 (示範) -  **修正後**\n",
        "# ------------------------------------\n",
        "model.eval()\n",
        "reconstruction_errors = []\n",
        "true_labels = []\n",
        "predicted_anomalies_list = [] # 使用 list 儲存每個 batch 的預測結果 (Boolean 值)\n",
        "threshold = 0.85\n",
        "\n",
        "with torch.no_grad():\n",
        "    for inputs, targets in test_dataloader: # 再次使用 dataloader 評估\n",
        "        inputs = inputs.to(device).float() #inputs = inputs.unsqueeze(1).to(device).float()\n",
        "        targets = targets.to(device).float()\n",
        "        outputs = model(inputs)\n",
        "        loss = criterion(outputs, targets) # 計算重建誤差 (MSE)\n",
        "        reconstruction_errors.append(loss.cpu().numpy().item()) # 使用 append() 並用 .item() 取出 NumPy scalar 的值\n",
        "\n",
        "        # --- 修正重點: 在 batch 內進行異常判斷，並將結果 append 到 list ---\n",
        "        batch_reconstruction_errors = criterion(outputs, targets).cpu().numpy().item() # 取得 batch 的平均重建誤差 (如果你想要 per-sample error, 需要更細緻的計算)\n",
        "        batch_predicted_anomalies = (batch_reconstruction_errors > threshold) # 判斷這個 batch 是否異常 (基於平均誤差 vs. 閾值)\n",
        "        predicted_anomalies_list.append(batch_predicted_anomalies) # 將 *batch 的異常判斷結果* (Boolean) append 到 list\n",
        "\n",
        "        true_labels.extend(labels[batch_idx*batch_size : (batch_idx+1)*batch_size]) # 取得對應的 labels (注意 batch 邊界)\n",
        "\n",
        "\n",
        "# 將 reconstruction errors 轉換為每個樣本的誤差 (這裡簡化為 batch 平均誤差，實際應用中建議計算每個樣本的誤差)\n",
        "# 由於我們是計算 batch 的平均 MSE Loss, 這裡簡化處理，實際應用中建議調整 dataloader 每次只輸出 batch_size=1 來計算每個樣本的誤差\n",
        "reconstruction_errors_samples = np.repeat(np.array(reconstruction_errors), batch_size)[:len(labels)] # 粗略將 batch error 擴展到樣本 (需調整)\n",
        "\n",
        "\n",
        "# 設定異常閾值 (例如，取重建誤差的百分位數)\n",
        "threshold_percentage = 95\n",
        "threshold = np.percentile(reconstruction_errors_samples, threshold_percentage)\n",
        "predicted_anomalies = reconstruction_errors_samples > threshold #  **修正重點: 這裡直接基於所有樣本的 reconstruction_errors_samples 計算最終的 predicted_anomalies (Boolean array)**\n",
        "\n",
        "\n",
        "# 評估 (簡單示範，使用 synthetic data 的 labels)\n",
        "from sklearn.metrics import classification_report, confusion_matrix\n",
        "\n",
        "print(\"Confusion Matrix:\\n\", confusion_matrix(true_labels[:len(predicted_anomalies)], predicted_anomalies.astype(int))) # 注意 label 長度對齊, predicted_anomalies 轉為 int\n",
        "print(\"\\nClassification Report:\\n\", classification_report(true_labels[:len(predicted_anomalies)], predicted_anomalies.astype(int)))\n"
      ],
      "metadata": {
        "id": "DJ2WsXVOO_Aw",
        "outputId": "c30cb490-c0ad-401a-c91d-5784ea7f192c",
        "colab": {
          "base_uri": "https://localhost:8080/"
        }
      },
      "execution_count": 15,
      "outputs": [
        {
          "output_type": "stream",
          "name": "stdout",
          "text": [
            "Confusion Matrix:\n",
            " [[27264  1344]\n",
            " [    0     0]]\n",
            "\n",
            "Classification Report:\n",
            "               precision    recall  f1-score   support\n",
            "\n",
            "           0       1.00      0.95      0.98     28608\n",
            "           1       0.00      0.00      0.00         0\n",
            "\n",
            "    accuracy                           0.95     28608\n",
            "   macro avg       0.50      0.48      0.49     28608\n",
            "weighted avg       1.00      0.95      0.98     28608\n",
            "\n"
          ]
        },
        {
          "output_type": "stream",
          "name": "stderr",
          "text": [
            "/usr/local/lib/python3.11/dist-packages/sklearn/metrics/_classification.py:1565: UndefinedMetricWarning: Recall is ill-defined and being set to 0.0 in labels with no true samples. Use `zero_division` parameter to control this behavior.\n",
            "  _warn_prf(average, modifier, f\"{metric.capitalize()} is\", len(result))\n",
            "/usr/local/lib/python3.11/dist-packages/sklearn/metrics/_classification.py:1565: UndefinedMetricWarning: Recall is ill-defined and being set to 0.0 in labels with no true samples. Use `zero_division` parameter to control this behavior.\n",
            "  _warn_prf(average, modifier, f\"{metric.capitalize()} is\", len(result))\n",
            "/usr/local/lib/python3.11/dist-packages/sklearn/metrics/_classification.py:1565: UndefinedMetricWarning: Recall is ill-defined and being set to 0.0 in labels with no true samples. Use `zero_division` parameter to control this behavior.\n",
            "  _warn_prf(average, modifier, f\"{metric.capitalize()} is\", len(result))\n"
          ]
        }
      ]
    },
    {
      "cell_type": "code",
      "source": [
        "# 7. 繪製訓練 Loss 曲線 和 異常分數分佈\n",
        "# ------------------------------------\n",
        "plt.figure(figsize=(12, 4))\n",
        "plt.subplot(1, 2, 1)\n",
        "plt.plot(history['train_loss'])\n",
        "plt.title('Training Loss')\n",
        "plt.xlabel('Epoch')\n",
        "plt.ylabel('Loss')\n",
        "\n",
        "plt.subplot(1, 2, 2)\n",
        "plt.hist(reconstruction_errors_samples, bins=50)\n",
        "plt.axvline(x=threshold, color='r', linestyle='--', label=f'Threshold ({threshold:.3f})')\n",
        "plt.title('Test Reconstruction Error Distribution')\n",
        "plt.xlabel('Reconstruction Error')\n",
        "plt.ylabel('Frequency')\n",
        "plt.legend()\n",
        "\n",
        "plt.tight_layout()\n",
        "plt.show()\n",
        "\n",
        "\n",
        "print(\"\\n--- 程式碼執行完畢 ---\")\n",
        "print(\"請查看訓練 Loss 曲線、測試集重建誤差分佈、以及評估結果 (如果測試集有真實標籤)。\")\n",
        "print(\"異常判斷閾值設定為重建誤差的 85 百分位數，您可以調整這個閾值來改變異常偵測的靈敏度。\")"
      ],
      "metadata": {
        "id": "KNNdYOIq_Nip",
        "outputId": "08a7c4b5-e87b-49ae-e2a2-bb983a45386d",
        "colab": {
          "base_uri": "https://localhost:8080/",
          "height": 476
        }
      },
      "execution_count": 24,
      "outputs": [
        {
          "output_type": "display_data",
          "data": {
            "text/plain": [
              "<Figure size 1200x400 with 2 Axes>"
            ],
            "image/png": "[encoded data removed]"
          },
          "metadata": {}
        },
        {
          "output_type": "stream",
          "name": "stdout",
          "text": [
            "\n",
            "--- 程式碼執行完畢 ---\n",
            "請查看訓練 Loss 曲線、測試集重建誤差分佈、以及評估結果 (如果測試集有真實標籤)。\n",
            "異常判斷閾值設定為重建誤差的 85 百分位數，您可以調整這個閾值來改變異常偵測的靈敏度。\n"
          ]
        }
      ]
    },
    {
      "cell_type": "code",
      "source": [
        "# torch.save(model.state_dict(), 'my_model.pth')  # 將模型的 state_dict 儲存到 'my_model.pth' 檔案\n",
        "# from google.colab import files\n",
        "# files.download('my_model.pth')\n",
        "# model.load_state_dict(torch.load('my_model.pth'))  # 從 'my_model.pth' 檔案載入 state_dict"
      ],
      "metadata": {
        "id": "wjy8zQacd4Z7"
      },
      "execution_count": null,
      "outputs": []
    },
    {
      "cell_type": "code",
      "source": [
        "# -------------------------------------\n",
        "# 7. 解釋 outlier (第 541 筆 training data)\n",
        "# -------------------------------------\n",
        "model.eval() # 確保模型在評估模式\n",
        "model=model.to(device)\n",
        "# 取得第 541 筆 training data (原始未縮放資料)\n",
        "index_to_explain = 203700 # 541、203700\n",
        "outlier_data_original = _train_data[index_to_explain] # 從原始未縮放的 train_data 取出\n",
        "outlier_data_scaled = train_data[index_to_explain] # 使用縮放後的 train_data (模型實際輸入)\n",
        "outlier_data_tensor = outlier_data_scaled.unsqueeze(0).unsqueeze(1).float().to(device) # 轉換為 tensor, 增加 batch 和 sequence dimension\n",
        "\n"
      ],
      "metadata": {
        "id": "xPzRRoFE3M3z"
      },
      "execution_count": 185,
      "outputs": []
    },
    {
      "cell_type": "code",
      "source": [
        "# **方法 1: Feature-wise Reconstruction Error Comparison**\n",
        "with torch.no_grad():\n",
        "    reconstructed_outlier = model(outlier_data_tensor)\n",
        "reconstructed_outlier_cpu = reconstructed_outlier.squeeze().cpu().numpy()\n",
        "outlier_data_cpu = outlier_data_scaled.cpu().numpy()\n",
        "\n",
        "feature_reconstruction_errors = np.abs(outlier_data_cpu - reconstructed_outlier_cpu)\n",
        "\n",
        "print(\"\\n--- Feature-wise Reconstruction Error Comparison ---\")\n",
        "for feature_index, error in enumerate(feature_reconstruction_errors):\n",
        "    print(f\"Feature: {df.columns[feature_index]}, Reconstruction Error: {error:.4f}\")\n",
        "print(\"Higher reconstruction error for a feature suggests it contributes more to the outlier score.\")"
      ],
      "metadata": {
        "id": "Dkz92Wfj3Plp",
        "outputId": "34a2f9aa-0693-4633-92ea-b013bd5b9f17",
        "colab": {
          "base_uri": "https://localhost:8080/"
        }
      },
      "execution_count": 186,
      "outputs": [
        {
          "output_type": "stream",
          "name": "stdout",
          "text": [
            "\n",
            "--- Feature-wise Reconstruction Error Comparison ---\n",
            "Feature: Time, Reconstruction Error: 0.0124\n",
            "Feature: V1, Reconstruction Error: 0.0085\n",
            "Feature: V2, Reconstruction Error: 0.0176\n",
            "Feature: V3, Reconstruction Error: 0.0512\n",
            "Feature: V4, Reconstruction Error: 0.0252\n",
            "Feature: V5, Reconstruction Error: 0.0322\n",
            "Feature: V6, Reconstruction Error: 0.0192\n",
            "Feature: V7, Reconstruction Error: 0.0199\n",
            "Feature: V8, Reconstruction Error: 0.0071\n",
            "Feature: V9, Reconstruction Error: 0.0123\n",
            "Feature: V10, Reconstruction Error: 0.0445\n",
            "Feature: V11, Reconstruction Error: 0.0368\n",
            "Feature: V12, Reconstruction Error: 0.0555\n",
            "Feature: V13, Reconstruction Error: 0.0074\n",
            "Feature: V14, Reconstruction Error: 0.0907\n",
            "Feature: V15, Reconstruction Error: 0.0045\n",
            "Feature: V16, Reconstruction Error: 0.0317\n",
            "Feature: V17, Reconstruction Error: 0.0477\n",
            "Feature: V18, Reconstruction Error: 0.0188\n",
            "Feature: V19, Reconstruction Error: 0.0170\n",
            "Feature: V20, Reconstruction Error: 0.0008\n",
            "Feature: V21, Reconstruction Error: 0.0182\n",
            "Feature: V22, Reconstruction Error: 0.0140\n",
            "Feature: V23, Reconstruction Error: 0.0177\n",
            "Feature: V24, Reconstruction Error: 0.0055\n",
            "Feature: V25, Reconstruction Error: 0.0108\n",
            "Feature: V26, Reconstruction Error: 0.0339\n",
            "Feature: V27, Reconstruction Error: 0.0172\n",
            "Feature: V28, Reconstruction Error: 0.0700\n",
            "Feature: Amount, Reconstruction Error: 0.0213\n",
            "Higher reconstruction error for a feature suggests it contributes more to the outlier score.\n"
          ]
        }
      ]
    },
    {
      "cell_type": "code",
      "source": [
        "# **方法 2: Input Gradients (Sensitivity Analysis)**\n",
        "outlier_data_tensor_grad = outlier_data_tensor.clone().detach().requires_grad_(True) # 需要 clone 和 detach，確保不影響原始 tensor\n",
        "model.zero_grad() # 清空之前的梯度\n",
        "\n",
        "reconstructed_outlier_grad = model(outlier_data_tensor_grad)\n",
        "loss_outlier = criterion(reconstructed_outlier_grad, outlier_data_tensor_grad) # 計算 outlier 的 loss\n",
        "loss_outlier.backward() # 計算梯度\n",
        "\n",
        "input_gradients = outlier_data_tensor_grad.grad.squeeze().cpu().numpy() # 取得輸入梯度\n",
        "\n",
        "print(\"\\n--- Input Gradients (Sensitivity Analysis) ---\")\n",
        "for feature_index, gradient in enumerate(input_gradients):\n",
        "    print(f\"Feature: {df.columns[feature_index]}, Gradient: {gradient:.4f}\")\n",
        "print(\"Larger absolute gradient for a feature indicates it has a greater influence on the reconstruction loss (outlier score).\")\n",
        "\n",
        "print(\"\\nInterpretation of Results:\")\n",
        "print(\"By examining the Feature-wise Reconstruction Errors and Input Gradients, you can identify which input features contribute most significantly to the high reconstruction error of the 541st training data point, thus explaining why it is flagged as a potential outlier.\")\n",
        "print(\"Features with high reconstruction errors and large gradients are likely the key drivers making this data point different from the 'normal' patterns learned by the autoencoder.\")"
      ],
      "metadata": {
        "id": "_ZChHzcc3bkH",
        "outputId": "32b207e9-8e29-4d7c-c707-e1b6f8aac176",
        "colab": {
          "base_uri": "https://localhost:8080/"
        }
      },
      "execution_count": 188,
      "outputs": [
        {
          "output_type": "stream",
          "name": "stdout",
          "text": [
            "\n",
            "--- Input Gradients (Sensitivity Analysis) ---\n",
            "Feature: Time, Gradient: 0.0001\n",
            "Feature: V1, Gradient: 0.0000\n",
            "Feature: V2, Gradient: 0.0003\n",
            "Feature: V3, Gradient: -0.0001\n",
            "Feature: V4, Gradient: 0.0004\n",
            "Feature: V5, Gradient: 0.0001\n",
            "Feature: V6, Gradient: -0.0003\n",
            "Feature: V7, Gradient: 0.0004\n",
            "Feature: V8, Gradient: 0.0002\n",
            "Feature: V9, Gradient: -0.0002\n",
            "Feature: V10, Gradient: -0.0001\n",
            "Feature: V11, Gradient: -0.0003\n",
            "Feature: V12, Gradient: 0.0013\n",
            "Feature: V13, Gradient: -0.0008\n",
            "Feature: V14, Gradient: -0.0006\n",
            "Feature: V15, Gradient: 0.0004\n",
            "Feature: V16, Gradient: 0.0001\n",
            "Feature: V17, Gradient: -0.0005\n",
            "Feature: V18, Gradient: -0.0000\n",
            "Feature: V19, Gradient: 0.0001\n",
            "Feature: V20, Gradient: 0.0003\n",
            "Feature: V21, Gradient: -0.0002\n",
            "Feature: V22, Gradient: 0.0002\n",
            "Feature: V23, Gradient: 0.0001\n",
            "Feature: V24, Gradient: 0.0003\n",
            "Feature: V25, Gradient: 0.0001\n",
            "Feature: V26, Gradient: -0.0003\n",
            "Feature: V27, Gradient: 0.0001\n",
            "Feature: V28, Gradient: 0.0002\n",
            "Feature: Amount, Gradient: -0.0003\n",
            "Larger absolute gradient for a feature indicates it has a greater influence on the reconstruction loss (outlier score).\n",
            "\n",
            "Interpretation of Results:\n",
            "By examining the Feature-wise Reconstruction Errors and Input Gradients, you can identify which input features contribute most significantly to the high reconstruction error of the 541st training data point, thus explaining why it is flagged as a potential outlier.\n",
            "Features with high reconstruction errors and large gradients are likely the key drivers making this data point different from the 'normal' patterns learned by the autoencoder.\n"
          ]
        }
      ]
    },
    {
      "cell_type": "code",
      "source": [
        "import matplotlib.pyplot as plt\n",
        "# 找出 outlier indices (假設 predicted_anomalies 是基於 test_data 的預測結果)\n",
        "# num_outliers_to_explain = min(50, len(outlier_indices)) # 最多解釋 50 個 outlier\n",
        "avg_feature_recon_errors = np.zeros(feature_size) # 初始化平均重建誤差\n",
        "avg_abs_input_gradients = np.zeros(feature_size) # 初始化平均梯度絕對值\n",
        "\n",
        "for outlier_index_test_set in [i for i, v in enumerate(df.Class) if v==1 and i<len(train_data)]:\n",
        "    outlier_data_scaled = train_data[outlier_index_test_set] # 從 scaled test_data 取出 outlier\n",
        "\n",
        "    outlier_data_tensor = outlier_data_scaled.unsqueeze(0).unsqueeze(1).float().to(device) # 轉換為 tensor\n",
        "\n",
        "    # **方法 1: Feature-wise Reconstruction Error Comparison**\n",
        "    with torch.no_grad():\n",
        "        reconstructed_outlier = model(outlier_data_tensor)\n",
        "    reconstructed_outlier_cpu = reconstructed_outlier.squeeze().cpu().numpy()\n",
        "    outlier_data_cpu = outlier_data_scaled.cpu().numpy()\n",
        "    feature_reconstruction_errors = np.abs(outlier_data_cpu - reconstructed_outlier_cpu)\n",
        "    avg_feature_recon_errors += feature_reconstruction_errors\n",
        "\n",
        "\n",
        "    # **方法 2: Input Gradients (Sensitivity Analysis)**\n",
        "    outlier_data_tensor_grad = outlier_data_tensor.clone().detach().requires_grad_(True)\n",
        "    model.zero_grad()\n",
        "    reconstructed_outlier_grad = model(outlier_data_tensor_grad)\n",
        "    loss_outlier = criterion(reconstructed_outlier_grad, outlier_data_tensor_grad)\n",
        "    loss_outlier.backward()\n",
        "    input_gradients = outlier_data_tensor_grad.grad.squeeze().cpu().numpy()\n",
        "    avg_abs_input_gradients += np.abs(input_gradients) # 使用梯度的絕對值\n",
        "\n",
        "# 計算平均值\n",
        "avg_feature_recon_errors /= len(avg_feature_recon_errors)\n",
        "avg_abs_input_gradients /= len(avg_abs_input_gradients)"
      ],
      "metadata": {
        "id": "cehmpJ-B5wCP"
      },
      "execution_count": 191,
      "outputs": []
    },
    {
      "cell_type": "code",
      "source": [
        "# --- 繪製 Feature-wise Reconstruction Error Bar Chart ---\n",
        "plt.figure(figsize=(12, 6))\n",
        "plt.bar(df.columns[:-1], avg_feature_recon_errors) # feature_names[:-1] to exclude 'Class' if it's still there\n",
        "plt.xlabel(\"Features\")#越難復原的資料越可能是fraud因素\n",
        "plt.ylabel(\"Average Reconstruction Error\")\n",
        "plt.title(\"Average Feature-wise Reconstruction Error\")\n",
        "plt.xticks(rotation=45, ha='right')\n",
        "plt.tight_layout()\n",
        "plt.show()\n",
        "\n",
        "# --- 繪製 Input Gradients Bar Chart ---\n",
        "plt.figure(figsize=(12, 6))\n",
        "plt.bar(df.columns[:-1], avg_abs_input_gradients) # feature_names[:-1] to exclude 'Class' if it's still there\n",
        "plt.xlabel(\"Features\")#越難學習的gradient越有可能是fraud因素\n",
        "plt.ylabel(\"Average Absolute Input Gradient\")\n",
        "plt.title(\"Average Absolute Input Gradients\")\n",
        "plt.xticks(rotation=45, ha='right')\n",
        "plt.tight_layout()\n",
        "plt.show()"
      ],
      "metadata": {
        "id": "JYlGEKSR7W44",
        "outputId": "6ff0aa25-9732-4744-9802-26e7d35a397e",
        "colab": {
          "base_uri": "https://localhost:8080/",
          "height": 1000
        }
      },
      "execution_count": 198,
      "outputs": [
        {
          "output_type": "display_data",
          "data": {
            "text/plain": [
              "<Figure size 1200x600 with 1 Axes>"
            ],
            "image/png": "[encoded data removed]"
          },
          "metadata": {}
        },
        {
          "output_type": "display_data",
          "data": {
            "text/plain": [
              "<Figure size 1200x600 with 1 Axes>"
            ],
            "image/png": "[encoded data removed]"
          },
          "metadata": {}
        }
      ]
    },
    {
      "cell_type": "code",
      "source": [],
      "metadata": {
        "id": "S6IAyFl78xXJ"
      },
      "execution_count": null,
      "outputs": []
    }
  ],
  "metadata": {
    "kernelspec": {
      "display_name": "Python 3",
      "name": "python3"
    },
    "language_info": {
      "codemirror_mode": {
        "name": "ipython",
        "version": 3
      },
      "file_extension": ".py",
      "mimetype": "text/x-python",
      "name": "python",
      "nbconvert_exporter": "python",
      "pygments_lexer": "ipython3",
      "version": "3.11.8"
    },
    "colab": {
      "provenance": [],
      "gpuType": "T4",
      "include_colab_link": true
    },
    "accelerator": "GPU"
  },
  "nbformat": 4,
  "nbformat_minor": 0
}