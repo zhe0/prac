{
  "cells": [
    {
      "cell_type": "markdown",
      "metadata": {
        "id": "view-in-github",
        "colab_type": "text"
      },
      "source": [
        "<a href=\"https://colab.research.google.com/github/zhe0/prac/blob/main/pyspark_clusteringOnNumericalAndVector.ipynb\" target=\"_parent\"><img src=\"https://colab.research.google.com/assets/colab-badge.svg\" alt=\"Open In Colab\"/></a>"
      ]
    },
    {
      "cell_type": "code",
      "source": [
        "!pip install pyspark"
      ],
      "metadata": {
        "id": "jcXEt9octSZm",
        "outputId": "579f1e9e-fc21-419d-fe57-4dccc0640728",
        "colab": {
          "base_uri": "https://localhost:8080/"
        }
      },
      "execution_count": 1,
      "outputs": [
        {
          "output_type": "stream",
          "name": "stdout",
          "text": [
            "Collecting pyspark\n",
            "  Downloading pyspark-3.5.0.tar.gz (316.9 MB)\n",
            "\u001b[2K     \u001b[90m━━━━━━━━━━━━━━━━━━━━━━━━━━━━━━━━━━━━━━━━\u001b[0m \u001b[32m316.9/316.9 MB\u001b[0m \u001b[31m3.7 MB/s\u001b[0m eta \u001b[36m0:00:00\u001b[0m\n",
            "\u001b[?25h  Preparing metadata (setup.py) ... \u001b[?25l\u001b[?25hdone\n",
            "Requirement already satisfied: py4j==0.10.9.7 in /usr/local/lib/python3.10/dist-packages (from pyspark) (0.10.9.7)\n",
            "Building wheels for collected packages: pyspark\n",
            "  Building wheel for pyspark (setup.py) ... \u001b[?25l\u001b[?25hdone\n",
            "  Created wheel for pyspark: filename=pyspark-3.5.0-py2.py3-none-any.whl size=317425345 sha256=7ebfa9e46d834d65f0a94ac2808ba75ed69e8bbe742a9373bda3e30cce59c420\n",
            "  Stored in directory: /root/.cache/pip/wheels/41/4e/10/c2cf2467f71c678cfc8a6b9ac9241e5e44a01940da8fbb17fc\n",
            "Successfully built pyspark\n",
            "Installing collected packages: pyspark\n",
            "Successfully installed pyspark-3.5.0\n"
          ]
        }
      ]
    },
    {
      "cell_type": "code",
      "source": [
        "import pyspark\n",
        "from pyspark.ml import Pipeline\n",
        "from pyspark.ml.feature import StringIndexer, VectorAssembler, StandardScaler\n",
        "from pyspark.ml.evaluation import ClusteringEvaluator\n",
        "from pyspark.ml.clustering import KMeans\n",
        "from pyspark.ml.linalg import Vectors\n",
        "from pyspark.sql import SparkSession\n",
        "import time\n",
        "import pandas as pd\n",
        "from sklearn.model_selection import train_test_split"
      ],
      "metadata": {
        "id": "7UDVlqDjymwA"
      },
      "execution_count": 2,
      "outputs": []
    },
    {
      "cell_type": "code",
      "source": [
        "# Valid log levels include: ALL, DEBUG, ERROR, FATAL, INFO, OFF, TRACE, WARN\n",
        "spark = SparkSession.builder.appName(\"ClusteringExample\").getOrCreate()\n",
        "spark.sparkContext.setLogLevel(\"ALL\")\n",
        "spark"
      ],
      "metadata": {
        "colab": {
          "base_uri": "https://localhost:8080/",
          "height": 221
        },
        "id": "AAZfCIHJ3Hwo",
        "outputId": "60ea8b67-ff72-41a4-d17f-98ed79695a4f"
      },
      "execution_count": 3,
      "outputs": [
        {
          "output_type": "execute_result",
          "data": {
            "text/plain": [
              "<pyspark.sql.session.SparkSession at 0x7c1214daded0>"
            ],
            "text/html": [
              "\n",
              "            <div>\n",
              "                <p><b>SparkSession - in-memory</b></p>\n",
              "                \n",
              "        <div>\n",
              "            <p><b>SparkContext</b></p>\n",
              "\n",
              "            <p><a href=\"http://dc0e86c1b312:4040\">Spark UI</a></p>\n",
              "\n",
              "            <dl>\n",
              "              <dt>Version</dt>\n",
              "                <dd><code>v3.5.0</code></dd>\n",
              "              <dt>Master</dt>\n",
              "                <dd><code>local[*]</code></dd>\n",
              "              <dt>AppName</dt>\n",
              "                <dd><code>ClusteringExample</code></dd>\n",
              "            </dl>\n",
              "        </div>\n",
              "        \n",
              "            </div>\n",
              "        "
            ]
          },
          "metadata": {},
          "execution_count": 3
        }
      ]
    },
    {
      "cell_type": "code",
      "execution_count": null,
      "metadata": {
        "id": "k7RjPzbRNty8",
        "colab": {
          "base_uri": "https://localhost:8080/"
        },
        "outputId": "b83a384a-d6f1-42fb-c324-74b9fb8fce71"
      },
      "outputs": [
        {
          "output_type": "stream",
          "name": "stdout",
          "text": [
            "Silhouette with squared euclidean distance = 0.6120640643838152\n",
            "+--------+----------+--------+--------------+--------------+----------+\n",
            "|feature1|    vector|category|category_index|      features|prediction|\n",
            "+--------+----------+--------+--------------+--------------+----------+\n",
            "|     1.0| [3.0,4.0]|       a|           0.0| [1.0,3.0,4.0]|         1|\n",
            "|     2.0| [6.0,7.0]|       b|           1.0| [2.0,6.0,7.0]|         0|\n",
            "|     3.0|[9.0,10.0]|       c|           2.0|[3.0,9.0,10.0]|         0|\n",
            "|     4.0| [1.0,2.0]|       a|           0.0| [4.0,1.0,2.0]|         1|\n",
            "|     5.0| [4.0,5.0]|       b|           1.0| [5.0,4.0,5.0]|         1|\n",
            "+--------+----------+--------+--------------+--------------+----------+\n",
            "\n"
          ]
        }
      ],
      "source": [
        "# example: vector as a var in inputs\n",
        "# data = [\n",
        "#     (1.0, Vectors.dense(3.0, 4.0), \"a\"),\n",
        "#     (2.0, Vectors.dense(6.0, 7.0), \"b\"),\n",
        "#     (3.0, Vectors.dense(9.0, 10.0), \"c\"),\n",
        "#     (4.0, Vectors.dense(1.0, 2.0), \"a\"),\n",
        "#     (5.0, Vectors.dense(4.0, 5.0), \"b\")\n",
        "# ]\n",
        "# df = spark.createDataFrame(data, [\"feature1\", \"vector\", \"category\"])\n",
        "# category_indexer = StringIndexer(inputCol=\"category\", outputCol=\"category_index\")\n",
        "\n",
        "#org: name\tmain_category\tsub_category\timage\tlink\tratings\tno_of_ratings\tdiscount_price\tactual_price\n",
        "#sel: name main_category sub_category ratings no_of_ratings discount_price actual_price\n",
        "\n",
        "# evaluator = ClusteringEvaluator()\n",
        "# silhouette = evaluator.evaluate(predictions)\n",
        "# print(\"Silhouette with squared euclidean distance = \" + str(silhouette))\n",
        "# predictions.show()"
      ]
    },
    {
      "cell_type": "code",
      "execution_count": null,
      "metadata": {
        "id": "yyyk1zmzR-hH"
      },
      "outputs": [],
      "source": []
    },
    {
      "cell_type": "markdown",
      "source": [
        "### 寵物領養率的數據分析"
      ],
      "metadata": {
        "id": "CACJNuFLTmRP"
      }
    },
    {
      "cell_type": "markdown",
      "source": [
        "* PetID - Unique hash ID of pet profile\n",
        "* AdoptionSpeed - Categorical speed of adoption. Lower is faster. This is the value to predict. See below section for more info.\n",
        "* Type - Type of animal (1 = Dog, 2 = Cat)\n",
        "* Name - Name of pet (Empty if not named)\n",
        "* Age - Age of pet when listed, in months\n",
        "* Breed1 - Primary breed of pet (Refer to BreedLabels dictionary)\n",
        "* Breed2 - Secondary breed of pet, if pet is of mixed breed (Refer to BreedLabels dictionary)\n",
        "* Gender - Gender of pet (1 = Male, 2 = Female, 3 = Mixed, if profile represents group of pets)\n",
        "* Color1 - Color 1 of pet (Refer to ColorLabels dictionary)\n",
        "* Color2 - Color 2 of pet (Refer to ColorLabels dictionary)\n",
        "* Color3 - Color 3 of pet (Refer to ColorLabels dictionary)\n",
        "* MaturitySize - Size at maturity (1 = Small, 2 = Medium, 3 = Large, 4 = Extra Large, 0 = Not Specified)\n",
        "* FurLength - Fur length (1 = Short, 2 = Medium, 3 = Long, 0 = Not Specified)\n",
        "* Vaccinated - Pet has been vaccinated (1 = Yes, 2 = No, 3 = Not Sure)\n",
        "* Dewormed - Pet has been dewormed (1 = Yes, 2 = No, 3 = Not Sure)\n",
        "* Sterilized - Pet has been spayed / neutered (1 = Yes, 2 = No, 3 = Not Sure)\n",
        "* Health - Health Condition (1 = Healthy, 2 = Minor Injury, 3 = Serious Injury, 0 = Not Specified)\n",
        "* Quantity - Number of pets represented in profile\n",
        "* Fee - Adoption fee (0 = Free)\n",
        "* State - State location in Malaysia (Refer to StateLabels dictionary)\n",
        "* RescuerID - Unique hash ID of rescuer\n",
        "* VideoAmt - Total uploaded videos for this pet\n",
        "* PhotoAmt - Total uploaded photos for this pet\n",
        "* Description - Profile write-up for this pet. The primary language used is English, with some in Malay or Chinese.\n"
      ],
      "metadata": {
        "id": "XDOAraPOXlCW"
      }
    },
    {
      "cell_type": "code",
      "source": [
        "# 下載github必須記得要把repo開public\n",
        "# url = f\"https://raw.githubusercontent.com/{user}/{repo}/main/{pyfile}\"\n",
        "# !wget --no-cache --backups=1 {url}\n",
        "# !wget https://github.com/zhe0/prac/raw/main/petfinder_for_tutorial.zip\n",
        "\n",
        "# !gdown 16_Ql6zKjm8ugpzh-_9zsP2rKAN5BjG-c\n",
        "!unzip -o /content/petfinder_for_tutorial.zip"
      ],
      "metadata": {
        "id": "BXh00We5Tx5N"
      },
      "execution_count": null,
      "outputs": []
    },
    {
      "cell_type": "code",
      "source": [
        "# 貌似要做一定的資料處理...?  NAN 空格 資料行混了\n",
        "# 是我自行上傳的，資料比較多\n",
        "label_col = 'AdoptionSpeed'\n",
        "# data = pd.read_csv('./train.csv', index_col=0) #download from kaggle\n",
        "\n",
        "dataset_path='/content/petfinder_for_tutorial'\n",
        "data = pd.read_csv(f'{dataset_path}/train.csv', index_col=0)\n",
        "data"
      ],
      "metadata": {
        "colab": {
          "base_uri": "https://localhost:8080/",
          "height": 1000
        },
        "id": "pHAPd9kzTltS",
        "outputId": "9706073e-d1d4-4da1-b051-58b670334cdd"
      },
      "execution_count": 14,
      "outputs": [
        {
          "output_type": "execute_result",
          "data": {
            "text/plain": [
              "     Type                Name  Age  Breed1  Breed2  Gender  Color1  Color2  \\\n",
              "0       2       Yumi Hamasaki    4     292     265       2       1       5   \n",
              "1       2         Nene/ Kimie   12     285       0       2       5       6   \n",
              "2       2              Mattie   12     266       0       2       1       7   \n",
              "3       1                 NaN    1     189     307       2       1       2   \n",
              "4       2                Coco    6     276     285       2       2       4   \n",
              "..    ...                 ...  ...     ...     ...     ...     ...     ...   \n",
              "595     2          Brownieâ¥   12     266       0       2       1       2   \n",
              "596     2        Tabby &tammy    3     243       0       2       2       3   \n",
              "597     2               Melon    6     266       0       2       4       7   \n",
              "598     1  5 New Born Puppies    0     307     307       3       2       7   \n",
              "599     1         Zone A2 P21    6     307       0       2       2       5   \n",
              "\n",
              "     Color3  MaturitySize  ...  Quantity  Fee  State  \\\n",
              "0         7             2  ...         1    0  41326   \n",
              "1         7             2  ...         1    0  41326   \n",
              "2         0             2  ...         1    0  41401   \n",
              "3         0             2  ...         1    0  41401   \n",
              "4         7             2  ...         1  100  41326   \n",
              "..      ...           ...  ...       ...  ...    ...   \n",
              "595       0             1  ...         1    0  41327   \n",
              "596       4             2  ...         2    0  41401   \n",
              "597       0             1  ...         1    0  41401   \n",
              "598       0             1  ...         5    5  41326   \n",
              "599       0             1  ...         1    0  41326   \n",
              "\n",
              "                            RescuerID  VideoAmt  \\\n",
              "0    bcc4e1b9557a8b3aaf545ea8e6e86991         0   \n",
              "1    f0450bf0efe0fa3ff9321d0b827b1237         0   \n",
              "2    9b52af6d48a4521fd01d4028eb5879a3         0   \n",
              "3    88da1210e021a5cf43480b074778f3bc         0   \n",
              "4    227d7b1bcfaffb5f9882bf57b5ee8fab         0   \n",
              "..                                ...       ...   \n",
              "595  1989cfa5f11b748338b6b639a810e186         0   \n",
              "596  1984caa688fee1576d4b783ee6f44501         0   \n",
              "597  a6dcfa5b8d8b328c5f2292a3b168f197         0   \n",
              "598  d6b828d594ddeb7ddbb6c0b9e75f8145         0   \n",
              "599  37237ca3633d20c004ec76c0c2ddb4b7         0   \n",
              "\n",
              "                                           Description      PetID  PhotoAmt  \\\n",
              "0    I rescued Yumi Hamasaki at a food stall far aw...  7d7a39d71       3.0   \n",
              "1      Has adopted by a friend with new pet name Kimie  0e107c82f       3.0   \n",
              "2    I rescued Mattie with a broken leg. After surg...  1a8fd6707       5.0   \n",
              "3    She born on 30 September . I really hope the a...  bca8b44ae       3.0   \n",
              "4    Calico Tame and easy going Diet RC Kitten Supp...  2def67952       1.0   \n",
              "..                                                 ...        ...       ...   \n",
              "595  This is BROWNIE. Color: Black & Brown. Breed: ...  aeffc6dfd       1.0   \n",
              "596  This 2little kitten,s are brother n sister,pot...  a4f6acdb6       0.0   \n",
              "597  This kitty was rescued from the street.But she...  38063ee14       2.0   \n",
              "598                                 Very small puppies  d3faf6a0e       0.0   \n",
              "599  I need a new home!! Contact Furry Friends Farm...  8b0fa13e1       4.0   \n",
              "\n",
              "    AdoptionSpeed                  Images  \n",
              "0               0  images/7d7a39d71-1.jpg  \n",
              "1               0  images/0e107c82f-1.jpg  \n",
              "2               0  images/1a8fd6707-1.jpg  \n",
              "3               0  images/bca8b44ae-1.jpg  \n",
              "4               0  images/2def67952-1.jpg  \n",
              "..            ...                     ...  \n",
              "595             1  images/aeffc6dfd-1.jpg  \n",
              "596             1  images/a4f6acdb6-1.jpg  \n",
              "597             1  images/38063ee14-1.jpg  \n",
              "598             1  images/d3faf6a0e-1.jpg  \n",
              "599             1  images/8b0fa13e1-1.jpg  \n",
              "\n",
              "[600 rows x 25 columns]"
            ],
            "text/html": [
              "\n",
              "  <div id=\"df-ca6b006a-23fc-4a9d-b684-203b7a5b27ce\" class=\"colab-df-container\">\n",
              "    <div>\n",
              "<style scoped>\n",
              "    .dataframe tbody tr th:only-of-type {\n",
              "        vertical-align: middle;\n",
              "    }\n",
              "\n",
              "    .dataframe tbody tr th {\n",
              "        vertical-align: top;\n",
              "    }\n",
              "\n",
              "    .dataframe thead th {\n",
              "        text-align: right;\n",
              "    }\n",
              "</style>\n",
              "<table border=\"1\" class=\"dataframe\">\n",
              "  <thead>\n",
              "    <tr style=\"text-align: right;\">\n",
              "      <th></th>\n",
              "      <th>Type</th>\n",
              "      <th>Name</th>\n",
              "      <th>Age</th>\n",
              "      <th>Breed1</th>\n",
              "      <th>Breed2</th>\n",
              "      <th>Gender</th>\n",
              "      <th>Color1</th>\n",
              "      <th>Color2</th>\n",
              "      <th>Color3</th>\n",
              "      <th>MaturitySize</th>\n",
              "      <th>...</th>\n",
              "      <th>Quantity</th>\n",
              "      <th>Fee</th>\n",
              "      <th>State</th>\n",
              "      <th>RescuerID</th>\n",
              "      <th>VideoAmt</th>\n",
              "      <th>Description</th>\n",
              "      <th>PetID</th>\n",
              "      <th>PhotoAmt</th>\n",
              "      <th>AdoptionSpeed</th>\n",
              "      <th>Images</th>\n",
              "    </tr>\n",
              "  </thead>\n",
              "  <tbody>\n",
              "    <tr>\n",
              "      <th>0</th>\n",
              "      <td>2</td>\n",
              "      <td>Yumi Hamasaki</td>\n",
              "      <td>4</td>\n",
              "      <td>292</td>\n",
              "      <td>265</td>\n",
              "      <td>2</td>\n",
              "      <td>1</td>\n",
              "      <td>5</td>\n",
              "      <td>7</td>\n",
              "      <td>2</td>\n",
              "      <td>...</td>\n",
              "      <td>1</td>\n",
              "      <td>0</td>\n",
              "      <td>41326</td>\n",
              "      <td>bcc4e1b9557a8b3aaf545ea8e6e86991</td>\n",
              "      <td>0</td>\n",
              "      <td>I rescued Yumi Hamasaki at a food stall far aw...</td>\n",
              "      <td>7d7a39d71</td>\n",
              "      <td>3.0</td>\n",
              "      <td>0</td>\n",
              "      <td>images/7d7a39d71-1.jpg</td>\n",
              "    </tr>\n",
              "    <tr>\n",
              "      <th>1</th>\n",
              "      <td>2</td>\n",
              "      <td>Nene/ Kimie</td>\n",
              "      <td>12</td>\n",
              "      <td>285</td>\n",
              "      <td>0</td>\n",
              "      <td>2</td>\n",
              "      <td>5</td>\n",
              "      <td>6</td>\n",
              "      <td>7</td>\n",
              "      <td>2</td>\n",
              "      <td>...</td>\n",
              "      <td>1</td>\n",
              "      <td>0</td>\n",
              "      <td>41326</td>\n",
              "      <td>f0450bf0efe0fa3ff9321d0b827b1237</td>\n",
              "      <td>0</td>\n",
              "      <td>Has adopted by a friend with new pet name Kimie</td>\n",
              "      <td>0e107c82f</td>\n",
              "      <td>3.0</td>\n",
              "      <td>0</td>\n",
              "      <td>images/0e107c82f-1.jpg</td>\n",
              "    </tr>\n",
              "    <tr>\n",
              "      <th>2</th>\n",
              "      <td>2</td>\n",
              "      <td>Mattie</td>\n",
              "      <td>12</td>\n",
              "      <td>266</td>\n",
              "      <td>0</td>\n",
              "      <td>2</td>\n",
              "      <td>1</td>\n",
              "      <td>7</td>\n",
              "      <td>0</td>\n",
              "      <td>2</td>\n",
              "      <td>...</td>\n",
              "      <td>1</td>\n",
              "      <td>0</td>\n",
              "      <td>41401</td>\n",
              "      <td>9b52af6d48a4521fd01d4028eb5879a3</td>\n",
              "      <td>0</td>\n",
              "      <td>I rescued Mattie with a broken leg. After surg...</td>\n",
              "      <td>1a8fd6707</td>\n",
              "      <td>5.0</td>\n",
              "      <td>0</td>\n",
              "      <td>images/1a8fd6707-1.jpg</td>\n",
              "    </tr>\n",
              "    <tr>\n",
              "      <th>3</th>\n",
              "      <td>1</td>\n",
              "      <td>NaN</td>\n",
              "      <td>1</td>\n",
              "      <td>189</td>\n",
              "      <td>307</td>\n",
              "      <td>2</td>\n",
              "      <td>1</td>\n",
              "      <td>2</td>\n",
              "      <td>0</td>\n",
              "      <td>2</td>\n",
              "      <td>...</td>\n",
              "      <td>1</td>\n",
              "      <td>0</td>\n",
              "      <td>41401</td>\n",
              "      <td>88da1210e021a5cf43480b074778f3bc</td>\n",
              "      <td>0</td>\n",
              "      <td>She born on 30 September . I really hope the a...</td>\n",
              "      <td>bca8b44ae</td>\n",
              "      <td>3.0</td>\n",
              "      <td>0</td>\n",
              "      <td>images/bca8b44ae-1.jpg</td>\n",
              "    </tr>\n",
              "    <tr>\n",
              "      <th>4</th>\n",
              "      <td>2</td>\n",
              "      <td>Coco</td>\n",
              "      <td>6</td>\n",
              "      <td>276</td>\n",
              "      <td>285</td>\n",
              "      <td>2</td>\n",
              "      <td>2</td>\n",
              "      <td>4</td>\n",
              "      <td>7</td>\n",
              "      <td>2</td>\n",
              "      <td>...</td>\n",
              "      <td>1</td>\n",
              "      <td>100</td>\n",
              "      <td>41326</td>\n",
              "      <td>227d7b1bcfaffb5f9882bf57b5ee8fab</td>\n",
              "      <td>0</td>\n",
              "      <td>Calico Tame and easy going Diet RC Kitten Supp...</td>\n",
              "      <td>2def67952</td>\n",
              "      <td>1.0</td>\n",
              "      <td>0</td>\n",
              "      <td>images/2def67952-1.jpg</td>\n",
              "    </tr>\n",
              "    <tr>\n",
              "      <th>...</th>\n",
              "      <td>...</td>\n",
              "      <td>...</td>\n",
              "      <td>...</td>\n",
              "      <td>...</td>\n",
              "      <td>...</td>\n",
              "      <td>...</td>\n",
              "      <td>...</td>\n",
              "      <td>...</td>\n",
              "      <td>...</td>\n",
              "      <td>...</td>\n",
              "      <td>...</td>\n",
              "      <td>...</td>\n",
              "      <td>...</td>\n",
              "      <td>...</td>\n",
              "      <td>...</td>\n",
              "      <td>...</td>\n",
              "      <td>...</td>\n",
              "      <td>...</td>\n",
              "      <td>...</td>\n",
              "      <td>...</td>\n",
              "      <td>...</td>\n",
              "    </tr>\n",
              "    <tr>\n",
              "      <th>595</th>\n",
              "      <td>2</td>\n",
              "      <td>Brownieâ¥</td>\n",
              "      <td>12</td>\n",
              "      <td>266</td>\n",
              "      <td>0</td>\n",
              "      <td>2</td>\n",
              "      <td>1</td>\n",
              "      <td>2</td>\n",
              "      <td>0</td>\n",
              "      <td>1</td>\n",
              "      <td>...</td>\n",
              "      <td>1</td>\n",
              "      <td>0</td>\n",
              "      <td>41327</td>\n",
              "      <td>1989cfa5f11b748338b6b639a810e186</td>\n",
              "      <td>0</td>\n",
              "      <td>This is BROWNIE. Color: Black &amp; Brown. Breed: ...</td>\n",
              "      <td>aeffc6dfd</td>\n",
              "      <td>1.0</td>\n",
              "      <td>1</td>\n",
              "      <td>images/aeffc6dfd-1.jpg</td>\n",
              "    </tr>\n",
              "    <tr>\n",
              "      <th>596</th>\n",
              "      <td>2</td>\n",
              "      <td>Tabby &amp;tammy</td>\n",
              "      <td>3</td>\n",
              "      <td>243</td>\n",
              "      <td>0</td>\n",
              "      <td>2</td>\n",
              "      <td>2</td>\n",
              "      <td>3</td>\n",
              "      <td>4</td>\n",
              "      <td>2</td>\n",
              "      <td>...</td>\n",
              "      <td>2</td>\n",
              "      <td>0</td>\n",
              "      <td>41401</td>\n",
              "      <td>1984caa688fee1576d4b783ee6f44501</td>\n",
              "      <td>0</td>\n",
              "      <td>This 2little kitten,s are brother n sister,pot...</td>\n",
              "      <td>a4f6acdb6</td>\n",
              "      <td>0.0</td>\n",
              "      <td>1</td>\n",
              "      <td>images/a4f6acdb6-1.jpg</td>\n",
              "    </tr>\n",
              "    <tr>\n",
              "      <th>597</th>\n",
              "      <td>2</td>\n",
              "      <td>Melon</td>\n",
              "      <td>6</td>\n",
              "      <td>266</td>\n",
              "      <td>0</td>\n",
              "      <td>2</td>\n",
              "      <td>4</td>\n",
              "      <td>7</td>\n",
              "      <td>0</td>\n",
              "      <td>1</td>\n",
              "      <td>...</td>\n",
              "      <td>1</td>\n",
              "      <td>0</td>\n",
              "      <td>41401</td>\n",
              "      <td>a6dcfa5b8d8b328c5f2292a3b168f197</td>\n",
              "      <td>0</td>\n",
              "      <td>This kitty was rescued from the street.But she...</td>\n",
              "      <td>38063ee14</td>\n",
              "      <td>2.0</td>\n",
              "      <td>1</td>\n",
              "      <td>images/38063ee14-1.jpg</td>\n",
              "    </tr>\n",
              "    <tr>\n",
              "      <th>598</th>\n",
              "      <td>1</td>\n",
              "      <td>5 New Born Puppies</td>\n",
              "      <td>0</td>\n",
              "      <td>307</td>\n",
              "      <td>307</td>\n",
              "      <td>3</td>\n",
              "      <td>2</td>\n",
              "      <td>7</td>\n",
              "      <td>0</td>\n",
              "      <td>1</td>\n",
              "      <td>...</td>\n",
              "      <td>5</td>\n",
              "      <td>5</td>\n",
              "      <td>41326</td>\n",
              "      <td>d6b828d594ddeb7ddbb6c0b9e75f8145</td>\n",
              "      <td>0</td>\n",
              "      <td>Very small puppies</td>\n",
              "      <td>d3faf6a0e</td>\n",
              "      <td>0.0</td>\n",
              "      <td>1</td>\n",
              "      <td>images/d3faf6a0e-1.jpg</td>\n",
              "    </tr>\n",
              "    <tr>\n",
              "      <th>599</th>\n",
              "      <td>1</td>\n",
              "      <td>Zone A2 P21</td>\n",
              "      <td>6</td>\n",
              "      <td>307</td>\n",
              "      <td>0</td>\n",
              "      <td>2</td>\n",
              "      <td>2</td>\n",
              "      <td>5</td>\n",
              "      <td>0</td>\n",
              "      <td>1</td>\n",
              "      <td>...</td>\n",
              "      <td>1</td>\n",
              "      <td>0</td>\n",
              "      <td>41326</td>\n",
              "      <td>37237ca3633d20c004ec76c0c2ddb4b7</td>\n",
              "      <td>0</td>\n",
              "      <td>I need a new home!! Contact Furry Friends Farm...</td>\n",
              "      <td>8b0fa13e1</td>\n",
              "      <td>4.0</td>\n",
              "      <td>1</td>\n",
              "      <td>images/8b0fa13e1-1.jpg</td>\n",
              "    </tr>\n",
              "  </tbody>\n",
              "</table>\n",
              "<p>600 rows × 25 columns</p>\n",
              "</div>\n",
              "    <div class=\"colab-df-buttons\">\n",
              "\n",
              "  <div class=\"colab-df-container\">\n",
              "    <button class=\"colab-df-convert\" onclick=\"convertToInteractive('df-ca6b006a-23fc-4a9d-b684-203b7a5b27ce')\"\n",
              "            title=\"Convert this dataframe to an interactive table.\"\n",
              "            style=\"display:none;\">\n",
              "\n",
              "  <svg xmlns=\"http://www.w3.org/2000/svg\" height=\"24px\" viewBox=\"0 -960 960 960\">\n",
              "    <path d=\"M120-120v-720h720v720H120Zm60-500h600v-160H180v160Zm220 220h160v-160H400v160Zm0 220h160v-160H400v160ZM180-400h160v-160H180v160Zm440 0h160v-160H620v160ZM180-180h160v-160H180v160Zm440 0h160v-160H620v160Z\"/>\n",
              "  </svg>\n",
              "    </button>\n",
              "\n",
              "  <style>\n",
              "    .colab-df-container {\n",
              "      display:flex;\n",
              "      gap: 12px;\n",
              "    }\n",
              "\n",
              "    .colab-df-convert {\n",
              "      background-color: #E8F0FE;\n",
              "      border: none;\n",
              "      border-radius: 50%;\n",
              "      cursor: pointer;\n",
              "      display: none;\n",
              "      fill: #1967D2;\n",
              "      height: 32px;\n",
              "      padding: 0 0 0 0;\n",
              "      width: 32px;\n",
              "    }\n",
              "\n",
              "    .colab-df-convert:hover {\n",
              "      background-color: #E2EBFA;\n",
              "      box-shadow: 0px 1px 2px rgba(60, 64, 67, 0.3), 0px 1px 3px 1px rgba(60, 64, 67, 0.15);\n",
              "      fill: #174EA6;\n",
              "    }\n",
              "\n",
              "    .colab-df-buttons div {\n",
              "      margin-bottom: 4px;\n",
              "    }\n",
              "\n",
              "    [theme=dark] .colab-df-convert {\n",
              "      background-color: #3B4455;\n",
              "      fill: #D2E3FC;\n",
              "    }\n",
              "\n",
              "    [theme=dark] .colab-df-convert:hover {\n",
              "      background-color: #434B5C;\n",
              "      box-shadow: 0px 1px 3px 1px rgba(0, 0, 0, 0.15);\n",
              "      filter: drop-shadow(0px 1px 2px rgba(0, 0, 0, 0.3));\n",
              "      fill: #FFFFFF;\n",
              "    }\n",
              "  </style>\n",
              "\n",
              "    <script>\n",
              "      const buttonEl =\n",
              "        document.querySelector('#df-ca6b006a-23fc-4a9d-b684-203b7a5b27ce button.colab-df-convert');\n",
              "      buttonEl.style.display =\n",
              "        google.colab.kernel.accessAllowed ? 'block' : 'none';\n",
              "\n",
              "      async function convertToInteractive(key) {\n",
              "        const element = document.querySelector('#df-ca6b006a-23fc-4a9d-b684-203b7a5b27ce');\n",
              "        const dataTable =\n",
              "          await google.colab.kernel.invokeFunction('convertToInteractive',\n",
              "                                                    [key], {});\n",
              "        if (!dataTable) return;\n",
              "\n",
              "        const docLinkHtml = 'Like what you see? Visit the ' +\n",
              "          '<a target=\"_blank\" href=https://colab.research.google.com/notebooks/data_table.ipynb>data table notebook</a>'\n",
              "          + ' to learn more about interactive tables.';\n",
              "        element.innerHTML = '';\n",
              "        dataTable['output_type'] = 'display_data';\n",
              "        await google.colab.output.renderOutput(dataTable, element);\n",
              "        const docLink = document.createElement('div');\n",
              "        docLink.innerHTML = docLinkHtml;\n",
              "        element.appendChild(docLink);\n",
              "      }\n",
              "    </script>\n",
              "  </div>\n",
              "\n",
              "\n",
              "<div id=\"df-d007d390-4e54-422d-bbe1-72eb21a8d32f\">\n",
              "  <button class=\"colab-df-quickchart\" onclick=\"quickchart('df-d007d390-4e54-422d-bbe1-72eb21a8d32f')\"\n",
              "            title=\"Suggest charts\"\n",
              "            style=\"display:none;\">\n",
              "\n",
              "<svg xmlns=\"http://www.w3.org/2000/svg\" height=\"24px\"viewBox=\"0 0 24 24\"\n",
              "     width=\"24px\">\n",
              "    <g>\n",
              "        <path d=\"M19 3H5c-1.1 0-2 .9-2 2v14c0 1.1.9 2 2 2h14c1.1 0 2-.9 2-2V5c0-1.1-.9-2-2-2zM9 17H7v-7h2v7zm4 0h-2V7h2v10zm4 0h-2v-4h2v4z\"/>\n",
              "    </g>\n",
              "</svg>\n",
              "  </button>\n",
              "\n",
              "<style>\n",
              "  .colab-df-quickchart {\n",
              "      --bg-color: #E8F0FE;\n",
              "      --fill-color: #1967D2;\n",
              "      --hover-bg-color: #E2EBFA;\n",
              "      --hover-fill-color: #174EA6;\n",
              "      --disabled-fill-color: #AAA;\n",
              "      --disabled-bg-color: #DDD;\n",
              "  }\n",
              "\n",
              "  [theme=dark] .colab-df-quickchart {\n",
              "      --bg-color: #3B4455;\n",
              "      --fill-color: #D2E3FC;\n",
              "      --hover-bg-color: #434B5C;\n",
              "      --hover-fill-color: #FFFFFF;\n",
              "      --disabled-bg-color: #3B4455;\n",
              "      --disabled-fill-color: #666;\n",
              "  }\n",
              "\n",
              "  .colab-df-quickchart {\n",
              "    background-color: var(--bg-color);\n",
              "    border: none;\n",
              "    border-radius: 50%;\n",
              "    cursor: pointer;\n",
              "    display: none;\n",
              "    fill: var(--fill-color);\n",
              "    height: 32px;\n",
              "    padding: 0;\n",
              "    width: 32px;\n",
              "  }\n",
              "\n",
              "  .colab-df-quickchart:hover {\n",
              "    background-color: var(--hover-bg-color);\n",
              "    box-shadow: 0 1px 2px rgba(60, 64, 67, 0.3), 0 1px 3px 1px rgba(60, 64, 67, 0.15);\n",
              "    fill: var(--button-hover-fill-color);\n",
              "  }\n",
              "\n",
              "  .colab-df-quickchart-complete:disabled,\n",
              "  .colab-df-quickchart-complete:disabled:hover {\n",
              "    background-color: var(--disabled-bg-color);\n",
              "    fill: var(--disabled-fill-color);\n",
              "    box-shadow: none;\n",
              "  }\n",
              "\n",
              "  .colab-df-spinner {\n",
              "    border: 2px solid var(--fill-color);\n",
              "    border-color: transparent;\n",
              "    border-bottom-color: var(--fill-color);\n",
              "    animation:\n",
              "      spin 1s steps(1) infinite;\n",
              "  }\n",
              "\n",
              "  @keyframes spin {\n",
              "    0% {\n",
              "      border-color: transparent;\n",
              "      border-bottom-color: var(--fill-color);\n",
              "      border-left-color: var(--fill-color);\n",
              "    }\n",
              "    20% {\n",
              "      border-color: transparent;\n",
              "      border-left-color: var(--fill-color);\n",
              "      border-top-color: var(--fill-color);\n",
              "    }\n",
              "    30% {\n",
              "      border-color: transparent;\n",
              "      border-left-color: var(--fill-color);\n",
              "      border-top-color: var(--fill-color);\n",
              "      border-right-color: var(--fill-color);\n",
              "    }\n",
              "    40% {\n",
              "      border-color: transparent;\n",
              "      border-right-color: var(--fill-color);\n",
              "      border-top-color: var(--fill-color);\n",
              "    }\n",
              "    60% {\n",
              "      border-color: transparent;\n",
              "      border-right-color: var(--fill-color);\n",
              "    }\n",
              "    80% {\n",
              "      border-color: transparent;\n",
              "      border-right-color: var(--fill-color);\n",
              "      border-bottom-color: var(--fill-color);\n",
              "    }\n",
              "    90% {\n",
              "      border-color: transparent;\n",
              "      border-bottom-color: var(--fill-color);\n",
              "    }\n",
              "  }\n",
              "</style>\n",
              "\n",
              "  <script>\n",
              "    async function quickchart(key) {\n",
              "      const quickchartButtonEl =\n",
              "        document.querySelector('#' + key + ' button');\n",
              "      quickchartButtonEl.disabled = true;  // To prevent multiple clicks.\n",
              "      quickchartButtonEl.classList.add('colab-df-spinner');\n",
              "      try {\n",
              "        const charts = await google.colab.kernel.invokeFunction(\n",
              "            'suggestCharts', [key], {});\n",
              "      } catch (error) {\n",
              "        console.error('Error during call to suggestCharts:', error);\n",
              "      }\n",
              "      quickchartButtonEl.classList.remove('colab-df-spinner');\n",
              "      quickchartButtonEl.classList.add('colab-df-quickchart-complete');\n",
              "    }\n",
              "    (() => {\n",
              "      let quickchartButtonEl =\n",
              "        document.querySelector('#df-d007d390-4e54-422d-bbe1-72eb21a8d32f button');\n",
              "      quickchartButtonEl.style.display =\n",
              "        google.colab.kernel.accessAllowed ? 'block' : 'none';\n",
              "    })();\n",
              "  </script>\n",
              "</div>\n",
              "\n",
              "  <div id=\"id_9c1957e4-57f9-4969-b780-9e6f3827ccc9\">\n",
              "    <style>\n",
              "      .colab-df-generate {\n",
              "        background-color: #E8F0FE;\n",
              "        border: none;\n",
              "        border-radius: 50%;\n",
              "        cursor: pointer;\n",
              "        display: none;\n",
              "        fill: #1967D2;\n",
              "        height: 32px;\n",
              "        padding: 0 0 0 0;\n",
              "        width: 32px;\n",
              "      }\n",
              "\n",
              "      .colab-df-generate:hover {\n",
              "        background-color: #E2EBFA;\n",
              "        box-shadow: 0px 1px 2px rgba(60, 64, 67, 0.3), 0px 1px 3px 1px rgba(60, 64, 67, 0.15);\n",
              "        fill: #174EA6;\n",
              "      }\n",
              "\n",
              "      [theme=dark] .colab-df-generate {\n",
              "        background-color: #3B4455;\n",
              "        fill: #D2E3FC;\n",
              "      }\n",
              "\n",
              "      [theme=dark] .colab-df-generate:hover {\n",
              "        background-color: #434B5C;\n",
              "        box-shadow: 0px 1px 3px 1px rgba(0, 0, 0, 0.15);\n",
              "        filter: drop-shadow(0px 1px 2px rgba(0, 0, 0, 0.3));\n",
              "        fill: #FFFFFF;\n",
              "      }\n",
              "    </style>\n",
              "    <button class=\"colab-df-generate\" onclick=\"generateWithVariable('data')\"\n",
              "            title=\"Generate code using this dataframe.\"\n",
              "            style=\"display:none;\">\n",
              "\n",
              "  <svg xmlns=\"http://www.w3.org/2000/svg\" height=\"24px\"viewBox=\"0 0 24 24\"\n",
              "       width=\"24px\">\n",
              "    <path d=\"M7,19H8.4L18.45,9,17,7.55,7,17.6ZM5,21V16.75L18.45,3.32a2,2,0,0,1,2.83,0l1.4,1.43a1.91,1.91,0,0,1,.58,1.4,1.91,1.91,0,0,1-.58,1.4L9.25,21ZM18.45,9,17,7.55Zm-12,3A5.31,5.31,0,0,0,4.9,8.1,5.31,5.31,0,0,0,1,6.5,5.31,5.31,0,0,0,4.9,4.9,5.31,5.31,0,0,0,6.5,1,5.31,5.31,0,0,0,8.1,4.9,5.31,5.31,0,0,0,12,6.5,5.46,5.46,0,0,0,6.5,12Z\"/>\n",
              "  </svg>\n",
              "    </button>\n",
              "    <script>\n",
              "      (() => {\n",
              "      const buttonEl =\n",
              "        document.querySelector('#id_9c1957e4-57f9-4969-b780-9e6f3827ccc9 button.colab-df-generate');\n",
              "      buttonEl.style.display =\n",
              "        google.colab.kernel.accessAllowed ? 'block' : 'none';\n",
              "\n",
              "      buttonEl.onclick = () => {\n",
              "        google.colab.notebook.generateWithVariable('data');\n",
              "      }\n",
              "      })();\n",
              "    </script>\n",
              "  </div>\n",
              "\n",
              "    </div>\n",
              "  </div>\n"
            ]
          },
          "metadata": {},
          "execution_count": 14
        }
      ]
    },
    {
      "cell_type": "code",
      "source": [
        "data.AdoptionSpeed.unique()"
      ],
      "metadata": {
        "id": "5FdA72BaLhAm",
        "outputId": "511f7123-3e98-4a07-d286-acbc3edef28b",
        "colab": {
          "base_uri": "https://localhost:8080/"
        }
      },
      "execution_count": 21,
      "outputs": [
        {
          "output_type": "execute_result",
          "data": {
            "text/plain": [
              "array([0, 1])"
            ]
          },
          "metadata": {},
          "execution_count": 21
        }
      ]
    },
    {
      "cell_type": "code",
      "source": [
        "# split dataset\n",
        "# test_data = pd.read_csv('./test.csv', index_col=0) #沒有AdoptionSpeed\n",
        "train_data,test_data=train_test_split(data,test_size=0.1)\n",
        "print(len(train_data),len(test_data))\n",
        "train_data.head()\n",
        "\n",
        "# 我們預計要predict AdoptionSpeed的可能值，越短越快\n",
        "train_data[label_col].unique()"
      ],
      "metadata": {
        "id": "0CXDdKcpCcid",
        "outputId": "0ca512a1-7ce0-486b-c8ce-ce224d1d28b9",
        "colab": {
          "base_uri": "https://localhost:8080/"
        }
      },
      "execution_count": 15,
      "outputs": [
        {
          "output_type": "stream",
          "name": "stdout",
          "text": [
            "540 60\n"
          ]
        },
        {
          "output_type": "execute_result",
          "data": {
            "text/plain": [
              "array([1, 0])"
            ]
          },
          "metadata": {},
          "execution_count": 15
        }
      ]
    },
    {
      "cell_type": "markdown",
      "source": [
        "### preparing dataset\n",
        "* cast to categorical or standardize of scalar var"
      ],
      "metadata": {
        "id": "bPndWdWshngu"
      }
    },
    {
      "cell_type": "code",
      "source": [
        "#remove not help columns: RescuerID, Images, PetID\n",
        "print(train_data.columns)\n",
        "rm=['Name','RescuerID','PetID','Images','Description']\n",
        "tra=train_data[[i for i in train_data.columns if not i in rm]]\n",
        "test=test_data[[i for i in test_data.columns if not i in rm]]\n",
        "print('col names',tra.columns)\n",
        "\n",
        "print('--------------'*5)\n",
        "print('cast data into cate or standard')\n",
        "tra_df=spark.createDataFrame(list(tra.itertuples(index=False, name=None)), tra.columns.tolist())\n",
        "test_df=spark.createDataFrame(list(test.itertuples(index=False, name=None)), test.columns.tolist())\n",
        "\n",
        "# Define cols should cast or not\n",
        "cate=['Breed1','Breed2','Gender','Color1','Color2','Color3','MaturitySize',\n",
        "      'FurLength','Vaccinated','Dewormed','Sterilized','Health']\n",
        "scale_cols=[i for i in tra_df.columns if (not i == label_col) and i not in cate]\n",
        "\n",
        "# Define the pipeline stages\n",
        "stages = []\n",
        "\n",
        "# Set some cols need to be cate or scaler\n",
        "cate=['Breed1','Breed2','Gender','Color1','Color2','Color3','MaturitySize',\n",
        "      'FurLength','Vaccinated','Dewormed','Sterilized','Health']\n",
        "cate_idx=[i+'_idx' for i in cate]\n",
        "print('scale_cols+cate_idx: ',scale_cols+cate_idx)\n",
        "\n",
        "stages += [StringIndexer(inputCols=cate, outputCols=cate_idx).setHandleInvalid(\"keep\")]\n",
        "stages += [VectorAssembler(inputCols=scale_cols+cate_idx ,outputCol=\"features\")]\n",
        "stages += [StandardScaler(inputCol=\"features\", outputCol=\"scaled_features\",withStd=True,withMean=False)]\n",
        "stages"
      ],
      "metadata": {
        "id": "AvgZ8yL1hzO4",
        "outputId": "4cf44b01-94fe-4106-f7cf-9c72c7c12d4e",
        "colab": {
          "base_uri": "https://localhost:8080/"
        }
      },
      "execution_count": 22,
      "outputs": [
        {
          "output_type": "stream",
          "name": "stdout",
          "text": [
            "Index(['Type', 'Name', 'Age', 'Breed1', 'Breed2', 'Gender', 'Color1', 'Color2',\n",
            "       'Color3', 'MaturitySize', 'FurLength', 'Vaccinated', 'Dewormed',\n",
            "       'Sterilized', 'Health', 'Quantity', 'Fee', 'State', 'RescuerID',\n",
            "       'VideoAmt', 'Description', 'PetID', 'PhotoAmt', 'AdoptionSpeed',\n",
            "       'Images'],\n",
            "      dtype='object')\n",
            "col names Index(['Type', 'Age', 'Breed1', 'Breed2', 'Gender', 'Color1', 'Color2',\n",
            "       'Color3', 'MaturitySize', 'FurLength', 'Vaccinated', 'Dewormed',\n",
            "       'Sterilized', 'Health', 'Quantity', 'Fee', 'State', 'VideoAmt',\n",
            "       'PhotoAmt', 'AdoptionSpeed'],\n",
            "      dtype='object')\n",
            "----------------------------------------------------------------------\n",
            "cast data into cate or standard\n",
            "scale_cols+cate_idx:  ['Type', 'Age', 'Quantity', 'Fee', 'State', 'VideoAmt', 'PhotoAmt', 'Breed1_idx', 'Breed2_idx', 'Gender_idx', 'Color1_idx', 'Color2_idx', 'Color3_idx', 'MaturitySize_idx', 'FurLength_idx', 'Vaccinated_idx', 'Dewormed_idx', 'Sterilized_idx', 'Health_idx']\n"
          ]
        },
        {
          "output_type": "execute_result",
          "data": {
            "text/plain": [
              "[StringIndexer_17536b608906,\n",
              " VectorAssembler_ea1e48161a62,\n",
              " StandardScaler_b72d23f5768a]"
            ]
          },
          "metadata": {},
          "execution_count": 22
        }
      ]
    },
    {
      "cell_type": "markdown",
      "source": [
        "### classification task on ensemble struc\n"
      ],
      "metadata": {
        "id": "benMgpCbgL6d"
      }
    },
    {
      "cell_type": "code",
      "source": [
        "from pyspark.ml.classification import LogisticRegression, RandomForestClassifier, GBTClassifier\n",
        "from pyspark.ml.evaluation import MulticlassClassificationEvaluator,BinaryClassificationEvaluator\n",
        "from pyspark.ml.tuning import CrossValidator, ParamGridBuilder"
      ],
      "metadata": {
        "id": "antipNU9IXEq"
      },
      "execution_count": 17,
      "outputs": []
    },
    {
      "cell_type": "code",
      "source": [
        "# Create the individual models\n",
        "# lr = LogisticRegression(labelCol=label_col,featuresCol=\"scaled_features\")\n",
        "# rf = RandomForestClassifier(labelCol=label_col,featuresCol=\"scaled_features\")\n",
        "gbt = GBTClassifier(labelCol=label_col,featuresCol=\"scaled_features\")\n",
        "\n",
        "# Create a pipeline for single model. can not concate each model in one pipe\n",
        "stages += [gbt]\n",
        "print('stages: ',stages)\n",
        "pipeline = Pipeline(stages=stages)"
      ],
      "metadata": {
        "id": "I0fOU-26h3LV",
        "outputId": "e429f403-3d57-4de2-a8bd-a6b2556bb87c",
        "colab": {
          "base_uri": "https://localhost:8080/"
        }
      },
      "execution_count": 23,
      "outputs": [
        {
          "output_type": "stream",
          "name": "stdout",
          "text": [
            "stages:  [StringIndexer_17536b608906, VectorAssembler_ea1e48161a62, StandardScaler_b72d23f5768a, GBTClassifier_96dc5266218d]\n"
          ]
        }
      ]
    },
    {
      "cell_type": "code",
      "source": [
        "#numFolds of cross valid\n",
        "numFolds=5\n",
        "\n",
        "# Create a parameter grid for each model\n",
        "grid = ParamGridBuilder().addGrid(gbt.maxIter, [5, 10]) \\\n",
        "    .addGrid(gbt.maxDepth, [5, 10]).build()\n",
        "\n",
        "\n",
        "# evaluator = MulticlassClassificationEvaluator(labelCol=label_col, predictionCol=\"prediction\", metricName=\"accuracy\")\n",
        "evaluator = MulticlassClassificationEvaluator(labelCol=label_col, predictionCol='prediction', metricName=\"accuracy\")\n",
        "# evaluator = BinaryClassificationEvaluator()\n",
        "\n",
        "# Create a cross validator for each model\n",
        "# parallelism=4 因為 2 cores * 2 threads\n",
        "p={'estimator':pipeline, 'evaluator':evaluator, 'estimatorParamMaps':grid, 'numFolds':numFolds }#'parallelism':4\n",
        "cv = CrossValidator(**p)\n",
        "cv.params"
      ],
      "metadata": {
        "id": "Q7Z3wQ0KKXKt",
        "outputId": "e0c59629-88f1-4a9d-f55b-793a06a4c337",
        "colab": {
          "base_uri": "https://localhost:8080/"
        }
      },
      "execution_count": 24,
      "outputs": [
        {
          "output_type": "execute_result",
          "data": {
            "text/plain": [
              "[Param(parent='CrossValidator_2f8a9c8d1cf9', name='collectSubModels', doc='Param for whether to collect a list of sub-models trained during tuning. If set to false, then only the single best sub-model will be available after fitting. If set to true, then all sub-models will be available. Warning: For large models, collecting all sub-models can cause OOMs on the Spark driver.'),\n",
              " Param(parent='CrossValidator_2f8a9c8d1cf9', name='estimator', doc='estimator to be cross-validated'),\n",
              " Param(parent='CrossValidator_2f8a9c8d1cf9', name='estimatorParamMaps', doc='estimator param maps'),\n",
              " Param(parent='CrossValidator_2f8a9c8d1cf9', name='evaluator', doc='evaluator used to select hyper-parameters that maximize the validator metric'),\n",
              " Param(parent='CrossValidator_2f8a9c8d1cf9', name='foldCol', doc=\"Param for the column name of user specified fold number. Once this is specified, :py:class:`CrossValidator` won't do random k-fold split. Note that this column should be integer type with range [0, numFolds) and Spark will throw exception on out-of-range fold numbers.\"),\n",
              " Param(parent='CrossValidator_2f8a9c8d1cf9', name='numFolds', doc='number of folds for cross validation'),\n",
              " Param(parent='CrossValidator_2f8a9c8d1cf9', name='parallelism', doc='the number of threads to use when running parallel algorithms (>= 1).'),\n",
              " Param(parent='CrossValidator_2f8a9c8d1cf9', name='seed', doc='random seed.')]"
            ]
          },
          "metadata": {},
          "execution_count": 24
        }
      ]
    },
    {
      "cell_type": "code",
      "source": [
        "'''兩處要注意\n",
        "1. 如果計算量太大，會導致底層Py4JJavaError錯誤，請弄小一點的grid\n",
        "2. 出現下面錯誤，代表可能使用多個模組在同一個pipeline，或是不小心多加一次模組在pipe\n",
        "    導致pipe中產生evaluator的prediction重複了\n",
        " IllegalArgumentException: requirement failed: Column prediction already exists.\n",
        "'''\n",
        "# Train the models\n",
        "cv_model = cv.fit(tra_df)\n",
        "\n",
        "# Get the best model\n",
        "best_model = cv_model.bestModel\n",
        "best_model"
      ],
      "metadata": {
        "id": "WWcuNC5lPCWX",
        "outputId": "e7003222-0e5f-439e-c7bf-2133e6fcc0f5",
        "colab": {
          "base_uri": "https://localhost:8080/"
        }
      },
      "execution_count": 25,
      "outputs": [
        {
          "output_type": "execute_result",
          "data": {
            "text/plain": [
              "PipelineModel_fffbc222cb8d"
            ]
          },
          "metadata": {},
          "execution_count": 25
        }
      ]
    },
    {
      "cell_type": "code",
      "source": [
        "# print(best_model.getOrDefault('maxIter'),\n",
        "# best_model.getOrDefault('stepSize'),\n",
        "# best_model.getOrDefault('maxDepth'))\n",
        "# cv_model.getParam('maxIter')\n",
        "# cv_model.explainParams()\n",
        "# predictions.prediction,predictions.totalNumNodes\n",
        "\n",
        "# bestModel.stages[0]\n",
        "# cv_model.stages[0].extractParamMap()\n",
        "\n",
        "# print(test.iloc[0])\n",
        "# print(predictions.head())\n",
        "\n",
        "# test_df_noLabel=test_df[[i for i in test_df.columns if not i == label_col]]\n",
        "# test_df_noLabel.columns"
      ],
      "metadata": {
        "id": "Hxv6J5X8fwus",
        "outputId": "762db477-53f9-479b-b3f7-ee01ec520e4a",
        "colab": {
          "base_uri": "https://localhost:8080/",
          "height": 255
        }
      },
      "execution_count": 54,
      "outputs": [
        {
          "output_type": "error",
          "ename": "AttributeError",
          "evalue": "'CrossValidatorModel' object has no attribute 'stages'",
          "traceback": [
            "\u001b[0;31m---------------------------------------------------------------------------\u001b[0m",
            "\u001b[0;31mAttributeError\u001b[0m                            Traceback (most recent call last)",
            "\u001b[0;32m<ipython-input-54-c06589b08248>\u001b[0m in \u001b[0;36m<cell line: 9>\u001b[0;34m()\u001b[0m\n\u001b[1;32m      7\u001b[0m \u001b[0;34m\u001b[0m\u001b[0m\n\u001b[1;32m      8\u001b[0m \u001b[0;31m# bestModel.stages[0]\u001b[0m\u001b[0;34m\u001b[0m\u001b[0;34m\u001b[0m\u001b[0m\n\u001b[0;32m----> 9\u001b[0;31m \u001b[0mcv_model\u001b[0m\u001b[0;34m.\u001b[0m\u001b[0mstages\u001b[0m\u001b[0;34m[\u001b[0m\u001b[0;36m0\u001b[0m\u001b[0;34m]\u001b[0m\u001b[0;34m.\u001b[0m\u001b[0mextractParamMap\u001b[0m\u001b[0;34m(\u001b[0m\u001b[0;34m)\u001b[0m\u001b[0;34m\u001b[0m\u001b[0;34m\u001b[0m\u001b[0m\n\u001b[0m\u001b[1;32m     10\u001b[0m \u001b[0;34m\u001b[0m\u001b[0m\n\u001b[1;32m     11\u001b[0m \u001b[0;31m# print(test.iloc[0])\u001b[0m\u001b[0;34m\u001b[0m\u001b[0;34m\u001b[0m\u001b[0m\n",
            "\u001b[0;31mAttributeError\u001b[0m: 'CrossValidatorModel' object has no attribute 'stages'"
          ]
        }
      ]
    },
    {
      "cell_type": "code",
      "source": [
        "# Make predictions\n",
        "predictions = best_model.transform(test_df)\n",
        "\n",
        "accuracy = evaluator.evaluate(predictions)\n",
        "\n",
        "print(f\"Accuracy of gradient boost: {accuracy}\")"
      ],
      "metadata": {
        "id": "x3qd0gdnqrUU",
        "outputId": "7ae32a7f-0279-4632-ef0a-d8a8316a9da3",
        "colab": {
          "base_uri": "https://localhost:8080/"
        }
      },
      "execution_count": 26,
      "outputs": [
        {
          "output_type": "stream",
          "name": "stdout",
          "text": [
            "Accuracy of gradient boost: 0.6333333333333333\n"
          ]
        }
      ]
    },
    {
      "cell_type": "code",
      "source": [
        "predictions.select(label_col, \"prediction\").show()"
      ],
      "metadata": {
        "id": "kARSlFex8VJv",
        "outputId": "a9e16a3f-2b32-49dc-f862-ae6dfe44be02",
        "colab": {
          "base_uri": "https://localhost:8080/"
        }
      },
      "execution_count": 27,
      "outputs": [
        {
          "output_type": "stream",
          "name": "stdout",
          "text": [
            "+-------------+----------+\n",
            "|AdoptionSpeed|prediction|\n",
            "+-------------+----------+\n",
            "|            1|       1.0|\n",
            "|            0|       1.0|\n",
            "|            1|       1.0|\n",
            "|            0|       1.0|\n",
            "|            0|       0.0|\n",
            "|            0|       0.0|\n",
            "|            1|       1.0|\n",
            "|            0|       1.0|\n",
            "|            0|       0.0|\n",
            "|            0|       0.0|\n",
            "|            1|       1.0|\n",
            "|            1|       1.0|\n",
            "|            1|       1.0|\n",
            "|            0|       0.0|\n",
            "|            0|       1.0|\n",
            "|            0|       0.0|\n",
            "|            0|       1.0|\n",
            "|            1|       0.0|\n",
            "|            1|       1.0|\n",
            "|            1|       1.0|\n",
            "+-------------+----------+\n",
            "only showing top 20 rows\n",
            "\n"
          ]
        }
      ]
    },
    {
      "cell_type": "markdown",
      "source": [
        "### 預計使用  silhouette coefficient 來評估分群結果好壞\n",
        "步驟:\n",
        "* 1.每個點在判定哪個cluster時? 以a群比較剩下群(bcd...)的平均距離\n",
        "* 2.假設有10群，loop每個群，並計算一個silhouette分數\n",
        "* 3.silhouette越大代表越是隸屬這個群\n",
        "* 4.數學意義是其他群的平均距離 減去 a群的平均距離\n",
        "\n",
        "![image.png](data:image/png;base64,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)"
      ],
      "metadata": {
        "id": "Ec0ReR-1CT8g"
      }
    },
    {
      "cell_type": "code",
      "source": [
        "st=time.time()\n",
        "kmeans = KMeans(k=2, featuresCol=\"features\")\n",
        "\n",
        "pipeline = Pipeline(stages=[ category_indexer, assembler, kmeans])\n",
        "model = pipeline.fit(tra_df)\n",
        "\n",
        "predictions = model.transform(tra_df)\n",
        "print('exec time: ',(time.time()-st))\n",
        "predictions.show()"
      ],
      "metadata": {
        "colab": {
          "base_uri": "https://localhost:8080/"
        },
        "id": "OP266ObrVrlW",
        "outputId": "0a261fd7-c40e-4305-be03-e46cf1929723"
      },
      "execution_count": null,
      "outputs": [
        {
          "output_type": "stream",
          "name": "stdout",
          "text": [
            "exec time:  22.96891760826111\n",
            "+---+------+------+------+------+------+------+------------+---------+----------+--------+----------+------+--------+---+-----+--------+--------+-------------+-------+-------+-------+-------+-------+-------+-------------+----------+-----------+---------+-----------+-------+--------------------+----------+\n",
            "|Age|Breed1|Breed2|Gender|Color1|Color2|Color3|MaturitySize|FurLength|Vaccinated|Dewormed|Sterilized|Health|Quantity|Fee|State|VideoAmt|PhotoAmt|AdoptionSpeed|Breed1_|Breed2_|Gender_|Color1_|Color2_|Color3_|MaturitySize_|FurLength_|Vaccinated_|Dewormed_|Sterilized_|Health_|            features|prediction|\n",
            "+---+------+------+------+------+------+------+------------+---------+----------+--------+----------+------+--------+---+-----+--------+--------+-------------+-------+-------+-------+-------+-------+-------+-------------+----------+-----------+---------+-----------+-------+--------------------+----------+\n",
            "|  2|   307|     0|     2|     1|     0|     0|           2|        1|         1|       1|         2|     1|       1|  0|41401|       0|    10.0|            2|    0.0|    0.0|    0.0|    0.0|    0.0|    0.0|          0.0|       0.0|        1.0|      0.0|        0.0|    0.0|[2.0,307.0,0.0,2....|         0|\n",
            "|  1|   307|     0|     2|     1|     2|     7|           1|        1|         2|       1|         2|     1|       1|  0|41326|       0|     2.0|            2|    0.0|    0.0|    0.0|    0.0|    2.0|    1.0|          1.0|       0.0|        0.0|      0.0|        0.0|    0.0|[1.0,307.0,0.0,2....|         0|\n",
            "|  2|   265|     0|     1|     1|     7|     0|           2|        1|         1|       1|         3|     1|       1|  0|41401|       0|     1.0|            3|    2.0|    0.0|    1.0|    0.0|    1.0|    0.0|          0.0|       0.0|        1.0|      0.0|        2.0|    0.0|[2.0,265.0,0.0,1....|         0|\n",
            "| 24|   266|     0|     2|     2|     4|     7|           2|        1|         2|       2|         1|     1|       1|  0|41326|       0|     1.0|            4|    1.0|    0.0|    0.0|    1.0|    5.0|    1.0|          0.0|       0.0|        0.0|      1.0|        1.0|    0.0|[24.0,266.0,0.0,2...|         0|\n",
            "| 12|   307|     0|     1|     1|     0|     0|           2|        1|         1|       1|         1|     1|       1|  0|41336|       0|     2.0|            3|    0.0|    0.0|    1.0|    0.0|    0.0|    0.0|          0.0|       0.0|        1.0|      0.0|        1.0|    0.0|[12.0,307.0,0.0,1...|         0|\n",
            "| 27|   265|   265|     2|     3|     4|     5|           2|        2|         2|       2|         1|     1|       1|  0|41401|       0|     4.0|            4|    2.0|    3.0|    0.0|    2.0|    5.0|    3.0|          0.0|       1.0|        0.0|      1.0|        1.0|    0.0|[27.0,265.0,265.0...|         1|\n",
            "|  2|   307|   307|     2|     2|     7|     0|           2|        1|         1|       1|         3|     1|       2|100|41326|       0|     2.0|            2|    0.0|    1.0|    0.0|    1.0|    1.0|    0.0|          0.0|       0.0|        1.0|      0.0|        2.0|    0.0|[2.0,307.0,307.0,...|         1|\n",
            "|  2|   307|     0|     2|     1|     2|     0|           2|        2|         2|       2|         2|     1|       1|  0|41401|       0|     5.0|            4|    0.0|    0.0|    0.0|    0.0|    2.0|    0.0|          0.0|       1.0|        0.0|      1.0|        0.0|    0.0|[2.0,307.0,0.0,2....|         0|\n",
            "| 12|   266|     0|     2|     1|     7|     0|           4|        1|         1|       1|         1|     1|       1|  0|41401|       0|     1.0|            0|    1.0|    0.0|    0.0|    0.0|    1.0|    0.0|          3.0|       0.0|        1.0|      0.0|        1.0|    0.0|[12.0,266.0,0.0,2...|         0|\n",
            "|  7|   299|   299|     3|     1|     4|     7|           2|        2|         1|       1|         1|     1|       2|  0|41326|       0|     2.0|            4|    3.0|    4.0|    2.0|    0.0|    5.0|    1.0|          0.0|       1.0|        1.0|      0.0|        1.0|    0.0|[7.0,299.0,299.0,...|         1|\n",
            "|  3|   213|   307|     2|     1|     2|     7|           2|        2|         3|       3|         2|     1|       1|  0|41326|       0|     9.0|            3|   15.0|    1.0|    0.0|    0.0|    2.0|    1.0|          0.0|       1.0|        2.0|      2.0|        0.0|    0.0|[3.0,213.0,307.0,...|         1|\n",
            "|  1|   307|     0|     2|     1|     2|     7|           3|        3|         2|       1|         2|     1|       1|  0|41326|       0|     4.0|            2|    0.0|    0.0|    0.0|    0.0|    2.0|    1.0|          2.0|       2.0|        0.0|      0.0|        0.0|    0.0|[1.0,307.0,0.0,2....|         0|\n",
            "|  4|   213|   307|     2|     1|     3|     0|           2|        2|         1|       1|         2|     1|       1|  0|41326|       0|     1.0|            3|   15.0|    1.0|    0.0|    0.0|    6.0|    0.0|          0.0|       1.0|        1.0|      0.0|        0.0|    0.0|[4.0,213.0,307.0,...|         1|\n",
            "|  1|   303|   299|     3|     1|     3|     0|           2|        1|         2|       1|         2|     1|       3|  0|41401|       0|     5.0|            2|   25.0|    4.0|    2.0|    0.0|    6.0|    0.0|          0.0|       0.0|        0.0|      0.0|        0.0|    0.0|[1.0,303.0,299.0,...|         1|\n",
            "|  3|   307|   307|     1|     7|     0|     0|           2|        2|         1|       1|         2|     1|       1|  0|41326|       0|     2.0|            3|    0.0|    1.0|    1.0|    5.0|    0.0|    0.0|          0.0|       1.0|        1.0|      0.0|        0.0|    0.0|[3.0,307.0,307.0,...|         1|\n",
            "| 48|   152|     0|     2|     1|     2|     0|           1|        2|         3|       2|         3|     1|       1|  0|41326|       0|     3.0|            4|   18.0|    0.0|    0.0|    0.0|    2.0|    0.0|          1.0|       1.0|        2.0|      1.0|        2.0|    0.0|[48.0,152.0,0.0,2...|         0|\n",
            "|  3|   266|     0|     2|     6|     7|     0|           2|        1|         1|       1|         2|     1|       1|  0|41401|       1|     3.0|            2|    1.0|    0.0|    0.0|    4.0|    1.0|    0.0|          0.0|       0.0|        1.0|      0.0|        0.0|    0.0|[3.0,266.0,0.0,2....|         0|\n",
            "| 76|   128|     0|     2|     2|     7|     0|           1|        1|         1|       1|         1|     1|       1|  0|41326|       0|     3.0|            4|   22.0|    0.0|    0.0|    1.0|    1.0|    0.0|          1.0|       0.0|        1.0|      0.0|        1.0|    0.0|[76.0,128.0,0.0,2...|         0|\n",
            "|  1|    49|   307|     2|     2|     7|     0|           2|        1|         2|       2|         2|     1|       1|  0|41401|       0|     3.0|            2|   49.0|    1.0|    0.0|    1.0|    1.0|    0.0|          0.0|       0.0|        0.0|      1.0|        0.0|    0.0|[1.0,49.0,307.0,2...|         1|\n",
            "|  2|   307|     0|     1|     2|     7|     0|           2|        1|         1|       1|         2|     1|       1|  0|41326|       0|     5.0|            3|    0.0|    0.0|    1.0|    1.0|    1.0|    0.0|          0.0|       0.0|        1.0|      0.0|        0.0|    0.0|[2.0,307.0,0.0,1....|         0|\n",
            "+---+------+------+------+------+------+------+------------+---------+----------+--------+----------+------+--------+---+-----+--------+--------+-------------+-------+-------+-------+-------+-------+-------+-------------+----------+-----------+---------+-----------+-------+--------------------+----------+\n",
            "only showing top 20 rows\n",
            "\n"
          ]
        }
      ]
    },
    {
      "cell_type": "markdown",
      "source": [
        "to predict test dataset"
      ],
      "metadata": {
        "id": "n-a1uJ7Znpt4"
      }
    },
    {
      "cell_type": "code",
      "source": [
        "# training dataset performance\n",
        "evaluator = ClusteringEvaluator()\n",
        "silhouette = evaluator.evaluate(predictions)\n",
        "print(\"Silhouette with squared euclidean distance = \" + str(silhouette))"
      ],
      "metadata": {
        "colab": {
          "base_uri": "https://localhost:8080/"
        },
        "id": "Xq-FZPdaj9nW",
        "outputId": "06344c9c-3d31-4ef9-a67c-f17bcc7f35a4"
      },
      "execution_count": null,
      "outputs": [
        {
          "output_type": "stream",
          "name": "stdout",
          "text": [
            "Silhouette with squared euclidean distance = 0.7933820625992595\n"
          ]
        }
      ]
    },
    {
      "cell_type": "code",
      "source": [
        "assembler = VectorAssembler(inputCols=test_df.columns,outputCol=\"features\")\n",
        "\n",
        "kmeans = KMeans(k=2, featuresCol=\"features\")\n",
        "\n",
        "pipeline = Pipeline(stages=[ category_indexer, assembler, kmeans])\n",
        "model = pipeline.fit(test_df)\n",
        "\n",
        "predictions = model.transform(test_df)\n",
        "predictions.show()\n",
        "\n",
        "silhouette = evaluator.evaluate(predictions)\n",
        "print(\"Silhouette with squared euclidean distance = \" + str(silhouette))"
      ],
      "metadata": {
        "colab": {
          "base_uri": "https://localhost:8080/"
        },
        "id": "CJUvz7VDn0H-",
        "outputId": "8b6ab569-1416-4adf-d19f-eb41a3e5046f"
      },
      "execution_count": null,
      "outputs": [
        {
          "output_type": "stream",
          "name": "stdout",
          "text": [
            "+---+------+------+------+------+------+------+------------+---------+----------+--------+----------+------+--------+---+-----+--------+--------+-------------+-------+-------+-------+-------+-------+-------+-------------+----------+-----------+---------+-----------+-------+--------------------+----------+\n",
            "|Age|Breed1|Breed2|Gender|Color1|Color2|Color3|MaturitySize|FurLength|Vaccinated|Dewormed|Sterilized|Health|Quantity|Fee|State|VideoAmt|PhotoAmt|AdoptionSpeed|Breed1_|Breed2_|Gender_|Color1_|Color2_|Color3_|MaturitySize_|FurLength_|Vaccinated_|Dewormed_|Sterilized_|Health_|            features|prediction|\n",
            "+---+------+------+------+------+------+------+------------+---------+----------+--------+----------+------+--------+---+-----+--------+--------+-------------+-------+-------+-------+-------+-------+-------+-------------+----------+-----------+---------+-----------+-------+--------------------+----------+\n",
            "| 60|   179|     0|     2|     7|     0|     0|           1|        2|         1|       1|         3|     1|       1|  1|41336|       0|     1.0|            0|   10.0|    0.0|    0.0|    5.0|    0.0|    0.0|          1.0|       1.0|        1.0|      0.0|        2.0|    0.0|[60.0,179.0,0.0,2...|         1|\n",
            "|  1|   307|   307|     3|     1|     2|     7|           2|        1|         3|       3|         3|     1|       2|250|41401|       0|    10.0|            2|    0.0|    1.0|    2.0|    0.0|    2.0|    1.0|          0.0|       0.0|        2.0|      2.0|        2.0|    0.0|[1.0,307.0,307.0,...|         0|\n",
            "|  3|   307|   141|     1|     5|     0|     0|           3|        1|         2|       2|         3|     1|       1|  0|41336|       0|     2.0|            2|    0.0|    9.0|    1.0|    3.0|    0.0|    0.0|          2.0|       0.0|        0.0|      1.0|        2.0|    0.0|[3.0,307.0,141.0,...|         1|\n",
            "|  2|   266|     0|     1|     3|     7|     0|           2|        1|         2|       2|         2|     1|       1|  0|41326|       0|     5.0|            1|    1.0|    0.0|    1.0|    2.0|    1.0|    0.0|          0.0|       0.0|        0.0|      1.0|        0.0|    0.0|[2.0,266.0,0.0,1....|         1|\n",
            "|  1|   307|     0|     1|     1|     2|     0|           2|        2|         2|       2|         2|     1|       1|  0|41327|       0|     1.0|            3|    0.0|    0.0|    1.0|    0.0|    2.0|    0.0|          0.0|       1.0|        0.0|      1.0|        0.0|    0.0|[1.0,307.0,0.0,1....|         1|\n",
            "|  4|   266|     0|     1|     3|     7|     0|           2|        1|         2|       1|         2|     1|       1|  0|41401|       0|     2.0|            3|    1.0|    0.0|    1.0|    2.0|    1.0|    0.0|          0.0|       0.0|        0.0|      0.0|        0.0|    0.0|[4.0,266.0,0.0,1....|         1|\n",
            "|  2|   265|   292|     2|     5|     0|     0|           2|        2|         1|       1|         2|     1|       2|  0|41326|       0|     1.0|            1|    2.0|    7.0|    0.0|    3.0|    0.0|    0.0|          0.0|       1.0|        1.0|      0.0|        0.0|    0.0|[2.0,265.0,292.0,...|         0|\n",
            "|  9|   205|     0|     1|     2|     7|     0|           1|        2|         3|       3|         1|     1|       1|  0|41326|       0|     4.0|            2|    8.0|    0.0|    1.0|    1.0|    1.0|    0.0|          1.0|       1.0|        2.0|      2.0|        1.0|    0.0|[9.0,205.0,0.0,1....|         1|\n",
            "|  2|   266|     0|     2|     2|     5|     0|           1|        1|         1|       1|         2|     1|       1|  0|41326|       0|     2.0|            3|    1.0|    0.0|    0.0|    1.0|    3.0|    0.0|          1.0|       0.0|        1.0|      0.0|        0.0|    0.0|[2.0,266.0,0.0,2....|         1|\n",
            "| 30|   218|   307|     1|     2|     7|     0|           2|        2|         1|       1|         1|     1|       1|  0|41326|       0|     4.0|            4|    9.0|    1.0|    1.0|    1.0|    1.0|    0.0|          0.0|       1.0|        1.0|      0.0|        1.0|    0.0|[30.0,218.0,307.0...|         0|\n",
            "|  1|   266|     0|     1|     3|     7|     0|           1|        1|         2|       2|         2|     1|       1|  0|41326|       0|     3.0|            1|    1.0|    0.0|    1.0|    2.0|    1.0|    0.0|          1.0|       0.0|        0.0|      1.0|        0.0|    0.0|[1.0,266.0,0.0,1....|         1|\n",
            "|  3|   292|   264|     3|     6|     7|     0|           1|        2|         2|       2|         2|     1|       3|150|41401|       0|     1.0|            4|    3.0|    5.0|    2.0|    4.0|    1.0|    0.0|          1.0|       1.0|        0.0|      1.0|        0.0|    0.0|[3.0,292.0,264.0,...|         0|\n",
            "|  2|   307|     0|     2|     3|     4|     0|           2|        2|         2|       2|         2|     1|       1|  0|41326|       0|     2.0|            0|    0.0|    0.0|    0.0|    2.0|    5.0|    0.0|          0.0|       1.0|        0.0|      1.0|        0.0|    0.0|[2.0,307.0,0.0,2....|         1|\n",
            "| 10|   218|   128|     2|     2|     7|     0|           1|        1|         3|       3|         1|     1|       1|  0|41327|       0|     3.0|            2|    9.0|   15.0|    0.0|    1.0|    1.0|    0.0|          1.0|       0.0|        2.0|      2.0|        1.0|    0.0|[10.0,218.0,128.0...|         1|\n",
            "| 16|   265|     0|     1|     3|     0|     0|           1|        2|         2|       2|         2|     1|       1|  0|41401|       0|     9.0|            2|    2.0|    0.0|    1.0|    2.0|    0.0|    0.0|          1.0|       1.0|        0.0|      1.0|        0.0|    0.0|[16.0,265.0,0.0,1...|         1|\n",
            "| 12|   141|     0|     1|     2|     0|     0|           3|        1|         3|       3|         3|     1|       1|  0|41326|       0|     1.0|            2|    7.0|    0.0|    1.0|    1.0|    0.0|    0.0|          2.0|       0.0|        2.0|      2.0|        2.0|    0.0|[12.0,141.0,0.0,1...|         1|\n",
            "|  1|   307|     0|     3|     1|     2|     0|           2|        1|         2|       2|         2|     1|       4|  0|41326|       0|     0.0|            1|    0.0|    0.0|    2.0|    0.0|    2.0|    0.0|          0.0|       0.0|        0.0|      1.0|        0.0|    0.0|[1.0,307.0,0.0,3....|         1|\n",
            "|  5|   266|     0|     2|     1|     2|     5|           2|        1|         1|       1|         2|     1|       1|  0|41326|       0|     1.0|            3|    1.0|    0.0|    0.0|    0.0|    2.0|    2.0|          0.0|       0.0|        1.0|      0.0|        0.0|    0.0|[5.0,266.0,0.0,2....|         1|\n",
            "|  2|   227|   307|     2|     2|     0|     0|           2|        1|         1|       1|         2|     1|       1|  0|41326|       0|     4.0|            3|   89.0|    1.0|    0.0|    1.0|    0.0|    0.0|          0.0|       0.0|        1.0|      0.0|        0.0|    0.0|[2.0,227.0,307.0,...|         0|\n",
            "|  1|   266|     0|     1|     1|     0|     0|           2|        1|         2|       1|         2|     1|       1|  0|41326|       0|     3.0|            3|    1.0|    0.0|    1.0|    0.0|    0.0|    0.0|          0.0|       0.0|        0.0|      0.0|        0.0|    0.0|[1.0,266.0,0.0,1....|         1|\n",
            "+---+------+------+------+------+------+------+------------+---------+----------+--------+----------+------+--------+---+-----+--------+--------+-------------+-------+-------+-------+-------+-------+-------+-------------+----------+-----------+---------+-----------+-------+--------------------+----------+\n",
            "only showing top 20 rows\n",
            "\n",
            "Silhouette with squared euclidean distance = 0.805617987968313\n"
          ]
        }
      ]
    },
    {
      "cell_type": "code",
      "source": [],
      "metadata": {
        "id": "JPAdcH9Bo10X"
      },
      "execution_count": null,
      "outputs": []
    },
    {
      "cell_type": "code",
      "source": [],
      "metadata": {
        "id": "ePYpfpq5CM1Y"
      },
      "execution_count": null,
      "outputs": []
    },
    {
      "cell_type": "code",
      "source": [],
      "metadata": {
        "id": "-48Tp1HHHDYJ"
      },
      "execution_count": null,
      "outputs": []
    }
  ],
  "metadata": {
    "colab": {
      "provenance": [],
      "authorship_tag": "ABX9TyPj/x2sZUidbebyr7FXLzwy",
      "include_colab_link": true
    },
    "kernelspec": {
      "display_name": "Python 3",
      "name": "python3"
    },
    "language_info": {
      "name": "python"
    }
  },
  "nbformat": 4,
  "nbformat_minor": 0
}