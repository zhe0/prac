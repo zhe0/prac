{
  "cells": [
    {
      "cell_type": "markdown",
      "metadata": {
        "id": "view-in-github",
        "colab_type": "text"
      },
      "source": [
        "<a href=\"https://colab.research.google.com/github/zhe0/prac/blob/main/pyspark_clusteringOnNumericalAndVector.ipynb\" target=\"_parent\"><img src=\"https://colab.research.google.com/assets/colab-badge.svg\" alt=\"Open In Colab\"/></a>"
      ]
    },
    {
      "cell_type": "code",
      "source": [
        "!pip install pyspark\n",
        "import pyspark\n",
        "from pyspark.ml import Pipeline\n",
        "from pyspark.ml.feature import StringIndexer, VectorAssembler, StandardScaler\n",
        "from pyspark.ml.evaluation import ClusteringEvaluator\n",
        "from pyspark.ml.clustering import KMeans\n",
        "from pyspark.ml.linalg import Vectors\n",
        "from pyspark.sql import SparkSession"
      ],
      "metadata": {
        "colab": {
          "base_uri": "https://localhost:8080/"
        },
        "id": "7UDVlqDjymwA",
        "outputId": "cdabac04-5490-46b1-fa9c-4cb0ae5db468"
      },
      "execution_count": 18,
      "outputs": [
        {
          "output_type": "stream",
          "name": "stdout",
          "text": [
            "Collecting pyspark\n",
            "  Downloading pyspark-3.5.0.tar.gz (316.9 MB)\n",
            "\u001b[2K     \u001b[90m━━━━━━━━━━━━━━━━━━━━━━━━━━━━━━━━━━━━━━━━\u001b[0m \u001b[32m316.9/316.9 MB\u001b[0m \u001b[31m3.9 MB/s\u001b[0m eta \u001b[36m0:00:00\u001b[0m\n",
            "\u001b[?25h  Preparing metadata (setup.py) ... \u001b[?25l\u001b[?25hdone\n",
            "Requirement already satisfied: py4j==0.10.9.7 in /usr/local/lib/python3.10/dist-packages (from pyspark) (0.10.9.7)\n",
            "Building wheels for collected packages: pyspark\n",
            "  Building wheel for pyspark (setup.py) ... \u001b[?25l\u001b[?25hdone\n",
            "  Created wheel for pyspark: filename=pyspark-3.5.0-py2.py3-none-any.whl size=317425345 sha256=bc0f7e5f9e7e9a41b76e816cbdac70507f17e5f9448833b5461008f5b616f213\n",
            "  Stored in directory: /root/.cache/pip/wheels/41/4e/10/c2cf2467f71c678cfc8a6b9ac9241e5e44a01940da8fbb17fc\n",
            "Successfully built pyspark\n",
            "Installing collected packages: pyspark\n",
            "Successfully installed pyspark-3.5.0\n"
          ]
        }
      ]
    },
    {
      "cell_type": "code",
      "source": [
        "spark = SparkSession.builder.appName(\"ClusteringExample\").getOrCreate()\n",
        "spark"
      ],
      "metadata": {
        "colab": {
          "base_uri": "https://localhost:8080/",
          "height": 221
        },
        "id": "AAZfCIHJ3Hwo",
        "outputId": "577e39b5-c4f6-44a0-bf4b-5e81b4c31bb7"
      },
      "execution_count": 19,
      "outputs": [
        {
          "output_type": "execute_result",
          "data": {
            "text/plain": [
              "<pyspark.sql.session.SparkSession at 0x7b9a0274b2e0>"
            ],
            "text/html": [
              "\n",
              "            <div>\n",
              "                <p><b>SparkSession - in-memory</b></p>\n",
              "                \n",
              "        <div>\n",
              "            <p><b>SparkContext</b></p>\n",
              "\n",
              "            <p><a href=\"http://f8b6445fee7b:4040\">Spark UI</a></p>\n",
              "\n",
              "            <dl>\n",
              "              <dt>Version</dt>\n",
              "                <dd><code>v3.5.0</code></dd>\n",
              "              <dt>Master</dt>\n",
              "                <dd><code>local[*]</code></dd>\n",
              "              <dt>AppName</dt>\n",
              "                <dd><code>ClusteringExample</code></dd>\n",
              "            </dl>\n",
              "        </div>\n",
              "        \n",
              "            </div>\n",
              "        "
            ]
          },
          "metadata": {},
          "execution_count": 19
        }
      ]
    },
    {
      "cell_type": "code",
      "source": [],
      "metadata": {
        "id": "dVacvjNk-QGl"
      },
      "execution_count": null,
      "outputs": []
    },
    {
      "cell_type": "code",
      "source": [
        "# data = [\n",
        "#     (1.0, Vectors.dense(3.0, 4.0), \"a\"),\n",
        "#     (2.0, Vectors.dense(6.0, 7.0), \"b\"),\n",
        "#     (3.0, Vectors.dense(9.0, 10.0), \"c\"),\n",
        "#     (4.0, Vectors.dense(1.0, 2.0), \"a\"),\n",
        "#     (5.0, Vectors.dense(4.0, 5.0), \"b\")\n",
        "# ]\n",
        "# df = spark.createDataFrame(data, [\"feature1\", \"vector\", \"category\"])\n",
        "# category_indexer = StringIndexer(inputCol=\"category\", outputCol=\"category_index\")\n",
        "\n",
        "#org: name\tmain_category\tsub_category\timage\tlink\tratings\tno_of_ratings\tdiscount_price\tactual_price\n",
        "#sel: name main_category sub_category ratings no_of_ratings discount_price actual_price\n",
        "\n"
      ],
      "metadata": {
        "id": "R9Psz37c3a03"
      },
      "execution_count": null,
      "outputs": []
    },
    {
      "cell_type": "code",
      "source": [
        "assembler = VectorAssembler(\n",
        "    inputCols=[\"feature1\", \"vector\"],\n",
        "    outputCol=\"features\")\n",
        "\n",
        "kmeans = KMeans(k=2, featuresCol=\"features\")\n",
        "\n",
        "pipeline = Pipeline(stages=[category_indexer, assembler, kmeans])\n",
        "\n",
        "model = pipeline.fit(df)\n",
        "\n",
        "predictions = model.transform(df)"
      ],
      "metadata": {
        "id": "JEZ9qptM524e"
      },
      "execution_count": null,
      "outputs": []
    },
    {
      "cell_type": "code",
      "source": [
        "predictions.show()"
      ],
      "metadata": {
        "colab": {
          "base_uri": "https://localhost:8080/"
        },
        "id": "zfJSso4E44aV",
        "outputId": "d7be19d8-3133-44db-fd44-3baf3d546318"
      },
      "execution_count": null,
      "outputs": [
        {
          "output_type": "stream",
          "name": "stdout",
          "text": [
            "+--------+----------+--------+--------------+--------------+----------+\n",
            "|feature1|    vector|category|category_index|      features|prediction|\n",
            "+--------+----------+--------+--------------+--------------+----------+\n",
            "|     1.0| [3.0,4.0]|       a|           0.0| [1.0,3.0,4.0]|         1|\n",
            "|     2.0| [6.0,7.0]|       b|           1.0| [2.0,6.0,7.0]|         0|\n",
            "|     3.0|[9.0,10.0]|       c|           2.0|[3.0,9.0,10.0]|         0|\n",
            "|     4.0| [1.0,2.0]|       a|           0.0| [4.0,1.0,2.0]|         1|\n",
            "|     5.0| [4.0,5.0]|       b|           1.0| [5.0,4.0,5.0]|         1|\n",
            "+--------+----------+--------+--------------+--------------+----------+\n",
            "\n"
          ]
        }
      ]
    },
    {
      "cell_type": "code",
      "execution_count": null,
      "metadata": {
        "id": "k7RjPzbRNty8",
        "colab": {
          "base_uri": "https://localhost:8080/"
        },
        "outputId": "b83a384a-d6f1-42fb-c324-74b9fb8fce71"
      },
      "outputs": [
        {
          "output_type": "stream",
          "name": "stdout",
          "text": [
            "Silhouette with squared euclidean distance = 0.6120640643838152\n",
            "+--------+----------+--------+--------------+--------------+----------+\n",
            "|feature1|    vector|category|category_index|      features|prediction|\n",
            "+--------+----------+--------+--------------+--------------+----------+\n",
            "|     1.0| [3.0,4.0]|       a|           0.0| [1.0,3.0,4.0]|         1|\n",
            "|     2.0| [6.0,7.0]|       b|           1.0| [2.0,6.0,7.0]|         0|\n",
            "|     3.0|[9.0,10.0]|       c|           2.0|[3.0,9.0,10.0]|         0|\n",
            "|     4.0| [1.0,2.0]|       a|           0.0| [4.0,1.0,2.0]|         1|\n",
            "|     5.0| [4.0,5.0]|       b|           1.0| [5.0,4.0,5.0]|         1|\n",
            "+--------+----------+--------+--------------+--------------+----------+\n",
            "\n"
          ]
        }
      ],
      "source": [
        "evaluator = ClusteringEvaluator()\n",
        "silhouette = evaluator.evaluate(predictions)\n",
        "print(\"Silhouette with squared euclidean distance = \" + str(silhouette))\n",
        "predictions.show()"
      ]
    },
    {
      "cell_type": "code",
      "execution_count": null,
      "metadata": {
        "id": "yyyk1zmzR-hH"
      },
      "outputs": [],
      "source": []
    },
    {
      "cell_type": "markdown",
      "source": [
        "### 寵物領養率的數據分析"
      ],
      "metadata": {
        "id": "CACJNuFLTmRP"
      }
    },
    {
      "cell_type": "markdown",
      "source": [
        "* PetID - Unique hash ID of pet profile\n",
        "* AdoptionSpeed - Categorical speed of adoption. Lower is faster. This is the value to predict. See below section for more info.\n",
        "* Type - Type of animal (1 = Dog, 2 = Cat)\n",
        "* Name - Name of pet (Empty if not named)\n",
        "* Age - Age of pet when listed, in months\n",
        "* Breed1 - Primary breed of pet (Refer to BreedLabels dictionary)\n",
        "* Breed2 - Secondary breed of pet, if pet is of mixed breed (Refer to BreedLabels dictionary)\n",
        "* Gender - Gender of pet (1 = Male, 2 = Female, 3 = Mixed, if profile represents group of pets)\n",
        "* Color1 - Color 1 of pet (Refer to ColorLabels dictionary)\n",
        "* Color2 - Color 2 of pet (Refer to ColorLabels dictionary)\n",
        "* Color3 - Color 3 of pet (Refer to ColorLabels dictionary)\n",
        "* MaturitySize - Size at maturity (1 = Small, 2 = Medium, 3 = Large, 4 = Extra Large, 0 = Not Specified)\n",
        "* FurLength - Fur length (1 = Short, 2 = Medium, 3 = Long, 0 = Not Specified)\n",
        "* Vaccinated - Pet has been vaccinated (1 = Yes, 2 = No, 3 = Not Sure)\n",
        "* Dewormed - Pet has been dewormed (1 = Yes, 2 = No, 3 = Not Sure)\n",
        "* Sterilized - Pet has been spayed / neutered (1 = Yes, 2 = No, 3 = Not Sure)\n",
        "* Health - Health Condition (1 = Healthy, 2 = Minor Injury, 3 = Serious Injury, 0 = Not Specified)\n",
        "* Quantity - Number of pets represented in profile\n",
        "* Fee - Adoption fee (0 = Free)\n",
        "* State - State location in Malaysia (Refer to StateLabels dictionary)\n",
        "* RescuerID - Unique hash ID of rescuer\n",
        "* VideoAmt - Total uploaded videos for this pet\n",
        "* PhotoAmt - Total uploaded photos for this pet\n",
        "* Description - Profile write-up for this pet. The primary language used is English, with some in Malay or Chinese.\n"
      ],
      "metadata": {
        "id": "XDOAraPOXlCW"
      }
    },
    {
      "cell_type": "code",
      "source": [
        "import pandas as pd"
      ],
      "metadata": {
        "id": "0w8_bmRiVbc3"
      },
      "execution_count": null,
      "outputs": []
    },
    {
      "cell_type": "code",
      "source": [
        "# download_dir = './tutorial'\n",
        "# zip_file = 'https://automl-mm-bench.s3.amazonaws.com/petfinder_for_tutorial.zip'\n",
        "# !wget 'https://automl-mm-bench.s3.amazonaws.com/petfinder_for_tutorial.zip'\n",
        "# !unzip ./petfinder_for_tutorial.zip\n",
        "\n",
        "dataset_path = './petfinder_for_tutorial'\n",
        "train_data = pd.read_csv(f'{dataset_path}/train.csv', index_col=0)\n",
        "test_data = pd.read_csv(f'{dataset_path}/test.csv', index_col=0)\n",
        "label_col = 'AdoptionSpeed'\n",
        "print(len(train_data),len(test_data))\n",
        "train_data.head()"
      ],
      "metadata": {
        "id": "pHAPd9kzTltS",
        "outputId": "d3288478-053e-4453-a4b1-1f8e500f9a40",
        "colab": {
          "base_uri": "https://localhost:8080/",
          "height": 586
        }
      },
      "execution_count": 5,
      "outputs": [
        {
          "output_type": "stream",
          "name": "stdout",
          "text": [
            "600 100\n"
          ]
        },
        {
          "output_type": "execute_result",
          "data": {
            "text/plain": [
              "   Type           Name  Age  Breed1  Breed2  Gender  Color1  Color2  Color3  \\\n",
              "0     2  Yumi Hamasaki    4     292     265       2       1       5       7   \n",
              "1     2    Nene/ Kimie   12     285       0       2       5       6       7   \n",
              "2     2         Mattie   12     266       0       2       1       7       0   \n",
              "3     1            NaN    1     189     307       2       1       2       0   \n",
              "4     2           Coco    6     276     285       2       2       4       7   \n",
              "\n",
              "   MaturitySize  ...  Quantity  Fee  State                         RescuerID  \\\n",
              "0             2  ...         1    0  41326  bcc4e1b9557a8b3aaf545ea8e6e86991   \n",
              "1             2  ...         1    0  41326  f0450bf0efe0fa3ff9321d0b827b1237   \n",
              "2             2  ...         1    0  41401  9b52af6d48a4521fd01d4028eb5879a3   \n",
              "3             2  ...         1    0  41401  88da1210e021a5cf43480b074778f3bc   \n",
              "4             2  ...         1  100  41326  227d7b1bcfaffb5f9882bf57b5ee8fab   \n",
              "\n",
              "   VideoAmt                                        Description      PetID  \\\n",
              "0         0  I rescued Yumi Hamasaki at a food stall far aw...  7d7a39d71   \n",
              "1         0    Has adopted by a friend with new pet name Kimie  0e107c82f   \n",
              "2         0  I rescued Mattie with a broken leg. After surg...  1a8fd6707   \n",
              "3         0  She born on 30 September . I really hope the a...  bca8b44ae   \n",
              "4         0  Calico Tame and easy going Diet RC Kitten Supp...  2def67952   \n",
              "\n",
              "   PhotoAmt AdoptionSpeed                  Images  \n",
              "0       3.0             0  images/7d7a39d71-1.jpg  \n",
              "1       3.0             0  images/0e107c82f-1.jpg  \n",
              "2       5.0             0  images/1a8fd6707-1.jpg  \n",
              "3       3.0             0  images/bca8b44ae-1.jpg  \n",
              "4       1.0             0  images/2def67952-1.jpg  \n",
              "\n",
              "[5 rows x 25 columns]"
            ],
            "text/html": [
              "\n",
              "  <div id=\"df-f184fa33-2f4e-4a0b-8618-0a3d40c83951\" class=\"colab-df-container\">\n",
              "    <div>\n",
              "<style scoped>\n",
              "    .dataframe tbody tr th:only-of-type {\n",
              "        vertical-align: middle;\n",
              "    }\n",
              "\n",
              "    .dataframe tbody tr th {\n",
              "        vertical-align: top;\n",
              "    }\n",
              "\n",
              "    .dataframe thead th {\n",
              "        text-align: right;\n",
              "    }\n",
              "</style>\n",
              "<table border=\"1\" class=\"dataframe\">\n",
              "  <thead>\n",
              "    <tr style=\"text-align: right;\">\n",
              "      <th></th>\n",
              "      <th>Type</th>\n",
              "      <th>Name</th>\n",
              "      <th>Age</th>\n",
              "      <th>Breed1</th>\n",
              "      <th>Breed2</th>\n",
              "      <th>Gender</th>\n",
              "      <th>Color1</th>\n",
              "      <th>Color2</th>\n",
              "      <th>Color3</th>\n",
              "      <th>MaturitySize</th>\n",
              "      <th>...</th>\n",
              "      <th>Quantity</th>\n",
              "      <th>Fee</th>\n",
              "      <th>State</th>\n",
              "      <th>RescuerID</th>\n",
              "      <th>VideoAmt</th>\n",
              "      <th>Description</th>\n",
              "      <th>PetID</th>\n",
              "      <th>PhotoAmt</th>\n",
              "      <th>AdoptionSpeed</th>\n",
              "      <th>Images</th>\n",
              "    </tr>\n",
              "  </thead>\n",
              "  <tbody>\n",
              "    <tr>\n",
              "      <th>0</th>\n",
              "      <td>2</td>\n",
              "      <td>Yumi Hamasaki</td>\n",
              "      <td>4</td>\n",
              "      <td>292</td>\n",
              "      <td>265</td>\n",
              "      <td>2</td>\n",
              "      <td>1</td>\n",
              "      <td>5</td>\n",
              "      <td>7</td>\n",
              "      <td>2</td>\n",
              "      <td>...</td>\n",
              "      <td>1</td>\n",
              "      <td>0</td>\n",
              "      <td>41326</td>\n",
              "      <td>bcc4e1b9557a8b3aaf545ea8e6e86991</td>\n",
              "      <td>0</td>\n",
              "      <td>I rescued Yumi Hamasaki at a food stall far aw...</td>\n",
              "      <td>7d7a39d71</td>\n",
              "      <td>3.0</td>\n",
              "      <td>0</td>\n",
              "      <td>images/7d7a39d71-1.jpg</td>\n",
              "    </tr>\n",
              "    <tr>\n",
              "      <th>1</th>\n",
              "      <td>2</td>\n",
              "      <td>Nene/ Kimie</td>\n",
              "      <td>12</td>\n",
              "      <td>285</td>\n",
              "      <td>0</td>\n",
              "      <td>2</td>\n",
              "      <td>5</td>\n",
              "      <td>6</td>\n",
              "      <td>7</td>\n",
              "      <td>2</td>\n",
              "      <td>...</td>\n",
              "      <td>1</td>\n",
              "      <td>0</td>\n",
              "      <td>41326</td>\n",
              "      <td>f0450bf0efe0fa3ff9321d0b827b1237</td>\n",
              "      <td>0</td>\n",
              "      <td>Has adopted by a friend with new pet name Kimie</td>\n",
              "      <td>0e107c82f</td>\n",
              "      <td>3.0</td>\n",
              "      <td>0</td>\n",
              "      <td>images/0e107c82f-1.jpg</td>\n",
              "    </tr>\n",
              "    <tr>\n",
              "      <th>2</th>\n",
              "      <td>2</td>\n",
              "      <td>Mattie</td>\n",
              "      <td>12</td>\n",
              "      <td>266</td>\n",
              "      <td>0</td>\n",
              "      <td>2</td>\n",
              "      <td>1</td>\n",
              "      <td>7</td>\n",
              "      <td>0</td>\n",
              "      <td>2</td>\n",
              "      <td>...</td>\n",
              "      <td>1</td>\n",
              "      <td>0</td>\n",
              "      <td>41401</td>\n",
              "      <td>9b52af6d48a4521fd01d4028eb5879a3</td>\n",
              "      <td>0</td>\n",
              "      <td>I rescued Mattie with a broken leg. After surg...</td>\n",
              "      <td>1a8fd6707</td>\n",
              "      <td>5.0</td>\n",
              "      <td>0</td>\n",
              "      <td>images/1a8fd6707-1.jpg</td>\n",
              "    </tr>\n",
              "    <tr>\n",
              "      <th>3</th>\n",
              "      <td>1</td>\n",
              "      <td>NaN</td>\n",
              "      <td>1</td>\n",
              "      <td>189</td>\n",
              "      <td>307</td>\n",
              "      <td>2</td>\n",
              "      <td>1</td>\n",
              "      <td>2</td>\n",
              "      <td>0</td>\n",
              "      <td>2</td>\n",
              "      <td>...</td>\n",
              "      <td>1</td>\n",
              "      <td>0</td>\n",
              "      <td>41401</td>\n",
              "      <td>88da1210e021a5cf43480b074778f3bc</td>\n",
              "      <td>0</td>\n",
              "      <td>She born on 30 September . I really hope the a...</td>\n",
              "      <td>bca8b44ae</td>\n",
              "      <td>3.0</td>\n",
              "      <td>0</td>\n",
              "      <td>images/bca8b44ae-1.jpg</td>\n",
              "    </tr>\n",
              "    <tr>\n",
              "      <th>4</th>\n",
              "      <td>2</td>\n",
              "      <td>Coco</td>\n",
              "      <td>6</td>\n",
              "      <td>276</td>\n",
              "      <td>285</td>\n",
              "      <td>2</td>\n",
              "      <td>2</td>\n",
              "      <td>4</td>\n",
              "      <td>7</td>\n",
              "      <td>2</td>\n",
              "      <td>...</td>\n",
              "      <td>1</td>\n",
              "      <td>100</td>\n",
              "      <td>41326</td>\n",
              "      <td>227d7b1bcfaffb5f9882bf57b5ee8fab</td>\n",
              "      <td>0</td>\n",
              "      <td>Calico Tame and easy going Diet RC Kitten Supp...</td>\n",
              "      <td>2def67952</td>\n",
              "      <td>1.0</td>\n",
              "      <td>0</td>\n",
              "      <td>images/2def67952-1.jpg</td>\n",
              "    </tr>\n",
              "  </tbody>\n",
              "</table>\n",
              "<p>5 rows × 25 columns</p>\n",
              "</div>\n",
              "    <div class=\"colab-df-buttons\">\n",
              "\n",
              "  <div class=\"colab-df-container\">\n",
              "    <button class=\"colab-df-convert\" onclick=\"convertToInteractive('df-f184fa33-2f4e-4a0b-8618-0a3d40c83951')\"\n",
              "            title=\"Convert this dataframe to an interactive table.\"\n",
              "            style=\"display:none;\">\n",
              "\n",
              "  <svg xmlns=\"http://www.w3.org/2000/svg\" height=\"24px\" viewBox=\"0 -960 960 960\">\n",
              "    <path d=\"M120-120v-720h720v720H120Zm60-500h600v-160H180v160Zm220 220h160v-160H400v160Zm0 220h160v-160H400v160ZM180-400h160v-160H180v160Zm440 0h160v-160H620v160ZM180-180h160v-160H180v160Zm440 0h160v-160H620v160Z\"/>\n",
              "  </svg>\n",
              "    </button>\n",
              "\n",
              "  <style>\n",
              "    .colab-df-container {\n",
              "      display:flex;\n",
              "      gap: 12px;\n",
              "    }\n",
              "\n",
              "    .colab-df-convert {\n",
              "      background-color: #E8F0FE;\n",
              "      border: none;\n",
              "      border-radius: 50%;\n",
              "      cursor: pointer;\n",
              "      display: none;\n",
              "      fill: #1967D2;\n",
              "      height: 32px;\n",
              "      padding: 0 0 0 0;\n",
              "      width: 32px;\n",
              "    }\n",
              "\n",
              "    .colab-df-convert:hover {\n",
              "      background-color: #E2EBFA;\n",
              "      box-shadow: 0px 1px 2px rgba(60, 64, 67, 0.3), 0px 1px 3px 1px rgba(60, 64, 67, 0.15);\n",
              "      fill: #174EA6;\n",
              "    }\n",
              "\n",
              "    .colab-df-buttons div {\n",
              "      margin-bottom: 4px;\n",
              "    }\n",
              "\n",
              "    [theme=dark] .colab-df-convert {\n",
              "      background-color: #3B4455;\n",
              "      fill: #D2E3FC;\n",
              "    }\n",
              "\n",
              "    [theme=dark] .colab-df-convert:hover {\n",
              "      background-color: #434B5C;\n",
              "      box-shadow: 0px 1px 3px 1px rgba(0, 0, 0, 0.15);\n",
              "      filter: drop-shadow(0px 1px 2px rgba(0, 0, 0, 0.3));\n",
              "      fill: #FFFFFF;\n",
              "    }\n",
              "  </style>\n",
              "\n",
              "    <script>\n",
              "      const buttonEl =\n",
              "        document.querySelector('#df-f184fa33-2f4e-4a0b-8618-0a3d40c83951 button.colab-df-convert');\n",
              "      buttonEl.style.display =\n",
              "        google.colab.kernel.accessAllowed ? 'block' : 'none';\n",
              "\n",
              "      async function convertToInteractive(key) {\n",
              "        const element = document.querySelector('#df-f184fa33-2f4e-4a0b-8618-0a3d40c83951');\n",
              "        const dataTable =\n",
              "          await google.colab.kernel.invokeFunction('convertToInteractive',\n",
              "                                                    [key], {});\n",
              "        if (!dataTable) return;\n",
              "\n",
              "        const docLinkHtml = 'Like what you see? Visit the ' +\n",
              "          '<a target=\"_blank\" href=https://colab.research.google.com/notebooks/data_table.ipynb>data table notebook</a>'\n",
              "          + ' to learn more about interactive tables.';\n",
              "        element.innerHTML = '';\n",
              "        dataTable['output_type'] = 'display_data';\n",
              "        await google.colab.output.renderOutput(dataTable, element);\n",
              "        const docLink = document.createElement('div');\n",
              "        docLink.innerHTML = docLinkHtml;\n",
              "        element.appendChild(docLink);\n",
              "      }\n",
              "    </script>\n",
              "  </div>\n",
              "\n",
              "\n",
              "<div id=\"df-57ead67f-d481-4578-879f-bfe85ccaaaf8\">\n",
              "  <button class=\"colab-df-quickchart\" onclick=\"quickchart('df-57ead67f-d481-4578-879f-bfe85ccaaaf8')\"\n",
              "            title=\"Suggest charts\"\n",
              "            style=\"display:none;\">\n",
              "\n",
              "<svg xmlns=\"http://www.w3.org/2000/svg\" height=\"24px\"viewBox=\"0 0 24 24\"\n",
              "     width=\"24px\">\n",
              "    <g>\n",
              "        <path d=\"M19 3H5c-1.1 0-2 .9-2 2v14c0 1.1.9 2 2 2h14c1.1 0 2-.9 2-2V5c0-1.1-.9-2-2-2zM9 17H7v-7h2v7zm4 0h-2V7h2v10zm4 0h-2v-4h2v4z\"/>\n",
              "    </g>\n",
              "</svg>\n",
              "  </button>\n",
              "\n",
              "<style>\n",
              "  .colab-df-quickchart {\n",
              "      --bg-color: #E8F0FE;\n",
              "      --fill-color: #1967D2;\n",
              "      --hover-bg-color: #E2EBFA;\n",
              "      --hover-fill-color: #174EA6;\n",
              "      --disabled-fill-color: #AAA;\n",
              "      --disabled-bg-color: #DDD;\n",
              "  }\n",
              "\n",
              "  [theme=dark] .colab-df-quickchart {\n",
              "      --bg-color: #3B4455;\n",
              "      --fill-color: #D2E3FC;\n",
              "      --hover-bg-color: #434B5C;\n",
              "      --hover-fill-color: #FFFFFF;\n",
              "      --disabled-bg-color: #3B4455;\n",
              "      --disabled-fill-color: #666;\n",
              "  }\n",
              "\n",
              "  .colab-df-quickchart {\n",
              "    background-color: var(--bg-color);\n",
              "    border: none;\n",
              "    border-radius: 50%;\n",
              "    cursor: pointer;\n",
              "    display: none;\n",
              "    fill: var(--fill-color);\n",
              "    height: 32px;\n",
              "    padding: 0;\n",
              "    width: 32px;\n",
              "  }\n",
              "\n",
              "  .colab-df-quickchart:hover {\n",
              "    background-color: var(--hover-bg-color);\n",
              "    box-shadow: 0 1px 2px rgba(60, 64, 67, 0.3), 0 1px 3px 1px rgba(60, 64, 67, 0.15);\n",
              "    fill: var(--button-hover-fill-color);\n",
              "  }\n",
              "\n",
              "  .colab-df-quickchart-complete:disabled,\n",
              "  .colab-df-quickchart-complete:disabled:hover {\n",
              "    background-color: var(--disabled-bg-color);\n",
              "    fill: var(--disabled-fill-color);\n",
              "    box-shadow: none;\n",
              "  }\n",
              "\n",
              "  .colab-df-spinner {\n",
              "    border: 2px solid var(--fill-color);\n",
              "    border-color: transparent;\n",
              "    border-bottom-color: var(--fill-color);\n",
              "    animation:\n",
              "      spin 1s steps(1) infinite;\n",
              "  }\n",
              "\n",
              "  @keyframes spin {\n",
              "    0% {\n",
              "      border-color: transparent;\n",
              "      border-bottom-color: var(--fill-color);\n",
              "      border-left-color: var(--fill-color);\n",
              "    }\n",
              "    20% {\n",
              "      border-color: transparent;\n",
              "      border-left-color: var(--fill-color);\n",
              "      border-top-color: var(--fill-color);\n",
              "    }\n",
              "    30% {\n",
              "      border-color: transparent;\n",
              "      border-left-color: var(--fill-color);\n",
              "      border-top-color: var(--fill-color);\n",
              "      border-right-color: var(--fill-color);\n",
              "    }\n",
              "    40% {\n",
              "      border-color: transparent;\n",
              "      border-right-color: var(--fill-color);\n",
              "      border-top-color: var(--fill-color);\n",
              "    }\n",
              "    60% {\n",
              "      border-color: transparent;\n",
              "      border-right-color: var(--fill-color);\n",
              "    }\n",
              "    80% {\n",
              "      border-color: transparent;\n",
              "      border-right-color: var(--fill-color);\n",
              "      border-bottom-color: var(--fill-color);\n",
              "    }\n",
              "    90% {\n",
              "      border-color: transparent;\n",
              "      border-bottom-color: var(--fill-color);\n",
              "    }\n",
              "  }\n",
              "</style>\n",
              "\n",
              "  <script>\n",
              "    async function quickchart(key) {\n",
              "      const quickchartButtonEl =\n",
              "        document.querySelector('#' + key + ' button');\n",
              "      quickchartButtonEl.disabled = true;  // To prevent multiple clicks.\n",
              "      quickchartButtonEl.classList.add('colab-df-spinner');\n",
              "      try {\n",
              "        const charts = await google.colab.kernel.invokeFunction(\n",
              "            'suggestCharts', [key], {});\n",
              "      } catch (error) {\n",
              "        console.error('Error during call to suggestCharts:', error);\n",
              "      }\n",
              "      quickchartButtonEl.classList.remove('colab-df-spinner');\n",
              "      quickchartButtonEl.classList.add('colab-df-quickchart-complete');\n",
              "    }\n",
              "    (() => {\n",
              "      let quickchartButtonEl =\n",
              "        document.querySelector('#df-57ead67f-d481-4578-879f-bfe85ccaaaf8 button');\n",
              "      quickchartButtonEl.style.display =\n",
              "        google.colab.kernel.accessAllowed ? 'block' : 'none';\n",
              "    })();\n",
              "  </script>\n",
              "</div>\n",
              "\n",
              "    </div>\n",
              "  </div>\n"
            ]
          },
          "metadata": {},
          "execution_count": 5
        }
      ]
    },
    {
      "cell_type": "code",
      "source": [
        "#remove not help columns: RescuerID, Images, PetID\n",
        "print(train_data.columns)\n",
        "rm=['Name','RescuerID','PetID','Images','Description']\n",
        "tra=train_data[[i for i in train_data.columns if not i in rm]]\n",
        "test=test_data[[i for i in test_data.columns if not i in rm]]\n",
        "print(tra.columns)"
      ],
      "metadata": {
        "id": "BeLLUxN_TyIe",
        "outputId": "0cdb8860-eeba-406b-88b3-df98f99c9aa3",
        "colab": {
          "base_uri": "https://localhost:8080/"
        }
      },
      "execution_count": 32,
      "outputs": [
        {
          "output_type": "stream",
          "name": "stdout",
          "text": [
            "Index(['Type', 'Name', 'Age', 'Breed1', 'Breed2', 'Gender', 'Color1', 'Color2',\n",
            "       'Color3', 'MaturitySize', 'FurLength', 'Vaccinated', 'Dewormed',\n",
            "       'Sterilized', 'Health', 'Quantity', 'Fee', 'State', 'RescuerID',\n",
            "       'VideoAmt', 'Description', 'PetID', 'PhotoAmt', 'AdoptionSpeed',\n",
            "       'Images'],\n",
            "      dtype='object')\n",
            "Index(['Type', 'Age', 'Breed1', 'Breed2', 'Gender', 'Color1', 'Color2',\n",
            "       'Color3', 'MaturitySize', 'FurLength', 'Vaccinated', 'Dewormed',\n",
            "       'Sterilized', 'Health', 'Quantity', 'Fee', 'State', 'VideoAmt',\n",
            "       'PhotoAmt', 'AdoptionSpeed'],\n",
            "      dtype='object')\n"
          ]
        }
      ]
    },
    {
      "cell_type": "code",
      "source": [
        "# tra['Age']\n",
        "scale"
      ],
      "metadata": {
        "id": "LvN418WmgxA-",
        "outputId": "374902f7-f8f5-4828-f215-c0ce40c67ce3",
        "colab": {
          "base_uri": "https://localhost:8080/"
        }
      },
      "execution_count": 59,
      "outputs": [
        {
          "output_type": "execute_result",
          "data": {
            "text/plain": [
              "['Age', 'Quantity', 'Fee', 'State', 'VideoAmt', 'PhotoAmt', 'AdoptionSpeed']"
            ]
          },
          "metadata": {},
          "execution_count": 59
        }
      ]
    },
    {
      "cell_type": "code",
      "source": [
        "# data = [\n",
        "#     (1.0, Vectors.dense(3.0, 4.0), \"a\"),\n",
        "#     (2.0, Vectors.dense(6.0, 7.0), \"b\"),\n",
        "#     (3.0, Vectors.dense(9.0, 10.0), \"c\"),\n",
        "#     (4.0, Vectors.dense(1.0, 2.0), \"a\"),\n",
        "#     (5.0, Vectors.dense(4.0, 5.0), \"b\")\n",
        "# ]\n",
        "# df = spark.createDataFrame(data, [\"feature1\", \"vector\", \"category\"])\n",
        "# category_indexer = StringIndexer(inputCol=\"category\", outputCol=\"category_index\")\n",
        "\n",
        "\n",
        "tra_df=spark.createDataFrame(list(tra.itertuples(index=False, name=None)), tra.columns.tolist())\n",
        "test_df=spark.createDataFrame(list(test.itertuples(index=False, name=None)), tra.columns.tolist())\n",
        "\n",
        "cate=['Type','Breed1','Breed2','Gender','Color1','Color2','Color3','MaturitySize','FurLength','Vaccinated','Dewormed','Sterilized','Health']\n",
        "category_indexer=StringIndexer(inputCols=cate, outputCols=[i+'_' for i in cate])\n",
        "\n",
        "scale=[i for i in tra.columns.tolist() if i not in cate]\n",
        "scaler =[]\n",
        "for i in scale:\n",
        "    scaler.append(StandardScaler(inputCol=i, outputCol=i+'_', withStd=True, withMean=False))\n",
        "# scaler =StandardScaler(inputCols=scale, outputCols=scale, withStd=True, withMean=False)"
      ],
      "metadata": {
        "id": "a2HSK6AUaoF7"
      },
      "execution_count": 63,
      "outputs": []
    },
    {
      "cell_type": "code",
      "source": [
        "tra_df.columns"
      ],
      "metadata": {
        "id": "urvUp8uClxEc",
        "outputId": "f1dbd69f-0422-427e-a70d-09adb8e41cda",
        "colab": {
          "base_uri": "https://localhost:8080/"
        }
      },
      "execution_count": 61,
      "outputs": [
        {
          "output_type": "execute_result",
          "data": {
            "text/plain": [
              "['Type',\n",
              " 'Age',\n",
              " 'Breed1',\n",
              " 'Breed2',\n",
              " 'Gender',\n",
              " 'Color1',\n",
              " 'Color2',\n",
              " 'Color3',\n",
              " 'MaturitySize',\n",
              " 'FurLength',\n",
              " 'Vaccinated',\n",
              " 'Dewormed',\n",
              " 'Sterilized',\n",
              " 'Health',\n",
              " 'Quantity',\n",
              " 'Fee',\n",
              " 'State',\n",
              " 'VideoAmt',\n",
              " 'PhotoAmt',\n",
              " 'AdoptionSpeed']"
            ]
          },
          "metadata": {},
          "execution_count": 61
        }
      ]
    },
    {
      "cell_type": "code",
      "source": [
        "assembler = VectorAssembler(inputCols=tra_df.columns,outputCol=\"features\")\n",
        "\n",
        "kmeans = KMeans(k=2, featuresCol=\"features\")\n",
        "\n",
        "pipeline = Pipeline(stages=[ category_indexer, assembler, kmeans])\n",
        "model = pipeline.fit(tra_df)\n",
        "\n",
        "predictions = model.transform(tra_df)\n",
        "predictions.show()"
      ],
      "metadata": {
        "id": "OP266ObrVrlW",
        "outputId": "629f3c43-0d82-4693-be6b-0757cd8c2dad",
        "colab": {
          "base_uri": "https://localhost:8080/"
        }
      },
      "execution_count": 66,
      "outputs": [
        {
          "output_type": "stream",
          "name": "stdout",
          "text": [
            "+----+---+------+------+------+------+------+------+------------+---------+----------+--------+----------+------+--------+---+-----+--------+--------+-------------+-----+-------+-------+-------+-------+-------+-------+-------------+----------+-----------+---------+-----------+-------+--------------------+----------+\n",
            "|Type|Age|Breed1|Breed2|Gender|Color1|Color2|Color3|MaturitySize|FurLength|Vaccinated|Dewormed|Sterilized|Health|Quantity|Fee|State|VideoAmt|PhotoAmt|AdoptionSpeed|Type_|Breed1_|Breed2_|Gender_|Color1_|Color2_|Color3_|MaturitySize_|FurLength_|Vaccinated_|Dewormed_|Sterilized_|Health_|            features|prediction|\n",
            "+----+---+------+------+------+------+------+------+------------+---------+----------+--------+----------+------+--------+---+-----+--------+--------+-------------+-----+-------+-------+-------+-------+-------+-------+-------------+----------+-----------+---------+-----------+-------+--------------------+----------+\n",
            "|   2|  4|   292|   265|     2|     1|     5|     7|           2|        2|         1|       3|         2|     1|       1|  0|41326|       0|     3.0|            0|  0.0|    4.0|    3.0|    0.0|    0.0|    3.0|    1.0|          0.0|       1.0|        1.0|      2.0|        0.0|    0.0|[2.0,4.0,292.0,26...|         1|\n",
            "|   2| 12|   285|     0|     2|     5|     6|     7|           2|        3|         2|       2|         2|     1|       1|  0|41326|       0|     3.0|            0|  0.0|    3.0|    0.0|    0.0|    3.0|    4.0|    1.0|          0.0|       2.0|        0.0|      1.0|        0.0|    0.0|[2.0,12.0,285.0,0...|         0|\n",
            "|   2| 12|   266|     0|     2|     1|     7|     0|           2|        1|         1|       1|         1|     1|       1|  0|41401|       0|     5.0|            0|  0.0|    1.0|    0.0|    0.0|    0.0|    1.0|    0.0|          0.0|       0.0|        1.0|      0.0|        1.0|    0.0|[2.0,12.0,266.0,0...|         0|\n",
            "|   1|  1|   189|   307|     2|     1|     2|     0|           2|        1|         1|       1|         2|     1|       1|  0|41401|       0|     3.0|            0|  1.0|   10.0|    1.0|    0.0|    0.0|    2.0|    0.0|          0.0|       0.0|        1.0|      0.0|        0.0|    0.0|[1.0,1.0,189.0,30...|         1|\n",
            "|   2|  6|   276|   285|     2|     2|     4|     7|           2|        2|         1|       1|         2|     1|       1|100|41326|       0|     1.0|            0|  0.0|   29.0|   11.0|    0.0|    1.0|    5.0|    1.0|          0.0|       1.0|        1.0|      0.0|        0.0|    0.0|[2.0,6.0,276.0,28...|         1|\n",
            "|   2|  6|   266|   299|     2|     6|     7|     0|           1|        1|         2|       2|         1|     1|       1|  0|41326|       0|     1.0|            0|  0.0|    1.0|    5.0|    0.0|    2.0|    1.0|    0.0|          1.0|       0.0|        0.0|      1.0|        1.0|    0.0|[2.0,6.0,266.0,29...|         1|\n",
            "|   2|  3|   266|   299|     2|     2|     6|     0|           2|        1|         2|       2|         2|     1|       1|  0|41326|       0|     9.0|            0|  0.0|    1.0|    5.0|    0.0|    1.0|    4.0|    0.0|          0.0|       0.0|        0.0|      1.0|        0.0|    0.0|[2.0,3.0,266.0,29...|         1|\n",
            "|   2|  2|   265|     0|     1|     1|     0|     0|           2|        2|         2|       2|         3|     1|       1|  0|41326|       0|     1.0|            0|  0.0|    2.0|    0.0|    1.0|    0.0|    0.0|    0.0|          0.0|       1.0|        0.0|      1.0|        2.0|    0.0|[2.0,2.0,265.0,0....|         0|\n",
            "|   2|  2|   265|     0|     2|     2|     0|     0|           3|        2|         2|       1|         3|     1|       1|  0|41326|       0|     2.0|            0|  0.0|    2.0|    0.0|    0.0|    1.0|    0.0|    0.0|          2.0|       1.0|        0.0|      0.0|        2.0|    0.0|[2.0,2.0,265.0,0....|         0|\n",
            "|   1| 10|   190|   307|     1|     2|     7|     0|           2|        2|         1|       1|         2|     1|       1|  0|41326|       0|     4.0|            0|  1.0|   39.0|    1.0|    1.0|    1.0|    1.0|    0.0|          0.0|       1.0|        1.0|      0.0|        0.0|    0.0|[1.0,10.0,190.0,3...|         1|\n",
            "|   2|  2|   264|     0|     1|     6|     7|     0|           1|        3|         3|       3|         3|     1|       1|  0|41401|       0|     5.0|            0|  0.0|    5.0|    0.0|    1.0|    2.0|    1.0|    0.0|          1.0|       2.0|        2.0|      2.0|        2.0|    0.0|[2.0,2.0,264.0,0....|         0|\n",
            "|   2|  2|   292|   252|     1|     2|     5|     7|           1|        1|         2|       2|         2|     1|       1|  0|41401|       0|     1.0|            0|  0.0|    4.0|    7.0|    1.0|    1.0|    3.0|    1.0|          1.0|       0.0|        0.0|      1.0|        0.0|    0.0|[2.0,2.0,292.0,25...|         1|\n",
            "|   2|  4|   298|     0|     2|     4|     5|     7|           1|        1|         2|       2|         2|     2|       1|  0|41401|       0|     2.0|            0|  0.0|   51.0|    0.0|    0.0|    5.0|    3.0|    1.0|          1.0|       0.0|        0.0|      1.0|        0.0|    1.0|[2.0,4.0,298.0,0....|         0|\n",
            "|   1|  5|   307|     0|     2|     1|     2|     7|           2|        2|         1|       1|         2|     1|       1|150|41327|       1|     2.0|            0|  1.0|    0.0|    0.0|    0.0|    0.0|    2.0|    1.0|          0.0|       1.0|        1.0|      0.0|        0.0|    0.0|[1.0,5.0,307.0,0....|         0|\n",
            "|   1| 21|   189|   307|     2|     2|     5|     7|           2|        1|         2|       2|         2|     1|       1|  0|41326|       0|     1.0|            0|  1.0|   10.0|    1.0|    0.0|    1.0|    3.0|    1.0|          0.0|       0.0|        0.0|      1.0|        0.0|    0.0|[1.0,21.0,189.0,3...|         1|\n",
            "|   1|  2|   307|     0|     1|     1|     0|     0|           2|        1|         2|       2|         2|     1|       3|  0|41326|       0|     1.0|            0|  1.0|    0.0|    0.0|    1.0|    0.0|    0.0|    0.0|          0.0|       0.0|        0.0|      1.0|        0.0|    0.0|[1.0,2.0,307.0,0....|         0|\n",
            "|   1| 12|   307|     0|     1|     2|     7|     0|           2|        1|         2|       1|         2|     1|       1|  0|41326|       0|     2.0|            0|  1.0|    0.0|    0.0|    1.0|    1.0|    1.0|    0.0|          0.0|       0.0|        0.0|      0.0|        0.0|    0.0|[1.0,12.0,307.0,0...|         0|\n",
            "|   1|  2|   307|   307|     1|     2|     5|     7|           2|        2|         3|       3|         2|     1|       1|  0|41326|       0|     4.0|            0|  1.0|    0.0|    1.0|    1.0|    1.0|    3.0|    1.0|          0.0|       1.0|        2.0|      2.0|        0.0|    0.0|[1.0,2.0,307.0,30...|         1|\n",
            "|   1|  2|   307|     0|     3|     1|     2|     7|           2|        2|         1|       1|         3|     1|       3| 10|41326|       3|     4.0|            0|  1.0|    0.0|    0.0|    2.0|    0.0|    2.0|    1.0|          0.0|       1.0|        1.0|      0.0|        2.0|    0.0|[1.0,2.0,307.0,0....|         0|\n",
            "|   2|  4|   264|     0|     1|     1|     2|     0|           1|        3|         2|       1|         2|     1|       1|  0|41326|       0|     4.0|            0|  0.0|    5.0|    0.0|    1.0|    0.0|    2.0|    0.0|          1.0|       2.0|        0.0|      0.0|        0.0|    0.0|[2.0,4.0,264.0,0....|         0|\n",
            "+----+---+------+------+------+------+------+------+------------+---------+----------+--------+----------+------+--------+---+-----+--------+--------+-------------+-----+-------+-------+-------+-------+-------+-------+-------------+----------+-----------+---------+-----------+-------+--------------------+----------+\n",
            "only showing top 20 rows\n",
            "\n"
          ]
        }
      ]
    },
    {
      "cell_type": "markdown",
      "source": [
        "to predict test dataset"
      ],
      "metadata": {
        "id": "n-a1uJ7Znpt4"
      }
    },
    {
      "cell_type": "code",
      "source": [
        "# training dataset performance\n",
        "evaluator = ClusteringEvaluator()\n",
        "silhouette = evaluator.evaluate(predictions)\n",
        "print(\"Silhouette with squared euclidean distance = \" + str(silhouette))"
      ],
      "metadata": {
        "id": "Xq-FZPdaj9nW",
        "outputId": "c4b6a34f-f6a6-4cca-eb1e-d7789122a765",
        "colab": {
          "base_uri": "https://localhost:8080/"
        }
      },
      "execution_count": 68,
      "outputs": [
        {
          "output_type": "stream",
          "name": "stdout",
          "text": [
            "Silhouette with squared euclidean distance = 0.7532297435812325\n"
          ]
        },
        {
          "output_type": "execute_result",
          "data": {
            "text/plain": [
              "0.7532297435812325"
            ]
          },
          "metadata": {},
          "execution_count": 68
        }
      ]
    },
    {
      "cell_type": "code",
      "source": [
        "assembler = VectorAssembler(inputCols=test_df.columns,outputCol=\"features\")\n",
        "\n",
        "kmeans = KMeans(k=2, featuresCol=\"features\")\n",
        "\n",
        "pipeline = Pipeline(stages=[ category_indexer, assembler, kmeans])\n",
        "model = pipeline.fit(test_df)\n",
        "\n",
        "predictions = model.transform(test_df)\n",
        "predictions.show()\n",
        "\n",
        "silhouette = evaluator.evaluate(predictions)\n",
        "print(\"Silhouette with squared euclidean distance = \" + str(silhouette))"
      ],
      "metadata": {
        "id": "CJUvz7VDn0H-",
        "outputId": "ea6fe267-ba7a-48a1-a8fa-64490af374d3",
        "colab": {
          "base_uri": "https://localhost:8080/"
        }
      },
      "execution_count": 69,
      "outputs": [
        {
          "output_type": "stream",
          "name": "stdout",
          "text": [
            "+----+---+------+------+------+------+------+------+------------+---------+----------+--------+----------+------+--------+---+-----+--------+--------+-------------+-----+-------+-------+-------+-------+-------+-------+-------------+----------+-----------+---------+-----------+-------+--------------------+----------+\n",
            "|Type|Age|Breed1|Breed2|Gender|Color1|Color2|Color3|MaturitySize|FurLength|Vaccinated|Dewormed|Sterilized|Health|Quantity|Fee|State|VideoAmt|PhotoAmt|AdoptionSpeed|Type_|Breed1_|Breed2_|Gender_|Color1_|Color2_|Color3_|MaturitySize_|FurLength_|Vaccinated_|Dewormed_|Sterilized_|Health_|            features|prediction|\n",
            "+----+---+------+------+------+------+------+------+------------+---------+----------+--------+----------+------+--------+---+-----+--------+--------+-------------+-----+-------+-------+-------+-------+-------+-------+-------------+----------+-----------+---------+-----------+-------+--------------------+----------+\n",
            "|   2| 24|   265|   288|     1|     1|     5|     7|           3|        2|         3|       3|         3|     1|       1|  0|41401|       0|     4.0|            0|  1.0|    1.0|    9.0|    1.0|    0.0|    3.0|    1.0|          2.0|       1.0|        2.0|      2.0|        1.0|    0.0|[2.0,24.0,265.0,2...|         0|\n",
            "|   1|  1|   307|   307|     3|     1|     2|     7|           2|        2|         2|       2|         2|     1|       5|  0|41326|       0|     4.0|            1|  0.0|    0.0|    1.0|    2.0|    0.0|    0.0|    1.0|          0.0|       1.0|        0.0|      1.0|        0.0|    0.0|[1.0,1.0,307.0,30...|         0|\n",
            "|   1|  2|   307|     0|     2|     2|     0|     0|           2|        2|         1|       2|         2|     1|       1| 40|41327|       0|     4.0|            1|  0.0|    0.0|    0.0|    0.0|    1.0|    1.0|    0.0|          0.0|       1.0|        1.0|      1.0|        0.0|    0.0|[1.0,2.0,307.0,0....|         1|\n",
            "|   1|  1|   307|     0|     2|     1|     2|     7|           1|        2|         2|       2|         2|     1|       1|  0|41326|       0|    15.0|            0|  0.0|    0.0|    0.0|    0.0|    0.0|    0.0|    1.0|          1.0|       1.0|        0.0|      1.0|        0.0|    0.0|[1.0,1.0,307.0,0....|         1|\n",
            "|   1| 12|   307|     0|     2|     2|     5|     0|           2|        1|         1|       1|         1|     1|       1|  0|41326|       0|     3.0|            1|  0.0|    0.0|    0.0|    0.0|    1.0|    3.0|    0.0|          0.0|       0.0|        1.0|      0.0|        2.0|    0.0|[1.0,12.0,307.0,0...|         1|\n",
            "|   2|  3|   265|     0|     2|     7|     0|     0|           1|        2|         2|       1|         2|     1|       1| 50|41401|       0|     4.0|            0|  1.0|    1.0|    0.0|    0.0|    6.0|    1.0|    0.0|          1.0|       1.0|        0.0|      0.0|        0.0|    0.0|[2.0,3.0,265.0,0....|         1|\n",
            "|   2|  6|   300|     0|     2|     1|     2|     4|           2|        2|         3|       3|         3|     1|       1|  0|41326|       0|     0.0|            0|  1.0|   19.0|    0.0|    0.0|    0.0|    0.0|    4.0|          0.0|       1.0|        2.0|      2.0|        1.0|    0.0|[2.0,6.0,300.0,0....|         1|\n",
            "|   1| 24|   307|     0|     2|     2|     0|     0|           2|        2|         3|       3|         3|     1|      20|  0|41332|       0|     1.0|            1|  0.0|    0.0|    0.0|    0.0|    1.0|    1.0|    0.0|          0.0|       1.0|        2.0|      2.0|        1.0|    0.0|[1.0,24.0,307.0,0...|         1|\n",
            "|   1|  2|   141|   307|     1|     2|     7|     0|           2|        2|         2|       2|         2|     1|       1|  0|41401|       0|     2.0|            1|  0.0|    3.0|    1.0|    1.0|    1.0|    2.0|    0.0|          0.0|       1.0|        0.0|      1.0|        0.0|    0.0|[1.0,2.0,141.0,30...|         0|\n",
            "|   1|  3|   141|   109|     2|     3|     5|     7|           2|        1|         3|       1|         2|     1|       1|  0|41326|       0|     2.0|            0|  0.0|    3.0|    3.0|    0.0|    2.0|    3.0|    1.0|          0.0|       0.0|        2.0|      0.0|        0.0|    0.0|[1.0,3.0,141.0,10...|         1|\n",
            "|   2|  3|   265|     0|     2|     2|     4|     0|           1|        2|         2|       2|         2|     1|       1|  0|41326|       0|     1.0|            0|  1.0|    1.0|    0.0|    0.0|    1.0|    4.0|    0.0|          1.0|       1.0|        0.0|      1.0|        0.0|    0.0|[2.0,3.0,265.0,0....|         1|\n",
            "|   2|  2|   265|     0|     3|     1|     2|     0|           1|        2|         2|       2|         2|     1|       4|  0|41326|       0|     1.0|            1|  1.0|    1.0|    0.0|    2.0|    0.0|    0.0|    0.0|          1.0|       1.0|        0.0|      1.0|        0.0|    0.0|[2.0,2.0,265.0,0....|         1|\n",
            "|   1| 11|   307|   307|     1|     2|     6|     0|           2|        2|         2|       2|         2|     1|       1|  0|41326|       1|     3.0|            1|  0.0|    0.0|    1.0|    1.0|    1.0|    5.0|    0.0|          0.0|       1.0|        0.0|      1.0|        0.0|    0.0|[1.0,11.0,307.0,3...|         0|\n",
            "|   1|  8|   307|     0|     2|     4|     5|     7|           2|        1|         3|       3|         3|     1|       1|  0|41326|       0|     4.0|            1|  0.0|    0.0|    0.0|    0.0|    5.0|    3.0|    1.0|          0.0|       0.0|        2.0|      2.0|        1.0|    0.0|[1.0,8.0,307.0,0....|         1|\n",
            "|   2|  2|   247|   266|     2|     2|     7|     0|           1|        1|         2|       1|         3|     1|       1|  0|41326|       0|     2.0|            0|  1.0|   14.0|    2.0|    0.0|    1.0|    2.0|    0.0|          1.0|       0.0|        0.0|      0.0|        1.0|    0.0|[2.0,2.0,247.0,26...|         0|\n",
            "|   2|  1|   265|     0|     2|     6|     7|     0|           1|        3|         3|       3|         3|     1|       3|  0|41326|       0|     3.0|            0|  1.0|    1.0|    0.0|    0.0|    4.0|    2.0|    0.0|          1.0|       2.0|        2.0|      2.0|        1.0|    0.0|[2.0,1.0,265.0,0....|         1|\n",
            "|   1| 12|   307|     0|     3|     1|     2|     0|           1|        1|         3|       3|         3|     1|       3|  0|41326|       0|     3.0|            1|  0.0|    0.0|    0.0|    2.0|    0.0|    0.0|    0.0|          1.0|       0.0|        2.0|      2.0|        1.0|    0.0|[1.0,12.0,307.0,0...|         1|\n",
            "|   1|  2|   307|     0|     2|     2|     0|     0|           1|        1|         3|       3|         2|     1|       1|  0|41326|       0|     2.0|            0|  0.0|    0.0|    0.0|    0.0|    1.0|    1.0|    0.0|          1.0|       0.0|        2.0|      2.0|        0.0|    0.0|[1.0,2.0,307.0,0....|         1|\n",
            "|   1|  2|   307|     0|     2|     1|     2|     0|           2|        2|         1|       1|         3|     1|       1|  0|41324|       0|     1.0|            1|  0.0|    0.0|    0.0|    0.0|    0.0|    0.0|    0.0|          0.0|       1.0|        1.0|      0.0|        1.0|    0.0|[1.0,2.0,307.0,0....|         1|\n",
            "|   1| 36|   189|   307|     2|     1|     0|     0|           3|        1|         3|       3|         3|     1|       1|350|41326|       0|     1.0|            1|  0.0|   11.0|    1.0|    0.0|    0.0|    1.0|    0.0|          2.0|       0.0|        2.0|      2.0|        1.0|    0.0|[1.0,36.0,189.0,3...|         0|\n",
            "+----+---+------+------+------+------+------+------+------------+---------+----------+--------+----------+------+--------+---+-----+--------+--------+-------------+-----+-------+-------+-------+-------+-------+-------+-------------+----------+-----------+---------+-----------+-------+--------------------+----------+\n",
            "only showing top 20 rows\n",
            "\n",
            "Silhouette with squared euclidean distance = 0.8713709186696568\n"
          ]
        }
      ]
    },
    {
      "cell_type": "code",
      "source": [],
      "metadata": {
        "id": "JPAdcH9Bo10X"
      },
      "execution_count": null,
      "outputs": []
    }
  ],
  "metadata": {
    "colab": {
      "provenance": [],
      "authorship_tag": "ABX9TyOQ5K3i0xhLoKB2M0buvhJ9",
      "include_colab_link": true
    },
    "kernelspec": {
      "display_name": "Python 3",
      "name": "python3"
    },
    "language_info": {
      "name": "python"
    }
  },
  "nbformat": 4,
  "nbformat_minor": 0
}