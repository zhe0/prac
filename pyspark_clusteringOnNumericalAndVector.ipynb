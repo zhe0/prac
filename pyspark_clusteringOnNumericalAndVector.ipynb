{
  "cells": [
    {
      "cell_type": "markdown",
      "metadata": {
        "id": "view-in-github",
        "colab_type": "text"
      },
      "source": [
        "<a href=\"https://colab.research.google.com/github/zhe0/prac/blob/main/pyspark_clusteringOnNumericalAndVector.ipynb\" target=\"_parent\"><img src=\"https://colab.research.google.com/assets/colab-badge.svg\" alt=\"Open In Colab\"/></a>"
      ]
    },
    {
      "cell_type": "code",
      "source": [
        "!pip install pyspark\n",
        "import pyspark\n",
        "from pyspark.ml import Pipeline\n",
        "from pyspark.ml.feature import StringIndexer, VectorAssembler\n",
        "from pyspark.ml.evaluation import ClusteringEvaluator\n",
        "from pyspark.ml.clustering import KMeans\n",
        "from pyspark.ml.linalg import Vectors\n",
        "from pyspark.sql import SparkSession"
      ],
      "metadata": {
        "colab": {
          "base_uri": "https://localhost:8080/"
        },
        "id": "7UDVlqDjymwA",
        "outputId": "a085e5e0-a7cb-4cdb-f052-96fd4a738d5d"
      },
      "execution_count": 2,
      "outputs": [
        {
          "output_type": "stream",
          "name": "stdout",
          "text": [
            "Requirement already satisfied: pyspark in /usr/local/lib/python3.10/dist-packages (3.5.0)\n",
            "Requirement already satisfied: py4j==0.10.9.7 in /usr/local/lib/python3.10/dist-packages (from pyspark) (0.10.9.7)\n"
          ]
        }
      ]
    },
    {
      "cell_type": "code",
      "source": [
        "spark = SparkSession.builder.appName(\"ClusteringExample\").getOrCreate()\n",
        "spark"
      ],
      "metadata": {
        "colab": {
          "base_uri": "https://localhost:8080/",
          "height": 221
        },
        "id": "AAZfCIHJ3Hwo",
        "outputId": "ce68c86a-18d1-4221-ca0c-73825c9b48d7"
      },
      "execution_count": 5,
      "outputs": [
        {
          "output_type": "execute_result",
          "data": {
            "text/plain": [
              "<pyspark.sql.session.SparkSession at 0x7ba61c597bb0>"
            ],
            "text/html": [
              "\n",
              "            <div>\n",
              "                <p><b>SparkSession - in-memory</b></p>\n",
              "                \n",
              "        <div>\n",
              "            <p><b>SparkContext</b></p>\n",
              "\n",
              "            <p><a href=\"http://4f819eab091d:4040\">Spark UI</a></p>\n",
              "\n",
              "            <dl>\n",
              "              <dt>Version</dt>\n",
              "                <dd><code>v3.5.0</code></dd>\n",
              "              <dt>Master</dt>\n",
              "                <dd><code>local[*]</code></dd>\n",
              "              <dt>AppName</dt>\n",
              "                <dd><code>ClusteringExample</code></dd>\n",
              "            </dl>\n",
              "        </div>\n",
              "        \n",
              "            </div>\n",
              "        "
            ]
          },
          "metadata": {},
          "execution_count": 5
        }
      ]
    },
    {
      "cell_type": "code",
      "source": [
        "# df = spark.createDataFrame([\n",
        "#     (1.0, Vectors.dense(3.0, 4.0), \"a\"),\n",
        "#     (2.0, Vectors.dense(6.0, 7.0), \"b\"),\n",
        "#     (3.0, Vectors.dense(9.0, 10.0), \"c\"),\n",
        "#     (4.0, Vectors.dense(1.0, 2.0), \"a\"),\n",
        "#     (5.0, Vectors.dense(4.0, 5.0), \"b\")\n",
        "# ], [\"feature1\", \"vector\", \"category\"])\n",
        "\n",
        "data = [\n",
        "    (1.0, Vectors.dense(3.0, 4.0), \"a\"),\n",
        "    (2.0, Vectors.dense(6.0, 7.0), \"b\"),\n",
        "    (3.0, Vectors.dense(9.0, 10.0), \"c\"),\n",
        "    (4.0, Vectors.dense(1.0, 2.0), \"a\"),\n",
        "    (5.0, Vectors.dense(4.0, 5.0), \"b\")\n",
        "]\n",
        "df = spark.createDataFrame(data, [\"feature1\", \"vector\", \"category\"])\n",
        "\n",
        "category_indexer = StringIndexer(inputCol=\"category\", outputCol=\"category_index\")"
      ],
      "metadata": {
        "id": "R9Psz37c3a03"
      },
      "execution_count": 7,
      "outputs": []
    },
    {
      "cell_type": "code",
      "source": [
        "assembler = VectorAssembler(\n",
        "    inputCols=[\"feature1\", \"vector\"],\n",
        "    outputCol=\"features\")\n",
        "\n",
        "kmeans = KMeans(k=2, featuresCol=\"features\")\n",
        "\n",
        "pipeline = Pipeline(stages=[category_indexer, assembler, kmeans])\n",
        "\n",
        "model = pipeline.fit(df)\n",
        "\n",
        "predictions = model.transform(df)"
      ],
      "metadata": {
        "id": "JEZ9qptM524e"
      },
      "execution_count": null,
      "outputs": []
    },
    {
      "cell_type": "code",
      "source": [
        "predictions.show()"
      ],
      "metadata": {
        "colab": {
          "base_uri": "https://localhost:8080/"
        },
        "id": "zfJSso4E44aV",
        "outputId": "d7be19d8-3133-44db-fd44-3baf3d546318"
      },
      "execution_count": 13,
      "outputs": [
        {
          "output_type": "stream",
          "name": "stdout",
          "text": [
            "+--------+----------+--------+--------------+--------------+----------+\n",
            "|feature1|    vector|category|category_index|      features|prediction|\n",
            "+--------+----------+--------+--------------+--------------+----------+\n",
            "|     1.0| [3.0,4.0]|       a|           0.0| [1.0,3.0,4.0]|         1|\n",
            "|     2.0| [6.0,7.0]|       b|           1.0| [2.0,6.0,7.0]|         0|\n",
            "|     3.0|[9.0,10.0]|       c|           2.0|[3.0,9.0,10.0]|         0|\n",
            "|     4.0| [1.0,2.0]|       a|           0.0| [4.0,1.0,2.0]|         1|\n",
            "|     5.0| [4.0,5.0]|       b|           1.0| [5.0,4.0,5.0]|         1|\n",
            "+--------+----------+--------+--------------+--------------+----------+\n",
            "\n"
          ]
        }
      ]
    },
    {
      "cell_type": "code",
      "execution_count": 14,
      "metadata": {
        "id": "k7RjPzbRNty8",
        "colab": {
          "base_uri": "https://localhost:8080/"
        },
        "outputId": "b83a384a-d6f1-42fb-c324-74b9fb8fce71"
      },
      "outputs": [
        {
          "output_type": "stream",
          "name": "stdout",
          "text": [
            "Silhouette with squared euclidean distance = 0.6120640643838152\n",
            "+--------+----------+--------+--------------+--------------+----------+\n",
            "|feature1|    vector|category|category_index|      features|prediction|\n",
            "+--------+----------+--------+--------------+--------------+----------+\n",
            "|     1.0| [3.0,4.0]|       a|           0.0| [1.0,3.0,4.0]|         1|\n",
            "|     2.0| [6.0,7.0]|       b|           1.0| [2.0,6.0,7.0]|         0|\n",
            "|     3.0|[9.0,10.0]|       c|           2.0|[3.0,9.0,10.0]|         0|\n",
            "|     4.0| [1.0,2.0]|       a|           0.0| [4.0,1.0,2.0]|         1|\n",
            "|     5.0| [4.0,5.0]|       b|           1.0| [5.0,4.0,5.0]|         1|\n",
            "+--------+----------+--------+--------------+--------------+----------+\n",
            "\n"
          ]
        }
      ],
      "source": [
        "evaluator = ClusteringEvaluator()\n",
        "silhouette = evaluator.evaluate(predictions)\n",
        "print(\"Silhouette with squared euclidean distance = \" + str(silhouette))\n",
        "predictions.show()"
      ]
    },
    {
      "cell_type": "code",
      "execution_count": null,
      "metadata": {
        "id": "yyyk1zmzR-hH"
      },
      "outputs": [],
      "source": []
    },
    {
      "cell_type": "code",
      "execution_count": null,
      "metadata": {
        "id": "9edmeJujPqVU"
      },
      "outputs": [],
      "source": []
    }
  ],
  "metadata": {
    "colab": {
      "provenance": [],
      "authorship_tag": "ABX9TyO+Ym/pHTtnHLeXpBNV5OV3",
      "include_colab_link": true
    },
    "kernelspec": {
      "display_name": "Python 3",
      "name": "python3"
    },
    "language_info": {
      "name": "python"
    }
  },
  "nbformat": 4,
  "nbformat_minor": 0
}