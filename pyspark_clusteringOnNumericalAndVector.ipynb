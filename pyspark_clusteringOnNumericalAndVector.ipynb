{
  "cells": [
    {
      "cell_type": "markdown",
      "metadata": {
        "id": "view-in-github",
        "colab_type": "text"
      },
      "source": [
        "<a href=\"https://colab.research.google.com/github/zhe0/prac/blob/main/pyspark_clusteringOnNumericalAndVector.ipynb\" target=\"_parent\"><img src=\"https://colab.research.google.com/assets/colab-badge.svg\" alt=\"Open In Colab\"/></a>"
      ]
    },
    {
      "cell_type": "code",
      "source": [
        "!pip install pyspark"
      ],
      "metadata": {
        "id": "jcXEt9octSZm",
        "outputId": "489ab74b-8da6-4405-962a-fd745fb82f0b",
        "colab": {
          "base_uri": "https://localhost:8080/"
        }
      },
      "execution_count": 1,
      "outputs": [
        {
          "output_type": "stream",
          "name": "stdout",
          "text": [
            "Collecting pyspark\n",
            "  Downloading pyspark-3.5.0.tar.gz (316.9 MB)\n",
            "\u001b[2K     \u001b[90m━━━━━━━━━━━━━━━━━━━━━━━━━━━━━━━━━━━━━━━━\u001b[0m \u001b[32m316.9/316.9 MB\u001b[0m \u001b[31m3.0 MB/s\u001b[0m eta \u001b[36m0:00:00\u001b[0m\n",
            "\u001b[?25h  Preparing metadata (setup.py) ... \u001b[?25l\u001b[?25hdone\n",
            "Requirement already satisfied: py4j==0.10.9.7 in /usr/local/lib/python3.10/dist-packages (from pyspark) (0.10.9.7)\n",
            "Building wheels for collected packages: pyspark\n",
            "  Building wheel for pyspark (setup.py) ... \u001b[?25l\u001b[?25hdone\n",
            "  Created wheel for pyspark: filename=pyspark-3.5.0-py2.py3-none-any.whl size=317425345 sha256=ca886c45dd866d03a818ebe972f62f4dae42f03e0488599c7f0bf94953cad10a\n",
            "  Stored in directory: /root/.cache/pip/wheels/41/4e/10/c2cf2467f71c678cfc8a6b9ac9241e5e44a01940da8fbb17fc\n",
            "Successfully built pyspark\n",
            "Installing collected packages: pyspark\n",
            "Successfully installed pyspark-3.5.0\n"
          ]
        }
      ]
    },
    {
      "cell_type": "code",
      "source": [
        "import pyspark\n",
        "from pyspark.ml import Pipeline\n",
        "from pyspark.ml.feature import StringIndexer, VectorAssembler, StandardScaler\n",
        "from pyspark.ml.evaluation import ClusteringEvaluator\n",
        "from pyspark.ml.clustering import KMeans\n",
        "from pyspark.ml.linalg import Vectors\n",
        "from pyspark.sql import SparkSession\n",
        "import time\n",
        "import pandas as pd\n",
        "from sklearn.model_selection import train_test_split"
      ],
      "metadata": {
        "id": "7UDVlqDjymwA"
      },
      "execution_count": 2,
      "outputs": []
    },
    {
      "cell_type": "code",
      "source": [
        "spark = SparkSession.builder.appName(\"ClusteringExample\").getOrCreate()\n",
        "spark"
      ],
      "metadata": {
        "colab": {
          "base_uri": "https://localhost:8080/",
          "height": 221
        },
        "id": "AAZfCIHJ3Hwo",
        "outputId": "91b23bde-4b52-4559-b595-95cd16162695"
      },
      "execution_count": 3,
      "outputs": [
        {
          "output_type": "execute_result",
          "data": {
            "text/plain": [
              "<pyspark.sql.session.SparkSession at 0x7960c54f0b80>"
            ],
            "text/html": [
              "\n",
              "            <div>\n",
              "                <p><b>SparkSession - in-memory</b></p>\n",
              "                \n",
              "        <div>\n",
              "            <p><b>SparkContext</b></p>\n",
              "\n",
              "            <p><a href=\"http://3406a74d278c:4040\">Spark UI</a></p>\n",
              "\n",
              "            <dl>\n",
              "              <dt>Version</dt>\n",
              "                <dd><code>v3.5.0</code></dd>\n",
              "              <dt>Master</dt>\n",
              "                <dd><code>local[*]</code></dd>\n",
              "              <dt>AppName</dt>\n",
              "                <dd><code>ClusteringExample</code></dd>\n",
              "            </dl>\n",
              "        </div>\n",
              "        \n",
              "            </div>\n",
              "        "
            ]
          },
          "metadata": {},
          "execution_count": 3
        }
      ]
    },
    {
      "cell_type": "code",
      "source": [],
      "metadata": {
        "id": "bVvzEZ-XtXbI"
      },
      "execution_count": null,
      "outputs": []
    },
    {
      "cell_type": "code",
      "source": [
        "# data = [\n",
        "#     (1.0, Vectors.dense(3.0, 4.0), \"a\"),\n",
        "#     (2.0, Vectors.dense(6.0, 7.0), \"b\"),\n",
        "#     (3.0, Vectors.dense(9.0, 10.0), \"c\"),\n",
        "#     (4.0, Vectors.dense(1.0, 2.0), \"a\"),\n",
        "#     (5.0, Vectors.dense(4.0, 5.0), \"b\")\n",
        "# ]\n",
        "# df = spark.createDataFrame(data, [\"feature1\", \"vector\", \"category\"])\n",
        "# category_indexer = StringIndexer(inputCol=\"category\", outputCol=\"category_index\")\n",
        "\n",
        "#org: name\tmain_category\tsub_category\timage\tlink\tratings\tno_of_ratings\tdiscount_price\tactual_price\n",
        "#sel: name main_category sub_category ratings no_of_ratings discount_price actual_price\n",
        "\n"
      ],
      "metadata": {
        "id": "R9Psz37c3a03"
      },
      "execution_count": null,
      "outputs": []
    },
    {
      "cell_type": "code",
      "source": [
        "assembler = VectorAssembler(\n",
        "    inputCols=[\"feature1\", \"vector\"],\n",
        "    outputCol=\"features\")\n",
        "\n",
        "kmeans = KMeans(k=2, featuresCol=\"features\")\n",
        "\n",
        "pipeline = Pipeline(stages=[category_indexer, assembler, kmeans])\n",
        "\n",
        "model = pipeline.fit(df)\n",
        "\n",
        "predictions = model.transform(df)"
      ],
      "metadata": {
        "id": "JEZ9qptM524e"
      },
      "execution_count": null,
      "outputs": []
    },
    {
      "cell_type": "code",
      "source": [
        "predictions.show()"
      ],
      "metadata": {
        "colab": {
          "base_uri": "https://localhost:8080/"
        },
        "id": "zfJSso4E44aV",
        "outputId": "d7be19d8-3133-44db-fd44-3baf3d546318"
      },
      "execution_count": null,
      "outputs": [
        {
          "output_type": "stream",
          "name": "stdout",
          "text": [
            "+--------+----------+--------+--------------+--------------+----------+\n",
            "|feature1|    vector|category|category_index|      features|prediction|\n",
            "+--------+----------+--------+--------------+--------------+----------+\n",
            "|     1.0| [3.0,4.0]|       a|           0.0| [1.0,3.0,4.0]|         1|\n",
            "|     2.0| [6.0,7.0]|       b|           1.0| [2.0,6.0,7.0]|         0|\n",
            "|     3.0|[9.0,10.0]|       c|           2.0|[3.0,9.0,10.0]|         0|\n",
            "|     4.0| [1.0,2.0]|       a|           0.0| [4.0,1.0,2.0]|         1|\n",
            "|     5.0| [4.0,5.0]|       b|           1.0| [5.0,4.0,5.0]|         1|\n",
            "+--------+----------+--------+--------------+--------------+----------+\n",
            "\n"
          ]
        }
      ]
    },
    {
      "cell_type": "code",
      "execution_count": null,
      "metadata": {
        "id": "k7RjPzbRNty8",
        "colab": {
          "base_uri": "https://localhost:8080/"
        },
        "outputId": "b83a384a-d6f1-42fb-c324-74b9fb8fce71"
      },
      "outputs": [
        {
          "output_type": "stream",
          "name": "stdout",
          "text": [
            "Silhouette with squared euclidean distance = 0.6120640643838152\n",
            "+--------+----------+--------+--------------+--------------+----------+\n",
            "|feature1|    vector|category|category_index|      features|prediction|\n",
            "+--------+----------+--------+--------------+--------------+----------+\n",
            "|     1.0| [3.0,4.0]|       a|           0.0| [1.0,3.0,4.0]|         1|\n",
            "|     2.0| [6.0,7.0]|       b|           1.0| [2.0,6.0,7.0]|         0|\n",
            "|     3.0|[9.0,10.0]|       c|           2.0|[3.0,9.0,10.0]|         0|\n",
            "|     4.0| [1.0,2.0]|       a|           0.0| [4.0,1.0,2.0]|         1|\n",
            "|     5.0| [4.0,5.0]|       b|           1.0| [5.0,4.0,5.0]|         1|\n",
            "+--------+----------+--------+--------------+--------------+----------+\n",
            "\n"
          ]
        }
      ],
      "source": [
        "evaluator = ClusteringEvaluator()\n",
        "silhouette = evaluator.evaluate(predictions)\n",
        "print(\"Silhouette with squared euclidean distance = \" + str(silhouette))\n",
        "predictions.show()"
      ]
    },
    {
      "cell_type": "code",
      "execution_count": null,
      "metadata": {
        "id": "yyyk1zmzR-hH"
      },
      "outputs": [],
      "source": []
    },
    {
      "cell_type": "markdown",
      "source": [
        "### 寵物領養率的數據分析"
      ],
      "metadata": {
        "id": "CACJNuFLTmRP"
      }
    },
    {
      "cell_type": "markdown",
      "source": [
        "* PetID - Unique hash ID of pet profile\n",
        "* AdoptionSpeed - Categorical speed of adoption. Lower is faster. This is the value to predict. See below section for more info.\n",
        "* Type - Type of animal (1 = Dog, 2 = Cat)\n",
        "* Name - Name of pet (Empty if not named)\n",
        "* Age - Age of pet when listed, in months\n",
        "* Breed1 - Primary breed of pet (Refer to BreedLabels dictionary)\n",
        "* Breed2 - Secondary breed of pet, if pet is of mixed breed (Refer to BreedLabels dictionary)\n",
        "* Gender - Gender of pet (1 = Male, 2 = Female, 3 = Mixed, if profile represents group of pets)\n",
        "* Color1 - Color 1 of pet (Refer to ColorLabels dictionary)\n",
        "* Color2 - Color 2 of pet (Refer to ColorLabels dictionary)\n",
        "* Color3 - Color 3 of pet (Refer to ColorLabels dictionary)\n",
        "* MaturitySize - Size at maturity (1 = Small, 2 = Medium, 3 = Large, 4 = Extra Large, 0 = Not Specified)\n",
        "* FurLength - Fur length (1 = Short, 2 = Medium, 3 = Long, 0 = Not Specified)\n",
        "* Vaccinated - Pet has been vaccinated (1 = Yes, 2 = No, 3 = Not Sure)\n",
        "* Dewormed - Pet has been dewormed (1 = Yes, 2 = No, 3 = Not Sure)\n",
        "* Sterilized - Pet has been spayed / neutered (1 = Yes, 2 = No, 3 = Not Sure)\n",
        "* Health - Health Condition (1 = Healthy, 2 = Minor Injury, 3 = Serious Injury, 0 = Not Specified)\n",
        "* Quantity - Number of pets represented in profile\n",
        "* Fee - Adoption fee (0 = Free)\n",
        "* State - State location in Malaysia (Refer to StateLabels dictionary)\n",
        "* RescuerID - Unique hash ID of rescuer\n",
        "* VideoAmt - Total uploaded videos for this pet\n",
        "* PhotoAmt - Total uploaded photos for this pet\n",
        "* Description - Profile write-up for this pet. The primary language used is English, with some in Malay or Chinese.\n"
      ],
      "metadata": {
        "id": "XDOAraPOXlCW"
      }
    },
    {
      "cell_type": "code",
      "source": [
        "# 貌似要做一定的資料處理...?  NAN 空格 資料行混了\n",
        "# 是我自行上傳的，資料比較多\n",
        "label_col = 'AdoptionSpeed'\n",
        "data = pd.read_csv('./train.csv', index_col=0)\n",
        "# test_data = pd.read_csv('./test.csv', index_col=0) #沒有AdoptionSpeed\n",
        "train_data,test_data=train_test_split(data,test_size=0.2)\n",
        "print(len(train_data),len(test_data))\n",
        "train_data.head()"
      ],
      "metadata": {
        "colab": {
          "base_uri": "https://localhost:8080/",
          "height": 565
        },
        "id": "pHAPd9kzTltS",
        "outputId": "0da856bb-3054-4521-be0c-cb4ad0db886e"
      },
      "execution_count": 10,
      "outputs": [
        {
          "output_type": "stream",
          "name": "stdout",
          "text": [
            "11994 2999\n"
          ]
        },
        {
          "output_type": "execute_result",
          "data": {
            "text/plain": [
              "          Name  Age  Breed1  Breed2  Gender  Color1  Color2  Color3  \\\n",
              "Type                                                                  \n",
              "1      Jin Jin    2     307       0       2       1       0       0   \n",
              "1         Jojo    1     307       0       2       1       2       7   \n",
              "2       Singha    2     265       0       1       1       7       0   \n",
              "2     Xiao Bai   24     266       0       2       2       4       7   \n",
              "1         RODY   12     307       0       1       1       0       0   \n",
              "\n",
              "      MaturitySize  FurLength  ...  Health  Quantity  Fee  State  \\\n",
              "Type                           ...                                 \n",
              "1                2          1  ...       1         1    0  41401   \n",
              "1                1          1  ...       1         1    0  41326   \n",
              "2                2          1  ...       1         1    0  41401   \n",
              "2                2          1  ...       1         1    0  41326   \n",
              "1                2          1  ...       1         1    0  41336   \n",
              "\n",
              "                             RescuerID  VideoAmt  \\\n",
              "Type                                               \n",
              "1     ee2747ce26468ec44c7194e7d1d9dad9         0   \n",
              "1     721008d2ad70e174ecfd501b98bd476d         0   \n",
              "2     095c46a3f95563ef6aeda2f59c77712d         0   \n",
              "2     c5dd3fa6810843a5806906d1991af7f4         0   \n",
              "1     c624610e0c1baf2caa4bd8e43b769f5c         0   \n",
              "\n",
              "                                            Description      PetID  PhotoAmt  \\\n",
              "Type                                                                           \n",
              "1     Jin Jin is the only pup of 5 that could be cau...  05f84991b      10.0   \n",
              "1     7 weeks old puppy with a very lively & hyperac...  bbf6ed419       2.0   \n",
              "2     I found a nice new home for him already :) tha...  1b87c512e       1.0   \n",
              "2                           location: Klang contact no.  27ef6e605       1.0   \n",
              "1     FROM JB:- Looking for a home to call his own. ...  4b7262ad7       2.0   \n",
              "\n",
              "     AdoptionSpeed  \n",
              "Type                \n",
              "1                2  \n",
              "1                2  \n",
              "2                3  \n",
              "2                4  \n",
              "1                3  \n",
              "\n",
              "[5 rows x 23 columns]"
            ],
            "text/html": [
              "\n",
              "  <div id=\"df-6b3be983-89ab-4ad8-aabd-9468bd3fbbcb\" class=\"colab-df-container\">\n",
              "    <div>\n",
              "<style scoped>\n",
              "    .dataframe tbody tr th:only-of-type {\n",
              "        vertical-align: middle;\n",
              "    }\n",
              "\n",
              "    .dataframe tbody tr th {\n",
              "        vertical-align: top;\n",
              "    }\n",
              "\n",
              "    .dataframe thead th {\n",
              "        text-align: right;\n",
              "    }\n",
              "</style>\n",
              "<table border=\"1\" class=\"dataframe\">\n",
              "  <thead>\n",
              "    <tr style=\"text-align: right;\">\n",
              "      <th></th>\n",
              "      <th>Name</th>\n",
              "      <th>Age</th>\n",
              "      <th>Breed1</th>\n",
              "      <th>Breed2</th>\n",
              "      <th>Gender</th>\n",
              "      <th>Color1</th>\n",
              "      <th>Color2</th>\n",
              "      <th>Color3</th>\n",
              "      <th>MaturitySize</th>\n",
              "      <th>FurLength</th>\n",
              "      <th>...</th>\n",
              "      <th>Health</th>\n",
              "      <th>Quantity</th>\n",
              "      <th>Fee</th>\n",
              "      <th>State</th>\n",
              "      <th>RescuerID</th>\n",
              "      <th>VideoAmt</th>\n",
              "      <th>Description</th>\n",
              "      <th>PetID</th>\n",
              "      <th>PhotoAmt</th>\n",
              "      <th>AdoptionSpeed</th>\n",
              "    </tr>\n",
              "    <tr>\n",
              "      <th>Type</th>\n",
              "      <th></th>\n",
              "      <th></th>\n",
              "      <th></th>\n",
              "      <th></th>\n",
              "      <th></th>\n",
              "      <th></th>\n",
              "      <th></th>\n",
              "      <th></th>\n",
              "      <th></th>\n",
              "      <th></th>\n",
              "      <th></th>\n",
              "      <th></th>\n",
              "      <th></th>\n",
              "      <th></th>\n",
              "      <th></th>\n",
              "      <th></th>\n",
              "      <th></th>\n",
              "      <th></th>\n",
              "      <th></th>\n",
              "      <th></th>\n",
              "      <th></th>\n",
              "    </tr>\n",
              "  </thead>\n",
              "  <tbody>\n",
              "    <tr>\n",
              "      <th>1</th>\n",
              "      <td>Jin Jin</td>\n",
              "      <td>2</td>\n",
              "      <td>307</td>\n",
              "      <td>0</td>\n",
              "      <td>2</td>\n",
              "      <td>1</td>\n",
              "      <td>0</td>\n",
              "      <td>0</td>\n",
              "      <td>2</td>\n",
              "      <td>1</td>\n",
              "      <td>...</td>\n",
              "      <td>1</td>\n",
              "      <td>1</td>\n",
              "      <td>0</td>\n",
              "      <td>41401</td>\n",
              "      <td>ee2747ce26468ec44c7194e7d1d9dad9</td>\n",
              "      <td>0</td>\n",
              "      <td>Jin Jin is the only pup of 5 that could be cau...</td>\n",
              "      <td>05f84991b</td>\n",
              "      <td>10.0</td>\n",
              "      <td>2</td>\n",
              "    </tr>\n",
              "    <tr>\n",
              "      <th>1</th>\n",
              "      <td>Jojo</td>\n",
              "      <td>1</td>\n",
              "      <td>307</td>\n",
              "      <td>0</td>\n",
              "      <td>2</td>\n",
              "      <td>1</td>\n",
              "      <td>2</td>\n",
              "      <td>7</td>\n",
              "      <td>1</td>\n",
              "      <td>1</td>\n",
              "      <td>...</td>\n",
              "      <td>1</td>\n",
              "      <td>1</td>\n",
              "      <td>0</td>\n",
              "      <td>41326</td>\n",
              "      <td>721008d2ad70e174ecfd501b98bd476d</td>\n",
              "      <td>0</td>\n",
              "      <td>7 weeks old puppy with a very lively &amp; hyperac...</td>\n",
              "      <td>bbf6ed419</td>\n",
              "      <td>2.0</td>\n",
              "      <td>2</td>\n",
              "    </tr>\n",
              "    <tr>\n",
              "      <th>2</th>\n",
              "      <td>Singha</td>\n",
              "      <td>2</td>\n",
              "      <td>265</td>\n",
              "      <td>0</td>\n",
              "      <td>1</td>\n",
              "      <td>1</td>\n",
              "      <td>7</td>\n",
              "      <td>0</td>\n",
              "      <td>2</td>\n",
              "      <td>1</td>\n",
              "      <td>...</td>\n",
              "      <td>1</td>\n",
              "      <td>1</td>\n",
              "      <td>0</td>\n",
              "      <td>41401</td>\n",
              "      <td>095c46a3f95563ef6aeda2f59c77712d</td>\n",
              "      <td>0</td>\n",
              "      <td>I found a nice new home for him already :) tha...</td>\n",
              "      <td>1b87c512e</td>\n",
              "      <td>1.0</td>\n",
              "      <td>3</td>\n",
              "    </tr>\n",
              "    <tr>\n",
              "      <th>2</th>\n",
              "      <td>Xiao Bai</td>\n",
              "      <td>24</td>\n",
              "      <td>266</td>\n",
              "      <td>0</td>\n",
              "      <td>2</td>\n",
              "      <td>2</td>\n",
              "      <td>4</td>\n",
              "      <td>7</td>\n",
              "      <td>2</td>\n",
              "      <td>1</td>\n",
              "      <td>...</td>\n",
              "      <td>1</td>\n",
              "      <td>1</td>\n",
              "      <td>0</td>\n",
              "      <td>41326</td>\n",
              "      <td>c5dd3fa6810843a5806906d1991af7f4</td>\n",
              "      <td>0</td>\n",
              "      <td>location: Klang contact no.</td>\n",
              "      <td>27ef6e605</td>\n",
              "      <td>1.0</td>\n",
              "      <td>4</td>\n",
              "    </tr>\n",
              "    <tr>\n",
              "      <th>1</th>\n",
              "      <td>RODY</td>\n",
              "      <td>12</td>\n",
              "      <td>307</td>\n",
              "      <td>0</td>\n",
              "      <td>1</td>\n",
              "      <td>1</td>\n",
              "      <td>0</td>\n",
              "      <td>0</td>\n",
              "      <td>2</td>\n",
              "      <td>1</td>\n",
              "      <td>...</td>\n",
              "      <td>1</td>\n",
              "      <td>1</td>\n",
              "      <td>0</td>\n",
              "      <td>41336</td>\n",
              "      <td>c624610e0c1baf2caa4bd8e43b769f5c</td>\n",
              "      <td>0</td>\n",
              "      <td>FROM JB:- Looking for a home to call his own. ...</td>\n",
              "      <td>4b7262ad7</td>\n",
              "      <td>2.0</td>\n",
              "      <td>3</td>\n",
              "    </tr>\n",
              "  </tbody>\n",
              "</table>\n",
              "<p>5 rows × 23 columns</p>\n",
              "</div>\n",
              "    <div class=\"colab-df-buttons\">\n",
              "\n",
              "  <div class=\"colab-df-container\">\n",
              "    <button class=\"colab-df-convert\" onclick=\"convertToInteractive('df-6b3be983-89ab-4ad8-aabd-9468bd3fbbcb')\"\n",
              "            title=\"Convert this dataframe to an interactive table.\"\n",
              "            style=\"display:none;\">\n",
              "\n",
              "  <svg xmlns=\"http://www.w3.org/2000/svg\" height=\"24px\" viewBox=\"0 -960 960 960\">\n",
              "    <path d=\"M120-120v-720h720v720H120Zm60-500h600v-160H180v160Zm220 220h160v-160H400v160Zm0 220h160v-160H400v160ZM180-400h160v-160H180v160Zm440 0h160v-160H620v160ZM180-180h160v-160H180v160Zm440 0h160v-160H620v160Z\"/>\n",
              "  </svg>\n",
              "    </button>\n",
              "\n",
              "  <style>\n",
              "    .colab-df-container {\n",
              "      display:flex;\n",
              "      gap: 12px;\n",
              "    }\n",
              "\n",
              "    .colab-df-convert {\n",
              "      background-color: #E8F0FE;\n",
              "      border: none;\n",
              "      border-radius: 50%;\n",
              "      cursor: pointer;\n",
              "      display: none;\n",
              "      fill: #1967D2;\n",
              "      height: 32px;\n",
              "      padding: 0 0 0 0;\n",
              "      width: 32px;\n",
              "    }\n",
              "\n",
              "    .colab-df-convert:hover {\n",
              "      background-color: #E2EBFA;\n",
              "      box-shadow: 0px 1px 2px rgba(60, 64, 67, 0.3), 0px 1px 3px 1px rgba(60, 64, 67, 0.15);\n",
              "      fill: #174EA6;\n",
              "    }\n",
              "\n",
              "    .colab-df-buttons div {\n",
              "      margin-bottom: 4px;\n",
              "    }\n",
              "\n",
              "    [theme=dark] .colab-df-convert {\n",
              "      background-color: #3B4455;\n",
              "      fill: #D2E3FC;\n",
              "    }\n",
              "\n",
              "    [theme=dark] .colab-df-convert:hover {\n",
              "      background-color: #434B5C;\n",
              "      box-shadow: 0px 1px 3px 1px rgba(0, 0, 0, 0.15);\n",
              "      filter: drop-shadow(0px 1px 2px rgba(0, 0, 0, 0.3));\n",
              "      fill: #FFFFFF;\n",
              "    }\n",
              "  </style>\n",
              "\n",
              "    <script>\n",
              "      const buttonEl =\n",
              "        document.querySelector('#df-6b3be983-89ab-4ad8-aabd-9468bd3fbbcb button.colab-df-convert');\n",
              "      buttonEl.style.display =\n",
              "        google.colab.kernel.accessAllowed ? 'block' : 'none';\n",
              "\n",
              "      async function convertToInteractive(key) {\n",
              "        const element = document.querySelector('#df-6b3be983-89ab-4ad8-aabd-9468bd3fbbcb');\n",
              "        const dataTable =\n",
              "          await google.colab.kernel.invokeFunction('convertToInteractive',\n",
              "                                                    [key], {});\n",
              "        if (!dataTable) return;\n",
              "\n",
              "        const docLinkHtml = 'Like what you see? Visit the ' +\n",
              "          '<a target=\"_blank\" href=https://colab.research.google.com/notebooks/data_table.ipynb>data table notebook</a>'\n",
              "          + ' to learn more about interactive tables.';\n",
              "        element.innerHTML = '';\n",
              "        dataTable['output_type'] = 'display_data';\n",
              "        await google.colab.output.renderOutput(dataTable, element);\n",
              "        const docLink = document.createElement('div');\n",
              "        docLink.innerHTML = docLinkHtml;\n",
              "        element.appendChild(docLink);\n",
              "      }\n",
              "    </script>\n",
              "  </div>\n",
              "\n",
              "\n",
              "<div id=\"df-87343eba-7d86-471a-8a16-fe26d85b6a74\">\n",
              "  <button class=\"colab-df-quickchart\" onclick=\"quickchart('df-87343eba-7d86-471a-8a16-fe26d85b6a74')\"\n",
              "            title=\"Suggest charts\"\n",
              "            style=\"display:none;\">\n",
              "\n",
              "<svg xmlns=\"http://www.w3.org/2000/svg\" height=\"24px\"viewBox=\"0 0 24 24\"\n",
              "     width=\"24px\">\n",
              "    <g>\n",
              "        <path d=\"M19 3H5c-1.1 0-2 .9-2 2v14c0 1.1.9 2 2 2h14c1.1 0 2-.9 2-2V5c0-1.1-.9-2-2-2zM9 17H7v-7h2v7zm4 0h-2V7h2v10zm4 0h-2v-4h2v4z\"/>\n",
              "    </g>\n",
              "</svg>\n",
              "  </button>\n",
              "\n",
              "<style>\n",
              "  .colab-df-quickchart {\n",
              "      --bg-color: #E8F0FE;\n",
              "      --fill-color: #1967D2;\n",
              "      --hover-bg-color: #E2EBFA;\n",
              "      --hover-fill-color: #174EA6;\n",
              "      --disabled-fill-color: #AAA;\n",
              "      --disabled-bg-color: #DDD;\n",
              "  }\n",
              "\n",
              "  [theme=dark] .colab-df-quickchart {\n",
              "      --bg-color: #3B4455;\n",
              "      --fill-color: #D2E3FC;\n",
              "      --hover-bg-color: #434B5C;\n",
              "      --hover-fill-color: #FFFFFF;\n",
              "      --disabled-bg-color: #3B4455;\n",
              "      --disabled-fill-color: #666;\n",
              "  }\n",
              "\n",
              "  .colab-df-quickchart {\n",
              "    background-color: var(--bg-color);\n",
              "    border: none;\n",
              "    border-radius: 50%;\n",
              "    cursor: pointer;\n",
              "    display: none;\n",
              "    fill: var(--fill-color);\n",
              "    height: 32px;\n",
              "    padding: 0;\n",
              "    width: 32px;\n",
              "  }\n",
              "\n",
              "  .colab-df-quickchart:hover {\n",
              "    background-color: var(--hover-bg-color);\n",
              "    box-shadow: 0 1px 2px rgba(60, 64, 67, 0.3), 0 1px 3px 1px rgba(60, 64, 67, 0.15);\n",
              "    fill: var(--button-hover-fill-color);\n",
              "  }\n",
              "\n",
              "  .colab-df-quickchart-complete:disabled,\n",
              "  .colab-df-quickchart-complete:disabled:hover {\n",
              "    background-color: var(--disabled-bg-color);\n",
              "    fill: var(--disabled-fill-color);\n",
              "    box-shadow: none;\n",
              "  }\n",
              "\n",
              "  .colab-df-spinner {\n",
              "    border: 2px solid var(--fill-color);\n",
              "    border-color: transparent;\n",
              "    border-bottom-color: var(--fill-color);\n",
              "    animation:\n",
              "      spin 1s steps(1) infinite;\n",
              "  }\n",
              "\n",
              "  @keyframes spin {\n",
              "    0% {\n",
              "      border-color: transparent;\n",
              "      border-bottom-color: var(--fill-color);\n",
              "      border-left-color: var(--fill-color);\n",
              "    }\n",
              "    20% {\n",
              "      border-color: transparent;\n",
              "      border-left-color: var(--fill-color);\n",
              "      border-top-color: var(--fill-color);\n",
              "    }\n",
              "    30% {\n",
              "      border-color: transparent;\n",
              "      border-left-color: var(--fill-color);\n",
              "      border-top-color: var(--fill-color);\n",
              "      border-right-color: var(--fill-color);\n",
              "    }\n",
              "    40% {\n",
              "      border-color: transparent;\n",
              "      border-right-color: var(--fill-color);\n",
              "      border-top-color: var(--fill-color);\n",
              "    }\n",
              "    60% {\n",
              "      border-color: transparent;\n",
              "      border-right-color: var(--fill-color);\n",
              "    }\n",
              "    80% {\n",
              "      border-color: transparent;\n",
              "      border-right-color: var(--fill-color);\n",
              "      border-bottom-color: var(--fill-color);\n",
              "    }\n",
              "    90% {\n",
              "      border-color: transparent;\n",
              "      border-bottom-color: var(--fill-color);\n",
              "    }\n",
              "  }\n",
              "</style>\n",
              "\n",
              "  <script>\n",
              "    async function quickchart(key) {\n",
              "      const quickchartButtonEl =\n",
              "        document.querySelector('#' + key + ' button');\n",
              "      quickchartButtonEl.disabled = true;  // To prevent multiple clicks.\n",
              "      quickchartButtonEl.classList.add('colab-df-spinner');\n",
              "      try {\n",
              "        const charts = await google.colab.kernel.invokeFunction(\n",
              "            'suggestCharts', [key], {});\n",
              "      } catch (error) {\n",
              "        console.error('Error during call to suggestCharts:', error);\n",
              "      }\n",
              "      quickchartButtonEl.classList.remove('colab-df-spinner');\n",
              "      quickchartButtonEl.classList.add('colab-df-quickchart-complete');\n",
              "    }\n",
              "    (() => {\n",
              "      let quickchartButtonEl =\n",
              "        document.querySelector('#df-87343eba-7d86-471a-8a16-fe26d85b6a74 button');\n",
              "      quickchartButtonEl.style.display =\n",
              "        google.colab.kernel.accessAllowed ? 'block' : 'none';\n",
              "    })();\n",
              "  </script>\n",
              "</div>\n",
              "\n",
              "    </div>\n",
              "  </div>\n"
            ]
          },
          "metadata": {},
          "execution_count": 10
        }
      ]
    },
    {
      "cell_type": "code",
      "source": [
        "train_data[label_col].unique()"
      ],
      "metadata": {
        "id": "0CXDdKcpCcid",
        "outputId": "3d94317c-de75-4241-9c29-3e554be61708",
        "colab": {
          "base_uri": "https://localhost:8080/"
        }
      },
      "execution_count": 23,
      "outputs": [
        {
          "output_type": "execute_result",
          "data": {
            "text/plain": [
              "array([2, 3, 4, 0, 1])"
            ]
          },
          "metadata": {},
          "execution_count": 23
        }
      ]
    },
    {
      "cell_type": "code",
      "source": [
        "#remove not help columns: RescuerID, Images, PetID\n",
        "print(train_data.columns)\n",
        "rm=['Name','RescuerID','PetID','Images','Description']\n",
        "tra=train_data[[i for i in train_data.columns if not i in rm]]\n",
        "test=test_data[[i for i in test_data.columns if not i in rm]]\n",
        "print(tra.columns)"
      ],
      "metadata": {
        "colab": {
          "base_uri": "https://localhost:8080/"
        },
        "id": "BeLLUxN_TyIe",
        "outputId": "10cab5cf-f153-44e7-d957-eb92e3457449"
      },
      "execution_count": 11,
      "outputs": [
        {
          "output_type": "stream",
          "name": "stdout",
          "text": [
            "Index(['Name', 'Age', 'Breed1', 'Breed2', 'Gender', 'Color1', 'Color2',\n",
            "       'Color3', 'MaturitySize', 'FurLength', 'Vaccinated', 'Dewormed',\n",
            "       'Sterilized', 'Health', 'Quantity', 'Fee', 'State', 'RescuerID',\n",
            "       'VideoAmt', 'Description', 'PetID', 'PhotoAmt', 'AdoptionSpeed'],\n",
            "      dtype='object')\n",
            "Index(['Age', 'Breed1', 'Breed2', 'Gender', 'Color1', 'Color2', 'Color3',\n",
            "       'MaturitySize', 'FurLength', 'Vaccinated', 'Dewormed', 'Sterilized',\n",
            "       'Health', 'Quantity', 'Fee', 'State', 'VideoAmt', 'PhotoAmt',\n",
            "       'AdoptionSpeed'],\n",
            "      dtype='object')\n"
          ]
        }
      ]
    },
    {
      "cell_type": "code",
      "source": [
        "tra_df=spark.createDataFrame(list(tra.itertuples(index=False, name=None)), tra.columns.tolist())\n",
        "test_df=spark.createDataFrame(list(test.itertuples(index=False, name=None)), test.columns.tolist())\n",
        "\n",
        "cate=['Breed1','Breed2','Gender','Color1','Color2','Color3','MaturitySize',\n",
        "      'FurLength','Vaccinated','Dewormed','Sterilized','Health']\n",
        "category_indexer=StringIndexer(inputCols=cate, outputCols=[i+'_' for i in cate])\n",
        "\n",
        "scale=[i for i in tra.columns.tolist() if i not in cate]\n",
        "scaler =[]\n",
        "for i in scale:\n",
        "    scaler.append(StandardScaler(inputCol=i, outputCol=i+'_', withStd=True, withMean=False))"
      ],
      "metadata": {
        "id": "a2HSK6AUaoF7"
      },
      "execution_count": 18,
      "outputs": []
    },
    {
      "cell_type": "code",
      "source": [
        "st=time.time()\n",
        "assembler = VectorAssembler(inputCols=tra_df.columns,outputCol=\"features\")\n",
        "\n",
        "kmeans = KMeans(k=2, featuresCol=\"features\")\n",
        "\n",
        "pipeline = Pipeline(stages=[ category_indexer, assembler, kmeans])\n",
        "model = pipeline.fit(tra_df)\n",
        "\n",
        "predictions = model.transform(tra_df)\n",
        "print('exec time: ',(time.time()-st))\n",
        "predictions.show()"
      ],
      "metadata": {
        "colab": {
          "base_uri": "https://localhost:8080/"
        },
        "id": "OP266ObrVrlW",
        "outputId": "0a261fd7-c40e-4305-be03-e46cf1929723"
      },
      "execution_count": 19,
      "outputs": [
        {
          "output_type": "stream",
          "name": "stdout",
          "text": [
            "exec time:  22.96891760826111\n",
            "+---+------+------+------+------+------+------+------------+---------+----------+--------+----------+------+--------+---+-----+--------+--------+-------------+-------+-------+-------+-------+-------+-------+-------------+----------+-----------+---------+-----------+-------+--------------------+----------+\n",
            "|Age|Breed1|Breed2|Gender|Color1|Color2|Color3|MaturitySize|FurLength|Vaccinated|Dewormed|Sterilized|Health|Quantity|Fee|State|VideoAmt|PhotoAmt|AdoptionSpeed|Breed1_|Breed2_|Gender_|Color1_|Color2_|Color3_|MaturitySize_|FurLength_|Vaccinated_|Dewormed_|Sterilized_|Health_|            features|prediction|\n",
            "+---+------+------+------+------+------+------+------------+---------+----------+--------+----------+------+--------+---+-----+--------+--------+-------------+-------+-------+-------+-------+-------+-------+-------------+----------+-----------+---------+-----------+-------+--------------------+----------+\n",
            "|  2|   307|     0|     2|     1|     0|     0|           2|        1|         1|       1|         2|     1|       1|  0|41401|       0|    10.0|            2|    0.0|    0.0|    0.0|    0.0|    0.0|    0.0|          0.0|       0.0|        1.0|      0.0|        0.0|    0.0|[2.0,307.0,0.0,2....|         0|\n",
            "|  1|   307|     0|     2|     1|     2|     7|           1|        1|         2|       1|         2|     1|       1|  0|41326|       0|     2.0|            2|    0.0|    0.0|    0.0|    0.0|    2.0|    1.0|          1.0|       0.0|        0.0|      0.0|        0.0|    0.0|[1.0,307.0,0.0,2....|         0|\n",
            "|  2|   265|     0|     1|     1|     7|     0|           2|        1|         1|       1|         3|     1|       1|  0|41401|       0|     1.0|            3|    2.0|    0.0|    1.0|    0.0|    1.0|    0.0|          0.0|       0.0|        1.0|      0.0|        2.0|    0.0|[2.0,265.0,0.0,1....|         0|\n",
            "| 24|   266|     0|     2|     2|     4|     7|           2|        1|         2|       2|         1|     1|       1|  0|41326|       0|     1.0|            4|    1.0|    0.0|    0.0|    1.0|    5.0|    1.0|          0.0|       0.0|        0.0|      1.0|        1.0|    0.0|[24.0,266.0,0.0,2...|         0|\n",
            "| 12|   307|     0|     1|     1|     0|     0|           2|        1|         1|       1|         1|     1|       1|  0|41336|       0|     2.0|            3|    0.0|    0.0|    1.0|    0.0|    0.0|    0.0|          0.0|       0.0|        1.0|      0.0|        1.0|    0.0|[12.0,307.0,0.0,1...|         0|\n",
            "| 27|   265|   265|     2|     3|     4|     5|           2|        2|         2|       2|         1|     1|       1|  0|41401|       0|     4.0|            4|    2.0|    3.0|    0.0|    2.0|    5.0|    3.0|          0.0|       1.0|        0.0|      1.0|        1.0|    0.0|[27.0,265.0,265.0...|         1|\n",
            "|  2|   307|   307|     2|     2|     7|     0|           2|        1|         1|       1|         3|     1|       2|100|41326|       0|     2.0|            2|    0.0|    1.0|    0.0|    1.0|    1.0|    0.0|          0.0|       0.0|        1.0|      0.0|        2.0|    0.0|[2.0,307.0,307.0,...|         1|\n",
            "|  2|   307|     0|     2|     1|     2|     0|           2|        2|         2|       2|         2|     1|       1|  0|41401|       0|     5.0|            4|    0.0|    0.0|    0.0|    0.0|    2.0|    0.0|          0.0|       1.0|        0.0|      1.0|        0.0|    0.0|[2.0,307.0,0.0,2....|         0|\n",
            "| 12|   266|     0|     2|     1|     7|     0|           4|        1|         1|       1|         1|     1|       1|  0|41401|       0|     1.0|            0|    1.0|    0.0|    0.0|    0.0|    1.0|    0.0|          3.0|       0.0|        1.0|      0.0|        1.0|    0.0|[12.0,266.0,0.0,2...|         0|\n",
            "|  7|   299|   299|     3|     1|     4|     7|           2|        2|         1|       1|         1|     1|       2|  0|41326|       0|     2.0|            4|    3.0|    4.0|    2.0|    0.0|    5.0|    1.0|          0.0|       1.0|        1.0|      0.0|        1.0|    0.0|[7.0,299.0,299.0,...|         1|\n",
            "|  3|   213|   307|     2|     1|     2|     7|           2|        2|         3|       3|         2|     1|       1|  0|41326|       0|     9.0|            3|   15.0|    1.0|    0.0|    0.0|    2.0|    1.0|          0.0|       1.0|        2.0|      2.0|        0.0|    0.0|[3.0,213.0,307.0,...|         1|\n",
            "|  1|   307|     0|     2|     1|     2|     7|           3|        3|         2|       1|         2|     1|       1|  0|41326|       0|     4.0|            2|    0.0|    0.0|    0.0|    0.0|    2.0|    1.0|          2.0|       2.0|        0.0|      0.0|        0.0|    0.0|[1.0,307.0,0.0,2....|         0|\n",
            "|  4|   213|   307|     2|     1|     3|     0|           2|        2|         1|       1|         2|     1|       1|  0|41326|       0|     1.0|            3|   15.0|    1.0|    0.0|    0.0|    6.0|    0.0|          0.0|       1.0|        1.0|      0.0|        0.0|    0.0|[4.0,213.0,307.0,...|         1|\n",
            "|  1|   303|   299|     3|     1|     3|     0|           2|        1|         2|       1|         2|     1|       3|  0|41401|       0|     5.0|            2|   25.0|    4.0|    2.0|    0.0|    6.0|    0.0|          0.0|       0.0|        0.0|      0.0|        0.0|    0.0|[1.0,303.0,299.0,...|         1|\n",
            "|  3|   307|   307|     1|     7|     0|     0|           2|        2|         1|       1|         2|     1|       1|  0|41326|       0|     2.0|            3|    0.0|    1.0|    1.0|    5.0|    0.0|    0.0|          0.0|       1.0|        1.0|      0.0|        0.0|    0.0|[3.0,307.0,307.0,...|         1|\n",
            "| 48|   152|     0|     2|     1|     2|     0|           1|        2|         3|       2|         3|     1|       1|  0|41326|       0|     3.0|            4|   18.0|    0.0|    0.0|    0.0|    2.0|    0.0|          1.0|       1.0|        2.0|      1.0|        2.0|    0.0|[48.0,152.0,0.0,2...|         0|\n",
            "|  3|   266|     0|     2|     6|     7|     0|           2|        1|         1|       1|         2|     1|       1|  0|41401|       1|     3.0|            2|    1.0|    0.0|    0.0|    4.0|    1.0|    0.0|          0.0|       0.0|        1.0|      0.0|        0.0|    0.0|[3.0,266.0,0.0,2....|         0|\n",
            "| 76|   128|     0|     2|     2|     7|     0|           1|        1|         1|       1|         1|     1|       1|  0|41326|       0|     3.0|            4|   22.0|    0.0|    0.0|    1.0|    1.0|    0.0|          1.0|       0.0|        1.0|      0.0|        1.0|    0.0|[76.0,128.0,0.0,2...|         0|\n",
            "|  1|    49|   307|     2|     2|     7|     0|           2|        1|         2|       2|         2|     1|       1|  0|41401|       0|     3.0|            2|   49.0|    1.0|    0.0|    1.0|    1.0|    0.0|          0.0|       0.0|        0.0|      1.0|        0.0|    0.0|[1.0,49.0,307.0,2...|         1|\n",
            "|  2|   307|     0|     1|     2|     7|     0|           2|        1|         1|       1|         2|     1|       1|  0|41326|       0|     5.0|            3|    0.0|    0.0|    1.0|    1.0|    1.0|    0.0|          0.0|       0.0|        1.0|      0.0|        0.0|    0.0|[2.0,307.0,0.0,1....|         0|\n",
            "+---+------+------+------+------+------+------+------------+---------+----------+--------+----------+------+--------+---+-----+--------+--------+-------------+-------+-------+-------+-------+-------+-------+-------------+----------+-----------+---------+-----------+-------+--------------------+----------+\n",
            "only showing top 20 rows\n",
            "\n"
          ]
        }
      ]
    },
    {
      "cell_type": "markdown",
      "source": [
        "to predict test dataset"
      ],
      "metadata": {
        "id": "n-a1uJ7Znpt4"
      }
    },
    {
      "cell_type": "code",
      "source": [
        "# training dataset performance\n",
        "evaluator = ClusteringEvaluator()\n",
        "silhouette = evaluator.evaluate(predictions)\n",
        "print(\"Silhouette with squared euclidean distance = \" + str(silhouette))"
      ],
      "metadata": {
        "colab": {
          "base_uri": "https://localhost:8080/"
        },
        "id": "Xq-FZPdaj9nW",
        "outputId": "06344c9c-3d31-4ef9-a67c-f17bcc7f35a4"
      },
      "execution_count": 20,
      "outputs": [
        {
          "output_type": "stream",
          "name": "stdout",
          "text": [
            "Silhouette with squared euclidean distance = 0.7933820625992595\n"
          ]
        }
      ]
    },
    {
      "cell_type": "code",
      "source": [
        "assembler = VectorAssembler(inputCols=test_df.columns,outputCol=\"features\")\n",
        "\n",
        "kmeans = KMeans(k=2, featuresCol=\"features\")\n",
        "\n",
        "pipeline = Pipeline(stages=[ category_indexer, assembler, kmeans])\n",
        "model = pipeline.fit(test_df)\n",
        "\n",
        "predictions = model.transform(test_df)\n",
        "predictions.show()\n",
        "\n",
        "silhouette = evaluator.evaluate(predictions)\n",
        "print(\"Silhouette with squared euclidean distance = \" + str(silhouette))"
      ],
      "metadata": {
        "colab": {
          "base_uri": "https://localhost:8080/"
        },
        "id": "CJUvz7VDn0H-",
        "outputId": "8b6ab569-1416-4adf-d19f-eb41a3e5046f"
      },
      "execution_count": 21,
      "outputs": [
        {
          "output_type": "stream",
          "name": "stdout",
          "text": [
            "+---+------+------+------+------+------+------+------------+---------+----------+--------+----------+------+--------+---+-----+--------+--------+-------------+-------+-------+-------+-------+-------+-------+-------------+----------+-----------+---------+-----------+-------+--------------------+----------+\n",
            "|Age|Breed1|Breed2|Gender|Color1|Color2|Color3|MaturitySize|FurLength|Vaccinated|Dewormed|Sterilized|Health|Quantity|Fee|State|VideoAmt|PhotoAmt|AdoptionSpeed|Breed1_|Breed2_|Gender_|Color1_|Color2_|Color3_|MaturitySize_|FurLength_|Vaccinated_|Dewormed_|Sterilized_|Health_|            features|prediction|\n",
            "+---+------+------+------+------+------+------+------------+---------+----------+--------+----------+------+--------+---+-----+--------+--------+-------------+-------+-------+-------+-------+-------+-------+-------------+----------+-----------+---------+-----------+-------+--------------------+----------+\n",
            "| 60|   179|     0|     2|     7|     0|     0|           1|        2|         1|       1|         3|     1|       1|  1|41336|       0|     1.0|            0|   10.0|    0.0|    0.0|    5.0|    0.0|    0.0|          1.0|       1.0|        1.0|      0.0|        2.0|    0.0|[60.0,179.0,0.0,2...|         1|\n",
            "|  1|   307|   307|     3|     1|     2|     7|           2|        1|         3|       3|         3|     1|       2|250|41401|       0|    10.0|            2|    0.0|    1.0|    2.0|    0.0|    2.0|    1.0|          0.0|       0.0|        2.0|      2.0|        2.0|    0.0|[1.0,307.0,307.0,...|         0|\n",
            "|  3|   307|   141|     1|     5|     0|     0|           3|        1|         2|       2|         3|     1|       1|  0|41336|       0|     2.0|            2|    0.0|    9.0|    1.0|    3.0|    0.0|    0.0|          2.0|       0.0|        0.0|      1.0|        2.0|    0.0|[3.0,307.0,141.0,...|         1|\n",
            "|  2|   266|     0|     1|     3|     7|     0|           2|        1|         2|       2|         2|     1|       1|  0|41326|       0|     5.0|            1|    1.0|    0.0|    1.0|    2.0|    1.0|    0.0|          0.0|       0.0|        0.0|      1.0|        0.0|    0.0|[2.0,266.0,0.0,1....|         1|\n",
            "|  1|   307|     0|     1|     1|     2|     0|           2|        2|         2|       2|         2|     1|       1|  0|41327|       0|     1.0|            3|    0.0|    0.0|    1.0|    0.0|    2.0|    0.0|          0.0|       1.0|        0.0|      1.0|        0.0|    0.0|[1.0,307.0,0.0,1....|         1|\n",
            "|  4|   266|     0|     1|     3|     7|     0|           2|        1|         2|       1|         2|     1|       1|  0|41401|       0|     2.0|            3|    1.0|    0.0|    1.0|    2.0|    1.0|    0.0|          0.0|       0.0|        0.0|      0.0|        0.0|    0.0|[4.0,266.0,0.0,1....|         1|\n",
            "|  2|   265|   292|     2|     5|     0|     0|           2|        2|         1|       1|         2|     1|       2|  0|41326|       0|     1.0|            1|    2.0|    7.0|    0.0|    3.0|    0.0|    0.0|          0.0|       1.0|        1.0|      0.0|        0.0|    0.0|[2.0,265.0,292.0,...|         0|\n",
            "|  9|   205|     0|     1|     2|     7|     0|           1|        2|         3|       3|         1|     1|       1|  0|41326|       0|     4.0|            2|    8.0|    0.0|    1.0|    1.0|    1.0|    0.0|          1.0|       1.0|        2.0|      2.0|        1.0|    0.0|[9.0,205.0,0.0,1....|         1|\n",
            "|  2|   266|     0|     2|     2|     5|     0|           1|        1|         1|       1|         2|     1|       1|  0|41326|       0|     2.0|            3|    1.0|    0.0|    0.0|    1.0|    3.0|    0.0|          1.0|       0.0|        1.0|      0.0|        0.0|    0.0|[2.0,266.0,0.0,2....|         1|\n",
            "| 30|   218|   307|     1|     2|     7|     0|           2|        2|         1|       1|         1|     1|       1|  0|41326|       0|     4.0|            4|    9.0|    1.0|    1.0|    1.0|    1.0|    0.0|          0.0|       1.0|        1.0|      0.0|        1.0|    0.0|[30.0,218.0,307.0...|         0|\n",
            "|  1|   266|     0|     1|     3|     7|     0|           1|        1|         2|       2|         2|     1|       1|  0|41326|       0|     3.0|            1|    1.0|    0.0|    1.0|    2.0|    1.0|    0.0|          1.0|       0.0|        0.0|      1.0|        0.0|    0.0|[1.0,266.0,0.0,1....|         1|\n",
            "|  3|   292|   264|     3|     6|     7|     0|           1|        2|         2|       2|         2|     1|       3|150|41401|       0|     1.0|            4|    3.0|    5.0|    2.0|    4.0|    1.0|    0.0|          1.0|       1.0|        0.0|      1.0|        0.0|    0.0|[3.0,292.0,264.0,...|         0|\n",
            "|  2|   307|     0|     2|     3|     4|     0|           2|        2|         2|       2|         2|     1|       1|  0|41326|       0|     2.0|            0|    0.0|    0.0|    0.0|    2.0|    5.0|    0.0|          0.0|       1.0|        0.0|      1.0|        0.0|    0.0|[2.0,307.0,0.0,2....|         1|\n",
            "| 10|   218|   128|     2|     2|     7|     0|           1|        1|         3|       3|         1|     1|       1|  0|41327|       0|     3.0|            2|    9.0|   15.0|    0.0|    1.0|    1.0|    0.0|          1.0|       0.0|        2.0|      2.0|        1.0|    0.0|[10.0,218.0,128.0...|         1|\n",
            "| 16|   265|     0|     1|     3|     0|     0|           1|        2|         2|       2|         2|     1|       1|  0|41401|       0|     9.0|            2|    2.0|    0.0|    1.0|    2.0|    0.0|    0.0|          1.0|       1.0|        0.0|      1.0|        0.0|    0.0|[16.0,265.0,0.0,1...|         1|\n",
            "| 12|   141|     0|     1|     2|     0|     0|           3|        1|         3|       3|         3|     1|       1|  0|41326|       0|     1.0|            2|    7.0|    0.0|    1.0|    1.0|    0.0|    0.0|          2.0|       0.0|        2.0|      2.0|        2.0|    0.0|[12.0,141.0,0.0,1...|         1|\n",
            "|  1|   307|     0|     3|     1|     2|     0|           2|        1|         2|       2|         2|     1|       4|  0|41326|       0|     0.0|            1|    0.0|    0.0|    2.0|    0.0|    2.0|    0.0|          0.0|       0.0|        0.0|      1.0|        0.0|    0.0|[1.0,307.0,0.0,3....|         1|\n",
            "|  5|   266|     0|     2|     1|     2|     5|           2|        1|         1|       1|         2|     1|       1|  0|41326|       0|     1.0|            3|    1.0|    0.0|    0.0|    0.0|    2.0|    2.0|          0.0|       0.0|        1.0|      0.0|        0.0|    0.0|[5.0,266.0,0.0,2....|         1|\n",
            "|  2|   227|   307|     2|     2|     0|     0|           2|        1|         1|       1|         2|     1|       1|  0|41326|       0|     4.0|            3|   89.0|    1.0|    0.0|    1.0|    0.0|    0.0|          0.0|       0.0|        1.0|      0.0|        0.0|    0.0|[2.0,227.0,307.0,...|         0|\n",
            "|  1|   266|     0|     1|     1|     0|     0|           2|        1|         2|       1|         2|     1|       1|  0|41326|       0|     3.0|            3|    1.0|    0.0|    1.0|    0.0|    0.0|    0.0|          0.0|       0.0|        0.0|      0.0|        0.0|    0.0|[1.0,266.0,0.0,1....|         1|\n",
            "+---+------+------+------+------+------+------+------------+---------+----------+--------+----------+------+--------+---+-----+--------+--------+-------------+-------+-------+-------+-------+-------+-------+-------------+----------+-----------+---------+-----------+-------+--------------------+----------+\n",
            "only showing top 20 rows\n",
            "\n",
            "Silhouette with squared euclidean distance = 0.805617987968313\n"
          ]
        }
      ]
    },
    {
      "cell_type": "code",
      "source": [],
      "metadata": {
        "id": "JPAdcH9Bo10X"
      },
      "execution_count": null,
      "outputs": []
    },
    {
      "cell_type": "code",
      "source": [],
      "metadata": {
        "id": "ePYpfpq5CM1Y"
      },
      "execution_count": null,
      "outputs": []
    },
    {
      "cell_type": "code",
      "source": [],
      "metadata": {
        "id": "-48Tp1HHHDYJ"
      },
      "execution_count": null,
      "outputs": []
    }
  ],
  "metadata": {
    "colab": {
      "provenance": [],
      "authorship_tag": "ABX9TyMhAElumTwGsmCpIvMuKKO6",
      "include_colab_link": true
    },
    "kernelspec": {
      "display_name": "Python 3",
      "name": "python3"
    },
    "language_info": {
      "name": "python"
    }
  },
  "nbformat": 4,
  "nbformat_minor": 0
}