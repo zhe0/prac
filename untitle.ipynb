{
  "cells": [
    {
      "cell_type": "markdown",
      "metadata": {
        "id": "view-in-github",
        "colab_type": "text"
      },
      "source": [
        "<a href=\"https://colab.research.google.com/github/zhe0/prac/blob/main/untitle.ipynb\" target=\"_parent\"><img src=\"https://colab.research.google.com/assets/colab-badge.svg\" alt=\"Open In Colab\"/></a>"
      ]
    },
    {
      "cell_type": "code",
      "source": [
        "print('在在colab存ipynb建議用github副本，確認有效．只是不能隨意按下隨意按下ctrl+s，仰賴檔案的存副本到存副本到github')"
      ],
      "metadata": {
        "colab": {
          "base_uri": "https://localhost:8080/"
        },
        "id": "4MJHXG-NDYSq",
        "outputId": "372298e8-26e2-480c-8da4-3b25606f0ead"
      },
      "execution_count": null,
      "outputs": [
        {
          "output_type": "stream",
          "name": "stdout",
          "text": [
            "在在colab存ipynb建議用github副本，確認有效．只是不能隨意按下隨意按下ctrl+s，仰賴檔案的存副本到存副本到github\n"
          ]
        }
      ]
    },
    {
      "cell_type": "code",
      "source": [
        "!apt-get install r-base r-base-dev\n",
        "# !apt-get update\n",
        "# !apt-get install --yes git ssh python3-venv\n",
        "# !apt-get install r-base r-base-dev gdal-bin python-gdal python3-gdal libgdal-dev libproj-dev proj-data proj-bin libgeos-dev libudunits2-dev libv8-dev libprotobuf-dev libxml2 libjq-dev\n",
        "# !apt-get install qgis saga"
      ],
      "metadata": {
        "id": "39Hm6w4q7lys",
        "outputId": "f42608d7-e07b-4c75-e5bf-c1ef0fbba462",
        "colab": {
          "base_uri": "https://localhost:8080/"
        }
      },
      "execution_count": 1,
      "outputs": [
        {
          "output_type": "stream",
          "name": "stdout",
          "text": [
            "Reading package lists... Done\n",
            "Building dependency tree       \n",
            "Reading state information... Done\n",
            "r-base-dev is already the newest version (4.2.2.20221110-1.2004.0).\n",
            "r-base is already the newest version (4.2.2.20221110-1.2004.0).\n",
            "0 upgraded, 0 newly installed, 0 to remove and 22 not upgraded.\n"
          ]
        }
      ]
    },
    {
      "cell_type": "code",
      "source": [
        "# !pip install rpy2\n",
        "!pip install -Iv rpy2==3.4.2 "
      ],
      "metadata": {
        "id": "pStlwWhNbQkO",
        "outputId": "03e080d6-6a18-4aa5-ea74-42c6ac1670ae",
        "colab": {
          "base_uri": "https://localhost:8080/",
          "height": 1000
        }
      },
      "execution_count": 2,
      "outputs": [
        {
          "output_type": "stream",
          "name": "stdout",
          "text": [
            "Using pip 22.0.4 from /usr/local/lib/python3.9/dist-packages/pip (python 3.9)\n",
            "Looking in indexes: https://pypi.org/simple, https://us-python.pkg.dev/colab-wheels/public/simple/\n",
            "Collecting rpy2==3.4.2\n",
            "  Downloading rpy2-3.4.2.tar.gz (186 kB)\n",
            "\u001b[2K     \u001b[90m━━━━━━━━━━━━━━━━━━━━━━━━━━━━━━━━━━━━━━━\u001b[0m \u001b[32m186.1/186.1 KB\u001b[0m \u001b[31m3.9 MB/s\u001b[0m eta \u001b[36m0:00:00\u001b[0m\n",
            "\u001b[?25h  Running command python setup.py egg_info\n",
            "  ['cffi>=1.10.0', 'jinja2', 'pytz', 'tzlocal']\n",
            "  running egg_info\n",
            "  creating /tmp/pip-pip-egg-info-tg2ysngj/rpy2.egg-info\n",
            "  writing /tmp/pip-pip-egg-info-tg2ysngj/rpy2.egg-info/PKG-INFO\n",
            "  writing dependency_links to /tmp/pip-pip-egg-info-tg2ysngj/rpy2.egg-info/dependency_links.txt\n",
            "  writing requirements to /tmp/pip-pip-egg-info-tg2ysngj/rpy2.egg-info/requires.txt\n",
            "  writing top-level names to /tmp/pip-pip-egg-info-tg2ysngj/rpy2.egg-info/top_level.txt\n",
            "  writing manifest file '/tmp/pip-pip-egg-info-tg2ysngj/rpy2.egg-info/SOURCES.txt'\n",
            "  package init file './rpy2/tests/rlike/__init__.py' not found (or not a regular file)\n",
            "  reading manifest file '/tmp/pip-pip-egg-info-tg2ysngj/rpy2.egg-info/SOURCES.txt'\n",
            "  reading manifest template 'MANIFEST.in'\n",
            "  warning: no files found matching 'README' anywhere in distribution\n",
            "  warning: no previously-included files matching '*patch*' found anywhere in distribution\n",
            "  warning: no previously-included files matching '*diff*' found anywhere in distribution\n",
            "  warning: no previously-included files matching '.hg' found anywhere in distribution\n",
            "  warning: no files found matching 'MANIFEST'\n",
            "  warning: no files found matching '_rinterface_cffi_build'\n",
            "  warning: no files found matching 'rpy/__init__.py'\n",
            "  warning: no files found matching 'rpy/situation.py'\n",
            "  warning: no files found matching '*.py' under directory 'rpy/robjects'\n",
            "  warning: no files found matching '*.py' under directory 'rpy/ipython'\n",
            "  warning: no files found matching '*.py' under directory 'rpy/interactive'\n",
            "  warning: no files found matching '*.py' under directory 'rpy/rlike'\n",
            "  no previously-included directories found matching 'dist'\n",
            "  warning: no files found matching 'doc/source/rpy2_logo.png'\n",
            "  adding license file 'AUTHORS'\n",
            "  writing manifest file '/tmp/pip-pip-egg-info-tg2ysngj/rpy2.egg-info/SOURCES.txt'\n",
            "  Preparing metadata (setup.py) ... \u001b[?25l\u001b[?25hdone\n",
            "Collecting cffi>=1.10.0\n",
            "  Downloading cffi-1.15.1-cp39-cp39-manylinux_2_17_x86_64.manylinux2014_x86_64.whl (441 kB)\n",
            "\u001b[2K     \u001b[90m━━━━━━━━━━━━━━━━━━━━━━━━━━━━━━━━━━━━━━\u001b[0m \u001b[32m441.2/441.2 KB\u001b[0m \u001b[31m15.0 MB/s\u001b[0m eta \u001b[36m0:00:00\u001b[0m\n",
            "\u001b[?25hCollecting jinja2\n",
            "  Downloading Jinja2-3.1.2-py3-none-any.whl (133 kB)\n",
            "\u001b[2K     \u001b[90m━━━━━━━━━━━━━━━━━━━━━━━━━━━━━━━━━━━━━━━\u001b[0m \u001b[32m133.1/133.1 KB\u001b[0m \u001b[31m7.8 MB/s\u001b[0m eta \u001b[36m0:00:00\u001b[0m\n",
            "\u001b[?25hCollecting pytz\n",
            "  Downloading pytz-2022.7.1-py2.py3-none-any.whl (499 kB)\n",
            "\u001b[2K     \u001b[90m━━━━━━━━━━━━━━━━━━━━━━━━━━━━━━━━━━━━━━\u001b[0m \u001b[32m499.4/499.4 KB\u001b[0m \u001b[31m17.2 MB/s\u001b[0m eta \u001b[36m0:00:00\u001b[0m\n",
            "\u001b[?25hCollecting tzlocal\n",
            "  Downloading tzlocal-4.2-py3-none-any.whl (19 kB)\n",
            "Collecting pycparser\n",
            "  Downloading pycparser-2.21-py2.py3-none-any.whl (118 kB)\n",
            "\u001b[2K     \u001b[90m━━━━━━━━━━━━━━━━━━━━━━━━━━━━━━━━━━━━━━━\u001b[0m \u001b[32m118.7/118.7 KB\u001b[0m \u001b[31m5.3 MB/s\u001b[0m eta \u001b[36m0:00:00\u001b[0m\n",
            "\u001b[?25hCollecting MarkupSafe>=2.0\n",
            "  Downloading MarkupSafe-2.1.2-cp39-cp39-manylinux_2_17_x86_64.manylinux2014_x86_64.whl (25 kB)\n",
            "Collecting pytz-deprecation-shim\n",
            "  Downloading pytz_deprecation_shim-0.1.0.post0-py2.py3-none-any.whl (15 kB)\n",
            "Collecting tzdata\n",
            "  Downloading tzdata-2022.7-py2.py3-none-any.whl (340 kB)\n",
            "\u001b[2K     \u001b[90m━━━━━━━━━━━━━━━━━━━━━━━━━━━━━━━━━━━━━━━\u001b[0m \u001b[32m340.1/340.1 KB\u001b[0m \u001b[31m5.1 MB/s\u001b[0m eta \u001b[36m0:00:00\u001b[0m\n",
            "\u001b[?25hBuilding wheels for collected packages: rpy2\n",
            "  Running command python setup.py bdist_wheel\n",
            "  ['cffi>=1.10.0', 'jinja2', 'pytz', 'tzlocal']\n",
            "  running bdist_wheel\n",
            "  running build\n",
            "  cffi mode: CFFI_MODE.ANY\n",
            "  running build_py\n",
            "  file _rinterface_cffi_abi.py (for module _rinterface_cffi_abi) not found\n",
            "  creating build\n",
            "  creating build/lib.linux-x86_64-3.9\n",
            "  creating build/lib.linux-x86_64-3.9/rpy2\n",
            "  copying ./rpy2/situation.py -> build/lib.linux-x86_64-3.9/rpy2\n",
            "  copying ./rpy2/_rinterface_cffi_build.py -> build/lib.linux-x86_64-3.9/rpy2\n",
            "  copying ./rpy2/rinterface.py -> build/lib.linux-x86_64-3.9/rpy2\n",
            "  copying ./rpy2/__init__.py -> build/lib.linux-x86_64-3.9/rpy2\n",
            "  creating build/lib.linux-x86_64-3.9/rpy2/rlike\n",
            "  copying ./rpy2/rlike/indexing.py -> build/lib.linux-x86_64-3.9/rpy2/rlike\n",
            "  copying ./rpy2/rlike/container.py -> build/lib.linux-x86_64-3.9/rpy2/rlike\n",
            "  copying ./rpy2/rlike/__init__.py -> build/lib.linux-x86_64-3.9/rpy2/rlike\n",
            "  copying ./rpy2/rlike/functional.py -> build/lib.linux-x86_64-3.9/rpy2/rlike\n",
            "  creating build/lib.linux-x86_64-3.9/rpy2/rinterface_lib\n",
            "  copying ./rpy2/rinterface_lib/ffi_proxy.py -> build/lib.linux-x86_64-3.9/rpy2/rinterface_lib\n",
            "  copying ./rpy2/rinterface_lib/embedded.py -> build/lib.linux-x86_64-3.9/rpy2/rinterface_lib\n",
            "  copying ./rpy2/rinterface_lib/sexp.py -> build/lib.linux-x86_64-3.9/rpy2/rinterface_lib\n",
            "  copying ./rpy2/rinterface_lib/embedded_mswin.py -> build/lib.linux-x86_64-3.9/rpy2/rinterface_lib\n",
            "  copying ./rpy2/rinterface_lib/_rinterface_capi.py -> build/lib.linux-x86_64-3.9/rpy2/rinterface_lib\n",
            "  copying ./rpy2/rinterface_lib/na_values.py -> build/lib.linux-x86_64-3.9/rpy2/rinterface_lib\n",
            "  copying ./rpy2/rinterface_lib/bufferprotocol.py -> build/lib.linux-x86_64-3.9/rpy2/rinterface_lib\n",
            "  copying ./rpy2/rinterface_lib/__init__.py -> build/lib.linux-x86_64-3.9/rpy2/rinterface_lib\n",
            "  copying ./rpy2/rinterface_lib/memorymanagement.py -> build/lib.linux-x86_64-3.9/rpy2/rinterface_lib\n",
            "  copying ./rpy2/rinterface_lib/callbacks.py -> build/lib.linux-x86_64-3.9/rpy2/rinterface_lib\n",
            "  copying ./rpy2/rinterface_lib/openrlib.py -> build/lib.linux-x86_64-3.9/rpy2/rinterface_lib\n",
            "  copying ./rpy2/rinterface_lib/conversion.py -> build/lib.linux-x86_64-3.9/rpy2/rinterface_lib\n",
            "  creating build/lib.linux-x86_64-3.9/rpy2/robjects\n",
            "  copying ./rpy2/robjects/packages.py -> build/lib.linux-x86_64-3.9/rpy2/robjects\n",
            "  copying ./rpy2/robjects/packages_utils.py -> build/lib.linux-x86_64-3.9/rpy2/robjects\n",
            "  copying ./rpy2/robjects/numpy2ri.py -> build/lib.linux-x86_64-3.9/rpy2/robjects\n",
            "  copying ./rpy2/robjects/functions.py -> build/lib.linux-x86_64-3.9/rpy2/robjects\n",
            "  copying ./rpy2/robjects/help.py -> build/lib.linux-x86_64-3.9/rpy2/robjects\n",
            "  copying ./rpy2/robjects/constants.py -> build/lib.linux-x86_64-3.9/rpy2/robjects\n",
            "  copying ./rpy2/robjects/robject.py -> build/lib.linux-x86_64-3.9/rpy2/robjects\n",
            "  copying ./rpy2/robjects/environments.py -> build/lib.linux-x86_64-3.9/rpy2/robjects\n",
            "  copying ./rpy2/robjects/vectors.py -> build/lib.linux-x86_64-3.9/rpy2/robjects\n",
            "  copying ./rpy2/robjects/__init__.py -> build/lib.linux-x86_64-3.9/rpy2/robjects\n",
            "  copying ./rpy2/robjects/language.py -> build/lib.linux-x86_64-3.9/rpy2/robjects\n",
            "  copying ./rpy2/robjects/methods.py -> build/lib.linux-x86_64-3.9/rpy2/robjects\n",
            "  copying ./rpy2/robjects/pandas2ri.py -> build/lib.linux-x86_64-3.9/rpy2/robjects\n",
            "  copying ./rpy2/robjects/conversion.py -> build/lib.linux-x86_64-3.9/rpy2/robjects\n",
            "  creating build/lib.linux-x86_64-3.9/rpy2/robjects/lib\n",
            "  copying ./rpy2/robjects/lib/tidyr.py -> build/lib.linux-x86_64-3.9/rpy2/robjects/lib\n",
            "  copying ./rpy2/robjects/lib/grdevices.py -> build/lib.linux-x86_64-3.9/rpy2/robjects/lib\n",
            "  copying ./rpy2/robjects/lib/grid.py -> build/lib.linux-x86_64-3.9/rpy2/robjects/lib\n",
            "  copying ./rpy2/robjects/lib/dbplyr.py -> build/lib.linux-x86_64-3.9/rpy2/robjects/lib\n",
            "  copying ./rpy2/robjects/lib/__init__.py -> build/lib.linux-x86_64-3.9/rpy2/robjects/lib\n",
            "  copying ./rpy2/robjects/lib/dplyr.py -> build/lib.linux-x86_64-3.9/rpy2/robjects/lib\n",
            "  copying ./rpy2/robjects/lib/ggplot2.py -> build/lib.linux-x86_64-3.9/rpy2/robjects/lib\n",
            "  creating build/lib.linux-x86_64-3.9/rpy2/interactive\n",
            "  copying ./rpy2/interactive/packages.py -> build/lib.linux-x86_64-3.9/rpy2/interactive\n",
            "  copying ./rpy2/interactive/process_revents.py -> build/lib.linux-x86_64-3.9/rpy2/interactive\n",
            "  copying ./rpy2/interactive/__init__.py -> build/lib.linux-x86_64-3.9/rpy2/interactive\n",
            "  creating build/lib.linux-x86_64-3.9/rpy2/ipython\n",
            "  copying ./rpy2/ipython/rmagic.py -> build/lib.linux-x86_64-3.9/rpy2/ipython\n",
            "  copying ./rpy2/ipython/html.py -> build/lib.linux-x86_64-3.9/rpy2/ipython\n",
            "  copying ./rpy2/ipython/__init__.py -> build/lib.linux-x86_64-3.9/rpy2/ipython\n",
            "  copying ./rpy2/ipython/ggplot.py -> build/lib.linux-x86_64-3.9/rpy2/ipython\n",
            "  creating build/lib.linux-x86_64-3.9/rpy2/tests\n",
            "  copying ./rpy2/tests/__init__.py -> build/lib.linux-x86_64-3.9/rpy2/tests\n",
            "  copying ./rpy2/tests/utils.py -> build/lib.linux-x86_64-3.9/rpy2/tests\n",
            "  creating build/lib.linux-x86_64-3.9/rpy2/tests/rinterface\n",
            "  copying ./rpy2/tests/rinterface/test_vector_numpy.py -> build/lib.linux-x86_64-3.9/rpy2/tests/rinterface\n",
            "  copying ./rpy2/tests/rinterface/test_externalptr.py -> build/lib.linux-x86_64-3.9/rpy2/tests/rinterface\n",
            "  copying ./rpy2/tests/rinterface/test_vector_int.py -> build/lib.linux-x86_64-3.9/rpy2/tests/rinterface\n",
            "  copying ./rpy2/tests/rinterface/test_vector_byte.py -> build/lib.linux-x86_64-3.9/rpy2/tests/rinterface\n",
            "  copying ./rpy2/tests/rinterface/test_vectors.py -> build/lib.linux-x86_64-3.9/rpy2/tests/rinterface\n",
            "  copying ./rpy2/tests/rinterface/test_threading.py -> build/lib.linux-x86_64-3.9/rpy2/tests/rinterface\n",
            "  copying ./rpy2/tests/rinterface/test_vector_bool.py -> build/lib.linux-x86_64-3.9/rpy2/tests/rinterface\n",
            "  copying ./rpy2/tests/rinterface/test_vector_list.py -> build/lib.linux-x86_64-3.9/rpy2/tests/rinterface\n",
            "  copying ./rpy2/tests/rinterface/test_embedded_r.py -> build/lib.linux-x86_64-3.9/rpy2/tests/rinterface\n",
            "  copying ./rpy2/tests/rinterface/test_vector_str.py -> build/lib.linux-x86_64-3.9/rpy2/tests/rinterface\n",
            "  copying ./rpy2/tests/rinterface/test_noinitialization.py -> build/lib.linux-x86_64-3.9/rpy2/tests/rinterface\n",
            "  copying ./rpy2/tests/rinterface/test_environment.py -> build/lib.linux-x86_64-3.9/rpy2/tests/rinterface\n",
            "  copying ./rpy2/tests/rinterface/test_memorymanagement.py -> build/lib.linux-x86_64-3.9/rpy2/tests/rinterface\n",
            "  copying ./rpy2/tests/rinterface/test_vector_lang.py -> build/lib.linux-x86_64-3.9/rpy2/tests/rinterface\n",
            "  copying ./rpy2/tests/rinterface/__init__.py -> build/lib.linux-x86_64-3.9/rpy2/tests/rinterface\n",
            "  copying ./rpy2/tests/rinterface/test_openrlib.py -> build/lib.linux-x86_64-3.9/rpy2/tests/rinterface\n",
            "  copying ./rpy2/tests/rinterface/test_endr.py -> build/lib.linux-x86_64-3.9/rpy2/tests/rinterface\n",
            "  copying ./rpy2/tests/rinterface/test_functions.py -> build/lib.linux-x86_64-3.9/rpy2/tests/rinterface\n",
            "  copying ./rpy2/tests/rinterface/test_vector_float.py -> build/lib.linux-x86_64-3.9/rpy2/tests/rinterface\n",
            "  copying ./rpy2/tests/rinterface/test_na.py -> build/lib.linux-x86_64-3.9/rpy2/tests/rinterface\n",
            "  copying ./rpy2/tests/rinterface/test_bufferprotocol.py -> build/lib.linux-x86_64-3.9/rpy2/tests/rinterface\n",
            "  copying ./rpy2/tests/rinterface/test_vector_pairlist.py -> build/lib.linux-x86_64-3.9/rpy2/tests/rinterface\n",
            "  copying ./rpy2/tests/rinterface/test_vector_complex.py -> build/lib.linux-x86_64-3.9/rpy2/tests/rinterface\n",
            "  copying ./rpy2/tests/rinterface/test_symbol.py -> build/lib.linux-x86_64-3.9/rpy2/tests/rinterface\n",
            "  copying ./rpy2/tests/rinterface/test_sexp.py -> build/lib.linux-x86_64-3.9/rpy2/tests/rinterface\n",
            "  copying ./rpy2/tests/rinterface/test_callbacks.py -> build/lib.linux-x86_64-3.9/rpy2/tests/rinterface\n",
            "  package init file './rpy2/tests/rlike/__init__.py' not found (or not a regular file)\n",
            "  creating build/lib.linux-x86_64-3.9/rpy2/tests/rlike\n",
            "  copying ./rpy2/tests/rlike/test_container.py -> build/lib.linux-x86_64-3.9/rpy2/tests/rlike\n",
            "  copying ./rpy2/tests/rlike/test_functional.py -> build/lib.linux-x86_64-3.9/rpy2/tests/rlike\n",
            "  copying ./rpy2/tests/rlike/test_indexing.py -> build/lib.linux-x86_64-3.9/rpy2/tests/rlike\n",
            "  creating build/lib.linux-x86_64-3.9/rpy2/tests/robjects\n",
            "  copying ./rpy2/tests/robjects/test_conversion.py -> build/lib.linux-x86_64-3.9/rpy2/tests/robjects\n",
            "  copying ./rpy2/tests/robjects/test_vector.py -> build/lib.linux-x86_64-3.9/rpy2/tests/robjects\n",
            "  copying ./rpy2/tests/robjects/test_translated_function.py -> build/lib.linux-x86_64-3.9/rpy2/tests/robjects\n",
            "  copying ./rpy2/tests/robjects/test_array.py -> build/lib.linux-x86_64-3.9/rpy2/tests/robjects\n",
            "  copying ./rpy2/tests/robjects/test_packages.py -> build/lib.linux-x86_64-3.9/rpy2/tests/robjects\n",
            "  copying ./rpy2/tests/robjects/test_methods.py -> build/lib.linux-x86_64-3.9/rpy2/tests/robjects\n",
            "  copying ./rpy2/tests/robjects/test_packages_utils.py -> build/lib.linux-x86_64-3.9/rpy2/tests/robjects\n",
            "  copying ./rpy2/tests/robjects/test_formula.py -> build/lib.linux-x86_64-3.9/rpy2/tests/robjects\n",
            "  copying ./rpy2/tests/robjects/test_vector_datetime.py -> build/lib.linux-x86_64-3.9/rpy2/tests/robjects\n",
            "  copying ./rpy2/tests/robjects/test_function.py -> build/lib.linux-x86_64-3.9/rpy2/tests/robjects\n",
            "  copying ./rpy2/tests/robjects/test_robjects.py -> build/lib.linux-x86_64-3.9/rpy2/tests/robjects\n",
            "  copying ./rpy2/tests/robjects/test_environment.py -> build/lib.linux-x86_64-3.9/rpy2/tests/robjects\n",
            "  copying ./rpy2/tests/robjects/test_pandas_conversions.py -> build/lib.linux-x86_64-3.9/rpy2/tests/robjects\n",
            "  copying ./rpy2/tests/robjects/__init__.py -> build/lib.linux-x86_64-3.9/rpy2/tests/robjects\n",
            "  copying ./rpy2/tests/robjects/test_help.py -> build/lib.linux-x86_64-3.9/rpy2/tests/robjects\n",
            "  copying ./rpy2/tests/robjects/test_rs4.py -> build/lib.linux-x86_64-3.9/rpy2/tests/robjects\n",
            "  copying ./rpy2/tests/robjects/test_language.py -> build/lib.linux-x86_64-3.9/rpy2/tests/robjects\n",
            "  copying ./rpy2/tests/robjects/test_vector_factor.py -> build/lib.linux-x86_64-3.9/rpy2/tests/robjects\n",
            "  copying ./rpy2/tests/robjects/test_serialization.py -> build/lib.linux-x86_64-3.9/rpy2/tests/robjects\n",
            "  copying ./rpy2/tests/robjects/test_vector_extractdelegator.py -> build/lib.linux-x86_64-3.9/rpy2/tests/robjects\n",
            "  copying ./rpy2/tests/robjects/test_dataframe.py -> build/lib.linux-x86_64-3.9/rpy2/tests/robjects\n",
            "  copying ./rpy2/tests/robjects/test_conversion_numpy.py -> build/lib.linux-x86_64-3.9/rpy2/tests/robjects\n",
            "  creating build/lib.linux-x86_64-3.9/rpy2/tests/ipython\n",
            "  copying ./rpy2/tests/ipython/test_html.py -> build/lib.linux-x86_64-3.9/rpy2/tests/ipython\n",
            "  copying ./rpy2/tests/ipython/test_rmagic.py -> build/lib.linux-x86_64-3.9/rpy2/tests/ipython\n",
            "  copying ./rpy2/tests/ipython/__init__.py -> build/lib.linux-x86_64-3.9/rpy2/tests/ipython\n",
            "  copying ./rpy2/tests/ipython/test_ggplot.py -> build/lib.linux-x86_64-3.9/rpy2/tests/ipython\n",
            "  creating build/lib.linux-x86_64-3.9/rpy2/tests/robjects/lib\n",
            "  copying ./rpy2/tests/robjects/lib/test_dbplyr.py -> build/lib.linux-x86_64-3.9/rpy2/tests/robjects/lib\n",
            "  copying ./rpy2/tests/robjects/lib/test_grdevices.py -> build/lib.linux-x86_64-3.9/rpy2/tests/robjects/lib\n",
            "  copying ./rpy2/tests/robjects/lib/test_ggplot2.py -> build/lib.linux-x86_64-3.9/rpy2/tests/robjects/lib\n",
            "  copying ./rpy2/tests/robjects/lib/test_dplyr.py -> build/lib.linux-x86_64-3.9/rpy2/tests/robjects/lib\n",
            "  copying ./rpy2/tests/robjects/lib/__init__.py -> build/lib.linux-x86_64-3.9/rpy2/tests/robjects/lib\n",
            "  copying ./rpy2/tests/robjects/lib/test_tidyr.py -> build/lib.linux-x86_64-3.9/rpy2/tests/robjects/lib\n",
            "  copying ./rpy2/tests/robjects/lib/test_grid.py -> build/lib.linux-x86_64-3.9/rpy2/tests/robjects/lib\n",
            "  copying ./rpy2/rinterface_lib/R_API.h -> build/lib.linux-x86_64-3.9/rpy2/rinterface_lib\n",
            "  copying ./rpy2/rinterface_lib/R_API_eventloop.h -> build/lib.linux-x86_64-3.9/rpy2/rinterface_lib\n",
            "  copying ./rpy2/rinterface_lib/R_API_eventloop.c -> build/lib.linux-x86_64-3.9/rpy2/rinterface_lib\n",
            "  copying ./rpy2/rinterface_lib/RPY2.h -> build/lib.linux-x86_64-3.9/rpy2/rinterface_lib\n",
            "  file _rinterface_cffi_abi.py (for module _rinterface_cffi_abi) not found\n",
            "  generating cffi module 'build/lib.linux-x86_64-3.9/_rinterface_cffi_abi.py'\n",
            "  running build_ext\n",
            "  generating cffi module 'build/temp.linux-x86_64-3.9/_rinterface_cffi_api.c'\n",
            "  creating build/temp.linux-x86_64-3.9\n",
            "  building '_rinterface_cffi_api' extension\n",
            "  creating build/temp.linux-x86_64-3.9/build\n",
            "  creating build/temp.linux-x86_64-3.9/build/temp.linux-x86_64-3.9\n",
            "  x86_64-linux-gnu-gcc -pthread -Wno-unused-result -Wsign-compare -DNDEBUG -g -fwrapv -O2 -Wall -g -fstack-protector-strong -Wformat -Werror=format-security -g -fwrapv -O2 -g -fstack-protector-strong -Wformat -Werror=format-security -Wdate-time -D_FORTIFY_SOURCE=2 -fPIC -DRPY2_RLEN_LONG=True -DR_INTERFACE_PTRS=True -Irpy2/rinterface_lib/ -I/usr/include/python3.9 -c build/temp.linux-x86_64-3.9/_rinterface_cffi_api.c -o build/temp.linux-x86_64-3.9/build/temp.linux-x86_64-3.9/_rinterface_cffi_api.o\n",
            "  x86_64-linux-gnu-gcc -pthread -shared -Wl,-O1 -Wl,-Bsymbolic-functions -Wl,-Bsymbolic-functions -g -fwrapv -O2 -Wl,-Bsymbolic-functions -g -fwrapv -O2 -g -fstack-protector-strong -Wformat -Werror=format-security -Wdate-time -D_FORTIFY_SOURCE=2 build/temp.linux-x86_64-3.9/build/temp.linux-x86_64-3.9/_rinterface_cffi_api.o -L/usr/lib/R/lib -lR -lpcre2-8 -llzma -lbz2 -lz -lrt -ldl -lm -licuuc -licui18n -o build/lib.linux-x86_64-3.9/_rinterface_cffi_api.abi3.so -Wl,--export-dynamic -fopenmp -Wl,-Bsymbolic-functions -Wl,-z,relro\n",
            "  ---\n",
            "  CFFI_MODE.ANY\n",
            "  ABI mode interface built.\n",
            "  API mode interface built.\n",
            "  To change the API/ABI build mode, set or modify the environment variable RPY2_CFFI_MODE.\n",
            "  installing to build/bdist.linux-x86_64/wheel\n",
            "  running install\n",
            "  running install_lib\n",
            "  creating build/bdist.linux-x86_64\n",
            "  creating build/bdist.linux-x86_64/wheel\n",
            "  copying build/lib.linux-x86_64-3.9/_rinterface_cffi_abi.py -> build/bdist.linux-x86_64/wheel\n",
            "  creating build/bdist.linux-x86_64/wheel/rpy2\n",
            "  creating build/bdist.linux-x86_64/wheel/rpy2/rlike\n",
            "  copying build/lib.linux-x86_64-3.9/rpy2/rlike/indexing.py -> build/bdist.linux-x86_64/wheel/rpy2/rlike\n",
            "  copying build/lib.linux-x86_64-3.9/rpy2/rlike/container.py -> build/bdist.linux-x86_64/wheel/rpy2/rlike\n",
            "  copying build/lib.linux-x86_64-3.9/rpy2/rlike/__init__.py -> build/bdist.linux-x86_64/wheel/rpy2/rlike\n",
            "  copying build/lib.linux-x86_64-3.9/rpy2/rlike/functional.py -> build/bdist.linux-x86_64/wheel/rpy2/rlike\n",
            "  creating build/bdist.linux-x86_64/wheel/rpy2/ipython\n",
            "  copying build/lib.linux-x86_64-3.9/rpy2/ipython/rmagic.py -> build/bdist.linux-x86_64/wheel/rpy2/ipython\n",
            "  copying build/lib.linux-x86_64-3.9/rpy2/ipython/html.py -> build/bdist.linux-x86_64/wheel/rpy2/ipython\n",
            "  copying build/lib.linux-x86_64-3.9/rpy2/ipython/__init__.py -> build/bdist.linux-x86_64/wheel/rpy2/ipython\n",
            "  copying build/lib.linux-x86_64-3.9/rpy2/ipython/ggplot.py -> build/bdist.linux-x86_64/wheel/rpy2/ipython\n",
            "  creating build/bdist.linux-x86_64/wheel/rpy2/rinterface_lib\n",
            "  copying build/lib.linux-x86_64-3.9/rpy2/rinterface_lib/ffi_proxy.py -> build/bdist.linux-x86_64/wheel/rpy2/rinterface_lib\n",
            "  copying build/lib.linux-x86_64-3.9/rpy2/rinterface_lib/R_API_eventloop.c -> build/bdist.linux-x86_64/wheel/rpy2/rinterface_lib\n",
            "  copying build/lib.linux-x86_64-3.9/rpy2/rinterface_lib/embedded.py -> build/bdist.linux-x86_64/wheel/rpy2/rinterface_lib\n",
            "  copying build/lib.linux-x86_64-3.9/rpy2/rinterface_lib/sexp.py -> build/bdist.linux-x86_64/wheel/rpy2/rinterface_lib\n",
            "  copying build/lib.linux-x86_64-3.9/rpy2/rinterface_lib/embedded_mswin.py -> build/bdist.linux-x86_64/wheel/rpy2/rinterface_lib\n",
            "  copying build/lib.linux-x86_64-3.9/rpy2/rinterface_lib/_rinterface_capi.py -> build/bdist.linux-x86_64/wheel/rpy2/rinterface_lib\n",
            "  copying build/lib.linux-x86_64-3.9/rpy2/rinterface_lib/na_values.py -> build/bdist.linux-x86_64/wheel/rpy2/rinterface_lib\n",
            "  copying build/lib.linux-x86_64-3.9/rpy2/rinterface_lib/bufferprotocol.py -> build/bdist.linux-x86_64/wheel/rpy2/rinterface_lib\n",
            "  copying build/lib.linux-x86_64-3.9/rpy2/rinterface_lib/R_API.h -> build/bdist.linux-x86_64/wheel/rpy2/rinterface_lib\n",
            "  copying build/lib.linux-x86_64-3.9/rpy2/rinterface_lib/__init__.py -> build/bdist.linux-x86_64/wheel/rpy2/rinterface_lib\n",
            "  copying build/lib.linux-x86_64-3.9/rpy2/rinterface_lib/RPY2.h -> build/bdist.linux-x86_64/wheel/rpy2/rinterface_lib\n",
            "  copying build/lib.linux-x86_64-3.9/rpy2/rinterface_lib/R_API_eventloop.h -> build/bdist.linux-x86_64/wheel/rpy2/rinterface_lib\n",
            "  copying build/lib.linux-x86_64-3.9/rpy2/rinterface_lib/memorymanagement.py -> build/bdist.linux-x86_64/wheel/rpy2/rinterface_lib\n",
            "  copying build/lib.linux-x86_64-3.9/rpy2/rinterface_lib/callbacks.py -> build/bdist.linux-x86_64/wheel/rpy2/rinterface_lib\n",
            "  copying build/lib.linux-x86_64-3.9/rpy2/rinterface_lib/openrlib.py -> build/bdist.linux-x86_64/wheel/rpy2/rinterface_lib\n",
            "  copying build/lib.linux-x86_64-3.9/rpy2/rinterface_lib/conversion.py -> build/bdist.linux-x86_64/wheel/rpy2/rinterface_lib\n",
            "  creating build/bdist.linux-x86_64/wheel/rpy2/interactive\n",
            "  copying build/lib.linux-x86_64-3.9/rpy2/interactive/packages.py -> build/bdist.linux-x86_64/wheel/rpy2/interactive\n",
            "  copying build/lib.linux-x86_64-3.9/rpy2/interactive/process_revents.py -> build/bdist.linux-x86_64/wheel/rpy2/interactive\n",
            "  copying build/lib.linux-x86_64-3.9/rpy2/interactive/__init__.py -> build/bdist.linux-x86_64/wheel/rpy2/interactive\n",
            "  copying build/lib.linux-x86_64-3.9/rpy2/situation.py -> build/bdist.linux-x86_64/wheel/rpy2\n",
            "  copying build/lib.linux-x86_64-3.9/rpy2/_rinterface_cffi_build.py -> build/bdist.linux-x86_64/wheel/rpy2\n",
            "  creating build/bdist.linux-x86_64/wheel/rpy2/robjects\n",
            "  copying build/lib.linux-x86_64-3.9/rpy2/robjects/packages.py -> build/bdist.linux-x86_64/wheel/rpy2/robjects\n",
            "  copying build/lib.linux-x86_64-3.9/rpy2/robjects/packages_utils.py -> build/bdist.linux-x86_64/wheel/rpy2/robjects\n",
            "  copying build/lib.linux-x86_64-3.9/rpy2/robjects/numpy2ri.py -> build/bdist.linux-x86_64/wheel/rpy2/robjects\n",
            "  copying build/lib.linux-x86_64-3.9/rpy2/robjects/functions.py -> build/bdist.linux-x86_64/wheel/rpy2/robjects\n",
            "  copying build/lib.linux-x86_64-3.9/rpy2/robjects/help.py -> build/bdist.linux-x86_64/wheel/rpy2/robjects\n",
            "  copying build/lib.linux-x86_64-3.9/rpy2/robjects/constants.py -> build/bdist.linux-x86_64/wheel/rpy2/robjects\n",
            "  copying build/lib.linux-x86_64-3.9/rpy2/robjects/robject.py -> build/bdist.linux-x86_64/wheel/rpy2/robjects\n",
            "  copying build/lib.linux-x86_64-3.9/rpy2/robjects/environments.py -> build/bdist.linux-x86_64/wheel/rpy2/robjects\n",
            "  copying build/lib.linux-x86_64-3.9/rpy2/robjects/vectors.py -> build/bdist.linux-x86_64/wheel/rpy2/robjects\n",
            "  copying build/lib.linux-x86_64-3.9/rpy2/robjects/__init__.py -> build/bdist.linux-x86_64/wheel/rpy2/robjects\n",
            "  creating build/bdist.linux-x86_64/wheel/rpy2/robjects/lib\n",
            "  copying build/lib.linux-x86_64-3.9/rpy2/robjects/lib/tidyr.py -> build/bdist.linux-x86_64/wheel/rpy2/robjects/lib\n",
            "  copying build/lib.linux-x86_64-3.9/rpy2/robjects/lib/grdevices.py -> build/bdist.linux-x86_64/wheel/rpy2/robjects/lib\n",
            "  copying build/lib.linux-x86_64-3.9/rpy2/robjects/lib/grid.py -> build/bdist.linux-x86_64/wheel/rpy2/robjects/lib\n",
            "  copying build/lib.linux-x86_64-3.9/rpy2/robjects/lib/dbplyr.py -> build/bdist.linux-x86_64/wheel/rpy2/robjects/lib\n",
            "  copying build/lib.linux-x86_64-3.9/rpy2/robjects/lib/__init__.py -> build/bdist.linux-x86_64/wheel/rpy2/robjects/lib\n",
            "  copying build/lib.linux-x86_64-3.9/rpy2/robjects/lib/dplyr.py -> build/bdist.linux-x86_64/wheel/rpy2/robjects/lib\n",
            "  copying build/lib.linux-x86_64-3.9/rpy2/robjects/lib/ggplot2.py -> build/bdist.linux-x86_64/wheel/rpy2/robjects/lib\n",
            "  copying build/lib.linux-x86_64-3.9/rpy2/robjects/language.py -> build/bdist.linux-x86_64/wheel/rpy2/robjects\n",
            "  copying build/lib.linux-x86_64-3.9/rpy2/robjects/methods.py -> build/bdist.linux-x86_64/wheel/rpy2/robjects\n",
            "  copying build/lib.linux-x86_64-3.9/rpy2/robjects/pandas2ri.py -> build/bdist.linux-x86_64/wheel/rpy2/robjects\n",
            "  copying build/lib.linux-x86_64-3.9/rpy2/robjects/conversion.py -> build/bdist.linux-x86_64/wheel/rpy2/robjects\n",
            "  copying build/lib.linux-x86_64-3.9/rpy2/rinterface.py -> build/bdist.linux-x86_64/wheel/rpy2\n",
            "  copying build/lib.linux-x86_64-3.9/rpy2/__init__.py -> build/bdist.linux-x86_64/wheel/rpy2\n",
            "  creating build/bdist.linux-x86_64/wheel/rpy2/tests\n",
            "  creating build/bdist.linux-x86_64/wheel/rpy2/tests/rlike\n",
            "  copying build/lib.linux-x86_64-3.9/rpy2/tests/rlike/test_container.py -> build/bdist.linux-x86_64/wheel/rpy2/tests/rlike\n",
            "  copying build/lib.linux-x86_64-3.9/rpy2/tests/rlike/test_functional.py -> build/bdist.linux-x86_64/wheel/rpy2/tests/rlike\n",
            "  copying build/lib.linux-x86_64-3.9/rpy2/tests/rlike/test_indexing.py -> build/bdist.linux-x86_64/wheel/rpy2/tests/rlike\n",
            "  creating build/bdist.linux-x86_64/wheel/rpy2/tests/ipython\n",
            "  copying build/lib.linux-x86_64-3.9/rpy2/tests/ipython/test_html.py -> build/bdist.linux-x86_64/wheel/rpy2/tests/ipython\n",
            "  copying build/lib.linux-x86_64-3.9/rpy2/tests/ipython/test_rmagic.py -> build/bdist.linux-x86_64/wheel/rpy2/tests/ipython\n",
            "  copying build/lib.linux-x86_64-3.9/rpy2/tests/ipython/__init__.py -> build/bdist.linux-x86_64/wheel/rpy2/tests/ipython\n",
            "  copying build/lib.linux-x86_64-3.9/rpy2/tests/ipython/test_ggplot.py -> build/bdist.linux-x86_64/wheel/rpy2/tests/ipython\n",
            "  creating build/bdist.linux-x86_64/wheel/rpy2/tests/rinterface\n",
            "  copying build/lib.linux-x86_64-3.9/rpy2/tests/rinterface/test_vector_numpy.py -> build/bdist.linux-x86_64/wheel/rpy2/tests/rinterface\n",
            "  copying build/lib.linux-x86_64-3.9/rpy2/tests/rinterface/test_externalptr.py -> build/bdist.linux-x86_64/wheel/rpy2/tests/rinterface\n",
            "  copying build/lib.linux-x86_64-3.9/rpy2/tests/rinterface/test_vector_int.py -> build/bdist.linux-x86_64/wheel/rpy2/tests/rinterface\n",
            "  copying build/lib.linux-x86_64-3.9/rpy2/tests/rinterface/test_vector_byte.py -> build/bdist.linux-x86_64/wheel/rpy2/tests/rinterface\n",
            "  copying build/lib.linux-x86_64-3.9/rpy2/tests/rinterface/test_vectors.py -> build/bdist.linux-x86_64/wheel/rpy2/tests/rinterface\n",
            "  copying build/lib.linux-x86_64-3.9/rpy2/tests/rinterface/test_threading.py -> build/bdist.linux-x86_64/wheel/rpy2/tests/rinterface\n",
            "  copying build/lib.linux-x86_64-3.9/rpy2/tests/rinterface/test_vector_bool.py -> build/bdist.linux-x86_64/wheel/rpy2/tests/rinterface\n",
            "  copying build/lib.linux-x86_64-3.9/rpy2/tests/rinterface/test_vector_list.py -> build/bdist.linux-x86_64/wheel/rpy2/tests/rinterface\n",
            "  copying build/lib.linux-x86_64-3.9/rpy2/tests/rinterface/test_embedded_r.py -> build/bdist.linux-x86_64/wheel/rpy2/tests/rinterface\n",
            "  copying build/lib.linux-x86_64-3.9/rpy2/tests/rinterface/test_vector_str.py -> build/bdist.linux-x86_64/wheel/rpy2/tests/rinterface\n",
            "  copying build/lib.linux-x86_64-3.9/rpy2/tests/rinterface/test_noinitialization.py -> build/bdist.linux-x86_64/wheel/rpy2/tests/rinterface\n",
            "  copying build/lib.linux-x86_64-3.9/rpy2/tests/rinterface/test_environment.py -> build/bdist.linux-x86_64/wheel/rpy2/tests/rinterface\n",
            "  copying build/lib.linux-x86_64-3.9/rpy2/tests/rinterface/test_memorymanagement.py -> build/bdist.linux-x86_64/wheel/rpy2/tests/rinterface\n",
            "  copying build/lib.linux-x86_64-3.9/rpy2/tests/rinterface/test_vector_lang.py -> build/bdist.linux-x86_64/wheel/rpy2/tests/rinterface\n",
            "  copying build/lib.linux-x86_64-3.9/rpy2/tests/rinterface/__init__.py -> build/bdist.linux-x86_64/wheel/rpy2/tests/rinterface\n",
            "  copying build/lib.linux-x86_64-3.9/rpy2/tests/rinterface/test_openrlib.py -> build/bdist.linux-x86_64/wheel/rpy2/tests/rinterface\n",
            "  copying build/lib.linux-x86_64-3.9/rpy2/tests/rinterface/test_endr.py -> build/bdist.linux-x86_64/wheel/rpy2/tests/rinterface\n",
            "  copying build/lib.linux-x86_64-3.9/rpy2/tests/rinterface/test_functions.py -> build/bdist.linux-x86_64/wheel/rpy2/tests/rinterface\n",
            "  copying build/lib.linux-x86_64-3.9/rpy2/tests/rinterface/test_vector_float.py -> build/bdist.linux-x86_64/wheel/rpy2/tests/rinterface\n",
            "  copying build/lib.linux-x86_64-3.9/rpy2/tests/rinterface/test_na.py -> build/bdist.linux-x86_64/wheel/rpy2/tests/rinterface\n",
            "  copying build/lib.linux-x86_64-3.9/rpy2/tests/rinterface/test_bufferprotocol.py -> build/bdist.linux-x86_64/wheel/rpy2/tests/rinterface\n",
            "  copying build/lib.linux-x86_64-3.9/rpy2/tests/rinterface/test_vector_pairlist.py -> build/bdist.linux-x86_64/wheel/rpy2/tests/rinterface\n",
            "  copying build/lib.linux-x86_64-3.9/rpy2/tests/rinterface/test_vector_complex.py -> build/bdist.linux-x86_64/wheel/rpy2/tests/rinterface\n",
            "  copying build/lib.linux-x86_64-3.9/rpy2/tests/rinterface/test_symbol.py -> build/bdist.linux-x86_64/wheel/rpy2/tests/rinterface\n",
            "  copying build/lib.linux-x86_64-3.9/rpy2/tests/rinterface/test_sexp.py -> build/bdist.linux-x86_64/wheel/rpy2/tests/rinterface\n",
            "  copying build/lib.linux-x86_64-3.9/rpy2/tests/rinterface/test_callbacks.py -> build/bdist.linux-x86_64/wheel/rpy2/tests/rinterface\n",
            "  creating build/bdist.linux-x86_64/wheel/rpy2/tests/robjects\n",
            "  copying build/lib.linux-x86_64-3.9/rpy2/tests/robjects/test_conversion.py -> build/bdist.linux-x86_64/wheel/rpy2/tests/robjects\n",
            "  copying build/lib.linux-x86_64-3.9/rpy2/tests/robjects/test_vector.py -> build/bdist.linux-x86_64/wheel/rpy2/tests/robjects\n",
            "  copying build/lib.linux-x86_64-3.9/rpy2/tests/robjects/test_translated_function.py -> build/bdist.linux-x86_64/wheel/rpy2/tests/robjects\n",
            "  copying build/lib.linux-x86_64-3.9/rpy2/tests/robjects/test_array.py -> build/bdist.linux-x86_64/wheel/rpy2/tests/robjects\n",
            "  copying build/lib.linux-x86_64-3.9/rpy2/tests/robjects/test_packages.py -> build/bdist.linux-x86_64/wheel/rpy2/tests/robjects\n",
            "  copying build/lib.linux-x86_64-3.9/rpy2/tests/robjects/test_methods.py -> build/bdist.linux-x86_64/wheel/rpy2/tests/robjects\n",
            "  copying build/lib.linux-x86_64-3.9/rpy2/tests/robjects/test_packages_utils.py -> build/bdist.linux-x86_64/wheel/rpy2/tests/robjects\n",
            "  copying build/lib.linux-x86_64-3.9/rpy2/tests/robjects/test_formula.py -> build/bdist.linux-x86_64/wheel/rpy2/tests/robjects\n",
            "  copying build/lib.linux-x86_64-3.9/rpy2/tests/robjects/test_vector_datetime.py -> build/bdist.linux-x86_64/wheel/rpy2/tests/robjects\n",
            "  copying build/lib.linux-x86_64-3.9/rpy2/tests/robjects/test_function.py -> build/bdist.linux-x86_64/wheel/rpy2/tests/robjects\n",
            "  copying build/lib.linux-x86_64-3.9/rpy2/tests/robjects/test_robjects.py -> build/bdist.linux-x86_64/wheel/rpy2/tests/robjects\n",
            "  copying build/lib.linux-x86_64-3.9/rpy2/tests/robjects/test_environment.py -> build/bdist.linux-x86_64/wheel/rpy2/tests/robjects\n",
            "  copying build/lib.linux-x86_64-3.9/rpy2/tests/robjects/test_pandas_conversions.py -> build/bdist.linux-x86_64/wheel/rpy2/tests/robjects\n",
            "  copying build/lib.linux-x86_64-3.9/rpy2/tests/robjects/__init__.py -> build/bdist.linux-x86_64/wheel/rpy2/tests/robjects\n",
            "  creating build/bdist.linux-x86_64/wheel/rpy2/tests/robjects/lib\n",
            "  copying build/lib.linux-x86_64-3.9/rpy2/tests/robjects/lib/test_dbplyr.py -> build/bdist.linux-x86_64/wheel/rpy2/tests/robjects/lib\n",
            "  copying build/lib.linux-x86_64-3.9/rpy2/tests/robjects/lib/test_grdevices.py -> build/bdist.linux-x86_64/wheel/rpy2/tests/robjects/lib\n",
            "  copying build/lib.linux-x86_64-3.9/rpy2/tests/robjects/lib/test_ggplot2.py -> build/bdist.linux-x86_64/wheel/rpy2/tests/robjects/lib\n",
            "  copying build/lib.linux-x86_64-3.9/rpy2/tests/robjects/lib/test_dplyr.py -> build/bdist.linux-x86_64/wheel/rpy2/tests/robjects/lib\n",
            "  copying build/lib.linux-x86_64-3.9/rpy2/tests/robjects/lib/__init__.py -> build/bdist.linux-x86_64/wheel/rpy2/tests/robjects/lib\n",
            "  copying build/lib.linux-x86_64-3.9/rpy2/tests/robjects/lib/test_tidyr.py -> build/bdist.linux-x86_64/wheel/rpy2/tests/robjects/lib\n",
            "  copying build/lib.linux-x86_64-3.9/rpy2/tests/robjects/lib/test_grid.py -> build/bdist.linux-x86_64/wheel/rpy2/tests/robjects/lib\n",
            "  copying build/lib.linux-x86_64-3.9/rpy2/tests/robjects/test_help.py -> build/bdist.linux-x86_64/wheel/rpy2/tests/robjects\n",
            "  copying build/lib.linux-x86_64-3.9/rpy2/tests/robjects/test_rs4.py -> build/bdist.linux-x86_64/wheel/rpy2/tests/robjects\n",
            "  copying build/lib.linux-x86_64-3.9/rpy2/tests/robjects/test_language.py -> build/bdist.linux-x86_64/wheel/rpy2/tests/robjects\n",
            "  copying build/lib.linux-x86_64-3.9/rpy2/tests/robjects/test_vector_factor.py -> build/bdist.linux-x86_64/wheel/rpy2/tests/robjects\n",
            "  copying build/lib.linux-x86_64-3.9/rpy2/tests/robjects/test_serialization.py -> build/bdist.linux-x86_64/wheel/rpy2/tests/robjects\n",
            "  copying build/lib.linux-x86_64-3.9/rpy2/tests/robjects/test_vector_extractdelegator.py -> build/bdist.linux-x86_64/wheel/rpy2/tests/robjects\n",
            "  copying build/lib.linux-x86_64-3.9/rpy2/tests/robjects/test_dataframe.py -> build/bdist.linux-x86_64/wheel/rpy2/tests/robjects\n",
            "  copying build/lib.linux-x86_64-3.9/rpy2/tests/robjects/test_conversion_numpy.py -> build/bdist.linux-x86_64/wheel/rpy2/tests/robjects\n",
            "  copying build/lib.linux-x86_64-3.9/rpy2/tests/__init__.py -> build/bdist.linux-x86_64/wheel/rpy2/tests\n",
            "  copying build/lib.linux-x86_64-3.9/rpy2/tests/utils.py -> build/bdist.linux-x86_64/wheel/rpy2/tests\n",
            "  copying build/lib.linux-x86_64-3.9/_rinterface_cffi_api.abi3.so -> build/bdist.linux-x86_64/wheel\n",
            "  running install_egg_info\n",
            "  running egg_info\n",
            "  writing rpy2.egg-info/PKG-INFO\n",
            "  writing dependency_links to rpy2.egg-info/dependency_links.txt\n",
            "  writing requirements to rpy2.egg-info/requires.txt\n",
            "  writing top-level names to rpy2.egg-info/top_level.txt\n",
            "  reading manifest file 'rpy2.egg-info/SOURCES.txt'\n",
            "  reading manifest template 'MANIFEST.in'\n",
            "  warning: no files found matching 'README' anywhere in distribution\n",
            "  warning: no previously-included files matching '*patch*' found anywhere in distribution\n",
            "  warning: no previously-included files matching '*diff*' found anywhere in distribution\n",
            "  warning: no previously-included files matching '.hg' found anywhere in distribution\n",
            "  warning: no files found matching 'MANIFEST'\n",
            "  warning: no files found matching '_rinterface_cffi_build'\n",
            "  warning: no files found matching 'rpy/__init__.py'\n",
            "  warning: no files found matching 'rpy/situation.py'\n",
            "  warning: no files found matching '*.py' under directory 'rpy/robjects'\n",
            "  warning: no files found matching '*.py' under directory 'rpy/ipython'\n",
            "  warning: no files found matching '*.py' under directory 'rpy/interactive'\n",
            "  warning: no files found matching '*.py' under directory 'rpy/rlike'\n",
            "  no previously-included directories found matching 'dist'\n",
            "  warning: no files found matching 'doc/source/rpy2_logo.png'\n",
            "  adding license file 'AUTHORS'\n",
            "  writing manifest file 'rpy2.egg-info/SOURCES.txt'\n",
            "  Copying rpy2.egg-info to build/bdist.linux-x86_64/wheel/rpy2-3.4.2-py3.9.egg-info\n",
            "  running install_scripts\n",
            "  creating build/bdist.linux-x86_64/wheel/rpy2-3.4.2.dist-info/WHEEL\n",
            "  creating '/tmp/pip-wheel-_ptd3g1v/rpy2-3.4.2-cp39-cp39-linux_x86_64.whl' and adding 'build/bdist.linux-x86_64/wheel' to it\n",
            "  adding '_rinterface_cffi_abi.py'\n",
            "  adding '_rinterface_cffi_api.abi3.so'\n",
            "  adding 'rpy2/__init__.py'\n",
            "  adding 'rpy2/_rinterface_cffi_build.py'\n",
            "  adding 'rpy2/rinterface.py'\n",
            "  adding 'rpy2/situation.py'\n",
            "  adding 'rpy2/interactive/__init__.py'\n",
            "  adding 'rpy2/interactive/packages.py'\n",
            "  adding 'rpy2/interactive/process_revents.py'\n",
            "  adding 'rpy2/ipython/__init__.py'\n",
            "  adding 'rpy2/ipython/ggplot.py'\n",
            "  adding 'rpy2/ipython/html.py'\n",
            "  adding 'rpy2/ipython/rmagic.py'\n",
            "  adding 'rpy2/rinterface_lib/RPY2.h'\n",
            "  adding 'rpy2/rinterface_lib/R_API.h'\n",
            "  adding 'rpy2/rinterface_lib/R_API_eventloop.c'\n",
            "  adding 'rpy2/rinterface_lib/R_API_eventloop.h'\n",
            "  adding 'rpy2/rinterface_lib/__init__.py'\n",
            "  adding 'rpy2/rinterface_lib/_rinterface_capi.py'\n",
            "  adding 'rpy2/rinterface_lib/bufferprotocol.py'\n",
            "  adding 'rpy2/rinterface_lib/callbacks.py'\n",
            "  adding 'rpy2/rinterface_lib/conversion.py'\n",
            "  adding 'rpy2/rinterface_lib/embedded.py'\n",
            "  adding 'rpy2/rinterface_lib/embedded_mswin.py'\n",
            "  adding 'rpy2/rinterface_lib/ffi_proxy.py'\n",
            "  adding 'rpy2/rinterface_lib/memorymanagement.py'\n",
            "  adding 'rpy2/rinterface_lib/na_values.py'\n",
            "  adding 'rpy2/rinterface_lib/openrlib.py'\n",
            "  adding 'rpy2/rinterface_lib/sexp.py'\n",
            "  adding 'rpy2/rlike/__init__.py'\n",
            "  adding 'rpy2/rlike/container.py'\n",
            "  adding 'rpy2/rlike/functional.py'\n",
            "  adding 'rpy2/rlike/indexing.py'\n",
            "  adding 'rpy2/robjects/__init__.py'\n",
            "  adding 'rpy2/robjects/constants.py'\n",
            "  adding 'rpy2/robjects/conversion.py'\n",
            "  adding 'rpy2/robjects/environments.py'\n",
            "  adding 'rpy2/robjects/functions.py'\n",
            "  adding 'rpy2/robjects/help.py'\n",
            "  adding 'rpy2/robjects/language.py'\n",
            "  adding 'rpy2/robjects/methods.py'\n",
            "  adding 'rpy2/robjects/numpy2ri.py'\n",
            "  adding 'rpy2/robjects/packages.py'\n",
            "  adding 'rpy2/robjects/packages_utils.py'\n",
            "  adding 'rpy2/robjects/pandas2ri.py'\n",
            "  adding 'rpy2/robjects/robject.py'\n",
            "  adding 'rpy2/robjects/vectors.py'\n",
            "  adding 'rpy2/robjects/lib/__init__.py'\n",
            "  adding 'rpy2/robjects/lib/dbplyr.py'\n",
            "  adding 'rpy2/robjects/lib/dplyr.py'\n",
            "  adding 'rpy2/robjects/lib/ggplot2.py'\n",
            "  adding 'rpy2/robjects/lib/grdevices.py'\n",
            "  adding 'rpy2/robjects/lib/grid.py'\n",
            "  adding 'rpy2/robjects/lib/tidyr.py'\n",
            "  adding 'rpy2/tests/__init__.py'\n",
            "  adding 'rpy2/tests/utils.py'\n",
            "  adding 'rpy2/tests/ipython/__init__.py'\n",
            "  adding 'rpy2/tests/ipython/test_ggplot.py'\n",
            "  adding 'rpy2/tests/ipython/test_html.py'\n",
            "  adding 'rpy2/tests/ipython/test_rmagic.py'\n",
            "  adding 'rpy2/tests/rinterface/__init__.py'\n",
            "  adding 'rpy2/tests/rinterface/test_bufferprotocol.py'\n",
            "  adding 'rpy2/tests/rinterface/test_callbacks.py'\n",
            "  adding 'rpy2/tests/rinterface/test_embedded_r.py'\n",
            "  adding 'rpy2/tests/rinterface/test_endr.py'\n",
            "  adding 'rpy2/tests/rinterface/test_environment.py'\n",
            "  adding 'rpy2/tests/rinterface/test_externalptr.py'\n",
            "  adding 'rpy2/tests/rinterface/test_functions.py'\n",
            "  adding 'rpy2/tests/rinterface/test_memorymanagement.py'\n",
            "  adding 'rpy2/tests/rinterface/test_na.py'\n",
            "  adding 'rpy2/tests/rinterface/test_noinitialization.py'\n",
            "  adding 'rpy2/tests/rinterface/test_openrlib.py'\n",
            "  adding 'rpy2/tests/rinterface/test_sexp.py'\n",
            "  adding 'rpy2/tests/rinterface/test_symbol.py'\n",
            "  adding 'rpy2/tests/rinterface/test_threading.py'\n",
            "  adding 'rpy2/tests/rinterface/test_vector_bool.py'\n",
            "  adding 'rpy2/tests/rinterface/test_vector_byte.py'\n",
            "  adding 'rpy2/tests/rinterface/test_vector_complex.py'\n",
            "  adding 'rpy2/tests/rinterface/test_vector_float.py'\n",
            "  adding 'rpy2/tests/rinterface/test_vector_int.py'\n",
            "  adding 'rpy2/tests/rinterface/test_vector_lang.py'\n",
            "  adding 'rpy2/tests/rinterface/test_vector_list.py'\n",
            "  adding 'rpy2/tests/rinterface/test_vector_numpy.py'\n",
            "  adding 'rpy2/tests/rinterface/test_vector_pairlist.py'\n",
            "  adding 'rpy2/tests/rinterface/test_vector_str.py'\n",
            "  adding 'rpy2/tests/rinterface/test_vectors.py'\n",
            "  adding 'rpy2/tests/rlike/test_container.py'\n",
            "  adding 'rpy2/tests/rlike/test_functional.py'\n",
            "  adding 'rpy2/tests/rlike/test_indexing.py'\n",
            "  adding 'rpy2/tests/robjects/__init__.py'\n",
            "  adding 'rpy2/tests/robjects/test_array.py'\n",
            "  adding 'rpy2/tests/robjects/test_conversion.py'\n",
            "  adding 'rpy2/tests/robjects/test_conversion_numpy.py'\n",
            "  adding 'rpy2/tests/robjects/test_dataframe.py'\n",
            "  adding 'rpy2/tests/robjects/test_environment.py'\n",
            "  adding 'rpy2/tests/robjects/test_formula.py'\n",
            "  adding 'rpy2/tests/robjects/test_function.py'\n",
            "  adding 'rpy2/tests/robjects/test_help.py'\n",
            "  adding 'rpy2/tests/robjects/test_language.py'\n",
            "  adding 'rpy2/tests/robjects/test_methods.py'\n",
            "  adding 'rpy2/tests/robjects/test_packages.py'\n",
            "  adding 'rpy2/tests/robjects/test_packages_utils.py'\n",
            "  adding 'rpy2/tests/robjects/test_pandas_conversions.py'\n",
            "  adding 'rpy2/tests/robjects/test_robjects.py'\n",
            "  adding 'rpy2/tests/robjects/test_rs4.py'\n",
            "  adding 'rpy2/tests/robjects/test_serialization.py'\n",
            "  adding 'rpy2/tests/robjects/test_translated_function.py'\n",
            "  adding 'rpy2/tests/robjects/test_vector.py'\n",
            "  adding 'rpy2/tests/robjects/test_vector_datetime.py'\n",
            "  adding 'rpy2/tests/robjects/test_vector_extractdelegator.py'\n",
            "  adding 'rpy2/tests/robjects/test_vector_factor.py'\n",
            "  adding 'rpy2/tests/robjects/lib/__init__.py'\n",
            "  adding 'rpy2/tests/robjects/lib/test_dbplyr.py'\n",
            "  adding 'rpy2/tests/robjects/lib/test_dplyr.py'\n",
            "  adding 'rpy2/tests/robjects/lib/test_ggplot2.py'\n",
            "  adding 'rpy2/tests/robjects/lib/test_grdevices.py'\n",
            "  adding 'rpy2/tests/robjects/lib/test_grid.py'\n",
            "  adding 'rpy2/tests/robjects/lib/test_tidyr.py'\n",
            "  adding 'rpy2-3.4.2.dist-info/AUTHORS'\n",
            "  adding 'rpy2-3.4.2.dist-info/METADATA'\n",
            "  adding 'rpy2-3.4.2.dist-info/WHEEL'\n",
            "  adding 'rpy2-3.4.2.dist-info/top_level.txt'\n",
            "  adding 'rpy2-3.4.2.dist-info/RECORD'\n",
            "  removing build/bdist.linux-x86_64/wheel\n",
            "  Building wheel for rpy2 (setup.py) ... \u001b[?25l\u001b[?25hdone\n",
            "  Created wheel for rpy2: filename=rpy2-3.4.2-cp39-cp39-linux_x86_64.whl size=289428 sha256=665a568ab27c29604d9a606d34748448c112c41afdf82e801c46154b7b9c91d2\n",
            "  Stored in directory: /root/.cache/pip/wheels/e9/6e/27/f2a628f019da0b48ff5225f30943de87add4179f34d758a0d9\n",
            "Successfully built rpy2\n",
            "Installing collected packages: pytz, tzdata, pycparser, MarkupSafe, pytz-deprecation-shim, jinja2, cffi, tzlocal, rpy2\n",
            "Successfully installed MarkupSafe-2.1.2 cffi-1.15.1 jinja2-3.1.2 pycparser-2.21 pytz-2022.7.1 pytz-deprecation-shim-0.1.0.post0 rpy2-3.5.5 tzdata-2022.7 tzlocal-4.2\n"
          ]
        },
        {
          "output_type": "display_data",
          "data": {
            "application/vnd.colab-display-data+json": {
              "pip_warning": {
                "packages": [
                  "cffi"
                ]
              }
            }
          },
          "metadata": {}
        }
      ]
    },
    {
      "cell_type": "code",
      "source": [
        "import rpy2.robjects as ro\n",
        "from rpy2.robjects.packages import importr\n",
        "from rpy2.robjects import pandas2ri\n",
        "from rpy2.robjects.conversion import localconverter\n",
        "from rpy2.robjects import globalenv"
      ],
      "metadata": {
        "id": "qJz2ofqaaAWt"
      },
      "execution_count": null,
      "outputs": []
    },
    {
      "cell_type": "code",
      "source": [
        "from rpy2.robjects import pandas2ri\n",
        "pandas2ri.activate()"
      ],
      "metadata": {
        "id": "0zd376gA7cMM"
      },
      "execution_count": 7,
      "outputs": []
    },
    {
      "cell_type": "code",
      "source": [
        "import pandas as pd\n",
        "import rpy2.robjects as ro\n",
        "from rpy2.robjects.packages import importr\n",
        "from rpy2.robjects import pandas2ri\n",
        "import rpy2"
      ],
      "metadata": {
        "id": "UFV9GpxY33FP"
      },
      "execution_count": 5,
      "outputs": []
    },
    {
      "cell_type": "code",
      "source": [
        "import rpy2\n",
        "import pandas as pd\n",
        "df_py = pd.DataFrame({'col1':[1,2,3,4,5],\n",
        "                      'col2':[1.0,2.0,3.0,4.0,5.0],\n",
        "                      'col3':['a','b','c','d','e']})\n",
        "\n",
        "from rpy2.robjects.pandas2ri import py2rpy, rpy2py\n",
        "rpy2.robjects.pandas2ri.activate()\n",
        "\n",
        "df_r = py2rpy(df_py)    \n",
        "rpy2py(df_r)"
      ],
      "metadata": {
        "id": "DqOSJYwj6h9M",
        "outputId": "7eb261a4-7cbf-451d-a3d9-bf6b95a38bd7",
        "colab": {
          "base_uri": "https://localhost:8080/",
          "height": 206
        }
      },
      "execution_count": 7,
      "outputs": [
        {
          "output_type": "execute_result",
          "data": {
            "text/plain": [
              "   col1  col2 col3\n",
              "0     1   1.0    a\n",
              "1     2   2.0    b\n",
              "2     3   3.0    c\n",
              "3     4   4.0    d\n",
              "4     5   5.0    e"
            ],
            "text/html": [
              "\n",
              "  <div id=\"df-45ec299b-eb4d-4b9e-976b-8621b90b4d79\">\n",
              "    <div class=\"colab-df-container\">\n",
              "      <div>\n",
              "<style scoped>\n",
              "    .dataframe tbody tr th:only-of-type {\n",
              "        vertical-align: middle;\n",
              "    }\n",
              "\n",
              "    .dataframe tbody tr th {\n",
              "        vertical-align: top;\n",
              "    }\n",
              "\n",
              "    .dataframe thead th {\n",
              "        text-align: right;\n",
              "    }\n",
              "</style>\n",
              "<table border=\"1\" class=\"dataframe\">\n",
              "  <thead>\n",
              "    <tr style=\"text-align: right;\">\n",
              "      <th></th>\n",
              "      <th>col1</th>\n",
              "      <th>col2</th>\n",
              "      <th>col3</th>\n",
              "    </tr>\n",
              "  </thead>\n",
              "  <tbody>\n",
              "    <tr>\n",
              "      <th>0</th>\n",
              "      <td>1</td>\n",
              "      <td>1.0</td>\n",
              "      <td>a</td>\n",
              "    </tr>\n",
              "    <tr>\n",
              "      <th>1</th>\n",
              "      <td>2</td>\n",
              "      <td>2.0</td>\n",
              "      <td>b</td>\n",
              "    </tr>\n",
              "    <tr>\n",
              "      <th>2</th>\n",
              "      <td>3</td>\n",
              "      <td>3.0</td>\n",
              "      <td>c</td>\n",
              "    </tr>\n",
              "    <tr>\n",
              "      <th>3</th>\n",
              "      <td>4</td>\n",
              "      <td>4.0</td>\n",
              "      <td>d</td>\n",
              "    </tr>\n",
              "    <tr>\n",
              "      <th>4</th>\n",
              "      <td>5</td>\n",
              "      <td>5.0</td>\n",
              "      <td>e</td>\n",
              "    </tr>\n",
              "  </tbody>\n",
              "</table>\n",
              "</div>\n",
              "      <button class=\"colab-df-convert\" onclick=\"convertToInteractive('df-45ec299b-eb4d-4b9e-976b-8621b90b4d79')\"\n",
              "              title=\"Convert this dataframe to an interactive table.\"\n",
              "              style=\"display:none;\">\n",
              "        \n",
              "  <svg xmlns=\"http://www.w3.org/2000/svg\" height=\"24px\"viewBox=\"0 0 24 24\"\n",
              "       width=\"24px\">\n",
              "    <path d=\"M0 0h24v24H0V0z\" fill=\"none\"/>\n",
              "    <path d=\"M18.56 5.44l.94 2.06.94-2.06 2.06-.94-2.06-.94-.94-2.06-.94 2.06-2.06.94zm-11 1L8.5 8.5l.94-2.06 2.06-.94-2.06-.94L8.5 2.5l-.94 2.06-2.06.94zm10 10l.94 2.06.94-2.06 2.06-.94-2.06-.94-.94-2.06-.94 2.06-2.06.94z\"/><path d=\"M17.41 7.96l-1.37-1.37c-.4-.4-.92-.59-1.43-.59-.52 0-1.04.2-1.43.59L10.3 9.45l-7.72 7.72c-.78.78-.78 2.05 0 2.83L4 21.41c.39.39.9.59 1.41.59.51 0 1.02-.2 1.41-.59l7.78-7.78 2.81-2.81c.8-.78.8-2.07 0-2.86zM5.41 20L4 18.59l7.72-7.72 1.47 1.35L5.41 20z\"/>\n",
              "  </svg>\n",
              "      </button>\n",
              "      \n",
              "  <style>\n",
              "    .colab-df-container {\n",
              "      display:flex;\n",
              "      flex-wrap:wrap;\n",
              "      gap: 12px;\n",
              "    }\n",
              "\n",
              "    .colab-df-convert {\n",
              "      background-color: #E8F0FE;\n",
              "      border: none;\n",
              "      border-radius: 50%;\n",
              "      cursor: pointer;\n",
              "      display: none;\n",
              "      fill: #1967D2;\n",
              "      height: 32px;\n",
              "      padding: 0 0 0 0;\n",
              "      width: 32px;\n",
              "    }\n",
              "\n",
              "    .colab-df-convert:hover {\n",
              "      background-color: #E2EBFA;\n",
              "      box-shadow: 0px 1px 2px rgba(60, 64, 67, 0.3), 0px 1px 3px 1px rgba(60, 64, 67, 0.15);\n",
              "      fill: #174EA6;\n",
              "    }\n",
              "\n",
              "    [theme=dark] .colab-df-convert {\n",
              "      background-color: #3B4455;\n",
              "      fill: #D2E3FC;\n",
              "    }\n",
              "\n",
              "    [theme=dark] .colab-df-convert:hover {\n",
              "      background-color: #434B5C;\n",
              "      box-shadow: 0px 1px 3px 1px rgba(0, 0, 0, 0.15);\n",
              "      filter: drop-shadow(0px 1px 2px rgba(0, 0, 0, 0.3));\n",
              "      fill: #FFFFFF;\n",
              "    }\n",
              "  </style>\n",
              "\n",
              "      <script>\n",
              "        const buttonEl =\n",
              "          document.querySelector('#df-45ec299b-eb4d-4b9e-976b-8621b90b4d79 button.colab-df-convert');\n",
              "        buttonEl.style.display =\n",
              "          google.colab.kernel.accessAllowed ? 'block' : 'none';\n",
              "\n",
              "        async function convertToInteractive(key) {\n",
              "          const element = document.querySelector('#df-45ec299b-eb4d-4b9e-976b-8621b90b4d79');\n",
              "          const dataTable =\n",
              "            await google.colab.kernel.invokeFunction('convertToInteractive',\n",
              "                                                     [key], {});\n",
              "          if (!dataTable) return;\n",
              "\n",
              "          const docLinkHtml = 'Like what you see? Visit the ' +\n",
              "            '<a target=\"_blank\" href=https://colab.research.google.com/notebooks/data_table.ipynb>data table notebook</a>'\n",
              "            + ' to learn more about interactive tables.';\n",
              "          element.innerHTML = '';\n",
              "          dataTable['output_type'] = 'display_data';\n",
              "          await google.colab.output.renderOutput(dataTable, element);\n",
              "          const docLink = document.createElement('div');\n",
              "          docLink.innerHTML = docLinkHtml;\n",
              "          element.appendChild(docLink);\n",
              "        }\n",
              "      </script>\n",
              "    </div>\n",
              "  </div>\n",
              "  "
            ]
          },
          "metadata": {},
          "execution_count": 7
        }
      ]
    },
    {
      "cell_type": "code",
      "source": [
        "# base = importr('base')\n",
        "# del rpy2\n",
        "import rpy2\n",
        "print(rpy2.__version__)"
      ],
      "metadata": {
        "id": "kp7yb1wG6h_R",
        "outputId": "0403a4f2-7f9a-4755-90b7-de9b3bc0fb74",
        "colab": {
          "base_uri": "https://localhost:8080/"
        }
      },
      "execution_count": 3,
      "outputs": [
        {
          "output_type": "stream",
          "name": "stdout",
          "text": [
            "3.4.2\n"
          ]
        }
      ]
    },
    {
      "cell_type": "code",
      "source": [],
      "metadata": {
        "id": "bVTL7_ON6iBl"
      },
      "execution_count": null,
      "outputs": []
    },
    {
      "cell_type": "code",
      "source": [],
      "metadata": {
        "id": "1Iv7_e6I33IB"
      },
      "execution_count": null,
      "outputs": []
    },
    {
      "cell_type": "code",
      "execution_count": null,
      "metadata": {
        "scrolled": true,
        "id": "cwPi5ZmvDWAy",
        "outputId": "036bc7a7-fb2c-43bf-96e0-5b5eaf60af86"
      },
      "outputs": [
        {
          "name": "stdout",
          "output_type": "stream",
          "text": [
            "7\n",
            "7 mps 8\n"
          ]
        }
      ],
      "source": [
        "import numpy as np\n",
        "np.set_printoptions(precision=4)\n",
        "import pandas as pd\n",
        "import pickle, os, gc, datetime, gc, re\n",
        "from tqdm.notebook import tqdm\n",
        "\n",
        "from sklearn.model_selection import train_test_split\n",
        "from sklearn.metrics import accuracy_score,f1_score\n",
        "\n",
        "from transformers import AutoModel\n",
        "from transformers import (\n",
        "   BertTokenizerFast,\n",
        "#    AutoModelForMaskedLM,\n",
        "#    AutoModelForTokenClassification,\n",
        "#     AutoModelForSequenceClassification,\n",
        "#     FlaxAutoModelForSequenceClassification\n",
        ")\n",
        "import torch\n",
        "import torch.nn as nn\n",
        "import torch.optim as optim\n",
        "from torch.utils.data import DataLoader,TensorDataset,Dataset\n",
        "from torch.utils.data.dataset import random_split\n",
        "import torch.utils.data as data\n",
        "# import torch_optimizer\n",
        "\n",
        "# from u import *\n",
        "device = 'cuda' if torch.cuda.is_available() else 'mps' if torch.has_mps else 'cpu'\n",
        "torch.backends.cudnn.benchmark = True\n",
        "import multiprocessing as mp\n",
        "print(torch.get_num_threads())\n",
        "torch.set_num_threads(mp.cpu_count()-1)\n",
        "print(torch.get_num_threads(),device,mp.cpu_count())"
      ]
    },
    {
      "cell_type": "code",
      "execution_count": null,
      "metadata": {
        "id": "8sVCo3wYDWAz",
        "outputId": "2d530fcb-3533-4b64-d791-cd0f3a067bb9"
      },
      "outputs": [
        {
          "data": {
            "text/plain": [
              "True"
            ]
          },
          "execution_count": 29,
          "metadata": {},
          "output_type": "execute_result"
        }
      ],
      "source": [
        "torch.has_mps"
      ]
    },
    {
      "cell_type": "code",
      "execution_count": null,
      "metadata": {
        "id": "BrGDFYKhDWA0"
      },
      "outputs": [],
      "source": [
        "# pkl(path='raw.pkl',wbORrb='wb',datas=(raw,op,op_mid,op_big,op_top,df_tra,df_eval,tra_ds,eval_ds))\n",
        "\n",
        "# raw,op,op_mid,op_big,op_top,df_tra,df_eval,tra_ds,eval_ds=pkl(path='raw.pkl',wbORrb='rb')"
      ]
    },
    {
      "cell_type": "code",
      "source": [
        "from u import full2half\n",
        "raw=pd.read_excel('診斷證明書_手術資料表(至0902登打)_v11.100.xlsx')\n",
        "raw=raw.fillna('')\n",
        "\n",
        "search=raw[['理賠案號','健保手術代碼']].values\n",
        "raw['lb_name']=raw['理賠案號'].apply(lambda x:search[np.where(search[:,0]==x)][:,1].tolist())\n",
        "print('before drop',len(raw))\n",
        "s=['理賠案號','診斷-病名','醫囑','健保手術代碼']\n",
        "raw=raw.drop_duplicates(subset=s).reset_index(drop=True)\n",
        "print('aft drop',len(raw))\n",
        "op=sorted(list(set(np.concatenate(raw['lb_name'].values).tolist())))\n",
        "raw['lb']=raw['lb_name'].apply(lambda x:[0 if not i in op else op.index(i) for i in x])\n",
        "raw['lb']=raw['lb'].apply(lambda x:[1 if i in x else 0 for i in range(len(op))])\n",
        "\n",
        "op_mid=sorted(list(set([i[:4] for i in op])))\n",
        "op_big=sorted(list(set([i[:2] for i in op])))\n",
        "op_top=sorted(list(set([i[:1] for i in op])))\n",
        "\n",
        "raw['lb_mid']=raw['lb_name'].apply(lambda x:[1 if op_mid[i][:4] in [j[:4] for j in x] else 0 for i in range(len(op_mid))])\n",
        "raw['lb_big']=raw['lb_name'].apply(lambda x:[1 if op_big[i][:2] in [j[:2] for j in x] else 0 for i in range(len(op_big))])\n",
        "raw['lb_top']=raw['lb_name'].apply(lambda x:[1 if op_top[i][:1] in [j[:1] for j in x] else 0 for i in range(len(op_top))])\n",
        "\n",
        "raw['診斷-病名_']=raw['診斷-病名'].apply(lambda x:full2half(x).lower())\n",
        "raw['醫囑_']=raw['醫囑'].apply(lambda x:full2half(x).lower())\n",
        "pat1=['(空白)','〔空白〕','＜空白＞',\n",
        "    '｛空白｝','【空白】','〈空白〉','《空白》','﹤空白﹥','﹛空白﹜','「空白」','［空白］','｢空白｣',\n",
        "    '〔以下空白〕','(以下空白)','＜以下空白＞',\n",
        "    '｛以下空白｝','【以下空白】','〈以下空白〉','《以下空白》','﹤以下空白﹥','﹛以下空白﹜',\n",
        "    '「以下空白」','［以下空白］','｢以下空白｣'\n",
        "    ]\n",
        "pat2=['-{2,}空白-{2,}','\\s+空白\\s+','-{2,}以下空白-{2,}','-{2,}以   下   空   白-{2,}',\n",
        "      '\\s+以下空白\\s+']\n",
        "def rep(x):\n",
        "#     print('0',x)\n",
        "    for i in pat2:\n",
        "        x=re.sub(i, '', x)\n",
        "#     print('1',x)\n",
        "    x=re.sub('['+'|'.join(pat1)+']', '', x)\n",
        "#     print('2',x)\n",
        "    x=re.sub('[以下空白]', '', x) \n",
        "    x=re.sub('[空白]', '', x) \n",
        "    x=re.sub('以下空白', '', x) \n",
        "#     print('3',x)\n",
        "    return x\n",
        "raw['診斷-病名_']=raw['診斷-病名_'].apply(lambda x:rep(x))\n",
        "raw['醫囑_']=raw['醫囑_'].apply(lambda x:rep(x))\n",
        "raw['醫囑__']=raw['醫囑_'].apply(lambda x:x.replace('。','[SEP]'))\n",
        "raw['醫囑__']=raw['醫囑__'].apply(lambda x:re.sub('(\\[SEP\\]){2,}', '[SEP]', x) )\n",
        "raw"
      ],
      "metadata": {
        "id": "pkkB9lOB8Dgn"
      },
      "execution_count": null,
      "outputs": []
    },
    {
      "cell_type": "code",
      "execution_count": null,
      "metadata": {
        "id": "_Ej4GQ_hDWA1"
      },
      "outputs": [],
      "source": []
    },
    {
      "cell_type": "code",
      "execution_count": null,
      "metadata": {
        "colab": {
          "referenced_widgets": [
            "c6475863379643c8b25ec0781018e04c",
            "a7089bcb75c14a3bbba06bae0ed32039",
            "bceac179237f4d7bb3bef5aeca70425f",
            "c3a0146e5eb34c899511a1bcce197250"
          ]
        },
        "id": "0_qkdEx6DWA1",
        "outputId": "88aeb244-4dfd-45ea-8989-b3251283f0cc"
      },
      "outputs": [
        {
          "data": {
            "application/vnd.jupyter.widget-view+json": {
              "model_id": "c6475863379643c8b25ec0781018e04c",
              "version_major": 2,
              "version_minor": 0
            },
            "text/plain": [
              "Downloading:   0%|          | 0.00/174 [00:00<?, ?B/s]"
            ]
          },
          "metadata": {},
          "output_type": "display_data"
        },
        {
          "data": {
            "application/vnd.jupyter.widget-view+json": {
              "model_id": "a7089bcb75c14a3bbba06bae0ed32039",
              "version_major": 2,
              "version_minor": 0
            },
            "text/plain": [
              "Downloading:   0%|          | 0.00/110k [00:00<?, ?B/s]"
            ]
          },
          "metadata": {},
          "output_type": "display_data"
        },
        {
          "data": {
            "application/vnd.jupyter.widget-view+json": {
              "model_id": "bceac179237f4d7bb3bef5aeca70425f",
              "version_major": 2,
              "version_minor": 0
            },
            "text/plain": [
              "Downloading:   0%|          | 0.00/112 [00:00<?, ?B/s]"
            ]
          },
          "metadata": {},
          "output_type": "display_data"
        },
        {
          "data": {
            "application/vnd.jupyter.widget-view+json": {
              "model_id": "c3a0146e5eb34c899511a1bcce197250",
              "version_major": 2,
              "version_minor": 0
            },
            "text/plain": [
              "Downloading:   0%|          | 0.00/729 [00:00<?, ?B/s]"
            ]
          },
          "metadata": {},
          "output_type": "display_data"
        },
        {
          "data": {
            "text/plain": [
              "PreTrainedTokenizerFast(name_or_path='ckiplab/albert-tiny-chinese', vocab_size=21128, model_max_len=512, is_fast=True, padding_side='right', truncation_side='right', special_tokens={'unk_token': '[UNK]', 'sep_token': '[SEP]', 'pad_token': '[PAD]', 'cls_token': '[CLS]', 'mask_token': '[MASK]'})"
            ]
          },
          "execution_count": 13,
          "metadata": {},
          "output_type": "execute_result"
        }
      ],
      "source": [
        "tok_path='ckip_albert_tok'#'tok_ckip_albert_tiny'\n",
        "# mdl_path='mdl4seqCls_ckip_albert_tiny'\n",
        "if os.path.exists(tok_path):\n",
        "    tokenizer=BertTokenizerFast.from_pretrained(tok_path)\n",
        "else:    \n",
        "    tokenizer=BertTokenizerFast.from_pretrained('ckiplab/albert-tiny-chinese')\n",
        "tokenizer"
      ]
    },
    {
      "cell_type": "code",
      "execution_count": null,
      "metadata": {
        "id": "5YsmCsMvDWA1"
      },
      "outputs": [],
      "source": []
    },
    {
      "cell_type": "code",
      "execution_count": null,
      "metadata": {
        "id": "VPvhHk0yDWA1",
        "outputId": "358deaa2-52e3-486c-fe8c-e2ffaa5b44d4"
      },
      "outputs": [
        {
          "data": {
            "text/plain": [
              "(708, 2870)"
            ]
          },
          "execution_count": 4,
          "metadata": {},
          "output_type": "execute_result"
        }
      ],
      "source": [
        "tra_r=.8\n",
        "eval_r=.2\n",
        "# test_r=.1\n",
        "min_=3\n",
        "\n",
        "from iterstrat.ml_stratifiers import MultilabelStratifiedShuffleSplit\n",
        "def sep_df_more_less_multiLB(df,stratify_col_name,fraction):\n",
        "    # n_splits多少個 cross validation sets\n",
        "    msss = MultilabelStratifiedShuffleSplit(n_splits=1, test_size=fraction, random_state=0)\n",
        "    tra,test=None,None\n",
        "    for tra_idx, test_idx in msss.split(df, np.array(df[stratify_col_name].values.tolist())):\n",
        "        tra, test = df.iloc[tra_idx], df.iloc[test_idx]\n",
        "    return tra,test\n",
        "\n",
        "lb_num=np.concatenate(raw['lb_name'].values).tolist()\n",
        "less=[i for i in op if lb_num.count(i)<=min_]\n",
        "more=[i for i in op if lb_num.count(i)>min_]\n",
        "raw['more_less']=raw['lb_name'].apply(lambda x:any([1 for i in x if i in more]))\n",
        "(m,l)=(raw[raw['more_less']==1].reset_index(drop=True),raw[raw['more_less']==0].reset_index(drop=True))\n",
        "\n",
        "\n",
        "# _,df_eval=sep_df_more_less_multiLB(m,'lb',eval_r/(tra_r+eval_r+test_r))\n",
        "# df_tra,df_test=sep_df_more_less_multiLB(_,'lb',test_r/(tra_r+test_r))\n",
        "# df_eval=pd.concat((df_eval,l)).reset_index(drop=True)\n",
        "# df_tra=pd.concat((df_tra,l)).reset_index(drop=True)\n",
        "# df_test=pd.concat((df_test,l)).reset_index(drop=True)\n",
        "# len(df_eval),len(df_tra),len(df_test)\n",
        "\n",
        "df_tra,df_eval=sep_df_more_less_multiLB(m,'lb',eval_r/(tra_r+eval_r))\n",
        "len(df_eval),len(df_tra)"
      ]
    },
    {
      "cell_type": "code",
      "execution_count": null,
      "metadata": {
        "id": "ROG1DcAPDWA2",
        "outputId": "478bc6cd-b6d2-49c5-f9fa-b768c46a0343"
      },
      "outputs": [
        {
          "name": "stderr",
          "output_type": "stream",
          "text": [
            "/facecore/env/lib64/python3.6/site-packages/ipykernel_launcher.py:2: SettingWithCopyWarning: \n",
            "A value is trying to be set on a copy of a slice from a DataFrame.\n",
            "Try using .loc[row_indexer,col_indexer] = value instead\n",
            "\n",
            "See the caveats in the documentation: https://pandas.pydata.org/pandas-docs/stable/user_guide/indexing.html#returning-a-view-versus-a-copy\n",
            "  \n",
            "/facecore/env/lib64/python3.6/site-packages/ipykernel_launcher.py:3: SettingWithCopyWarning: \n",
            "A value is trying to be set on a copy of a slice from a DataFrame.\n",
            "Try using .loc[row_indexer,col_indexer] = value instead\n",
            "\n",
            "See the caveats in the documentation: https://pandas.pydata.org/pandas-docs/stable/user_guide/indexing.html#returning-a-view-versus-a-copy\n",
            "  This is separate from the ipykernel package so we can avoid doing imports until\n"
          ]
        }
      ],
      "source": [
        "# df_tra df_eval df_test\n",
        "df_tra['inputs']=df_tra['醫囑__']+'[SEP]'+df_tra['診斷-病名_']\n",
        "df_eval['inputs']=df_eval['醫囑__']+'[SEP]'+df_eval['診斷-病名_']\n",
        "# df_test['inputs']=df_test['醫囑']+'[SEP]'+df_test['診斷-病名']\n",
        "\n",
        "params={'return_token_type_ids': True,'return_tensors':'pt', 'padding':True, 'truncation':True,\n",
        "    'return_attention_mask': True}\n",
        "tra_inps=tokenizer.batch_encode_plus(df_tra['inputs'].values.tolist(),**params)\n",
        "eval_inps=tokenizer.batch_encode_plus(df_eval['inputs'].values.tolist(), **params)\n",
        "# test_inps=tokenizer.batch_encode_plus(df_test['inputs'].values.tolist(), **params)\n",
        "\n",
        "p=[tra_inps['input_ids'],tra_inps['token_type_ids'],tra_inps['attention_mask'],torch.tensor(df_tra['lb'].tolist()).float()]\n",
        "tra_ds = TensorDataset(*p)\n",
        "p=[eval_inps['input_ids'],eval_inps['token_type_ids'],eval_inps['attention_mask'],torch.tensor(df_eval['lb'].tolist()).float()]\n",
        "eval_ds = TensorDataset(*p)\n",
        "# p=[test_inps['input_ids'],test_inps['token_type_ids'],test_inps['attention_mask'],torch.tensor(df_test['lb']).float()]\n",
        "# test_ds = TensorDataset(*p)"
      ]
    },
    {
      "cell_type": "code",
      "execution_count": null,
      "metadata": {
        "id": "tyE3PypyDWA3"
      },
      "outputs": [],
      "source": [
        "# from torch.utils.data import DataLoader,TensorDataset,Dataset\n",
        "# class CustomDataset(Dataset):\n",
        "#     def __init__(self, inputs, df_):\n",
        "#         self.inputs=inputs\n",
        "#         self.df=df_\n",
        "#     def __len__(self):\n",
        "#         return len(self.df)\n",
        "#     def __getitem__(self, idx):\n",
        "#         return (self.inputs['input_ids'][idx],\n",
        "#             self.inputs['token_type_ids'][idx], \n",
        "#             self.inputs['attention_mask'][idx],\n",
        "#             torch.tensor([self.df['大分_l'].iloc[idx]]).float(),\n",
        "#             torch.tensor([self.df['中分_l'].iloc[idx]]).float(),\n",
        "#             torch.tensor([self.df['職業_l'].iloc[idx]]).float(),\n",
        "#             torch.tensor(self.df['大分_i'].iloc[idx]).float(), #大分類\n",
        "#             torch.tensor(self.df['中分_i'].iloc[idx]).float(), #職業中分類_富邦內部版\n",
        "#             torch.tensor(self.df['職業_i'].iloc[idx]).float(), #職業代碼\n",
        "#             torch.tensor(idx)) \n",
        "            ### return {'data': x, 'target': y}\n",
        "# tra_ds=CustomDataset(tra_inps,df_tra)\n",
        "# eval_ds=CustomDataset(eval_inps,df_eval)\n",
        "# test_ds=CustomDataset(test_inps,df_test)"
      ]
    },
    {
      "cell_type": "code",
      "execution_count": null,
      "metadata": {
        "id": "RNIhJMX1DWA3"
      },
      "outputs": [],
      "source": []
    },
    {
      "cell_type": "code",
      "execution_count": null,
      "metadata": {
        "id": "yGgAGLukDWA3"
      },
      "outputs": [],
      "source": [
        "\n",
        "# tokenizer.save_pretrained('ckip_albert_tok')\n",
        "mdl.save_pretrained(dir_)"
      ]
    },
    {
      "cell_type": "code",
      "execution_count": null,
      "metadata": {
        "colab": {
          "referenced_widgets": [
            "0c87b2ca8c8746cfaafc408eceefe040",
            "fd9d1f40ddfa456094dd032d3daa9f62"
          ]
        },
        "id": "5L2F-pXKDWA3",
        "outputId": "9767e46b-16f9-4bda-e17e-1c56aac33666"
      },
      "outputs": [
        {
          "data": {
            "application/vnd.jupyter.widget-view+json": {
              "model_id": "0c87b2ca8c8746cfaafc408eceefe040",
              "version_major": 2,
              "version_minor": 0
            },
            "text/plain": [
              "Downloading:   0%|          | 0.00/750 [00:00<?, ?B/s]"
            ]
          },
          "metadata": {},
          "output_type": "display_data"
        },
        {
          "data": {
            "application/vnd.jupyter.widget-view+json": {
              "model_id": "fd9d1f40ddfa456094dd032d3daa9f62",
              "version_major": 2,
              "version_minor": 0
            },
            "text/plain": [
              "Downloading:   0%|          | 0.00/40.3M [00:00<?, ?B/s]"
            ]
          },
          "metadata": {},
          "output_type": "display_data"
        },
        {
          "name": "stderr",
          "output_type": "stream",
          "text": [
            "Some weights of the model checkpoint at ckiplab/albert-base-chinese were not used when initializing AlbertModel: ['predictions.dense.weight', 'predictions.LayerNorm.weight', 'predictions.LayerNorm.bias', 'predictions.decoder.bias', 'predictions.bias', 'predictions.dense.bias', 'predictions.decoder.weight']\n",
            "- This IS expected if you are initializing AlbertModel from the checkpoint of a model trained on another task or with another architecture (e.g. initializing a BertForSequenceClassification model from a BertForPreTraining model).\n",
            "- This IS NOT expected if you are initializing AlbertModel from the checkpoint of a model that you expect to be exactly identical (initializing a BertForSequenceClassification model from a BertForSequenceClassification model).\n",
            "Some weights of AlbertModel were not initialized from the model checkpoint at ckiplab/albert-base-chinese and are newly initialized: ['albert.pooler.bias', 'albert.pooler.weight']\n",
            "You should probably TRAIN this model on a down-stream task to be able to use it for predictions and inference.\n"
          ]
        }
      ],
      "source": [
        "# dir_='ckip_albert_mask'\n",
        "# if os.path.exists(dir_):\n",
        "#     mdl=AutoModel.from_pretrained(dir_) #ckip_bert_mask\n",
        "# else:\n",
        "mdl=AutoModel.from_pretrained('ckiplab/albert-base-chinese')"
      ]
    },
    {
      "cell_type": "code",
      "source": [
        "class PosModel(nn.Module):\n",
        "    def __init__(self,mdl,lb_len):\n",
        "        super(PosModel, self).__init__()\n",
        "        self.base_model = mdl\n",
        "        d=1/2\n",
        "        emb=768\n",
        "        self.dp = nn.Dropout(d)\n",
        "        self.linear_clf = nn.Linear(emb, lb_len)\n",
        "    def forward(self, inputs):\n",
        "        outputs = self.base_model(inputs['input_ids'],\n",
        "            token_type_ids=inputs['token_type_ids'],attention_mask=inputs['attention_mask'])\n",
        "        out = self.dp(outputs.pooler_output)\n",
        "        out = self.linear_clf(out)\n",
        "        return outputs,out\n",
        "\n",
        "model = PosModel(mdl,len(op))\n",
        "model"
      ],
      "metadata": {
        "id": "dWgugmKM8QFm"
      },
      "execution_count": null,
      "outputs": []
    },
    {
      "cell_type": "code",
      "execution_count": null,
      "metadata": {
        "id": "tb3KvPNlDWA4",
        "outputId": "0c8f9c9e-855d-4ea0-8b44-6704b05de687"
      },
      "outputs": [
        {
          "data": {
            "text/plain": [
              "(1435, 2)"
            ]
          },
          "execution_count": 11,
          "metadata": {},
          "output_type": "execute_result"
        }
      ],
      "source": [
        "tra_dl=DataLoader(tra_ds,batch_size=2,shuffle=True)#,persistent_workers=False,num_workers=4\n",
        "eval_dl=DataLoader(eval_ds,batch_size=512,shuffle=True,)#persistent_workers=False,num_workers=4\n",
        "# test_dl=DataLoader(test_ds,batch_size=512,shuffle=True,persistent_workers=True,num_workers=4)#\n",
        "len(tra_dl),len(eval_dl)#,len(test_dl)"
      ]
    },
    {
      "cell_type": "code",
      "execution_count": null,
      "metadata": {
        "id": "Cl6Yuqo4DWA4",
        "outputId": "3147f650-c585-449f-bdde-b046e6ec2917"
      },
      "outputs": [
        {
          "data": {
            "text/plain": [
              "7"
            ]
          },
          "execution_count": 35,
          "metadata": {},
          "output_type": "execute_result"
        }
      ],
      "source": [
        "# df_tra df_eval df_test\n",
        "# df_test['inputs']=df_test['醫囑']+'[SEP]'+df_test['診斷-病名']\n",
        "\n",
        "raw['inputs']=raw['醫囑__']+'[SEP]'+raw['診斷-病名_']\n",
        "params={'return_token_type_ids': True,'return_tensors':'pt', 'padding':True, 'truncation':True,\n",
        "    'return_attention_mask': True}\n",
        "\n",
        "inps=tokenizer.batch_encode_plus(raw['inputs'].values.tolist(),**params)\n",
        "p=[inps['input_ids'],inps['token_type_ids'],inps['attention_mask'],torch.tensor(raw['lb'].tolist()).float()]\n",
        "dl=DataLoader(TensorDataset(*p),batch_size=512,shuffle=True)#,persistent_workers=False,num_workers=4\n",
        "# p=[test_inps['input_ids'],test_inps['token_type_ids'],test_inps['attention_mask'],torch.tensor(df_test['lb']).float()]\n",
        "# test_ds = TensorDataset(*p)\n",
        "len(dl)"
      ]
    },
    {
      "cell_type": "code",
      "execution_count": null,
      "metadata": {
        "id": "279kEYL5DWA4"
      },
      "outputs": [],
      "source": [
        "def train(dl):\n",
        "    model.train()\n",
        "    global optimizer\n",
        "    train_loss=0\n",
        "    for batch_idx, batch in tqdm(enumerate(dl),leave=False):\n",
        "        batch = tuple(b.to(device) for b in batch)\n",
        "        inputs = {'input_ids':      batch[0],\n",
        "                  'token_type_ids': batch[1],\n",
        "                  'attention_mask': batch[2],\n",
        "                 }\n",
        "        optimizer.zero_grad()\n",
        "        outputs,out = model(inputs)\n",
        "        loss = criterion(out, batch[3])\n",
        "        loss.backward()\n",
        "        optimizer.step()\n",
        "        train_loss += loss.item()\n",
        "#         print(loss.item())\n",
        "#     print('train loss: %f' % (train_loss))\n",
        "    return train_loss/(batch_idx+1)\n",
        "\n",
        "def test(dl):\n",
        "    model.eval()\n",
        "#     trues_b,preds_b,trues_m,preds_m,trues_c,preds_c = (list(),list(),list(),list(),list(),list())\n",
        "    trues = None\n",
        "    preds = None\n",
        "    eval_loss=0\n",
        "    with torch.no_grad():\n",
        "        for batch_idx, batch in tqdm(enumerate(dl),leave=False):\n",
        "            batch = tuple(b.to(device) for b in batch)\n",
        "            inputs = {'input_ids':      batch[0],\n",
        "                      'token_type_ids': batch[1],\n",
        "                      'attention_mask': batch[2],\n",
        "                     }\n",
        "            outputs,out= model(inputs)\n",
        "            loss = criterion(out, batch[3])\n",
        "            eval_loss+=loss.item()\n",
        "            if trues is None:\n",
        "                trues=batch[3].cpu().numpy().copy()\n",
        "                preds=torch.sigmoid(out).cpu().numpy().copy()\n",
        "            else:\n",
        "                trues=np.append(trues, np.array(batch[3].cpu().numpy()), axis=0)\n",
        "                preds=np.append(preds, np.array(torch.sigmoid(out).cpu()), axis=0)\n",
        "        f1=f1_score(trues,(preds>.5),average='micro')\n",
        "        acc=accuracy_score(trues, (preds>.5))\n",
        "    return acc, f1, eval_loss/(batch_idx+1)\n",
        "\n",
        "def torch_save(params,path):\n",
        "    torch.save(params,path)\n",
        "def torch_load(path):\n",
        "    return torch.load(path)\n",
        "def is_save(i,tra_loss,eval_loss,acc,f1):\n",
        "    global max_acc\n",
        "    global tra_low_loss\n",
        "    global eval_low_loss\n",
        "    global eval_last_loss\n",
        "    params={'epoch':i,'train_loss':tra_loss,'eval_loss':eval_loss,'acc':acc,'f1':f1}\n",
        "    params['model_state_dict']=model.state_dict()\n",
        "    params['optimizer_state_dict']=optimizer.state_dict()\n",
        "    if max_acc<acc:\n",
        "        torch_save(params,prefix+'_acc.'+ext)\n",
        "        max_acc=acc\n",
        "        print('max_acc!',i,f'tra:{tra_loss}',f'eval:{eval_loss}',f'acc:{acc}',f'f1:{f1}')\n",
        "    if tra_loss<tra_low_loss:\n",
        "        torch_save(params,prefix+'_tra.'+ext)\n",
        "        tra_low_loss=tra_loss\n",
        "        print('tra_loss!',i,f'tra:{tra_loss}',f'eval:{eval_loss}',f'acc:{acc}',f'f1:{f1}')\n",
        "    if eval_loss<eval_low_loss:\n",
        "        torch_save(params,prefix+'_eval.'+ext)\n",
        "        eval_low_loss=eval_loss\n",
        "        print('eval_loss!',i,f'tra:{tra_loss}',f'eval:{eval_loss}',f'acc:{acc}',f'f1:{f1}')\n",
        "    if i%30==0:\n",
        "        torch_save(params,prefix+f'_{i}.'+ext)\n",
        "        print('30 epoch!',i,f'tra:{tra_loss}',f'eval:{eval_loss}',f'acc:{acc}',f'f1:{f1}')"
      ]
    },
    {
      "cell_type": "code",
      "source": [
        "ckpt=torch_load('jc_hug_ckip_eval.pth')#jc_hug_ckip_last\n",
        "# ckpt=torch.load('jc_hug_ckip_eval.pth',map_location='cpu')#jc_hug_ckip_eval\n",
        "# model.load_state_dict(ckpt['model_state_dict'])\n",
        "ckpt"
      ],
      "metadata": {
        "id": "YY6J__uS8ZpI"
      },
      "execution_count": null,
      "outputs": []
    },
    {
      "cell_type": "code",
      "execution_count": null,
      "metadata": {
        "id": "UUs60vfvDWA5"
      },
      "outputs": [],
      "source": [
        "lr=1e-7 # 1e-6\n",
        "# optimizer = optim.SGD(model.parameters(), lr=lr, momentum=0.999)\n",
        "optimizer = optim.AdamW(model.parameters(), lr=lr,amsgrad=True,weight_decay=0.001)\n",
        "# optimizer = torch_optimizer.Yogi(model.parameters(),lr=lr,weight_decay=1e-4)"
      ]
    },
    {
      "cell_type": "code",
      "execution_count": null,
      "metadata": {
        "scrolled": true,
        "id": "IDik2PWaDWA5",
        "outputId": "f27161a5-c81c-4fd1-e3dc-c38e53324ec5"
      },
      "outputs": [
        {
          "data": {
            "text/plain": [
              "PosModel(\n",
              "  (base_model): AlbertModel(\n",
              "    (embeddings): AlbertEmbeddings(\n",
              "      (word_embeddings): Embedding(21128, 128, padding_idx=0)\n",
              "      (position_embeddings): Embedding(512, 128)\n",
              "      (token_type_embeddings): Embedding(2, 128)\n",
              "      (LayerNorm): LayerNorm((128,), eps=1e-12, elementwise_affine=True)\n",
              "      (dropout): Dropout(p=0, inplace=False)\n",
              "    )\n",
              "    (encoder): AlbertTransformer(\n",
              "      (embedding_hidden_mapping_in): Linear(in_features=128, out_features=768, bias=True)\n",
              "      (albert_layer_groups): ModuleList(\n",
              "        (0): AlbertLayerGroup(\n",
              "          (albert_layers): ModuleList(\n",
              "            (0): AlbertLayer(\n",
              "              (full_layer_layer_norm): LayerNorm((768,), eps=1e-12, elementwise_affine=True)\n",
              "              (attention): AlbertAttention(\n",
              "                (query): Linear(in_features=768, out_features=768, bias=True)\n",
              "                (key): Linear(in_features=768, out_features=768, bias=True)\n",
              "                (value): Linear(in_features=768, out_features=768, bias=True)\n",
              "                (attention_dropout): Dropout(p=0, inplace=False)\n",
              "                (output_dropout): Dropout(p=0, inplace=False)\n",
              "                (dense): Linear(in_features=768, out_features=768, bias=True)\n",
              "                (LayerNorm): LayerNorm((768,), eps=1e-12, elementwise_affine=True)\n",
              "              )\n",
              "              (ffn): Linear(in_features=768, out_features=3072, bias=True)\n",
              "              (ffn_output): Linear(in_features=3072, out_features=768, bias=True)\n",
              "              (activation): ReLU()\n",
              "              (dropout): Dropout(p=0, inplace=False)\n",
              "            )\n",
              "          )\n",
              "        )\n",
              "      )\n",
              "    )\n",
              "    (pooler): Linear(in_features=768, out_features=768, bias=True)\n",
              "    (pooler_activation): Tanh()\n",
              "  )\n",
              "  (dp): Dropout(p=0.5, inplace=False)\n",
              "  (linear_clf): Linear(in_features=768, out_features=100, bias=True)\n",
              ")"
            ]
          },
          "execution_count": 31,
          "metadata": {},
          "output_type": "execute_result"
        }
      ],
      "source": [
        "# criterion=nn.CrossEntropyLoss()\n",
        "criterion=nn.BCEWithLogitsLoss()\n",
        "\n",
        "# optimizer.load_state_dict(ckpt['optimizer_state_dict'])\n",
        "model.to(device)\n",
        "# ckpt"
      ]
    },
    {
      "cell_type": "code",
      "execution_count": null,
      "metadata": {
        "id": "UIZMREi4DWA5"
      },
      "outputs": [],
      "source": [
        "prefix='CL_hug_ckip'\n",
        "ext='pth'\n",
        "epoches=100000\n",
        "\n",
        "# ckpt=torch_load('jc_hug_ckip_eval.pth')\n",
        "# if ckpt:\n",
        "#     max_b_acc=ckpt['acc_b']\n",
        "#     max_m_acc=ckpt['acc_m']\n",
        "#     max_c_acc=ckpt['acc_c']\n",
        "#     tra_low_loss=ckpt['train_loss']\n",
        "#     eval_low_loss=ckpt['eval_loss']\n",
        "#     trigger_times=0\n",
        "# else:\n",
        "max_acc=0.2\n",
        "tra_low_loss=0.02\n",
        "eval_low_loss=0.02"
      ]
    },
    {
      "cell_type": "code",
      "execution_count": null,
      "metadata": {
        "scrolled": true,
        "colab": {
          "referenced_widgets": [
            "64ad478b58e84689a7a6dfc0fc2e5c77"
          ]
        },
        "id": "-KnBBF5eDWA5",
        "outputId": "e1793aab-56b3-466c-b30a-162957cb8142"
      },
      "outputs": [
        {
          "data": {
            "application/vnd.jupyter.widget-view+json": {
              "model_id": "64ad478b58e84689a7a6dfc0fc2e5c77",
              "version_major": 2,
              "version_minor": 0
            },
            "text/plain": [
              "0it [00:00, ?it/s]"
            ]
          },
          "metadata": {},
          "output_type": "display_data"
        }
      ],
      "source": [
        "# st=ckpt['epoch']+1\n",
        "st=1\n",
        "for i in range(st,epoches+1):\n",
        "    tra_loss=train(tra_dl)\n",
        "    acc,f1,eval_loss=test(eval_dl)\n",
        "    is_save(i,tra_loss,eval_loss,acc,f1)"
      ]
    },
    {
      "cell_type": "code",
      "execution_count": null,
      "metadata": {
        "colab": {
          "referenced_widgets": [
            ""
          ]
        },
        "id": "rrCDnbFiDWA5",
        "outputId": "99df0bc3-a3b9-4787-c5ee-0afb054fa4f3"
      },
      "outputs": [
        {
          "data": {
            "application/vnd.jupyter.widget-view+json": {
              "model_id": "",
              "version_major": 2,
              "version_minor": 0
            },
            "text/plain": [
              "0it [00:00, ?it/s]"
            ]
          },
          "metadata": {},
          "output_type": "display_data"
        }
      ],
      "source": [
        "acc,f1,eval_loss=test(dl)"
      ]
    },
    {
      "cell_type": "code",
      "execution_count": null,
      "metadata": {
        "id": "8JkjvROfDWA5",
        "outputId": "0fa9b007-d502-4256-8fda-7975eddc0123"
      },
      "outputs": [
        {
          "data": {
            "text/plain": [
              "(0.0, 0.02610503148499114, 0.6963042787143162)"
            ]
          },
          "execution_count": 36,
          "metadata": {},
          "output_type": "execute_result"
        }
      ],
      "source": [
        "acc,f1,eval_loss"
      ]
    },
    {
      "cell_type": "code",
      "execution_count": null,
      "metadata": {
        "id": "M5uYCYHmDWA5",
        "outputId": "48c8807a-4e94-40c3-edd9-f9d1f114c384"
      },
      "outputs": [
        {
          "data": {
            "text/plain": [
              "((207, 100), (207, 100))"
            ]
          },
          "execution_count": 53,
          "metadata": {},
          "output_type": "execute_result"
        }
      ],
      "source": [
        "# a=torch.sigmoid(out).cpu().numpy()\n",
        "# b=batch[3].cpu().numpy()\n",
        "# f1_score(b,a,average='micro')\n",
        "a.shape,b.shape"
      ]
    },
    {
      "cell_type": "code",
      "execution_count": null,
      "metadata": {
        "id": "cdhq7UwsDWA6",
        "outputId": "8d92070e-280b-4d23-9631-2eb2738af9e5"
      },
      "outputs": [
        {
          "data": {
            "text/plain": [
              "(0.027357811375089996, 0.0)"
            ]
          },
          "execution_count": 60,
          "metadata": {},
          "output_type": "execute_result"
        }
      ],
      "source": [
        "\n",
        "test_f1_accuracy = f1_score(b,(a>.5),average='micro')\n",
        "test_flat_accuracy = accuracy_score(b, (a>.5))\n",
        "test_f1_accuracy,test_flat_accuracy"
      ]
    },
    {
      "cell_type": "code",
      "execution_count": null,
      "metadata": {
        "id": "eaOWFBpBDWA6",
        "outputId": "3b94a929-7eb3-4612-be60-a9c26bdd8067"
      },
      "outputs": [
        {
          "data": {
            "text/plain": [
              "tensor([[0.5158, 0.4943, 0.4735,  ..., 0.4555, 0.5223, 0.5182],\n",
              "        [0.5160, 0.4958, 0.4746,  ..., 0.4560, 0.5212, 0.5184],\n",
              "        [0.5166, 0.4953, 0.4742,  ..., 0.4559, 0.5211, 0.5182],\n",
              "        ...,\n",
              "        [0.5100, 0.4963, 0.4749,  ..., 0.4623, 0.5165, 0.5173],\n",
              "        [0.5145, 0.4966, 0.4744,  ..., 0.4566, 0.5210, 0.5185],\n",
              "        [0.5144, 0.4962, 0.4745,  ..., 0.4564, 0.5215, 0.5182]],\n",
              "       device='cuda:0')"
            ]
          },
          "execution_count": 42,
          "metadata": {},
          "output_type": "execute_result"
        }
      ],
      "source": [
        "torch.sigmoid(out)"
      ]
    },
    {
      "cell_type": "code",
      "execution_count": null,
      "metadata": {
        "id": "MIg6qtU1DWA6",
        "outputId": "d5271cd1-aad1-4007-b9f0-44f81b7222ea"
      },
      "outputs": [
        {
          "data": {
            "text/plain": [
              "tensor([[1.0000, 0.4943, 0.4735,  ..., 0.4555, 1.0000, 1.0000],\n",
              "        [1.0000, 0.4958, 0.4746,  ..., 0.4560, 1.0000, 1.0000],\n",
              "        [1.0000, 0.4953, 0.4742,  ..., 0.4559, 1.0000, 1.0000],\n",
              "        ...,\n",
              "        [1.0000, 0.4963, 0.4749,  ..., 0.4623, 1.0000, 1.0000],\n",
              "        [1.0000, 0.4966, 0.4744,  ..., 0.4566, 1.0000, 1.0000],\n",
              "        [1.0000, 0.4962, 0.4745,  ..., 0.4564, 1.0000, 1.0000]],\n",
              "       device='cuda:0')"
            ]
          },
          "execution_count": 44,
          "metadata": {},
          "output_type": "execute_result"
        }
      ],
      "source": [
        "a[a > 0.5] = 1\n",
        "a"
      ]
    },
    {
      "cell_type": "code",
      "execution_count": null,
      "metadata": {
        "id": "JYjfQTeQDWA6",
        "outputId": "b32cd46b-d9c7-48af-e5d6-139efb67a887"
      },
      "outputs": [
        {
          "data": {
            "text/plain": [
              "tensor(0.6974, device='cuda:0')"
            ]
          },
          "execution_count": 45,
          "metadata": {},
          "output_type": "execute_result"
        }
      ],
      "source": [
        "criterion(out, batch[3])"
      ]
    },
    {
      "cell_type": "code",
      "execution_count": null,
      "metadata": {
        "id": "UQT8P5ugDWA6",
        "outputId": "f67c7903-598b-4df3-f3d3-103308164e2e"
      },
      "outputs": [
        {
          "data": {
            "text/plain": [
              "tensor(1.1391, device='cuda:0')"
            ]
          },
          "execution_count": 46,
          "metadata": {},
          "output_type": "execute_result"
        }
      ],
      "source": [
        "criterion(a, batch[3])"
      ]
    },
    {
      "cell_type": "code",
      "execution_count": null,
      "metadata": {
        "id": "iP0CiXL_DWA6"
      },
      "outputs": [],
      "source": []
    }
  ],
  "metadata": {
    "kernelspec": {
      "display_name": "Python 3 (ipykernel)",
      "language": "python",
      "name": "python3"
    },
    "language_info": {
      "codemirror_mode": {
        "name": "ipython",
        "version": 3
      },
      "file_extension": ".py",
      "mimetype": "text/x-python",
      "name": "python",
      "nbconvert_exporter": "python",
      "pygments_lexer": "ipython3",
      "version": "3.9.12"
    },
    "colab": {
      "provenance": [],
      "include_colab_link": true
    }
  },
  "nbformat": 4,
  "nbformat_minor": 0
}