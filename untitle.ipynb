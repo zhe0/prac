{
  "cells": [
    {
      "cell_type": "markdown",
      "metadata": {
        "id": "view-in-github",
        "colab_type": "text"
      },
      "source": [
        "<a href=\"https://colab.research.google.com/github/zhe0/prac/blob/main/untitle.ipynb\" target=\"_parent\"><img src=\"https://colab.research.google.com/assets/colab-badge.svg\" alt=\"Open In Colab\"/></a>"
      ]
    },
    {
      "cell_type": "code",
      "source": [
        "!pip install torch transformers\n",
        "\n",
        "\n",
        "import torch\n",
        "from transformers import BertTokenizer,BertModel\n",
        "mdl_name='bert-base-uncased' #可以改成中文的\n",
        "tokenizer = BertTokenizer.from_pretrained(mdl_name) \n",
        "model = BertModel.from_pretrained(mdl_name)\n",
        "tok = tokenizer.encode(\"Hello, I was heard that Dr. Deng is outstanding\")\n",
        "input_ids = torch.tensor(tok).unsqueeze(0)\n",
        "outputs = model(input_ids)\n",
        "last_hidden_states = outputs[0][0] # 取得embedding\n",
        "print('embedding與tok的\"張量尺寸\"',last_hidden_states.shape,input_ids[0].shape)\n",
        "\n",
        "\n",
        "ids=tokenizer.convert_ids_to_tokens(tok)\n",
        "emb=dict([(i,j) for i,j in zip(ids,last_hidden_states)])\n",
        "print('被斷詞後的字串',ids)\n",
        "eg='deng'\n",
        "print(f'取得{eg}的emb',emb[eg][:10],'......')"
      ],
      "metadata": {
        "id": "1Iv7_e6I33IB"
      },
      "execution_count": null,
      "outputs": []
    },
    {
      "cell_type": "code",
      "source": [],
      "metadata": {
        "id": "bVTL7_ON6iBl",
        "colab": {
          "base_uri": "https://localhost:8080/"
        },
        "outputId": "20f49dc2-966a-46aa-95c4-0f9818ffac22"
      },
      "execution_count": 11,
      "outputs": [
        {
          "output_type": "stream",
          "name": "stderr",
          "text": [
            "Some weights of the model checkpoint at bert-base-uncased were not used when initializing BertModel: ['cls.predictions.transform.LayerNorm.weight', 'cls.seq_relationship.bias', 'cls.predictions.transform.LayerNorm.bias', 'cls.predictions.transform.dense.bias', 'cls.predictions.transform.dense.weight', 'cls.seq_relationship.weight', 'cls.predictions.decoder.weight', 'cls.predictions.bias']\n",
            "- This IS expected if you are initializing BertModel from the checkpoint of a model trained on another task or with another architecture (e.g. initializing a BertForSequenceClassification model from a BertForPreTraining model).\n",
            "- This IS NOT expected if you are initializing BertModel from the checkpoint of a model that you expect to be exactly identical (initializing a BertForSequenceClassification model from a BertForSequenceClassification model).\n"
          ]
        }
      ]
    },
    {
      "cell_type": "code",
      "execution_count": null,
      "metadata": {
        "id": "RNIhJMX1DWA3"
      },
      "outputs": [],
      "source": []
    },
    {
      "cell_type": "code",
      "execution_count": null,
      "metadata": {
        "id": "iP0CiXL_DWA6"
      },
      "outputs": [],
      "source": []
    }
  ],
  "metadata": {
    "kernelspec": {
      "display_name": "Python 3 (ipykernel)",
      "language": "python",
      "name": "python3"
    },
    "language_info": {
      "codemirror_mode": {
        "name": "ipython",
        "version": 3
      },
      "file_extension": ".py",
      "mimetype": "text/x-python",
      "name": "python",
      "nbconvert_exporter": "python",
      "pygments_lexer": "ipython3",
      "version": "3.9.12"
    },
    "colab": {
      "provenance": [],
      "include_colab_link": true
    }
  },
  "nbformat": 4,
  "nbformat_minor": 0
}