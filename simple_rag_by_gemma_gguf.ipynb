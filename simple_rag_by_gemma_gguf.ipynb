{
  "cells": [
    {
      "cell_type": "markdown",
      "metadata": {
        "id": "view-in-github",
        "colab_type": "text"
      },
      "source": [
        "<a href=\"https://colab.research.google.com/github/zhe0/prac/blob/main/simple_rag_by_gemma_gguf.ipynb\" target=\"_parent\"><img src=\"https://colab.research.google.com/assets/colab-badge.svg\" alt=\"Open In Colab\"/></a>"
      ]
    },
    {
      "cell_type": "markdown",
      "source": [
        "# 快速建置你的機器人\n",
        "* 對話機器人\n",
        "    * google gemma\n",
        "    * 號稱手機地端版\n",
        "---\n",
        "* 怎麼減少幻覺\n",
        "    * 給予參考資料\n",
        "---\n",
        "* RAG機制的機器人\n",
        "    * 給予更大量的參考資料"
      ],
      "metadata": {
        "id": "-JkXb4UazTNr"
      }
    },
    {
      "cell_type": "markdown",
      "source": [
        "## 載入套件、下載模組"
      ],
      "metadata": {
        "id": "OcWueGJRzO8M"
      }
    },
    {
      "cell_type": "code",
      "source": [
        "from langchain.llms import LlamaCpp\n",
        "from huggingface_hub import hf_hub_download\n",
        "from IPython.display import HTML\n",
        "model_name='lmstudio-ai/gemma-2b-it-GGUF'\n",
        "filename = \"gemma-2b-it-q8_0.gguf\"\n",
        "model_path = hf_hub_download(repo_id=model_name,filename=filename)"
      ],
      "metadata": {
        "id": "jhNc4uyG1CDn",
        "outputId": "f98b6fbc-7804-4dac-c568-67c19ec49f4e",
        "colab": {
          "base_uri": "https://localhost:8080/"
        }
      },
      "execution_count": 2,
      "outputs": [
        {
          "output_type": "stream",
          "name": "stderr",
          "text": [
            "/usr/local/lib/python3.10/dist-packages/huggingface_hub/utils/_token.py:88: UserWarning: \n",
            "The secret `HF_TOKEN` does not exist in your Colab secrets.\n",
            "To authenticate with the Hugging Face Hub, create a token in your settings tab (https://huggingface.co/settings/tokens), set it as secret in your Google Colab and restart your session.\n",
            "You will be able to reuse this secret in all of your notebooks.\n",
            "Please note that authentication is recommended but still optional to access public models or datasets.\n",
            "  warnings.warn(\n"
          ]
        }
      ]
    },
    {
      "cell_type": "code",
      "execution_count": 29,
      "metadata": {
        "id": "F53QV6f6-I-l"
      },
      "outputs": [],
      "source": [
        "llm = None\n",
        "p={\n",
        "    'model_path':model_path,\n",
        "    'temperature':0,\n",
        "    'max_tokens':8192,\n",
        "    # 'n_batch':512,# Should be between 1 and n_ctx, consider the amount of VRAM in your GPU.\n",
        "    'top_p':.99,\n",
        "    # 'n_threads':-1, # CPU cores\n",
        "    'n_ctx':8192,# Context window\n",
        "    'verbose':False}\n",
        "llm = LlamaCpp(**p)\n",
        "llm"
      ]
    },
    {
      "cell_type": "markdown",
      "source": [
        "## 試著問看看?"
      ],
      "metadata": {
        "id": "jy5U234d3JRr"
      }
    },
    {
      "cell_type": "code",
      "source": [
        "q1='FUBON LIFE'\n",
        "query=f\"請問'{q1}是甚麼?\"\n",
        "res=llm.invoke(query)\n",
        "HTML(res)"
      ],
      "metadata": {
        "id": "bzG44uVP0uB6",
        "outputId": "8c5b69ce-7fb1-4794-bad3-7d32b84d80e5",
        "colab": {
          "base_uri": "https://localhost:8080/",
          "height": 34
        }
      },
      "execution_count": 86,
      "outputs": [
        {
          "output_type": "execute_result",
          "data": {
            "text/plain": [
              "<IPython.core.display.HTML object>"
            ],
            "text/html": [
              "\n",
              "\n",
              "FUBON LIFE 是指一種由台灣公司 Fubon Financial Group 開發的線上投資平台，提供投資股票、債券、基金和房地產等多種商品的投資機會。"
            ]
          },
          "metadata": {},
          "execution_count": 86
        }
      ]
    },
    {
      "cell_type": "code",
      "source": [
        "context='FUBON可能與金融業相關'\n",
        "q2='富邦人壽'\n",
        "prompt = f\"\"\"\n",
        "SYS: 你身處台灣並講著當地語言\n",
        "ROLE: 你是一位解說員\n",
        "QUESTION: 請問'{q1}'或'{q2}'是甚麼?\n",
        "CONTEXT: {context}\n",
        "THINK: 回答之前，請使用TOT(tree of thought)拆解\n",
        "ANSWER: 詳盡回答問題\n",
        "\"\"\"\n",
        "res=llm.invoke(prompt)\n",
        "HTML(res)"
      ],
      "metadata": {
        "id": "hhbyk6Ov1mMJ",
        "outputId": "fc94025e-9f33-425e-f062-4aeae48e138a",
        "colab": {
          "base_uri": "https://localhost:8080/",
          "height": 121
        }
      },
      "execution_count": 87,
      "outputs": [
        {
          "output_type": "execute_result",
          "data": {
            "text/plain": [
              "<IPython.core.display.HTML object>"
            ],
            "text/html": [
              "**TOT(tree of thought)**\n",
              "\n",
              "**1. FUBON的來源**\n",
              "\n",
              "- FUBON的來源可以追溯到1950年代的台灣。\n",
              "- 當時台灣的經濟發展迅速，許多企業被建立起來。\n",
              "- 一些企業的名稱包含「富邦」，例如富邦紡織、富邦汽車等。\n",
              "\n",
              "**2. FUBON的意義**\n",
              "\n",
              "- FUBON是一種台灣的金融公司，主要提供保險產品。\n",
              "- 他們擁有台灣最大的保險公司富邦保險。\n",
              "\n",
              "**3. FUBON的業務**\n",
              "\n",
              "- FUBON提供各種保險產品，包括汽車保險、房屋保險、健康保險等。\n",
              "- 他們還提供投資產品和金融服務。\n",
              "\n",
              "**4. FUBON的規模**\n",
              "\n",
              "- FUBON是台灣最大的保險公司，擁有超過100萬名客戶。\n",
              "- 他們在台灣擁有超過100個分店和100萬個保險保險人。\n",
              "\n",
              "**5. FUBON的影響**\n",
              "\n",
              "- FUBON是台灣經濟的重要組成部分。\n",
              "- 他們對台灣的經濟發展和社會發展有重大影響。\n",
              "\n",
              "**6. FUBON的未來**\n",
              "\n",
              "- FUBON正在積極發展新的業務領域，例如雲端保險和人工智能。\n",
              "- 他們致力於為台灣的經濟發展做出貢獻。"
            ]
          },
          "metadata": {},
          "execution_count": 87
        }
      ]
    },
    {
      "cell_type": "markdown",
      "source": [
        "# 建置特定領域知識的機器人"
      ],
      "metadata": {
        "id": "K-wdzOucKk2A"
      }
    },
    {
      "cell_type": "markdown",
      "source": [
        "## 先取得關於富邦人壽的相關文件\n",
        "* 利用wiki完成搜尋"
      ],
      "metadata": {
        "id": "YtM5ZMRpCHOu"
      }
    },
    {
      "cell_type": "code",
      "source": [
        "from langchain_community.retrievers import WikipediaRetriever\n",
        "from langchain.chains import ConversationalRetrievalChain\n",
        "from IPython.display import Markdown as md\n",
        "retriever = WikipediaRetriever(lang='zh')\n",
        "q1='FUBON LIFE'\n",
        "q2='富邦人壽'\n",
        "docs = retriever.get_relevant_documents(query=[q1,q2])\n",
        "ref=''\n",
        "for i in range(len(docs)):\n",
        "    ref+=docs[i].metadata['summary']\n",
        "    print(f'文件{i+1}:',docs[i].metadata['summary'])"
      ],
      "metadata": {
        "id": "k909NgVKKt5g",
        "outputId": "d6384d5c-a997-414e-fc38-55f61bb94562",
        "colab": {
          "base_uri": "https://localhost:8080/"
        }
      },
      "execution_count": 31,
      "outputs": [
        {
          "output_type": "stream",
          "name": "stdout",
          "text": [
            "富邦人壽保險股份有限公司，簡稱富邦人壽、富壽，是一家總部設於中華民國臺北市松山區的人壽保險公司，為富邦金融控股公司（富邦金控）旗下子公司之一。\n",
            "富邦人壽大樓是富邦人壽一座已啟用的商辦摩天大樓，位於臺灣臺北市信義區信義計畫區松高路與松勇路之間，土地面積約18,020平方公尺，約佔地 5,451 坪。樓高265.78公尺，地上樓層54樓，地下樓4樓，總樓地板面積為132,362.85平方公尺。包括三棟建築物，分別為辦公塔樓棟、商業設施棟及美術館。由義大利建築師伦佐·皮亚诺（Renzo Piano）與台灣建築師姚仁喜共同設計，目前為台北第4高樓，僅次於臺北101、臺北南山廣場、台北天空塔，臺灣第6高樓。\n",
            "原本大樓規劃為商場、旅館與商辦三合一的複合式開發案，將引進國際頂級飯店瑰麗酒店，2018年富邦人壽在考量觀光景氣不佳的情況下，將原規畫為飯店的1至19樓空間全數變更為辦公室，預計將會將旗下子公司悉數統一集中至富邦 A25 。\n",
            "另外原位於松山路的台北富邦銀行松山分行於2023年10月16日遷入本棟地下一樓\n",
            "富邦凹仔底是富邦人壽一座興建中的摩天大樓，位於臺灣高雄市鼓山區博愛二路與大順一路間，大型地上權開發案，基地原為舊龍華國小 ，2018年3月7日開標由富邦人壽得標，5月10日完成簽約。 開發案土地面積約11,636坪，將打造一座融合商場、旅館、辦公室及水族館的商業綜合體，建築設計由三菱地所設計負責，將為一座地下6層地上47層的建築物。2020年12月3日富邦集團與三地集團簽約，將開發案中的水族館交由三地集團旗下的南仁湖企業經營，未來將會是高雄第三高樓。2022年3月23日補辦動土典禮，2023年2月確定商場將由漢神百貨進駐，成為高雄市第三間漢神百貨購物中心。柏文健康事業 （页面存档备份，存于互联网档案馆）向富邦人壽承租20年，總面積達7,000坪之商場空間，未來旗下「健身工廠」、「人體工房」、「滾吧」、「肖跳」、「鐳射戰場」及「S klub兒童體適能俱樂部」六大事業品牌將同時進駐，且再打造南台灣唯一符合國際標準之滑冰場，此一滑冰場為南臺灣最大冰宮，未來可兼具娛樂、休閒，又可舉辦國際冰上曲棍球賽事。\n"
          ]
        }
      ]
    },
    {
      "cell_type": "markdown",
      "source": [
        "## 基於wiki紀錄，或是改變指令，對話看看?"
      ],
      "metadata": {
        "id": "mL2tI39YCTW2"
      }
    },
    {
      "cell_type": "code",
      "source": [
        "prompt = f\"\"\"\n",
        "Prerequisite: 你身處台灣並講著當地語言\n",
        "role: 你是一位解說員\n",
        "Question: 請問'{q1}'或'{q2}'是甚麼?\n",
        "context: {ref}\n",
        "think: 回答之前，請使用TOT(tree of thought)拆解\n",
        "answer: 詳盡回答TOT步驟，並再次回答\n",
        "temperature=1.0\n",
        "\"\"\"\n",
        "res=llm.invoke(prompt)\n",
        "md(res)"
      ],
      "metadata": {
        "id": "tyDA7DyWTJjv",
        "outputId": "6bd9e39c-d509-4651-cb48-66ceb5f9c22a",
        "colab": {
          "base_uri": "https://localhost:8080/",
          "height": 174
        }
      },
      "execution_count": 98,
      "outputs": [
        {
          "output_type": "execute_result",
          "data": {
            "text/plain": [
              "<IPython.core.display.Markdown object>"
            ],
            "text/markdown": "TOT:\n\n**FUBON LIFE**\n\n* 富邦人壽保險股份有限公司，簡稱富邦人壽、富壽，是一家總部設於中華民國臺北市松山區的人壽保險公司。\n\n**富邦人壽大樓**\n\n* 富邦人壽一座已啟用的商辦摩天大樓，位於臺灣臺北市信義區信義計畫區松高路與松勇路之間，土地面積約18,020平方公尺，約佔地 5,451 坪。\n*樓高265.78公尺，地上樓層54樓，地下樓4樓，總樓地板面積為132,362.85平方公尺。\n*包括三棟建築物，分別為辦公塔樓棟、商業設施棟及美術館。"
          },
          "metadata": {},
          "execution_count": 98
        }
      ]
    },
    {
      "cell_type": "code",
      "source": [
        "q1='FUBON LIFE'\n",
        "q2='富邦人壽'\n",
        "context=ref\n",
        "\n",
        "prompt = f\"\"\"\n",
        "Prerequisite: 你身處台灣並講著當地語言\n",
        "role: 你是一位解說員\n",
        "Question: 請問'{q1}'或'{q2}'是甚麼，並且使用SWOT方式解說?\n",
        "context: {ref}\n",
        "think: 回答之前，請使用TOT(tree of thought)拆解\n",
        "answer: 詳盡回答TOT步驟，並再次回答\n",
        "temperature=1.0\n",
        "\"\"\"\n",
        "res=llm.invoke(prompt)\n",
        "md(res)"
      ],
      "metadata": {
        "id": "8jtm1Y2NK7Pz",
        "outputId": "382d0220-a5c3-4ac7-b28c-6f0a0956a8b4",
        "colab": {
          "base_uri": "https://localhost:8080/",
          "height": 489
        }
      },
      "execution_count": 97,
      "outputs": [
        {
          "output_type": "execute_result",
          "data": {
            "text/plain": [
              "<IPython.core.display.Markdown object>"
            ],
            "text/markdown": "# TOT (tree of thought)\n\n**FUBON LIFE**\n\n* FUBON LIFE 是台灣一家總部設於臺北市的**人壽保險公司**。\n* 公司主要業務為提供**個人壽險**、**家庭保險**和**企業保險**等產品和服務。\n\n**SWOT 分析**\n\n**優勢 (Strengths)**\n\n* **豐富的產品和服務：** FUBON LIFE 提供多種產品和服務，可以滿足不同顧客的需求。\n* **強大的品牌知名度：** FUBON LIFE 是台灣知名人壽保險公司的品牌，可以為其帶來良好的品牌知名度。\n* **多元的業務範圍：** FUBON LIFE 的業務範圍很廣，可以為顧客提供多種選擇。\n\n**劣勢 (Weaknesses)**\n\n* **競爭激烈：** 台灣人壽保險市場非常激烈，FUBON LIFE 需要不斷努力以保持其競爭力。\n* **人力資源有限：** FUBON LIFE 的人力資源有限，可能影響其營運效率。\n* **市場反應緩慢：** 台灣的經濟發展緩慢，可能影響 FUBON LIFE 的營運效率。\n\n**機會 (Opportunities)**\n\n* **市場成長：** 台灣的經濟發展將推動人壽保險的市場成長。\n* **新技術：** 新技術可以幫助 FUBON LIFE 提高其營運效率。\n* **國際化：** FUBON LIFE 可以透過國際化來擴展其市場。\n\n**威脅 (Threats)**\n\n* **經濟衰退：** 經濟衰退可能會導致人壽保險公司的營運困難。\n* **競爭激烈：** 台灣人壽保險市場非常激烈，FUBON LIFE 需要不斷努力以保持其競爭力。\n* **法律規範：** 人壽保險公司必須遵守嚴格的法律規範。"
          },
          "metadata": {},
          "execution_count": 97
        }
      ]
    },
    {
      "cell_type": "markdown",
      "source": [
        "# 建置 金管會的AI管理辦法 機器人"
      ],
      "metadata": {
        "id": "Lq8vcLLeCTUL"
      }
    },
    {
      "cell_type": "markdown",
      "source": [
        "## 下載\n",
        "* 金管會的AI管理辦法的pdf資料\n",
        "* 下載用來產生embedding的模組"
      ],
      "metadata": {
        "id": "ynNH8E4F5byN"
      }
    },
    {
      "cell_type": "code",
      "source": [
        "import requests,glob\n",
        "\n",
        "url = 'https://www.fsc.gov.tw/uploaddowndoc?file=news/202310171518250.pdf&filedisplay=%E9%99%84%E4%BB%B6_%E9%87%91%E8%9E%8D%E6%A5%AD%E9%81%8B%E7%94%A8%E4%BA%BA%E5%B7%A5%E6%99%BA%E6%85%A7%28AI%29%E4%B9%8B%E6%A0%B8%E5%BF%83%E5%8E%9F%E5%89%87%E8%88%87%E7%9B%B8%E9%97%9C%E6%8E%A8%E5%8B%95%E6%94%BF%E7%AD%96.pdf&flag=doc'\n",
        "res=requests.get(url)\n",
        "pdf_path = './ai.pdf'\n",
        "with open(pdf_path,'wb') as file:\n",
        "  file.write(res.content)\n",
        "\n",
        "from langchain_community.document_loaders.pdf import PyPDFLoader\n",
        "pdfs = glob.glob(pdf_path)\n",
        "\n",
        "pi = 0\n",
        "loader = PyPDFLoader(pdfs[pi], )\n",
        "pages = loader.load()\n",
        "pages[0].page_content"
      ],
      "metadata": {
        "id": "fL2n0ve5AA9q",
        "outputId": "c062c9aa-589c-4adf-8889-816949abb8e1",
        "colab": {
          "base_uri": "https://localhost:8080/",
          "height": 201
        }
      },
      "execution_count": 40,
      "outputs": [
        {
          "output_type": "execute_result",
          "data": {
            "text/plain": [
              "'1 \\n 金融業運用 人工智慧 (AI)之核心原則與相關推動 政策  \\n一、前言  \\n近來 AI1在金融服務 領域的應用日益增加， 為金融產業\\n提供客戶服務 帶來效益，亦同時衍生一些新的風險問題 及監\\n理挑戰。 為協助金融機構善用 AI科技優勢，並 能有效管理\\n風險、確保公平、保護消費者權益、維護系統安全及實現永\\n續發展，本會 依據行政院「 臺灣 AI行動計畫 2.0」政策規劃\\n及「數位政策法制協調 專案會議」之推動策略 ，並參考全球\\n主要國家監理機關及國際組織之相關指導原則， 及結合我國\\n金融市場發展狀況及本會監理政策方向，擬定適合我國金融\\n業的 6項AI應用核心原則，以 期引導金融業在兼顧消費者\\n權益、金融市場秩序及社會責任下，積極投入科技創新，促\\n進金融服務升級。  \\n以下就AI之影響及國際組織或 主要國家對運用 AI之立\\n場與規定、我國金融業運用 AI現況、訂定 AI原則及政策 之\\n必要性、我國金融業運用 AI之6項核心原則 ，以及本會因\\n應AI發展推動之配套政策等事項進行說明。  \\n \\n \\n1 由於 AI 技術與日俱進，因此各國際組織或各國並未定義 AI，反而聚焦「 AI 系統」，本文交替\\n使用 AI與AI系統。依據經濟合作暨發展組織 (OECD)對「AI 系統」之定義，係指一種以機器為\\n基礎的系統，在給予設定之一組目的下，能透過產製輸出品 (例如預測、建議或決策 )來影響環境。\\n它使用以機器或人類為基礎的數據與輸入品來 (1)感知真實或虛擬環境； (2)萃取這些感知，並透\\n過自動分析 (例如，使用機器學習 )或人工分析，再轉化為模型；以及 (3)使用模型推理來形成結果\\n的選項。 AI系統係設計以不同的自主程度來運作。  '"
            ],
            "application/vnd.google.colaboratory.intrinsic+json": {
              "type": "string"
            }
          },
          "metadata": {},
          "execution_count": 40
        }
      ]
    },
    {
      "cell_type": "code",
      "source": [
        "import torch\n",
        "from langchain.embeddings import HuggingFaceEmbeddings\n",
        "# model_name=\"aspire/acge_text_embedding\"\n",
        "emb_model_name='amu/tao-8k'\n",
        "device='cuda' if torch.cuda.is_available() else 'cpu'\n",
        "# https://huggingface.co/spaces/mteb/leaderboard #aspire/acge_text_embedding#amu/tao-8k\n",
        "embeddings = HuggingFaceEmbeddings(\n",
        "    model_name=emb_model_name,\n",
        "    model_kwargs={\"device\": device},\n",
        "    encode_kwargs={\"normalize_embeddings\": True},\n",
        ")\n",
        "embeddings"
      ],
      "metadata": {
        "id": "DJ2WsXVOO_Aw",
        "outputId": "e807b9bc-eb0a-4f78-c3d3-d674e071f776",
        "colab": {
          "base_uri": "https://localhost:8080/",
          "height": 406,
          "referenced_widgets": [
            "059cea6752724013a71fa9994b772a99",
            "2e72a40c0d814706b9a3f5d107926488",
            "6e5fc4993f2e4cb48c07942e024fd21d",
            "34e765f3db654c4f86f0d5a8f5121e14",
            "fd5c0c9af48f49a3be9d8a4619b36e16",
            "db603092c18e4feeb6ac8beaf233550a",
            "f1ddee017c0f49dbae3f7ce550d4ef1f",
            "0d14c060009d43d6bd242e8e1e67ada4",
            "028dc925f842420fa8cb436d9f8e3f11",
            "1ff31530cef746d39c76fcd47988524e",
            "9c6f90dbda2648789d21e8cfeea9a4f1",
            "6abe8b2ce97547f291d907fc50bd30cf",
            "e7975f5d77cf4ef5b26d563e94d7a11b",
            "f0793d1d94404320b3d45ecb2a54aa10",
            "25a16596fa244f4095b604416cf59d35",
            "c24a0ecb5b25438e8f06a3456ae2885f",
            "2d4ffccc69604c3f971bc217ccda73fc",
            "270385fa7962413d8af5050753811ed0",
            "f3d0c4c9872546a99e2e95da1f8e6331",
            "0daab6845e54495ea65803b4dc6077a2",
            "cc6680aa8ff344dbb0733a6a86166549",
            "c59efd807fc84a10b847375963595e12",
            "dc03524450d94f11bb244a8850070a57",
            "8e29e8629f1345689ab585316bcfc822",
            "2d59d5b547f74e9d9da6c85f3c6c715e",
            "656932c038ba403381e634779e762534",
            "86307b99c73d44a4aa45cf1b63d2bb36",
            "81a9fc38631340278be9fdd8e588a827",
            "e503f57cccad41febdbe493a5907b77e",
            "fc5315d5128c4d03a6de65cbe6f795a5",
            "f3175b9a76d54adeb7fd577af43a977c",
            "4a35bdfbf4d949cc88e7a82600652ac6",
            "6baad28c9acc40639624ad99c2b8bd6e",
            "240854258ef84fcaae2e69386a480acc",
            "7fee722b6f204887823d480bf1855933",
            "12179a4f99814eae97da4d50b5452ff1",
            "1d813c1b687e4fe58b69a175a0923bf7",
            "91b265beafa84dc997dd6c20b4587a5a",
            "2e2d0de1e5584f3fb3123ede923f3ecb",
            "6b66a275b6274344b31355a2a1a54f0b",
            "4baf34c68f784a29996d82b64ed6ca1e",
            "03296150635b497fba39cf0c8a210226",
            "adee02f973784d3e8c396629284bf2ca",
            "bfd65e92924046edb468c5a27e551513",
            "8791a4d922984d109d91a802f9ddd642",
            "bcefa38af6b940d5984a8ef6773342dd",
            "ee7da244c45f4e87844a6fcb70a3922c",
            "2b9b1d3172cf419da94e77582aa60101",
            "d8afd6f860744a4abc2e0293ad5d15c8",
            "d1667e7c9a7947099aa7f9d2d6db17ef",
            "2cfb0cd1246f47ce9a30bd1bc5fc3376",
            "a890634789bd47ed933c2cae6fbb67e4",
            "d8531e9bd38d4426800236e5dc77b3d6",
            "8e094a41f5b84a93be1ce40e428a5fe8",
            "d7267141dfd94495b44c7679705d60cf",
            "530bda7d5232402e9af23881a2287340",
            "c149a57514ac424e9f56421f9f31671b",
            "dacbf9d4f5fc49a9b02bd24566d700d0",
            "5cd43ed4ffc54c6fac2b05076cf33493",
            "43a37147ddaa4fc19acfc82957bea422",
            "2e8f2012086a4859851f538c15b8704f",
            "88f9dec423634d7ebdf46ac3e399109b",
            "b28e32f4b5da4426ac4048279e5a6b34",
            "353646e027d4498c89971f3b9071c25d",
            "9ccc95b05d10497c9baa44b7e8a5dcf4",
            "51a967cf6208498cacebb70dd8533db6",
            "fdb0cfcb66194692becc70f4ef2ecbbb",
            "50fe8e111d984a239ede379645fdcb7b",
            "8b4479d681044289bf84e17b9827025c",
            "83aa843705f9469d88e7e2f453ba814a",
            "5389ce5cd3fc48f4a271dee5524a717f",
            "ee9ce7dd68c34d2693f093798cf7905d",
            "c157d6ca118543568c1f2701c7fe681c",
            "2388203a359b42ab91fe72c8e6494096",
            "a36f9d24c8704b79a496c5dabf259ebf",
            "2641990af3cb4286a92e77c56a57f01d",
            "1f7eb26de7f747138ffda49819f1f9af"
          ]
        }
      },
      "execution_count": 75,
      "outputs": [
        {
          "output_type": "stream",
          "name": "stderr",
          "text": [
            "WARNING:sentence_transformers.SentenceTransformer:No sentence-transformers model found with name amu/tao-8k. Creating a new one with MEAN pooling.\n"
          ]
        },
        {
          "output_type": "display_data",
          "data": {
            "text/plain": [
              "config.json:   0%|          | 0.00/871 [00:00<?, ?B/s]"
            ],
            "application/vnd.jupyter.widget-view+json": {
              "version_major": 2,
              "version_minor": 0,
              "model_id": "059cea6752724013a71fa9994b772a99"
            }
          },
          "metadata": {}
        },
        {
          "output_type": "display_data",
          "data": {
            "text/plain": [
              "pytorch_model.bin:   0%|          | 0.00/667M [00:00<?, ?B/s]"
            ],
            "application/vnd.jupyter.widget-view+json": {
              "version_major": 2,
              "version_minor": 0,
              "model_id": "6abe8b2ce97547f291d907fc50bd30cf"
            }
          },
          "metadata": {}
        },
        {
          "output_type": "display_data",
          "data": {
            "text/plain": [
              "tokenizer_config.json:   0%|          | 0.00/1.10k [00:00<?, ?B/s]"
            ],
            "application/vnd.jupyter.widget-view+json": {
              "version_major": 2,
              "version_minor": 0,
              "model_id": "dc03524450d94f11bb244a8850070a57"
            }
          },
          "metadata": {}
        },
        {
          "output_type": "display_data",
          "data": {
            "text/plain": [
              "vocab.txt:   0%|          | 0.00/110k [00:00<?, ?B/s]"
            ],
            "application/vnd.jupyter.widget-view+json": {
              "version_major": 2,
              "version_minor": 0,
              "model_id": "240854258ef84fcaae2e69386a480acc"
            }
          },
          "metadata": {}
        },
        {
          "output_type": "display_data",
          "data": {
            "text/plain": [
              "tokenizer.json:   0%|          | 0.00/439k [00:00<?, ?B/s]"
            ],
            "application/vnd.jupyter.widget-view+json": {
              "version_major": 2,
              "version_minor": 0,
              "model_id": "8791a4d922984d109d91a802f9ddd642"
            }
          },
          "metadata": {}
        },
        {
          "output_type": "display_data",
          "data": {
            "text/plain": [
              "added_tokens.json:   0%|          | 0.00/82.0 [00:00<?, ?B/s]"
            ],
            "application/vnd.jupyter.widget-view+json": {
              "version_major": 2,
              "version_minor": 0,
              "model_id": "530bda7d5232402e9af23881a2287340"
            }
          },
          "metadata": {}
        },
        {
          "output_type": "display_data",
          "data": {
            "text/plain": [
              "special_tokens_map.json:   0%|          | 0.00/125 [00:00<?, ?B/s]"
            ],
            "application/vnd.jupyter.widget-view+json": {
              "version_major": 2,
              "version_minor": 0,
              "model_id": "fdb0cfcb66194692becc70f4ef2ecbbb"
            }
          },
          "metadata": {}
        },
        {
          "output_type": "execute_result",
          "data": {
            "text/plain": [
              "HuggingFaceEmbeddings(client=SentenceTransformer(\n",
              "  (0): Transformer({'max_seq_length': 8192, 'do_lower_case': False}) with Transformer model: BertModel \n",
              "  (1): Pooling({'word_embedding_dimension': 1024, 'pooling_mode_cls_token': False, 'pooling_mode_mean_tokens': True, 'pooling_mode_max_tokens': False, 'pooling_mode_mean_sqrt_len_tokens': False, 'pooling_mode_weightedmean_tokens': False, 'pooling_mode_lasttoken': False, 'include_prompt': True})\n",
              "), model_name='amu/tao-8k', cache_folder=None, model_kwargs={'device': 'cpu'}, encode_kwargs={'normalize_embeddings': True}, multi_process=False, show_progress=False)"
            ]
          },
          "metadata": {},
          "execution_count": 75
        }
      ]
    },
    {
      "cell_type": "markdown",
      "source": [
        "## vector db\n",
        ">    1. 分割文本(chunk)\n",
        ">    1. 轉換為embedding\n",
        ">    1. 快速查找相關文本\n",
        ">    1. 文本回傳給機器"
      ],
      "metadata": {
        "id": "JEDxvW_u6c02"
      }
    },
    {
      "cell_type": "code",
      "source": [
        "from langchain.text_splitter import RecursiveCharacterTextSplitter,CharacterTextSplitter\n",
        "chunk_size=100\n",
        "text_splitter = RecursiveCharacterTextSplitter(\n",
        "# text_splitter = CharacterTextSplitter( #經嘗試沒有比較好\n",
        "    chunk_size=chunk_size,\n",
        "    # separators=[\"\\s{2}\",'[\\n\\t]{1,}','\\r\\n'],\n",
        "    # separator='[\\n\\t]{1,}',\n",
        "    chunk_overlap=int(chunk_size/10),\n",
        "    length_function=len,\n",
        "    is_separator_regex=True)\n",
        "texts = text_splitter.split_documents(pages)\n",
        "print('經過切割共',len(texts),'頁')\n",
        "print('最後一頁內容: ',texts[-1])\n",
        "\n",
        "all_texts=' '.join([i.page_content for i in texts])\n",
        "print('pdf最後100字的內容: ',all_texts[-100:])"
      ],
      "metadata": {
        "id": "KNNdYOIq_Nip",
        "outputId": "805721d3-d4e9-4c51-90c0-78b4e68d7632",
        "colab": {
          "base_uri": "https://localhost:8080/"
        }
      },
      "execution_count": 70,
      "outputs": [
        {
          "output_type": "stream",
          "name": "stdout",
          "text": [
            "經過切割共 189 頁\n",
            "最後一頁內容:  page_content='當之教育及培訓，使員工能適應 AI帶來之變革，並盡\\n可能維護其 工作權益。' metadata={'source': './ai.pdf', 'page': 25}\n",
            "pdf最後100字的內容:  ，保護自然環境，從而促進包容性成長、永續發\n",
            "展及社會福祉。  \n",
            "(二)金融機構在 AI系統運用過程中， 宜對一般員工 提供適 當之教育及培訓，使員工能適應 AI帶來之變革，並盡\n",
            "可能維護其 工作權益。\n"
          ]
        }
      ]
    },
    {
      "cell_type": "code",
      "source": [
        "docs = text_splitter.create_documents([all_texts])\n",
        "print('切割後的總頁數',len(docs))\n",
        "print('第一頁文本: ',docs[0].page_content)\n",
        "print('最後頁文本: ',docs[-1].page_content)"
      ],
      "metadata": {
        "id": "Yvp1br55VJnM",
        "outputId": "b8ae33ba-2ba5-4442-d105-1dcfaaff1c8f",
        "colab": {
          "base_uri": "https://localhost:8080/"
        }
      },
      "execution_count": 90,
      "outputs": [
        {
          "output_type": "stream",
          "name": "stdout",
          "text": [
            "切割後的總頁數 186\n",
            "第一頁文本:  1 \n",
            " 金融業運用 人工智慧 (AI)之核心原則與相關推動 政策  \n",
            "一、前言  \n",
            "近來 AI1在金融服務 領域的應用日益增加， 為金融產業\n",
            "最後頁文本:  展及社會福祉。  \n",
            "(二)金融機構在 AI系統運用過程中， 宜對一般員工 提供適 當之教育及培訓，使員工能適應 AI帶來之變革，並盡\n",
            "可能維護其 工作權益。\n"
          ]
        }
      ]
    },
    {
      "cell_type": "markdown",
      "source": [
        "## 準備問答之前\n",
        "* 製作vector db\n",
        "* 製作prompt範本"
      ],
      "metadata": {
        "id": "HasxaXgO7XIa"
      }
    },
    {
      "cell_type": "code",
      "source": [
        "%%time\n",
        "from langchain.vectorstores import Chroma\n",
        "db = Chroma.from_documents(docs, embeddings, persist_directory=\"db\")\n",
        "db"
      ],
      "metadata": {
        "id": "bhnIMNF0_NlI",
        "outputId": "b86d2c0c-2ba8-452e-de8b-122d08c15da3",
        "colab": {
          "base_uri": "https://localhost:8080/"
        }
      },
      "execution_count": 76,
      "outputs": [
        {
          "output_type": "stream",
          "name": "stdout",
          "text": [
            "CPU times: user 2min 48s, sys: 8.77 s, total: 2min 57s\n",
            "Wall time: 3min 3s\n"
          ]
        },
        {
          "output_type": "execute_result",
          "data": {
            "text/plain": [
              "<langchain_community.vectorstores.chroma.Chroma at 0x799e1645b970>"
            ]
          },
          "metadata": {},
          "execution_count": 76
        }
      ]
    },
    {
      "cell_type": "code",
      "source": [
        "from langchain import PromptTemplate\n",
        "from langchain.chains.retrieval_qa.base import RetrievalQA\n",
        "template = \"\"\"\n",
        "role: 你是「台灣」的金融監督管理委員會之「窗口」\n",
        "question: {query}\n",
        "answer: 回覆之前請檢視自己的答案，不可以捏照回答。「詳細的」回答你的客戶\n",
        "temperature=0.0\n",
        "\"\"\"\n",
        "\n",
        "qa_prompt = PromptTemplate(\n",
        "    input_variables=[\"query\"],\n",
        "    template=template,\n",
        ")\n",
        "\n",
        "p={\n",
        "    'retriever':db.as_retriever(search_kwargs={'k':10}),\n",
        "    'return_source_documents':True}\n",
        "qa_chain = RetrievalQA.from_chain_type(llm,**p)\n",
        "qa_chain"
      ],
      "metadata": {
        "id": "SsroFjjdAk3r",
        "outputId": "4a7fc5ab-759c-489e-a3e4-18cb54637d87",
        "colab": {
          "base_uri": "https://localhost:8080/"
        }
      },
      "execution_count": 94,
      "outputs": [
        {
          "output_type": "execute_result",
          "data": {
            "text/plain": [
              "RetrievalQA(combine_documents_chain=StuffDocumentsChain(llm_chain=LLMChain(prompt=PromptTemplate(input_variables=['context', 'question'], template=\"Use the following pieces of context to answer the question at the end. If you don't know the answer, just say that you don't know, don't try to make up an answer.\\n\\n{context}\\n\\nQuestion: {question}\\nHelpful Answer:\"), llm=LlamaCpp(verbose=False, client=<llama_cpp.llama.Llama object at 0x79a0c6ac3d30>, model_path='/root/.cache/huggingface/hub/models--lmstudio-ai--gemma-2b-it-GGUF/snapshots/a0b140bfb922a743f89dd0682a24a17516071ab9/gemma-2b-it-q8_0.gguf', n_ctx=8192, max_tokens=8192, temperature=0.0, top_p=0.99)), document_variable_name='context'), return_source_documents=True, retriever=VectorStoreRetriever(tags=['Chroma', 'HuggingFaceEmbeddings'], vectorstore=<langchain_community.vectorstores.chroma.Chroma object at 0x799e1645b970>, search_kwargs={'k': 10}))"
            ]
          },
          "metadata": {},
          "execution_count": 94
        }
      ]
    },
    {
      "cell_type": "markdown",
      "source": [
        "## rag機制下的機器人，問答看看?"
      ],
      "metadata": {
        "id": "5_wL3a9yA5Xy"
      }
    },
    {
      "cell_type": "code",
      "source": [
        "res = qa_chain({\"query\": '甚麼是SupTech? 金管會是否有何具體的實施建議?'})\n",
        "print('問題: ',res['query'])\n",
        "print()\n",
        "print('機器人回應: ',res['result'])\n",
        "print()\n",
        "print('參考出處: ',res['source_documents'])"
      ],
      "metadata": {
        "id": "Uy911136d4SJ",
        "outputId": "8205b3f9-8f98-4ad1-fcf1-0e23fc183b30",
        "colab": {
          "base_uri": "https://localhost:8080/"
        }
      },
      "execution_count": 93,
      "outputs": [
        {
          "output_type": "stream",
          "name": "stdout",
          "text": [
            "問題:  甚麼是SupTech? 金管會是否有何具體的實施建議?\n",
            "\n",
            "機器人回應:   SupTech 是指利用 AI 技術發展的監理科技，以提升金融監理效率及有效性。 金管會沒有具體的實施建議，但建議金融機構積極參與 AI 的研發及應用，以提供客戶更優質的金融服務。\n",
            "\n",
            "參考出處:  [Document(page_content='(二)持續檢視本會相關規範，並適時進行法規調適，以 建立金\\n融業應用 AI系統之完善法規環境 。 (三)利用 AI技術發展監理科技 (SupTech )，以提升金融監理之\\n效率及有效性 。'), Document(page_content='可協助金融機構更有效率地處理 訊息，亦可透過法遵科 技(RegTech )及監理科技 (SupTech )，以確保金融機構的 遵\\n法性並增強監管效能。同時， FSB亦提醒相關風險如下：'), Document(page_content='更優質之金融服務 或發展法遵科技 (RegTech) ，並將透過 舉辦研討會、工作坊等方式，協助金融機構導入最佳實務\\n做法。  \\n(六)持續就金融業應用 AI系統之實際情況進行瞭解及檢視，'), Document(page_content='進行溝通對話，並視業界發展情況及應用情形適時 評估 11 \\n 調整相關規範，以利金融機構遵循。  \\n(二)本會針對金融機構導入新興科技 之相關規範：  \\n 1.銀行業：'), Document(page_content='件發生時規劃解決方式。 另業者應有 AI相關運算規則並留\\n存軌跡紀錄，俾利後續驗證與管理。 透過「確保系統穩健性 與安全性」這項原則，本會期望\\n能在維護金融穩定與保護消費者權益的同時，讓金融機構能'), Document(page_content='關係人提供妥適的透明度與揭露資訊 ；(6)有妥適控制機 制，以確保資料及 AI與ML的表現能 將偏見最小化。  \\n美國13、新加坡14、南韓15等國金融監理機關 針對金'), Document(page_content=')12」，提出 6項金融監理'), Document(page_content='金融市場發展狀況及本會監理政策方向，擬定適合我國金融 業的 6項AI應用核心原則，以 期引導金融業在兼顧消費者\\n權益、金融市場秩序及社會責任下，積極投入科技創新，促\\n進金融服務升級。'), Document(page_content='功能、自主行為 及是否面對客戶等， 依比例原則 及以風險\\n為基礎訂定應遵循 之事項，以促進金融業的健全發展，並 維護金融 體系穩定及消費者權益。'), Document(page_content='效率及有效性 。 \\n(四)與國際組織及其他國家金融監理機關進行交流 及合作， 以確保本會之監理政策與國際主流發展趨勢保持一致。  \\n(五)持續鼓勵金融業積極參與 AI的研發及應用，以 提供客戶')]\n"
          ]
        }
      ]
    }
  ],
  "metadata": {
    "kernelspec": {
      "display_name": "Python 3",
      "name": "python3"
    },
    "language_info": {
      "codemirror_mode": {
        "name": "ipython",
        "version": 3
      },
      "file_extension": ".py",
      "mimetype": "text/x-python",
      "name": "python",
      "nbconvert_exporter": "python",
      "pygments_lexer": "ipython3",
      "version": "3.11.8"
    },
    "colab": {
      "provenance": [],
      "include_colab_link": true
    },
    "widgets": {
      "application/vnd.jupyter.widget-state+json": {
        "059cea6752724013a71fa9994b772a99": {
          "model_module": "@jupyter-widgets/controls",
          "model_name": "HBoxModel",
          "model_module_version": "1.5.0",
          "state": {
            "_dom_classes": [],
            "_model_module": "@jupyter-widgets/controls",
            "_model_module_version": "1.5.0",
            "_model_name": "HBoxModel",
            "_view_count": null,
            "_view_module": "@jupyter-widgets/controls",
            "_view_module_version": "1.5.0",
            "_view_name": "HBoxView",
            "box_style": "",
            "children": [
              "IPY_MODEL_2e72a40c0d814706b9a3f5d107926488",
              "IPY_MODEL_6e5fc4993f2e4cb48c07942e024fd21d",
              "IPY_MODEL_34e765f3db654c4f86f0d5a8f5121e14"
            ],
            "layout": "IPY_MODEL_fd5c0c9af48f49a3be9d8a4619b36e16"
          }
        },
        "2e72a40c0d814706b9a3f5d107926488": {
          "model_module": "@jupyter-widgets/controls",
          "model_name": "HTMLModel",
          "model_module_version": "1.5.0",
          "state": {
            "_dom_classes": [],
            "_model_module": "@jupyter-widgets/controls",
            "_model_module_version": "1.5.0",
            "_model_name": "HTMLModel",
            "_view_count": null,
            "_view_module": "@jupyter-widgets/controls",
            "_view_module_version": "1.5.0",
            "_view_name": "HTMLView",
            "description": "",
            "description_tooltip": null,
            "layout": "IPY_MODEL_db603092c18e4feeb6ac8beaf233550a",
            "placeholder": "​",
            "style": "IPY_MODEL_f1ddee017c0f49dbae3f7ce550d4ef1f",
            "value": "config.json: 100%"
          }
        },
        "6e5fc4993f2e4cb48c07942e024fd21d": {
          "model_module": "@jupyter-widgets/controls",
          "model_name": "FloatProgressModel",
          "model_module_version": "1.5.0",
          "state": {
            "_dom_classes": [],
            "_model_module": "@jupyter-widgets/controls",
            "_model_module_version": "1.5.0",
            "_model_name": "FloatProgressModel",
            "_view_count": null,
            "_view_module": "@jupyter-widgets/controls",
            "_view_module_version": "1.5.0",
            "_view_name": "ProgressView",
            "bar_style": "success",
            "description": "",
            "description_tooltip": null,
            "layout": "IPY_MODEL_0d14c060009d43d6bd242e8e1e67ada4",
            "max": 871,
            "min": 0,
            "orientation": "horizontal",
            "style": "IPY_MODEL_028dc925f842420fa8cb436d9f8e3f11",
            "value": 871
          }
        },
        "34e765f3db654c4f86f0d5a8f5121e14": {
          "model_module": "@jupyter-widgets/controls",
          "model_name": "HTMLModel",
          "model_module_version": "1.5.0",
          "state": {
            "_dom_classes": [],
            "_model_module": "@jupyter-widgets/controls",
            "_model_module_version": "1.5.0",
            "_model_name": "HTMLModel",
            "_view_count": null,
            "_view_module": "@jupyter-widgets/controls",
            "_view_module_version": "1.5.0",
            "_view_name": "HTMLView",
            "description": "",
            "description_tooltip": null,
            "layout": "IPY_MODEL_1ff31530cef746d39c76fcd47988524e",
            "placeholder": "​",
            "style": "IPY_MODEL_9c6f90dbda2648789d21e8cfeea9a4f1",
            "value": " 871/871 [00:00&lt;00:00, 44.3kB/s]"
          }
        },
        "fd5c0c9af48f49a3be9d8a4619b36e16": {
          "model_module": "@jupyter-widgets/base",
          "model_name": "LayoutModel",
          "model_module_version": "1.2.0",
          "state": {
            "_model_module": "@jupyter-widgets/base",
            "_model_module_version": "1.2.0",
            "_model_name": "LayoutModel",
            "_view_count": null,
            "_view_module": "@jupyter-widgets/base",
            "_view_module_version": "1.2.0",
            "_view_name": "LayoutView",
            "align_content": null,
            "align_items": null,
            "align_self": null,
            "border": null,
            "bottom": null,
            "display": null,
            "flex": null,
            "flex_flow": null,
            "grid_area": null,
            "grid_auto_columns": null,
            "grid_auto_flow": null,
            "grid_auto_rows": null,
            "grid_column": null,
            "grid_gap": null,
            "grid_row": null,
            "grid_template_areas": null,
            "grid_template_columns": null,
            "grid_template_rows": null,
            "height": null,
            "justify_content": null,
            "justify_items": null,
            "left": null,
            "margin": null,
            "max_height": null,
            "max_width": null,
            "min_height": null,
            "min_width": null,
            "object_fit": null,
            "object_position": null,
            "order": null,
            "overflow": null,
            "overflow_x": null,
            "overflow_y": null,
            "padding": null,
            "right": null,
            "top": null,
            "visibility": null,
            "width": null
          }
        },
        "db603092c18e4feeb6ac8beaf233550a": {
          "model_module": "@jupyter-widgets/base",
          "model_name": "LayoutModel",
          "model_module_version": "1.2.0",
          "state": {
            "_model_module": "@jupyter-widgets/base",
            "_model_module_version": "1.2.0",
            "_model_name": "LayoutModel",
            "_view_count": null,
            "_view_module": "@jupyter-widgets/base",
            "_view_module_version": "1.2.0",
            "_view_name": "LayoutView",
            "align_content": null,
            "align_items": null,
            "align_self": null,
            "border": null,
            "bottom": null,
            "display": null,
            "flex": null,
            "flex_flow": null,
            "grid_area": null,
            "grid_auto_columns": null,
            "grid_auto_flow": null,
            "grid_auto_rows": null,
            "grid_column": null,
            "grid_gap": null,
            "grid_row": null,
            "grid_template_areas": null,
            "grid_template_columns": null,
            "grid_template_rows": null,
            "height": null,
            "justify_content": null,
            "justify_items": null,
            "left": null,
            "margin": null,
            "max_height": null,
            "max_width": null,
            "min_height": null,
            "min_width": null,
            "object_fit": null,
            "object_position": null,
            "order": null,
            "overflow": null,
            "overflow_x": null,
            "overflow_y": null,
            "padding": null,
            "right": null,
            "top": null,
            "visibility": null,
            "width": null
          }
        },
        "f1ddee017c0f49dbae3f7ce550d4ef1f": {
          "model_module": "@jupyter-widgets/controls",
          "model_name": "DescriptionStyleModel",
          "model_module_version": "1.5.0",
          "state": {
            "_model_module": "@jupyter-widgets/controls",
            "_model_module_version": "1.5.0",
            "_model_name": "DescriptionStyleModel",
            "_view_count": null,
            "_view_module": "@jupyter-widgets/base",
            "_view_module_version": "1.2.0",
            "_view_name": "StyleView",
            "description_width": ""
          }
        },
        "0d14c060009d43d6bd242e8e1e67ada4": {
          "model_module": "@jupyter-widgets/base",
          "model_name": "LayoutModel",
          "model_module_version": "1.2.0",
          "state": {
            "_model_module": "@jupyter-widgets/base",
            "_model_module_version": "1.2.0",
            "_model_name": "LayoutModel",
            "_view_count": null,
            "_view_module": "@jupyter-widgets/base",
            "_view_module_version": "1.2.0",
            "_view_name": "LayoutView",
            "align_content": null,
            "align_items": null,
            "align_self": null,
            "border": null,
            "bottom": null,
            "display": null,
            "flex": null,
            "flex_flow": null,
            "grid_area": null,
            "grid_auto_columns": null,
            "grid_auto_flow": null,
            "grid_auto_rows": null,
            "grid_column": null,
            "grid_gap": null,
            "grid_row": null,
            "grid_template_areas": null,
            "grid_template_columns": null,
            "grid_template_rows": null,
            "height": null,
            "justify_content": null,
            "justify_items": null,
            "left": null,
            "margin": null,
            "max_height": null,
            "max_width": null,
            "min_height": null,
            "min_width": null,
            "object_fit": null,
            "object_position": null,
            "order": null,
            "overflow": null,
            "overflow_x": null,
            "overflow_y": null,
            "padding": null,
            "right": null,
            "top": null,
            "visibility": null,
            "width": null
          }
        },
        "028dc925f842420fa8cb436d9f8e3f11": {
          "model_module": "@jupyter-widgets/controls",
          "model_name": "ProgressStyleModel",
          "model_module_version": "1.5.0",
          "state": {
            "_model_module": "@jupyter-widgets/controls",
            "_model_module_version": "1.5.0",
            "_model_name": "ProgressStyleModel",
            "_view_count": null,
            "_view_module": "@jupyter-widgets/base",
            "_view_module_version": "1.2.0",
            "_view_name": "StyleView",
            "bar_color": null,
            "description_width": ""
          }
        },
        "1ff31530cef746d39c76fcd47988524e": {
          "model_module": "@jupyter-widgets/base",
          "model_name": "LayoutModel",
          "model_module_version": "1.2.0",
          "state": {
            "_model_module": "@jupyter-widgets/base",
            "_model_module_version": "1.2.0",
            "_model_name": "LayoutModel",
            "_view_count": null,
            "_view_module": "@jupyter-widgets/base",
            "_view_module_version": "1.2.0",
            "_view_name": "LayoutView",
            "align_content": null,
            "align_items": null,
            "align_self": null,
            "border": null,
            "bottom": null,
            "display": null,
            "flex": null,
            "flex_flow": null,
            "grid_area": null,
            "grid_auto_columns": null,
            "grid_auto_flow": null,
            "grid_auto_rows": null,
            "grid_column": null,
            "grid_gap": null,
            "grid_row": null,
            "grid_template_areas": null,
            "grid_template_columns": null,
            "grid_template_rows": null,
            "height": null,
            "justify_content": null,
            "justify_items": null,
            "left": null,
            "margin": null,
            "max_height": null,
            "max_width": null,
            "min_height": null,
            "min_width": null,
            "object_fit": null,
            "object_position": null,
            "order": null,
            "overflow": null,
            "overflow_x": null,
            "overflow_y": null,
            "padding": null,
            "right": null,
            "top": null,
            "visibility": null,
            "width": null
          }
        },
        "9c6f90dbda2648789d21e8cfeea9a4f1": {
          "model_module": "@jupyter-widgets/controls",
          "model_name": "DescriptionStyleModel",
          "model_module_version": "1.5.0",
          "state": {
            "_model_module": "@jupyter-widgets/controls",
            "_model_module_version": "1.5.0",
            "_model_name": "DescriptionStyleModel",
            "_view_count": null,
            "_view_module": "@jupyter-widgets/base",
            "_view_module_version": "1.2.0",
            "_view_name": "StyleView",
            "description_width": ""
          }
        },
        "6abe8b2ce97547f291d907fc50bd30cf": {
          "model_module": "@jupyter-widgets/controls",
          "model_name": "HBoxModel",
          "model_module_version": "1.5.0",
          "state": {
            "_dom_classes": [],
            "_model_module": "@jupyter-widgets/controls",
            "_model_module_version": "1.5.0",
            "_model_name": "HBoxModel",
            "_view_count": null,
            "_view_module": "@jupyter-widgets/controls",
            "_view_module_version": "1.5.0",
            "_view_name": "HBoxView",
            "box_style": "",
            "children": [
              "IPY_MODEL_e7975f5d77cf4ef5b26d563e94d7a11b",
              "IPY_MODEL_f0793d1d94404320b3d45ecb2a54aa10",
              "IPY_MODEL_25a16596fa244f4095b604416cf59d35"
            ],
            "layout": "IPY_MODEL_c24a0ecb5b25438e8f06a3456ae2885f"
          }
        },
        "e7975f5d77cf4ef5b26d563e94d7a11b": {
          "model_module": "@jupyter-widgets/controls",
          "model_name": "HTMLModel",
          "model_module_version": "1.5.0",
          "state": {
            "_dom_classes": [],
            "_model_module": "@jupyter-widgets/controls",
            "_model_module_version": "1.5.0",
            "_model_name": "HTMLModel",
            "_view_count": null,
            "_view_module": "@jupyter-widgets/controls",
            "_view_module_version": "1.5.0",
            "_view_name": "HTMLView",
            "description": "",
            "description_tooltip": null,
            "layout": "IPY_MODEL_2d4ffccc69604c3f971bc217ccda73fc",
            "placeholder": "​",
            "style": "IPY_MODEL_270385fa7962413d8af5050753811ed0",
            "value": "pytorch_model.bin: 100%"
          }
        },
        "f0793d1d94404320b3d45ecb2a54aa10": {
          "model_module": "@jupyter-widgets/controls",
          "model_name": "FloatProgressModel",
          "model_module_version": "1.5.0",
          "state": {
            "_dom_classes": [],
            "_model_module": "@jupyter-widgets/controls",
            "_model_module_version": "1.5.0",
            "_model_name": "FloatProgressModel",
            "_view_count": null,
            "_view_module": "@jupyter-widgets/controls",
            "_view_module_version": "1.5.0",
            "_view_name": "ProgressView",
            "bar_style": "success",
            "description": "",
            "description_tooltip": null,
            "layout": "IPY_MODEL_f3d0c4c9872546a99e2e95da1f8e6331",
            "max": 666971245,
            "min": 0,
            "orientation": "horizontal",
            "style": "IPY_MODEL_0daab6845e54495ea65803b4dc6077a2",
            "value": 666971245
          }
        },
        "25a16596fa244f4095b604416cf59d35": {
          "model_module": "@jupyter-widgets/controls",
          "model_name": "HTMLModel",
          "model_module_version": "1.5.0",
          "state": {
            "_dom_classes": [],
            "_model_module": "@jupyter-widgets/controls",
            "_model_module_version": "1.5.0",
            "_model_name": "HTMLModel",
            "_view_count": null,
            "_view_module": "@jupyter-widgets/controls",
            "_view_module_version": "1.5.0",
            "_view_name": "HTMLView",
            "description": "",
            "description_tooltip": null,
            "layout": "IPY_MODEL_cc6680aa8ff344dbb0733a6a86166549",
            "placeholder": "​",
            "style": "IPY_MODEL_c59efd807fc84a10b847375963595e12",
            "value": " 667M/667M [00:26&lt;00:00, 26.0MB/s]"
          }
        },
        "c24a0ecb5b25438e8f06a3456ae2885f": {
          "model_module": "@jupyter-widgets/base",
          "model_name": "LayoutModel",
          "model_module_version": "1.2.0",
          "state": {
            "_model_module": "@jupyter-widgets/base",
            "_model_module_version": "1.2.0",
            "_model_name": "LayoutModel",
            "_view_count": null,
            "_view_module": "@jupyter-widgets/base",
            "_view_module_version": "1.2.0",
            "_view_name": "LayoutView",
            "align_content": null,
            "align_items": null,
            "align_self": null,
            "border": null,
            "bottom": null,
            "display": null,
            "flex": null,
            "flex_flow": null,
            "grid_area": null,
            "grid_auto_columns": null,
            "grid_auto_flow": null,
            "grid_auto_rows": null,
            "grid_column": null,
            "grid_gap": null,
            "grid_row": null,
            "grid_template_areas": null,
            "grid_template_columns": null,
            "grid_template_rows": null,
            "height": null,
            "justify_content": null,
            "justify_items": null,
            "left": null,
            "margin": null,
            "max_height": null,
            "max_width": null,
            "min_height": null,
            "min_width": null,
            "object_fit": null,
            "object_position": null,
            "order": null,
            "overflow": null,
            "overflow_x": null,
            "overflow_y": null,
            "padding": null,
            "right": null,
            "top": null,
            "visibility": null,
            "width": null
          }
        },
        "2d4ffccc69604c3f971bc217ccda73fc": {
          "model_module": "@jupyter-widgets/base",
          "model_name": "LayoutModel",
          "model_module_version": "1.2.0",
          "state": {
            "_model_module": "@jupyter-widgets/base",
            "_model_module_version": "1.2.0",
            "_model_name": "LayoutModel",
            "_view_count": null,
            "_view_module": "@jupyter-widgets/base",
            "_view_module_version": "1.2.0",
            "_view_name": "LayoutView",
            "align_content": null,
            "align_items": null,
            "align_self": null,
            "border": null,
            "bottom": null,
            "display": null,
            "flex": null,
            "flex_flow": null,
            "grid_area": null,
            "grid_auto_columns": null,
            "grid_auto_flow": null,
            "grid_auto_rows": null,
            "grid_column": null,
            "grid_gap": null,
            "grid_row": null,
            "grid_template_areas": null,
            "grid_template_columns": null,
            "grid_template_rows": null,
            "height": null,
            "justify_content": null,
            "justify_items": null,
            "left": null,
            "margin": null,
            "max_height": null,
            "max_width": null,
            "min_height": null,
            "min_width": null,
            "object_fit": null,
            "object_position": null,
            "order": null,
            "overflow": null,
            "overflow_x": null,
            "overflow_y": null,
            "padding": null,
            "right": null,
            "top": null,
            "visibility": null,
            "width": null
          }
        },
        "270385fa7962413d8af5050753811ed0": {
          "model_module": "@jupyter-widgets/controls",
          "model_name": "DescriptionStyleModel",
          "model_module_version": "1.5.0",
          "state": {
            "_model_module": "@jupyter-widgets/controls",
            "_model_module_version": "1.5.0",
            "_model_name": "DescriptionStyleModel",
            "_view_count": null,
            "_view_module": "@jupyter-widgets/base",
            "_view_module_version": "1.2.0",
            "_view_name": "StyleView",
            "description_width": ""
          }
        },
        "f3d0c4c9872546a99e2e95da1f8e6331": {
          "model_module": "@jupyter-widgets/base",
          "model_name": "LayoutModel",
          "model_module_version": "1.2.0",
          "state": {
            "_model_module": "@jupyter-widgets/base",
            "_model_module_version": "1.2.0",
            "_model_name": "LayoutModel",
            "_view_count": null,
            "_view_module": "@jupyter-widgets/base",
            "_view_module_version": "1.2.0",
            "_view_name": "LayoutView",
            "align_content": null,
            "align_items": null,
            "align_self": null,
            "border": null,
            "bottom": null,
            "display": null,
            "flex": null,
            "flex_flow": null,
            "grid_area": null,
            "grid_auto_columns": null,
            "grid_auto_flow": null,
            "grid_auto_rows": null,
            "grid_column": null,
            "grid_gap": null,
            "grid_row": null,
            "grid_template_areas": null,
            "grid_template_columns": null,
            "grid_template_rows": null,
            "height": null,
            "justify_content": null,
            "justify_items": null,
            "left": null,
            "margin": null,
            "max_height": null,
            "max_width": null,
            "min_height": null,
            "min_width": null,
            "object_fit": null,
            "object_position": null,
            "order": null,
            "overflow": null,
            "overflow_x": null,
            "overflow_y": null,
            "padding": null,
            "right": null,
            "top": null,
            "visibility": null,
            "width": null
          }
        },
        "0daab6845e54495ea65803b4dc6077a2": {
          "model_module": "@jupyter-widgets/controls",
          "model_name": "ProgressStyleModel",
          "model_module_version": "1.5.0",
          "state": {
            "_model_module": "@jupyter-widgets/controls",
            "_model_module_version": "1.5.0",
            "_model_name": "ProgressStyleModel",
            "_view_count": null,
            "_view_module": "@jupyter-widgets/base",
            "_view_module_version": "1.2.0",
            "_view_name": "StyleView",
            "bar_color": null,
            "description_width": ""
          }
        },
        "cc6680aa8ff344dbb0733a6a86166549": {
          "model_module": "@jupyter-widgets/base",
          "model_name": "LayoutModel",
          "model_module_version": "1.2.0",
          "state": {
            "_model_module": "@jupyter-widgets/base",
            "_model_module_version": "1.2.0",
            "_model_name": "LayoutModel",
            "_view_count": null,
            "_view_module": "@jupyter-widgets/base",
            "_view_module_version": "1.2.0",
            "_view_name": "LayoutView",
            "align_content": null,
            "align_items": null,
            "align_self": null,
            "border": null,
            "bottom": null,
            "display": null,
            "flex": null,
            "flex_flow": null,
            "grid_area": null,
            "grid_auto_columns": null,
            "grid_auto_flow": null,
            "grid_auto_rows": null,
            "grid_column": null,
            "grid_gap": null,
            "grid_row": null,
            "grid_template_areas": null,
            "grid_template_columns": null,
            "grid_template_rows": null,
            "height": null,
            "justify_content": null,
            "justify_items": null,
            "left": null,
            "margin": null,
            "max_height": null,
            "max_width": null,
            "min_height": null,
            "min_width": null,
            "object_fit": null,
            "object_position": null,
            "order": null,
            "overflow": null,
            "overflow_x": null,
            "overflow_y": null,
            "padding": null,
            "right": null,
            "top": null,
            "visibility": null,
            "width": null
          }
        },
        "c59efd807fc84a10b847375963595e12": {
          "model_module": "@jupyter-widgets/controls",
          "model_name": "DescriptionStyleModel",
          "model_module_version": "1.5.0",
          "state": {
            "_model_module": "@jupyter-widgets/controls",
            "_model_module_version": "1.5.0",
            "_model_name": "DescriptionStyleModel",
            "_view_count": null,
            "_view_module": "@jupyter-widgets/base",
            "_view_module_version": "1.2.0",
            "_view_name": "StyleView",
            "description_width": ""
          }
        },
        "dc03524450d94f11bb244a8850070a57": {
          "model_module": "@jupyter-widgets/controls",
          "model_name": "HBoxModel",
          "model_module_version": "1.5.0",
          "state": {
            "_dom_classes": [],
            "_model_module": "@jupyter-widgets/controls",
            "_model_module_version": "1.5.0",
            "_model_name": "HBoxModel",
            "_view_count": null,
            "_view_module": "@jupyter-widgets/controls",
            "_view_module_version": "1.5.0",
            "_view_name": "HBoxView",
            "box_style": "",
            "children": [
              "IPY_MODEL_8e29e8629f1345689ab585316bcfc822",
              "IPY_MODEL_2d59d5b547f74e9d9da6c85f3c6c715e",
              "IPY_MODEL_656932c038ba403381e634779e762534"
            ],
            "layout": "IPY_MODEL_86307b99c73d44a4aa45cf1b63d2bb36"
          }
        },
        "8e29e8629f1345689ab585316bcfc822": {
          "model_module": "@jupyter-widgets/controls",
          "model_name": "HTMLModel",
          "model_module_version": "1.5.0",
          "state": {
            "_dom_classes": [],
            "_model_module": "@jupyter-widgets/controls",
            "_model_module_version": "1.5.0",
            "_model_name": "HTMLModel",
            "_view_count": null,
            "_view_module": "@jupyter-widgets/controls",
            "_view_module_version": "1.5.0",
            "_view_name": "HTMLView",
            "description": "",
            "description_tooltip": null,
            "layout": "IPY_MODEL_81a9fc38631340278be9fdd8e588a827",
            "placeholder": "​",
            "style": "IPY_MODEL_e503f57cccad41febdbe493a5907b77e",
            "value": "tokenizer_config.json: 100%"
          }
        },
        "2d59d5b547f74e9d9da6c85f3c6c715e": {
          "model_module": "@jupyter-widgets/controls",
          "model_name": "FloatProgressModel",
          "model_module_version": "1.5.0",
          "state": {
            "_dom_classes": [],
            "_model_module": "@jupyter-widgets/controls",
            "_model_module_version": "1.5.0",
            "_model_name": "FloatProgressModel",
            "_view_count": null,
            "_view_module": "@jupyter-widgets/controls",
            "_view_module_version": "1.5.0",
            "_view_name": "ProgressView",
            "bar_style": "success",
            "description": "",
            "description_tooltip": null,
            "layout": "IPY_MODEL_fc5315d5128c4d03a6de65cbe6f795a5",
            "max": 1101,
            "min": 0,
            "orientation": "horizontal",
            "style": "IPY_MODEL_f3175b9a76d54adeb7fd577af43a977c",
            "value": 1101
          }
        },
        "656932c038ba403381e634779e762534": {
          "model_module": "@jupyter-widgets/controls",
          "model_name": "HTMLModel",
          "model_module_version": "1.5.0",
          "state": {
            "_dom_classes": [],
            "_model_module": "@jupyter-widgets/controls",
            "_model_module_version": "1.5.0",
            "_model_name": "HTMLModel",
            "_view_count": null,
            "_view_module": "@jupyter-widgets/controls",
            "_view_module_version": "1.5.0",
            "_view_name": "HTMLView",
            "description": "",
            "description_tooltip": null,
            "layout": "IPY_MODEL_4a35bdfbf4d949cc88e7a82600652ac6",
            "placeholder": "​",
            "style": "IPY_MODEL_6baad28c9acc40639624ad99c2b8bd6e",
            "value": " 1.10k/1.10k [00:00&lt;00:00, 41.5kB/s]"
          }
        },
        "86307b99c73d44a4aa45cf1b63d2bb36": {
          "model_module": "@jupyter-widgets/base",
          "model_name": "LayoutModel",
          "model_module_version": "1.2.0",
          "state": {
            "_model_module": "@jupyter-widgets/base",
            "_model_module_version": "1.2.0",
            "_model_name": "LayoutModel",
            "_view_count": null,
            "_view_module": "@jupyter-widgets/base",
            "_view_module_version": "1.2.0",
            "_view_name": "LayoutView",
            "align_content": null,
            "align_items": null,
            "align_self": null,
            "border": null,
            "bottom": null,
            "display": null,
            "flex": null,
            "flex_flow": null,
            "grid_area": null,
            "grid_auto_columns": null,
            "grid_auto_flow": null,
            "grid_auto_rows": null,
            "grid_column": null,
            "grid_gap": null,
            "grid_row": null,
            "grid_template_areas": null,
            "grid_template_columns": null,
            "grid_template_rows": null,
            "height": null,
            "justify_content": null,
            "justify_items": null,
            "left": null,
            "margin": null,
            "max_height": null,
            "max_width": null,
            "min_height": null,
            "min_width": null,
            "object_fit": null,
            "object_position": null,
            "order": null,
            "overflow": null,
            "overflow_x": null,
            "overflow_y": null,
            "padding": null,
            "right": null,
            "top": null,
            "visibility": null,
            "width": null
          }
        },
        "81a9fc38631340278be9fdd8e588a827": {
          "model_module": "@jupyter-widgets/base",
          "model_name": "LayoutModel",
          "model_module_version": "1.2.0",
          "state": {
            "_model_module": "@jupyter-widgets/base",
            "_model_module_version": "1.2.0",
            "_model_name": "LayoutModel",
            "_view_count": null,
            "_view_module": "@jupyter-widgets/base",
            "_view_module_version": "1.2.0",
            "_view_name": "LayoutView",
            "align_content": null,
            "align_items": null,
            "align_self": null,
            "border": null,
            "bottom": null,
            "display": null,
            "flex": null,
            "flex_flow": null,
            "grid_area": null,
            "grid_auto_columns": null,
            "grid_auto_flow": null,
            "grid_auto_rows": null,
            "grid_column": null,
            "grid_gap": null,
            "grid_row": null,
            "grid_template_areas": null,
            "grid_template_columns": null,
            "grid_template_rows": null,
            "height": null,
            "justify_content": null,
            "justify_items": null,
            "left": null,
            "margin": null,
            "max_height": null,
            "max_width": null,
            "min_height": null,
            "min_width": null,
            "object_fit": null,
            "object_position": null,
            "order": null,
            "overflow": null,
            "overflow_x": null,
            "overflow_y": null,
            "padding": null,
            "right": null,
            "top": null,
            "visibility": null,
            "width": null
          }
        },
        "e503f57cccad41febdbe493a5907b77e": {
          "model_module": "@jupyter-widgets/controls",
          "model_name": "DescriptionStyleModel",
          "model_module_version": "1.5.0",
          "state": {
            "_model_module": "@jupyter-widgets/controls",
            "_model_module_version": "1.5.0",
            "_model_name": "DescriptionStyleModel",
            "_view_count": null,
            "_view_module": "@jupyter-widgets/base",
            "_view_module_version": "1.2.0",
            "_view_name": "StyleView",
            "description_width": ""
          }
        },
        "fc5315d5128c4d03a6de65cbe6f795a5": {
          "model_module": "@jupyter-widgets/base",
          "model_name": "LayoutModel",
          "model_module_version": "1.2.0",
          "state": {
            "_model_module": "@jupyter-widgets/base",
            "_model_module_version": "1.2.0",
            "_model_name": "LayoutModel",
            "_view_count": null,
            "_view_module": "@jupyter-widgets/base",
            "_view_module_version": "1.2.0",
            "_view_name": "LayoutView",
            "align_content": null,
            "align_items": null,
            "align_self": null,
            "border": null,
            "bottom": null,
            "display": null,
            "flex": null,
            "flex_flow": null,
            "grid_area": null,
            "grid_auto_columns": null,
            "grid_auto_flow": null,
            "grid_auto_rows": null,
            "grid_column": null,
            "grid_gap": null,
            "grid_row": null,
            "grid_template_areas": null,
            "grid_template_columns": null,
            "grid_template_rows": null,
            "height": null,
            "justify_content": null,
            "justify_items": null,
            "left": null,
            "margin": null,
            "max_height": null,
            "max_width": null,
            "min_height": null,
            "min_width": null,
            "object_fit": null,
            "object_position": null,
            "order": null,
            "overflow": null,
            "overflow_x": null,
            "overflow_y": null,
            "padding": null,
            "right": null,
            "top": null,
            "visibility": null,
            "width": null
          }
        },
        "f3175b9a76d54adeb7fd577af43a977c": {
          "model_module": "@jupyter-widgets/controls",
          "model_name": "ProgressStyleModel",
          "model_module_version": "1.5.0",
          "state": {
            "_model_module": "@jupyter-widgets/controls",
            "_model_module_version": "1.5.0",
            "_model_name": "ProgressStyleModel",
            "_view_count": null,
            "_view_module": "@jupyter-widgets/base",
            "_view_module_version": "1.2.0",
            "_view_name": "StyleView",
            "bar_color": null,
            "description_width": ""
          }
        },
        "4a35bdfbf4d949cc88e7a82600652ac6": {
          "model_module": "@jupyter-widgets/base",
          "model_name": "LayoutModel",
          "model_module_version": "1.2.0",
          "state": {
            "_model_module": "@jupyter-widgets/base",
            "_model_module_version": "1.2.0",
            "_model_name": "LayoutModel",
            "_view_count": null,
            "_view_module": "@jupyter-widgets/base",
            "_view_module_version": "1.2.0",
            "_view_name": "LayoutView",
            "align_content": null,
            "align_items": null,
            "align_self": null,
            "border": null,
            "bottom": null,
            "display": null,
            "flex": null,
            "flex_flow": null,
            "grid_area": null,
            "grid_auto_columns": null,
            "grid_auto_flow": null,
            "grid_auto_rows": null,
            "grid_column": null,
            "grid_gap": null,
            "grid_row": null,
            "grid_template_areas": null,
            "grid_template_columns": null,
            "grid_template_rows": null,
            "height": null,
            "justify_content": null,
            "justify_items": null,
            "left": null,
            "margin": null,
            "max_height": null,
            "max_width": null,
            "min_height": null,
            "min_width": null,
            "object_fit": null,
            "object_position": null,
            "order": null,
            "overflow": null,
            "overflow_x": null,
            "overflow_y": null,
            "padding": null,
            "right": null,
            "top": null,
            "visibility": null,
            "width": null
          }
        },
        "6baad28c9acc40639624ad99c2b8bd6e": {
          "model_module": "@jupyter-widgets/controls",
          "model_name": "DescriptionStyleModel",
          "model_module_version": "1.5.0",
          "state": {
            "_model_module": "@jupyter-widgets/controls",
            "_model_module_version": "1.5.0",
            "_model_name": "DescriptionStyleModel",
            "_view_count": null,
            "_view_module": "@jupyter-widgets/base",
            "_view_module_version": "1.2.0",
            "_view_name": "StyleView",
            "description_width": ""
          }
        },
        "240854258ef84fcaae2e69386a480acc": {
          "model_module": "@jupyter-widgets/controls",
          "model_name": "HBoxModel",
          "model_module_version": "1.5.0",
          "state": {
            "_dom_classes": [],
            "_model_module": "@jupyter-widgets/controls",
            "_model_module_version": "1.5.0",
            "_model_name": "HBoxModel",
            "_view_count": null,
            "_view_module": "@jupyter-widgets/controls",
            "_view_module_version": "1.5.0",
            "_view_name": "HBoxView",
            "box_style": "",
            "children": [
              "IPY_MODEL_7fee722b6f204887823d480bf1855933",
              "IPY_MODEL_12179a4f99814eae97da4d50b5452ff1",
              "IPY_MODEL_1d813c1b687e4fe58b69a175a0923bf7"
            ],
            "layout": "IPY_MODEL_91b265beafa84dc997dd6c20b4587a5a"
          }
        },
        "7fee722b6f204887823d480bf1855933": {
          "model_module": "@jupyter-widgets/controls",
          "model_name": "HTMLModel",
          "model_module_version": "1.5.0",
          "state": {
            "_dom_classes": [],
            "_model_module": "@jupyter-widgets/controls",
            "_model_module_version": "1.5.0",
            "_model_name": "HTMLModel",
            "_view_count": null,
            "_view_module": "@jupyter-widgets/controls",
            "_view_module_version": "1.5.0",
            "_view_name": "HTMLView",
            "description": "",
            "description_tooltip": null,
            "layout": "IPY_MODEL_2e2d0de1e5584f3fb3123ede923f3ecb",
            "placeholder": "​",
            "style": "IPY_MODEL_6b66a275b6274344b31355a2a1a54f0b",
            "value": "vocab.txt: 100%"
          }
        },
        "12179a4f99814eae97da4d50b5452ff1": {
          "model_module": "@jupyter-widgets/controls",
          "model_name": "FloatProgressModel",
          "model_module_version": "1.5.0",
          "state": {
            "_dom_classes": [],
            "_model_module": "@jupyter-widgets/controls",
            "_model_module_version": "1.5.0",
            "_model_name": "FloatProgressModel",
            "_view_count": null,
            "_view_module": "@jupyter-widgets/controls",
            "_view_module_version": "1.5.0",
            "_view_name": "ProgressView",
            "bar_style": "success",
            "description": "",
            "description_tooltip": null,
            "layout": "IPY_MODEL_4baf34c68f784a29996d82b64ed6ca1e",
            "max": 109540,
            "min": 0,
            "orientation": "horizontal",
            "style": "IPY_MODEL_03296150635b497fba39cf0c8a210226",
            "value": 109540
          }
        },
        "1d813c1b687e4fe58b69a175a0923bf7": {
          "model_module": "@jupyter-widgets/controls",
          "model_name": "HTMLModel",
          "model_module_version": "1.5.0",
          "state": {
            "_dom_classes": [],
            "_model_module": "@jupyter-widgets/controls",
            "_model_module_version": "1.5.0",
            "_model_name": "HTMLModel",
            "_view_count": null,
            "_view_module": "@jupyter-widgets/controls",
            "_view_module_version": "1.5.0",
            "_view_name": "HTMLView",
            "description": "",
            "description_tooltip": null,
            "layout": "IPY_MODEL_adee02f973784d3e8c396629284bf2ca",
            "placeholder": "​",
            "style": "IPY_MODEL_bfd65e92924046edb468c5a27e551513",
            "value": " 110k/110k [00:00&lt;00:00, 545kB/s]"
          }
        },
        "91b265beafa84dc997dd6c20b4587a5a": {
          "model_module": "@jupyter-widgets/base",
          "model_name": "LayoutModel",
          "model_module_version": "1.2.0",
          "state": {
            "_model_module": "@jupyter-widgets/base",
            "_model_module_version": "1.2.0",
            "_model_name": "LayoutModel",
            "_view_count": null,
            "_view_module": "@jupyter-widgets/base",
            "_view_module_version": "1.2.0",
            "_view_name": "LayoutView",
            "align_content": null,
            "align_items": null,
            "align_self": null,
            "border": null,
            "bottom": null,
            "display": null,
            "flex": null,
            "flex_flow": null,
            "grid_area": null,
            "grid_auto_columns": null,
            "grid_auto_flow": null,
            "grid_auto_rows": null,
            "grid_column": null,
            "grid_gap": null,
            "grid_row": null,
            "grid_template_areas": null,
            "grid_template_columns": null,
            "grid_template_rows": null,
            "height": null,
            "justify_content": null,
            "justify_items": null,
            "left": null,
            "margin": null,
            "max_height": null,
            "max_width": null,
            "min_height": null,
            "min_width": null,
            "object_fit": null,
            "object_position": null,
            "order": null,
            "overflow": null,
            "overflow_x": null,
            "overflow_y": null,
            "padding": null,
            "right": null,
            "top": null,
            "visibility": null,
            "width": null
          }
        },
        "2e2d0de1e5584f3fb3123ede923f3ecb": {
          "model_module": "@jupyter-widgets/base",
          "model_name": "LayoutModel",
          "model_module_version": "1.2.0",
          "state": {
            "_model_module": "@jupyter-widgets/base",
            "_model_module_version": "1.2.0",
            "_model_name": "LayoutModel",
            "_view_count": null,
            "_view_module": "@jupyter-widgets/base",
            "_view_module_version": "1.2.0",
            "_view_name": "LayoutView",
            "align_content": null,
            "align_items": null,
            "align_self": null,
            "border": null,
            "bottom": null,
            "display": null,
            "flex": null,
            "flex_flow": null,
            "grid_area": null,
            "grid_auto_columns": null,
            "grid_auto_flow": null,
            "grid_auto_rows": null,
            "grid_column": null,
            "grid_gap": null,
            "grid_row": null,
            "grid_template_areas": null,
            "grid_template_columns": null,
            "grid_template_rows": null,
            "height": null,
            "justify_content": null,
            "justify_items": null,
            "left": null,
            "margin": null,
            "max_height": null,
            "max_width": null,
            "min_height": null,
            "min_width": null,
            "object_fit": null,
            "object_position": null,
            "order": null,
            "overflow": null,
            "overflow_x": null,
            "overflow_y": null,
            "padding": null,
            "right": null,
            "top": null,
            "visibility": null,
            "width": null
          }
        },
        "6b66a275b6274344b31355a2a1a54f0b": {
          "model_module": "@jupyter-widgets/controls",
          "model_name": "DescriptionStyleModel",
          "model_module_version": "1.5.0",
          "state": {
            "_model_module": "@jupyter-widgets/controls",
            "_model_module_version": "1.5.0",
            "_model_name": "DescriptionStyleModel",
            "_view_count": null,
            "_view_module": "@jupyter-widgets/base",
            "_view_module_version": "1.2.0",
            "_view_name": "StyleView",
            "description_width": ""
          }
        },
        "4baf34c68f784a29996d82b64ed6ca1e": {
          "model_module": "@jupyter-widgets/base",
          "model_name": "LayoutModel",
          "model_module_version": "1.2.0",
          "state": {
            "_model_module": "@jupyter-widgets/base",
            "_model_module_version": "1.2.0",
            "_model_name": "LayoutModel",
            "_view_count": null,
            "_view_module": "@jupyter-widgets/base",
            "_view_module_version": "1.2.0",
            "_view_name": "LayoutView",
            "align_content": null,
            "align_items": null,
            "align_self": null,
            "border": null,
            "bottom": null,
            "display": null,
            "flex": null,
            "flex_flow": null,
            "grid_area": null,
            "grid_auto_columns": null,
            "grid_auto_flow": null,
            "grid_auto_rows": null,
            "grid_column": null,
            "grid_gap": null,
            "grid_row": null,
            "grid_template_areas": null,
            "grid_template_columns": null,
            "grid_template_rows": null,
            "height": null,
            "justify_content": null,
            "justify_items": null,
            "left": null,
            "margin": null,
            "max_height": null,
            "max_width": null,
            "min_height": null,
            "min_width": null,
            "object_fit": null,
            "object_position": null,
            "order": null,
            "overflow": null,
            "overflow_x": null,
            "overflow_y": null,
            "padding": null,
            "right": null,
            "top": null,
            "visibility": null,
            "width": null
          }
        },
        "03296150635b497fba39cf0c8a210226": {
          "model_module": "@jupyter-widgets/controls",
          "model_name": "ProgressStyleModel",
          "model_module_version": "1.5.0",
          "state": {
            "_model_module": "@jupyter-widgets/controls",
            "_model_module_version": "1.5.0",
            "_model_name": "ProgressStyleModel",
            "_view_count": null,
            "_view_module": "@jupyter-widgets/base",
            "_view_module_version": "1.2.0",
            "_view_name": "StyleView",
            "bar_color": null,
            "description_width": ""
          }
        },
        "adee02f973784d3e8c396629284bf2ca": {
          "model_module": "@jupyter-widgets/base",
          "model_name": "LayoutModel",
          "model_module_version": "1.2.0",
          "state": {
            "_model_module": "@jupyter-widgets/base",
            "_model_module_version": "1.2.0",
            "_model_name": "LayoutModel",
            "_view_count": null,
            "_view_module": "@jupyter-widgets/base",
            "_view_module_version": "1.2.0",
            "_view_name": "LayoutView",
            "align_content": null,
            "align_items": null,
            "align_self": null,
            "border": null,
            "bottom": null,
            "display": null,
            "flex": null,
            "flex_flow": null,
            "grid_area": null,
            "grid_auto_columns": null,
            "grid_auto_flow": null,
            "grid_auto_rows": null,
            "grid_column": null,
            "grid_gap": null,
            "grid_row": null,
            "grid_template_areas": null,
            "grid_template_columns": null,
            "grid_template_rows": null,
            "height": null,
            "justify_content": null,
            "justify_items": null,
            "left": null,
            "margin": null,
            "max_height": null,
            "max_width": null,
            "min_height": null,
            "min_width": null,
            "object_fit": null,
            "object_position": null,
            "order": null,
            "overflow": null,
            "overflow_x": null,
            "overflow_y": null,
            "padding": null,
            "right": null,
            "top": null,
            "visibility": null,
            "width": null
          }
        },
        "bfd65e92924046edb468c5a27e551513": {
          "model_module": "@jupyter-widgets/controls",
          "model_name": "DescriptionStyleModel",
          "model_module_version": "1.5.0",
          "state": {
            "_model_module": "@jupyter-widgets/controls",
            "_model_module_version": "1.5.0",
            "_model_name": "DescriptionStyleModel",
            "_view_count": null,
            "_view_module": "@jupyter-widgets/base",
            "_view_module_version": "1.2.0",
            "_view_name": "StyleView",
            "description_width": ""
          }
        },
        "8791a4d922984d109d91a802f9ddd642": {
          "model_module": "@jupyter-widgets/controls",
          "model_name": "HBoxModel",
          "model_module_version": "1.5.0",
          "state": {
            "_dom_classes": [],
            "_model_module": "@jupyter-widgets/controls",
            "_model_module_version": "1.5.0",
            "_model_name": "HBoxModel",
            "_view_count": null,
            "_view_module": "@jupyter-widgets/controls",
            "_view_module_version": "1.5.0",
            "_view_name": "HBoxView",
            "box_style": "",
            "children": [
              "IPY_MODEL_bcefa38af6b940d5984a8ef6773342dd",
              "IPY_MODEL_ee7da244c45f4e87844a6fcb70a3922c",
              "IPY_MODEL_2b9b1d3172cf419da94e77582aa60101"
            ],
            "layout": "IPY_MODEL_d8afd6f860744a4abc2e0293ad5d15c8"
          }
        },
        "bcefa38af6b940d5984a8ef6773342dd": {
          "model_module": "@jupyter-widgets/controls",
          "model_name": "HTMLModel",
          "model_module_version": "1.5.0",
          "state": {
            "_dom_classes": [],
            "_model_module": "@jupyter-widgets/controls",
            "_model_module_version": "1.5.0",
            "_model_name": "HTMLModel",
            "_view_count": null,
            "_view_module": "@jupyter-widgets/controls",
            "_view_module_version": "1.5.0",
            "_view_name": "HTMLView",
            "description": "",
            "description_tooltip": null,
            "layout": "IPY_MODEL_d1667e7c9a7947099aa7f9d2d6db17ef",
            "placeholder": "​",
            "style": "IPY_MODEL_2cfb0cd1246f47ce9a30bd1bc5fc3376",
            "value": "tokenizer.json: 100%"
          }
        },
        "ee7da244c45f4e87844a6fcb70a3922c": {
          "model_module": "@jupyter-widgets/controls",
          "model_name": "FloatProgressModel",
          "model_module_version": "1.5.0",
          "state": {
            "_dom_classes": [],
            "_model_module": "@jupyter-widgets/controls",
            "_model_module_version": "1.5.0",
            "_model_name": "FloatProgressModel",
            "_view_count": null,
            "_view_module": "@jupyter-widgets/controls",
            "_view_module_version": "1.5.0",
            "_view_name": "ProgressView",
            "bar_style": "success",
            "description": "",
            "description_tooltip": null,
            "layout": "IPY_MODEL_a890634789bd47ed933c2cae6fbb67e4",
            "max": 439124,
            "min": 0,
            "orientation": "horizontal",
            "style": "IPY_MODEL_d8531e9bd38d4426800236e5dc77b3d6",
            "value": 439124
          }
        },
        "2b9b1d3172cf419da94e77582aa60101": {
          "model_module": "@jupyter-widgets/controls",
          "model_name": "HTMLModel",
          "model_module_version": "1.5.0",
          "state": {
            "_dom_classes": [],
            "_model_module": "@jupyter-widgets/controls",
            "_model_module_version": "1.5.0",
            "_model_name": "HTMLModel",
            "_view_count": null,
            "_view_module": "@jupyter-widgets/controls",
            "_view_module_version": "1.5.0",
            "_view_name": "HTMLView",
            "description": "",
            "description_tooltip": null,
            "layout": "IPY_MODEL_8e094a41f5b84a93be1ce40e428a5fe8",
            "placeholder": "​",
            "style": "IPY_MODEL_d7267141dfd94495b44c7679705d60cf",
            "value": " 439k/439k [00:00&lt;00:00, 737kB/s]"
          }
        },
        "d8afd6f860744a4abc2e0293ad5d15c8": {
          "model_module": "@jupyter-widgets/base",
          "model_name": "LayoutModel",
          "model_module_version": "1.2.0",
          "state": {
            "_model_module": "@jupyter-widgets/base",
            "_model_module_version": "1.2.0",
            "_model_name": "LayoutModel",
            "_view_count": null,
            "_view_module": "@jupyter-widgets/base",
            "_view_module_version": "1.2.0",
            "_view_name": "LayoutView",
            "align_content": null,
            "align_items": null,
            "align_self": null,
            "border": null,
            "bottom": null,
            "display": null,
            "flex": null,
            "flex_flow": null,
            "grid_area": null,
            "grid_auto_columns": null,
            "grid_auto_flow": null,
            "grid_auto_rows": null,
            "grid_column": null,
            "grid_gap": null,
            "grid_row": null,
            "grid_template_areas": null,
            "grid_template_columns": null,
            "grid_template_rows": null,
            "height": null,
            "justify_content": null,
            "justify_items": null,
            "left": null,
            "margin": null,
            "max_height": null,
            "max_width": null,
            "min_height": null,
            "min_width": null,
            "object_fit": null,
            "object_position": null,
            "order": null,
            "overflow": null,
            "overflow_x": null,
            "overflow_y": null,
            "padding": null,
            "right": null,
            "top": null,
            "visibility": null,
            "width": null
          }
        },
        "d1667e7c9a7947099aa7f9d2d6db17ef": {
          "model_module": "@jupyter-widgets/base",
          "model_name": "LayoutModel",
          "model_module_version": "1.2.0",
          "state": {
            "_model_module": "@jupyter-widgets/base",
            "_model_module_version": "1.2.0",
            "_model_name": "LayoutModel",
            "_view_count": null,
            "_view_module": "@jupyter-widgets/base",
            "_view_module_version": "1.2.0",
            "_view_name": "LayoutView",
            "align_content": null,
            "align_items": null,
            "align_self": null,
            "border": null,
            "bottom": null,
            "display": null,
            "flex": null,
            "flex_flow": null,
            "grid_area": null,
            "grid_auto_columns": null,
            "grid_auto_flow": null,
            "grid_auto_rows": null,
            "grid_column": null,
            "grid_gap": null,
            "grid_row": null,
            "grid_template_areas": null,
            "grid_template_columns": null,
            "grid_template_rows": null,
            "height": null,
            "justify_content": null,
            "justify_items": null,
            "left": null,
            "margin": null,
            "max_height": null,
            "max_width": null,
            "min_height": null,
            "min_width": null,
            "object_fit": null,
            "object_position": null,
            "order": null,
            "overflow": null,
            "overflow_x": null,
            "overflow_y": null,
            "padding": null,
            "right": null,
            "top": null,
            "visibility": null,
            "width": null
          }
        },
        "2cfb0cd1246f47ce9a30bd1bc5fc3376": {
          "model_module": "@jupyter-widgets/controls",
          "model_name": "DescriptionStyleModel",
          "model_module_version": "1.5.0",
          "state": {
            "_model_module": "@jupyter-widgets/controls",
            "_model_module_version": "1.5.0",
            "_model_name": "DescriptionStyleModel",
            "_view_count": null,
            "_view_module": "@jupyter-widgets/base",
            "_view_module_version": "1.2.0",
            "_view_name": "StyleView",
            "description_width": ""
          }
        },
        "a890634789bd47ed933c2cae6fbb67e4": {
          "model_module": "@jupyter-widgets/base",
          "model_name": "LayoutModel",
          "model_module_version": "1.2.0",
          "state": {
            "_model_module": "@jupyter-widgets/base",
            "_model_module_version": "1.2.0",
            "_model_name": "LayoutModel",
            "_view_count": null,
            "_view_module": "@jupyter-widgets/base",
            "_view_module_version": "1.2.0",
            "_view_name": "LayoutView",
            "align_content": null,
            "align_items": null,
            "align_self": null,
            "border": null,
            "bottom": null,
            "display": null,
            "flex": null,
            "flex_flow": null,
            "grid_area": null,
            "grid_auto_columns": null,
            "grid_auto_flow": null,
            "grid_auto_rows": null,
            "grid_column": null,
            "grid_gap": null,
            "grid_row": null,
            "grid_template_areas": null,
            "grid_template_columns": null,
            "grid_template_rows": null,
            "height": null,
            "justify_content": null,
            "justify_items": null,
            "left": null,
            "margin": null,
            "max_height": null,
            "max_width": null,
            "min_height": null,
            "min_width": null,
            "object_fit": null,
            "object_position": null,
            "order": null,
            "overflow": null,
            "overflow_x": null,
            "overflow_y": null,
            "padding": null,
            "right": null,
            "top": null,
            "visibility": null,
            "width": null
          }
        },
        "d8531e9bd38d4426800236e5dc77b3d6": {
          "model_module": "@jupyter-widgets/controls",
          "model_name": "ProgressStyleModel",
          "model_module_version": "1.5.0",
          "state": {
            "_model_module": "@jupyter-widgets/controls",
            "_model_module_version": "1.5.0",
            "_model_name": "ProgressStyleModel",
            "_view_count": null,
            "_view_module": "@jupyter-widgets/base",
            "_view_module_version": "1.2.0",
            "_view_name": "StyleView",
            "bar_color": null,
            "description_width": ""
          }
        },
        "8e094a41f5b84a93be1ce40e428a5fe8": {
          "model_module": "@jupyter-widgets/base",
          "model_name": "LayoutModel",
          "model_module_version": "1.2.0",
          "state": {
            "_model_module": "@jupyter-widgets/base",
            "_model_module_version": "1.2.0",
            "_model_name": "LayoutModel",
            "_view_count": null,
            "_view_module": "@jupyter-widgets/base",
            "_view_module_version": "1.2.0",
            "_view_name": "LayoutView",
            "align_content": null,
            "align_items": null,
            "align_self": null,
            "border": null,
            "bottom": null,
            "display": null,
            "flex": null,
            "flex_flow": null,
            "grid_area": null,
            "grid_auto_columns": null,
            "grid_auto_flow": null,
            "grid_auto_rows": null,
            "grid_column": null,
            "grid_gap": null,
            "grid_row": null,
            "grid_template_areas": null,
            "grid_template_columns": null,
            "grid_template_rows": null,
            "height": null,
            "justify_content": null,
            "justify_items": null,
            "left": null,
            "margin": null,
            "max_height": null,
            "max_width": null,
            "min_height": null,
            "min_width": null,
            "object_fit": null,
            "object_position": null,
            "order": null,
            "overflow": null,
            "overflow_x": null,
            "overflow_y": null,
            "padding": null,
            "right": null,
            "top": null,
            "visibility": null,
            "width": null
          }
        },
        "d7267141dfd94495b44c7679705d60cf": {
          "model_module": "@jupyter-widgets/controls",
          "model_name": "DescriptionStyleModel",
          "model_module_version": "1.5.0",
          "state": {
            "_model_module": "@jupyter-widgets/controls",
            "_model_module_version": "1.5.0",
            "_model_name": "DescriptionStyleModel",
            "_view_count": null,
            "_view_module": "@jupyter-widgets/base",
            "_view_module_version": "1.2.0",
            "_view_name": "StyleView",
            "description_width": ""
          }
        },
        "530bda7d5232402e9af23881a2287340": {
          "model_module": "@jupyter-widgets/controls",
          "model_name": "HBoxModel",
          "model_module_version": "1.5.0",
          "state": {
            "_dom_classes": [],
            "_model_module": "@jupyter-widgets/controls",
            "_model_module_version": "1.5.0",
            "_model_name": "HBoxModel",
            "_view_count": null,
            "_view_module": "@jupyter-widgets/controls",
            "_view_module_version": "1.5.0",
            "_view_name": "HBoxView",
            "box_style": "",
            "children": [
              "IPY_MODEL_c149a57514ac424e9f56421f9f31671b",
              "IPY_MODEL_dacbf9d4f5fc49a9b02bd24566d700d0",
              "IPY_MODEL_5cd43ed4ffc54c6fac2b05076cf33493"
            ],
            "layout": "IPY_MODEL_43a37147ddaa4fc19acfc82957bea422"
          }
        },
        "c149a57514ac424e9f56421f9f31671b": {
          "model_module": "@jupyter-widgets/controls",
          "model_name": "HTMLModel",
          "model_module_version": "1.5.0",
          "state": {
            "_dom_classes": [],
            "_model_module": "@jupyter-widgets/controls",
            "_model_module_version": "1.5.0",
            "_model_name": "HTMLModel",
            "_view_count": null,
            "_view_module": "@jupyter-widgets/controls",
            "_view_module_version": "1.5.0",
            "_view_name": "HTMLView",
            "description": "",
            "description_tooltip": null,
            "layout": "IPY_MODEL_2e8f2012086a4859851f538c15b8704f",
            "placeholder": "​",
            "style": "IPY_MODEL_88f9dec423634d7ebdf46ac3e399109b",
            "value": "added_tokens.json: 100%"
          }
        },
        "dacbf9d4f5fc49a9b02bd24566d700d0": {
          "model_module": "@jupyter-widgets/controls",
          "model_name": "FloatProgressModel",
          "model_module_version": "1.5.0",
          "state": {
            "_dom_classes": [],
            "_model_module": "@jupyter-widgets/controls",
            "_model_module_version": "1.5.0",
            "_model_name": "FloatProgressModel",
            "_view_count": null,
            "_view_module": "@jupyter-widgets/controls",
            "_view_module_version": "1.5.0",
            "_view_name": "ProgressView",
            "bar_style": "success",
            "description": "",
            "description_tooltip": null,
            "layout": "IPY_MODEL_b28e32f4b5da4426ac4048279e5a6b34",
            "max": 82,
            "min": 0,
            "orientation": "horizontal",
            "style": "IPY_MODEL_353646e027d4498c89971f3b9071c25d",
            "value": 82
          }
        },
        "5cd43ed4ffc54c6fac2b05076cf33493": {
          "model_module": "@jupyter-widgets/controls",
          "model_name": "HTMLModel",
          "model_module_version": "1.5.0",
          "state": {
            "_dom_classes": [],
            "_model_module": "@jupyter-widgets/controls",
            "_model_module_version": "1.5.0",
            "_model_name": "HTMLModel",
            "_view_count": null,
            "_view_module": "@jupyter-widgets/controls",
            "_view_module_version": "1.5.0",
            "_view_name": "HTMLView",
            "description": "",
            "description_tooltip": null,
            "layout": "IPY_MODEL_9ccc95b05d10497c9baa44b7e8a5dcf4",
            "placeholder": "​",
            "style": "IPY_MODEL_51a967cf6208498cacebb70dd8533db6",
            "value": " 82.0/82.0 [00:00&lt;00:00, 3.22kB/s]"
          }
        },
        "43a37147ddaa4fc19acfc82957bea422": {
          "model_module": "@jupyter-widgets/base",
          "model_name": "LayoutModel",
          "model_module_version": "1.2.0",
          "state": {
            "_model_module": "@jupyter-widgets/base",
            "_model_module_version": "1.2.0",
            "_model_name": "LayoutModel",
            "_view_count": null,
            "_view_module": "@jupyter-widgets/base",
            "_view_module_version": "1.2.0",
            "_view_name": "LayoutView",
            "align_content": null,
            "align_items": null,
            "align_self": null,
            "border": null,
            "bottom": null,
            "display": null,
            "flex": null,
            "flex_flow": null,
            "grid_area": null,
            "grid_auto_columns": null,
            "grid_auto_flow": null,
            "grid_auto_rows": null,
            "grid_column": null,
            "grid_gap": null,
            "grid_row": null,
            "grid_template_areas": null,
            "grid_template_columns": null,
            "grid_template_rows": null,
            "height": null,
            "justify_content": null,
            "justify_items": null,
            "left": null,
            "margin": null,
            "max_height": null,
            "max_width": null,
            "min_height": null,
            "min_width": null,
            "object_fit": null,
            "object_position": null,
            "order": null,
            "overflow": null,
            "overflow_x": null,
            "overflow_y": null,
            "padding": null,
            "right": null,
            "top": null,
            "visibility": null,
            "width": null
          }
        },
        "2e8f2012086a4859851f538c15b8704f": {
          "model_module": "@jupyter-widgets/base",
          "model_name": "LayoutModel",
          "model_module_version": "1.2.0",
          "state": {
            "_model_module": "@jupyter-widgets/base",
            "_model_module_version": "1.2.0",
            "_model_name": "LayoutModel",
            "_view_count": null,
            "_view_module": "@jupyter-widgets/base",
            "_view_module_version": "1.2.0",
            "_view_name": "LayoutView",
            "align_content": null,
            "align_items": null,
            "align_self": null,
            "border": null,
            "bottom": null,
            "display": null,
            "flex": null,
            "flex_flow": null,
            "grid_area": null,
            "grid_auto_columns": null,
            "grid_auto_flow": null,
            "grid_auto_rows": null,
            "grid_column": null,
            "grid_gap": null,
            "grid_row": null,
            "grid_template_areas": null,
            "grid_template_columns": null,
            "grid_template_rows": null,
            "height": null,
            "justify_content": null,
            "justify_items": null,
            "left": null,
            "margin": null,
            "max_height": null,
            "max_width": null,
            "min_height": null,
            "min_width": null,
            "object_fit": null,
            "object_position": null,
            "order": null,
            "overflow": null,
            "overflow_x": null,
            "overflow_y": null,
            "padding": null,
            "right": null,
            "top": null,
            "visibility": null,
            "width": null
          }
        },
        "88f9dec423634d7ebdf46ac3e399109b": {
          "model_module": "@jupyter-widgets/controls",
          "model_name": "DescriptionStyleModel",
          "model_module_version": "1.5.0",
          "state": {
            "_model_module": "@jupyter-widgets/controls",
            "_model_module_version": "1.5.0",
            "_model_name": "DescriptionStyleModel",
            "_view_count": null,
            "_view_module": "@jupyter-widgets/base",
            "_view_module_version": "1.2.0",
            "_view_name": "StyleView",
            "description_width": ""
          }
        },
        "b28e32f4b5da4426ac4048279e5a6b34": {
          "model_module": "@jupyter-widgets/base",
          "model_name": "LayoutModel",
          "model_module_version": "1.2.0",
          "state": {
            "_model_module": "@jupyter-widgets/base",
            "_model_module_version": "1.2.0",
            "_model_name": "LayoutModel",
            "_view_count": null,
            "_view_module": "@jupyter-widgets/base",
            "_view_module_version": "1.2.0",
            "_view_name": "LayoutView",
            "align_content": null,
            "align_items": null,
            "align_self": null,
            "border": null,
            "bottom": null,
            "display": null,
            "flex": null,
            "flex_flow": null,
            "grid_area": null,
            "grid_auto_columns": null,
            "grid_auto_flow": null,
            "grid_auto_rows": null,
            "grid_column": null,
            "grid_gap": null,
            "grid_row": null,
            "grid_template_areas": null,
            "grid_template_columns": null,
            "grid_template_rows": null,
            "height": null,
            "justify_content": null,
            "justify_items": null,
            "left": null,
            "margin": null,
            "max_height": null,
            "max_width": null,
            "min_height": null,
            "min_width": null,
            "object_fit": null,
            "object_position": null,
            "order": null,
            "overflow": null,
            "overflow_x": null,
            "overflow_y": null,
            "padding": null,
            "right": null,
            "top": null,
            "visibility": null,
            "width": null
          }
        },
        "353646e027d4498c89971f3b9071c25d": {
          "model_module": "@jupyter-widgets/controls",
          "model_name": "ProgressStyleModel",
          "model_module_version": "1.5.0",
          "state": {
            "_model_module": "@jupyter-widgets/controls",
            "_model_module_version": "1.5.0",
            "_model_name": "ProgressStyleModel",
            "_view_count": null,
            "_view_module": "@jupyter-widgets/base",
            "_view_module_version": "1.2.0",
            "_view_name": "StyleView",
            "bar_color": null,
            "description_width": ""
          }
        },
        "9ccc95b05d10497c9baa44b7e8a5dcf4": {
          "model_module": "@jupyter-widgets/base",
          "model_name": "LayoutModel",
          "model_module_version": "1.2.0",
          "state": {
            "_model_module": "@jupyter-widgets/base",
            "_model_module_version": "1.2.0",
            "_model_name": "LayoutModel",
            "_view_count": null,
            "_view_module": "@jupyter-widgets/base",
            "_view_module_version": "1.2.0",
            "_view_name": "LayoutView",
            "align_content": null,
            "align_items": null,
            "align_self": null,
            "border": null,
            "bottom": null,
            "display": null,
            "flex": null,
            "flex_flow": null,
            "grid_area": null,
            "grid_auto_columns": null,
            "grid_auto_flow": null,
            "grid_auto_rows": null,
            "grid_column": null,
            "grid_gap": null,
            "grid_row": null,
            "grid_template_areas": null,
            "grid_template_columns": null,
            "grid_template_rows": null,
            "height": null,
            "justify_content": null,
            "justify_items": null,
            "left": null,
            "margin": null,
            "max_height": null,
            "max_width": null,
            "min_height": null,
            "min_width": null,
            "object_fit": null,
            "object_position": null,
            "order": null,
            "overflow": null,
            "overflow_x": null,
            "overflow_y": null,
            "padding": null,
            "right": null,
            "top": null,
            "visibility": null,
            "width": null
          }
        },
        "51a967cf6208498cacebb70dd8533db6": {
          "model_module": "@jupyter-widgets/controls",
          "model_name": "DescriptionStyleModel",
          "model_module_version": "1.5.0",
          "state": {
            "_model_module": "@jupyter-widgets/controls",
            "_model_module_version": "1.5.0",
            "_model_name": "DescriptionStyleModel",
            "_view_count": null,
            "_view_module": "@jupyter-widgets/base",
            "_view_module_version": "1.2.0",
            "_view_name": "StyleView",
            "description_width": ""
          }
        },
        "fdb0cfcb66194692becc70f4ef2ecbbb": {
          "model_module": "@jupyter-widgets/controls",
          "model_name": "HBoxModel",
          "model_module_version": "1.5.0",
          "state": {
            "_dom_classes": [],
            "_model_module": "@jupyter-widgets/controls",
            "_model_module_version": "1.5.0",
            "_model_name": "HBoxModel",
            "_view_count": null,
            "_view_module": "@jupyter-widgets/controls",
            "_view_module_version": "1.5.0",
            "_view_name": "HBoxView",
            "box_style": "",
            "children": [
              "IPY_MODEL_50fe8e111d984a239ede379645fdcb7b",
              "IPY_MODEL_8b4479d681044289bf84e17b9827025c",
              "IPY_MODEL_83aa843705f9469d88e7e2f453ba814a"
            ],
            "layout": "IPY_MODEL_5389ce5cd3fc48f4a271dee5524a717f"
          }
        },
        "50fe8e111d984a239ede379645fdcb7b": {
          "model_module": "@jupyter-widgets/controls",
          "model_name": "HTMLModel",
          "model_module_version": "1.5.0",
          "state": {
            "_dom_classes": [],
            "_model_module": "@jupyter-widgets/controls",
            "_model_module_version": "1.5.0",
            "_model_name": "HTMLModel",
            "_view_count": null,
            "_view_module": "@jupyter-widgets/controls",
            "_view_module_version": "1.5.0",
            "_view_name": "HTMLView",
            "description": "",
            "description_tooltip": null,
            "layout": "IPY_MODEL_ee9ce7dd68c34d2693f093798cf7905d",
            "placeholder": "​",
            "style": "IPY_MODEL_c157d6ca118543568c1f2701c7fe681c",
            "value": "special_tokens_map.json: 100%"
          }
        },
        "8b4479d681044289bf84e17b9827025c": {
          "model_module": "@jupyter-widgets/controls",
          "model_name": "FloatProgressModel",
          "model_module_version": "1.5.0",
          "state": {
            "_dom_classes": [],
            "_model_module": "@jupyter-widgets/controls",
            "_model_module_version": "1.5.0",
            "_model_name": "FloatProgressModel",
            "_view_count": null,
            "_view_module": "@jupyter-widgets/controls",
            "_view_module_version": "1.5.0",
            "_view_name": "ProgressView",
            "bar_style": "success",
            "description": "",
            "description_tooltip": null,
            "layout": "IPY_MODEL_2388203a359b42ab91fe72c8e6494096",
            "max": 125,
            "min": 0,
            "orientation": "horizontal",
            "style": "IPY_MODEL_a36f9d24c8704b79a496c5dabf259ebf",
            "value": 125
          }
        },
        "83aa843705f9469d88e7e2f453ba814a": {
          "model_module": "@jupyter-widgets/controls",
          "model_name": "HTMLModel",
          "model_module_version": "1.5.0",
          "state": {
            "_dom_classes": [],
            "_model_module": "@jupyter-widgets/controls",
            "_model_module_version": "1.5.0",
            "_model_name": "HTMLModel",
            "_view_count": null,
            "_view_module": "@jupyter-widgets/controls",
            "_view_module_version": "1.5.0",
            "_view_name": "HTMLView",
            "description": "",
            "description_tooltip": null,
            "layout": "IPY_MODEL_2641990af3cb4286a92e77c56a57f01d",
            "placeholder": "​",
            "style": "IPY_MODEL_1f7eb26de7f747138ffda49819f1f9af",
            "value": " 125/125 [00:00&lt;00:00, 8.08kB/s]"
          }
        },
        "5389ce5cd3fc48f4a271dee5524a717f": {
          "model_module": "@jupyter-widgets/base",
          "model_name": "LayoutModel",
          "model_module_version": "1.2.0",
          "state": {
            "_model_module": "@jupyter-widgets/base",
            "_model_module_version": "1.2.0",
            "_model_name": "LayoutModel",
            "_view_count": null,
            "_view_module": "@jupyter-widgets/base",
            "_view_module_version": "1.2.0",
            "_view_name": "LayoutView",
            "align_content": null,
            "align_items": null,
            "align_self": null,
            "border": null,
            "bottom": null,
            "display": null,
            "flex": null,
            "flex_flow": null,
            "grid_area": null,
            "grid_auto_columns": null,
            "grid_auto_flow": null,
            "grid_auto_rows": null,
            "grid_column": null,
            "grid_gap": null,
            "grid_row": null,
            "grid_template_areas": null,
            "grid_template_columns": null,
            "grid_template_rows": null,
            "height": null,
            "justify_content": null,
            "justify_items": null,
            "left": null,
            "margin": null,
            "max_height": null,
            "max_width": null,
            "min_height": null,
            "min_width": null,
            "object_fit": null,
            "object_position": null,
            "order": null,
            "overflow": null,
            "overflow_x": null,
            "overflow_y": null,
            "padding": null,
            "right": null,
            "top": null,
            "visibility": null,
            "width": null
          }
        },
        "ee9ce7dd68c34d2693f093798cf7905d": {
          "model_module": "@jupyter-widgets/base",
          "model_name": "LayoutModel",
          "model_module_version": "1.2.0",
          "state": {
            "_model_module": "@jupyter-widgets/base",
            "_model_module_version": "1.2.0",
            "_model_name": "LayoutModel",
            "_view_count": null,
            "_view_module": "@jupyter-widgets/base",
            "_view_module_version": "1.2.0",
            "_view_name": "LayoutView",
            "align_content": null,
            "align_items": null,
            "align_self": null,
            "border": null,
            "bottom": null,
            "display": null,
            "flex": null,
            "flex_flow": null,
            "grid_area": null,
            "grid_auto_columns": null,
            "grid_auto_flow": null,
            "grid_auto_rows": null,
            "grid_column": null,
            "grid_gap": null,
            "grid_row": null,
            "grid_template_areas": null,
            "grid_template_columns": null,
            "grid_template_rows": null,
            "height": null,
            "justify_content": null,
            "justify_items": null,
            "left": null,
            "margin": null,
            "max_height": null,
            "max_width": null,
            "min_height": null,
            "min_width": null,
            "object_fit": null,
            "object_position": null,
            "order": null,
            "overflow": null,
            "overflow_x": null,
            "overflow_y": null,
            "padding": null,
            "right": null,
            "top": null,
            "visibility": null,
            "width": null
          }
        },
        "c157d6ca118543568c1f2701c7fe681c": {
          "model_module": "@jupyter-widgets/controls",
          "model_name": "DescriptionStyleModel",
          "model_module_version": "1.5.0",
          "state": {
            "_model_module": "@jupyter-widgets/controls",
            "_model_module_version": "1.5.0",
            "_model_name": "DescriptionStyleModel",
            "_view_count": null,
            "_view_module": "@jupyter-widgets/base",
            "_view_module_version": "1.2.0",
            "_view_name": "StyleView",
            "description_width": ""
          }
        },
        "2388203a359b42ab91fe72c8e6494096": {
          "model_module": "@jupyter-widgets/base",
          "model_name": "LayoutModel",
          "model_module_version": "1.2.0",
          "state": {
            "_model_module": "@jupyter-widgets/base",
            "_model_module_version": "1.2.0",
            "_model_name": "LayoutModel",
            "_view_count": null,
            "_view_module": "@jupyter-widgets/base",
            "_view_module_version": "1.2.0",
            "_view_name": "LayoutView",
            "align_content": null,
            "align_items": null,
            "align_self": null,
            "border": null,
            "bottom": null,
            "display": null,
            "flex": null,
            "flex_flow": null,
            "grid_area": null,
            "grid_auto_columns": null,
            "grid_auto_flow": null,
            "grid_auto_rows": null,
            "grid_column": null,
            "grid_gap": null,
            "grid_row": null,
            "grid_template_areas": null,
            "grid_template_columns": null,
            "grid_template_rows": null,
            "height": null,
            "justify_content": null,
            "justify_items": null,
            "left": null,
            "margin": null,
            "max_height": null,
            "max_width": null,
            "min_height": null,
            "min_width": null,
            "object_fit": null,
            "object_position": null,
            "order": null,
            "overflow": null,
            "overflow_x": null,
            "overflow_y": null,
            "padding": null,
            "right": null,
            "top": null,
            "visibility": null,
            "width": null
          }
        },
        "a36f9d24c8704b79a496c5dabf259ebf": {
          "model_module": "@jupyter-widgets/controls",
          "model_name": "ProgressStyleModel",
          "model_module_version": "1.5.0",
          "state": {
            "_model_module": "@jupyter-widgets/controls",
            "_model_module_version": "1.5.0",
            "_model_name": "ProgressStyleModel",
            "_view_count": null,
            "_view_module": "@jupyter-widgets/base",
            "_view_module_version": "1.2.0",
            "_view_name": "StyleView",
            "bar_color": null,
            "description_width": ""
          }
        },
        "2641990af3cb4286a92e77c56a57f01d": {
          "model_module": "@jupyter-widgets/base",
          "model_name": "LayoutModel",
          "model_module_version": "1.2.0",
          "state": {
            "_model_module": "@jupyter-widgets/base",
            "_model_module_version": "1.2.0",
            "_model_name": "LayoutModel",
            "_view_count": null,
            "_view_module": "@jupyter-widgets/base",
            "_view_module_version": "1.2.0",
            "_view_name": "LayoutView",
            "align_content": null,
            "align_items": null,
            "align_self": null,
            "border": null,
            "bottom": null,
            "display": null,
            "flex": null,
            "flex_flow": null,
            "grid_area": null,
            "grid_auto_columns": null,
            "grid_auto_flow": null,
            "grid_auto_rows": null,
            "grid_column": null,
            "grid_gap": null,
            "grid_row": null,
            "grid_template_areas": null,
            "grid_template_columns": null,
            "grid_template_rows": null,
            "height": null,
            "justify_content": null,
            "justify_items": null,
            "left": null,
            "margin": null,
            "max_height": null,
            "max_width": null,
            "min_height": null,
            "min_width": null,
            "object_fit": null,
            "object_position": null,
            "order": null,
            "overflow": null,
            "overflow_x": null,
            "overflow_y": null,
            "padding": null,
            "right": null,
            "top": null,
            "visibility": null,
            "width": null
          }
        },
        "1f7eb26de7f747138ffda49819f1f9af": {
          "model_module": "@jupyter-widgets/controls",
          "model_name": "DescriptionStyleModel",
          "model_module_version": "1.5.0",
          "state": {
            "_model_module": "@jupyter-widgets/controls",
            "_model_module_version": "1.5.0",
            "_model_name": "DescriptionStyleModel",
            "_view_count": null,
            "_view_module": "@jupyter-widgets/base",
            "_view_module_version": "1.2.0",
            "_view_name": "StyleView",
            "description_width": ""
          }
        }
      }
    }
  },
  "nbformat": 4,
  "nbformat_minor": 0
}